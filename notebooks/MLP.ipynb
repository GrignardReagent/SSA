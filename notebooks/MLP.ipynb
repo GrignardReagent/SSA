{
 "cells": [
  {
   "cell_type": "markdown",
   "metadata": {},
   "source": [
    "# Multi-Layer Perceptron (MLP)\n",
    "This notebook builts an MLP for classification, same way as described in [Cepeda Humerez et al. (2019)](https://journals.plos.org/ploscompbiol/article?id=10.1371/journal.pcbi.1007290)\n",
    "\n",
    "Hyperparameters to use:\n",
    "\n",
    "````python\n",
    "input_size = 200  # Adjust based on dataset\n",
    "hidden_size = [300, 200] # 300 and 200 LTUs\n",
    "output_size = 2  # Number of classes\n",
    "dropout_rate = 0.5 # This wasn't specified in the paper, but choose any\n",
    "learning_rate = 0.001 # Not specified in the paper\n",
    "epochs = 100 # Not specified in the paper\n",
    "batch_size = 16 # Not specified in the paper\n",
    "````\n",
    "\n",
    "The model architecture is in ``MLP.py``"
   ]
  },
  {
   "cell_type": "markdown",
   "metadata": {},
   "source": [
    "Load the MLP model codes from ``src``"
   ]
  },
  {
   "cell_type": "code",
   "execution_count": null,
   "metadata": {},
   "outputs": [
    {
     "name": "stderr",
     "output_type": "stream",
     "text": [
      "/home/ianyang/micromamba/envs/stochastic_sim/lib/python3.11/site-packages/tqdm/auto.py:21: TqdmWarning: IProgress not found. Please update jupyter and ipywidgets. See https://ipywidgets.readthedocs.io/en/stable/user_install.html\n",
      "  from .autonotebook import tqdm as notebook_tqdm\n"
     ]
    }
   ],
   "source": [
    "import matplotlib.pyplot as plt\n",
    "import numpy as np\n",
    "import pandas as pd\n",
    "import os\n",
    "import tqdm\n",
    "from sympy import sqrt\n",
    "from sklearn.svm import SVC\n",
    "from sklearn.metrics import accuracy_score\n",
    "from sklearn.model_selection import train_test_split\n",
    "from sklearn.decomposition import PCA\n",
    "import torch\n",
    "import torch.nn as nn\n",
    "import torch.optim as optim\n",
    "from torch.utils.data import DataLoader, TensorDataset\n",
    "from sklearn.preprocessing import StandardScaler\n",
    "import matplotlib.pyplot as plt\n",
    "# Import all the functions from the 'src' directory, we import all the functions from each module so we can use them straight away\n",
    "from simulation.simulate_telegraph_model import *\n",
    "from stats.report import *\n",
    "from stats.autocorrelation import *\n",
    "from visualisation.plots import *\n",
    "from classifiers.svm_classifier import svm_classifier\n",
    "from classifiers.random_classifier import random_classifier\n",
    "from classifiers.logistic_regression_classifier import logistic_regression_classifier\n",
    "from classifiers.random_forest_classifier import random_forest_classifier\n",
    "from models.MLP import MLP \n",
    "from utils.set_seed import set_seed\n",
    "from utils.load_data import load_and_split_data\n",
    "import optuna\n",
    "%load_ext autoreload\n",
    "%autoreload 2"
   ]
  },
  {
   "cell_type": "markdown",
   "metadata": {},
   "source": [
    "Example usage to train an MLP"
   ]
  },
  {
   "cell_type": "code",
   "execution_count": 3,
   "metadata": {},
   "outputs": [
    {
     "name": "stdout",
     "output_type": "stream",
     "text": [
      "🔄 Using device: cuda (1 GPUs available)\n",
      "DEBUG: Optimizer initialized? True\n",
      "✅ Running on CUDA!\n",
      "Epoch [1/100], Loss: 1.8790, Train Acc: 0.4730\n",
      "Validation Acc: 0.4950\n",
      "✅ Model saved at mlp_model.pth (Best Validation Acc: 0.4950)\n",
      "Epoch [2/100], Loss: 1.4478, Train Acc: 0.5380\n",
      "Validation Acc: 0.4500\n",
      "No improvement (1/10).\n",
      "Epoch [3/100], Loss: 1.0521, Train Acc: 0.5880\n",
      "Validation Acc: 0.4750\n",
      "No improvement (2/10).\n",
      "Epoch [4/100], Loss: 0.9586, Train Acc: 0.6130\n",
      "Validation Acc: 0.4900\n",
      "No improvement (3/10).\n",
      "Epoch [5/100], Loss: 0.8543, Train Acc: 0.6360\n",
      "Validation Acc: 0.5050\n",
      "✅ Model saved at mlp_model.pth (Best Validation Acc: 0.5050)\n",
      "Epoch [6/100], Loss: 0.7486, Train Acc: 0.6380\n",
      "Validation Acc: 0.4850\n",
      "No improvement (1/10).\n",
      "Epoch [7/100], Loss: 0.6732, Train Acc: 0.6720\n",
      "Validation Acc: 0.5050\n",
      "No improvement (2/10).\n",
      "Epoch [8/100], Loss: 0.7137, Train Acc: 0.6450\n",
      "Validation Acc: 0.5100\n",
      "✅ Model saved at mlp_model.pth (Best Validation Acc: 0.5100)\n",
      "Epoch [9/100], Loss: 0.5757, Train Acc: 0.7190\n",
      "Validation Acc: 0.5050\n",
      "No improvement (1/10).\n",
      "Epoch [10/100], Loss: 0.5926, Train Acc: 0.6970\n",
      "Validation Acc: 0.4800\n",
      "No improvement (2/10).\n",
      "Epoch [11/100], Loss: 0.5626, Train Acc: 0.7190\n",
      "Validation Acc: 0.4800\n",
      "No improvement (3/10).\n",
      "Epoch [12/100], Loss: 0.5741, Train Acc: 0.7000\n",
      "Validation Acc: 0.4350\n",
      "No improvement (4/10).\n",
      "Epoch [13/100], Loss: 0.5458, Train Acc: 0.7300\n",
      "Validation Acc: 0.4500\n",
      "No improvement (5/10).\n",
      "Epoch [14/100], Loss: 0.5360, Train Acc: 0.7330\n",
      "Validation Acc: 0.4350\n",
      "No improvement (6/10).\n",
      "Epoch [15/100], Loss: 0.5319, Train Acc: 0.7330\n",
      "Validation Acc: 0.4500\n",
      "No improvement (7/10).\n",
      "Epoch [16/100], Loss: 0.5022, Train Acc: 0.7470\n",
      "Validation Acc: 0.4500\n",
      "No improvement (8/10).\n",
      "Epoch [17/100], Loss: 0.4673, Train Acc: 0.7770\n",
      "Validation Acc: 0.4600\n",
      "No improvement (9/10).\n",
      "Epoch [18/100], Loss: 0.4538, Train Acc: 0.7970\n",
      "Validation Acc: 0.4750\n",
      "No improvement (10/10).\n",
      "Stopping early! No improvement for 10 epochs.\n",
      "Training complete!\n",
      "🔄 Model loaded from mlp_model.pth\n",
      "Final Test Accuracy: 0.5100\n",
      "Predicted classes: tensor([0, 0, 0, 1, 0], device='cuda:0')\n"
     ]
    }
   ],
   "source": [
    "# Example usage\n",
    "input_size = 200  # Adjust based on dataset\n",
    "hidden_size = [300, 200]\n",
    "output_size = 2  # Number of classes\n",
    "dropout_rate = 0.5\n",
    "learning_rate = 0.001\n",
    "epochs = 100\n",
    "batch_size = 16\n",
    "\n",
    "# Generate synthetic data\n",
    "X_train = torch.randn(1000, input_size)\n",
    "y_train = torch.randint(0, output_size, (1000,))\n",
    "X_val = torch.randn(200, input_size)\n",
    "y_val = torch.randint(0, output_size, (200,))\n",
    "\n",
    "# Convert to DataLoader\n",
    "train_dataset = TensorDataset(X_train, y_train)\n",
    "val_dataset = TensorDataset(X_val, y_val)\n",
    "train_loader = DataLoader(train_dataset, batch_size=batch_size, shuffle=True)\n",
    "val_loader = DataLoader(val_dataset, batch_size=batch_size, shuffle=False)\n",
    "\n",
    "# Initialize and train model\n",
    "file_path = \"mlp_model.pth\"\n",
    "model = MLP(input_size, hidden_size, output_size, dropout_rate, learning_rate)\n",
    "history = model.train_model(train_loader, val_loader, epochs, save_path=file_path)\n",
    "\n",
    "# Load best model and evaluate\n",
    "model.load_model(file_path)\n",
    "test_acc = model.evaluate(val_loader)\n",
    "print(f\"Final Test Accuracy: {test_acc:.4f}\")\n",
    "\n",
    "# Make predictions\n",
    "X_test = torch.randn(5, input_size)\n",
    "predictions = model.predict(X_test)\n",
    "print(\"Predicted classes:\", predictions)"
   ]
  },
  {
   "cell_type": "markdown",
   "metadata": {},
   "source": [
    "Train the MLP using SSA data, we need to first standardise the data. If we don't, the loss will be showing as nan, which is incorrect. "
   ]
  },
  {
   "cell_type": "code",
   "execution_count": 2,
   "metadata": {},
   "outputs": [
    {
     "name": "stdout",
     "output_type": "stream",
     "text": [
      "[[0 0 0 ... 0 0 0]\n",
      " [0 0 0 ... 0 0 0]\n",
      " [0 1 0 ... 0 0 0]\n",
      " ...\n",
      " [0 0 0 ... 0 0 0]\n",
      " [0 0 0 ... 0 1 0]\n",
      " [0 0 0 ... 0 0 0]]\n"
     ]
    }
   ],
   "source": [
    "# Train MLP model using SSA data\n",
    "output_file = 'data/mRNA_trajectories_example.csv'\n",
    "X_train, X_val, X_test, y_train, y_val, y_test = load_and_split_data(output_file, split_val_size=0.2) # we must define split_val_size here to get a validation set\n",
    "print(X_train)"
   ]
  },
  {
   "cell_type": "code",
   "execution_count": 3,
   "metadata": {},
   "outputs": [
    {
     "name": "stdout",
     "output_type": "stream",
     "text": [
      "[[ 0.         -0.40815408 -0.27320156 ... -0.06262243 -0.08873565\n",
      "  -0.08873565]\n",
      " [ 0.         -0.40815408 -0.27320156 ... -0.06262243 -0.08873565\n",
      "  -0.08873565]\n",
      " [ 0.          0.96668072 -0.27320156 ... -0.06262243 -0.08873565\n",
      "  -0.08873565]\n",
      " ...\n",
      " [ 0.         -0.40815408 -0.27320156 ... -0.06262243 -0.08873565\n",
      "  -0.08873565]\n",
      " [ 0.         -0.40815408 -0.27320156 ... -0.06262243 11.26942767\n",
      "  -0.08873565]\n",
      " [ 0.         -0.40815408 -0.27320156 ... -0.06262243 -0.08873565\n",
      "  -0.08873565]]\n",
      "X_train shape: (256, 144)\n",
      "y_train shape: (256,)\n"
     ]
    }
   ],
   "source": [
    "# Standardize the data \n",
    "# If your input features are too large (e.g., >1000) or too small (<0.0001), it can cause unstable training, so it's better to standardize the data.\n",
    "scaler = StandardScaler()\n",
    "X_train = scaler.fit_transform(X_train)\n",
    "X_val = scaler.transform(X_val)\n",
    "X_test = scaler.transform(X_test)\n",
    "print(X_train)\n",
    "print(f\"X_train shape: {X_train.shape}\")\n",
    "print(f\"y_train shape: {y_train.shape}\")"
   ]
  },
  {
   "cell_type": "code",
   "execution_count": null,
   "metadata": {},
   "outputs": [
    {
     "name": "stdout",
     "output_type": "stream",
     "text": [
      "🔄 Using device: cuda (1 GPUs available)\n",
      "DEBUG: Optimizer initialized? True\n",
      "✅ Running on CUDA!\n",
      "Epoch [1/1000], Loss: 1.2740, Train Acc: 0.5508\n",
      "Validation Acc: 0.7031\n",
      "Epoch [2/1000], Loss: 0.8994, Train Acc: 0.7031\n",
      "Validation Acc: 0.6875\n",
      "No improvement (1/10).\n",
      "Epoch [3/1000], Loss: 0.7816, Train Acc: 0.7539\n",
      "Validation Acc: 0.6875\n",
      "No improvement (2/10).\n",
      "Epoch [4/1000], Loss: 0.7404, Train Acc: 0.7617\n",
      "Validation Acc: 0.6875\n",
      "No improvement (3/10).\n",
      "Epoch [5/1000], Loss: 0.5665, Train Acc: 0.7773\n",
      "Validation Acc: 0.7344\n",
      "Epoch [6/1000], Loss: 0.6121, Train Acc: 0.7305\n",
      "Validation Acc: 0.6719\n",
      "No improvement (1/10).\n",
      "Epoch [7/1000], Loss: 0.6311, Train Acc: 0.7578\n",
      "Validation Acc: 0.6719\n",
      "No improvement (2/10).\n",
      "Epoch [8/1000], Loss: 0.4116, Train Acc: 0.8281\n",
      "Validation Acc: 0.6562\n",
      "No improvement (3/10).\n",
      "Epoch [9/1000], Loss: 0.4543, Train Acc: 0.8047\n",
      "Validation Acc: 0.6406\n",
      "No improvement (4/10).\n",
      "Epoch [10/1000], Loss: 0.4588, Train Acc: 0.8086\n",
      "Validation Acc: 0.7188\n",
      "No improvement (5/10).\n",
      "Epoch [11/1000], Loss: 0.5640, Train Acc: 0.7930\n",
      "Validation Acc: 0.6406\n",
      "No improvement (6/10).\n",
      "Epoch [12/1000], Loss: 0.5743, Train Acc: 0.7734\n",
      "Validation Acc: 0.7188\n",
      "No improvement (7/10).\n",
      "Epoch [13/1000], Loss: 0.5310, Train Acc: 0.7969\n",
      "Validation Acc: 0.7188\n",
      "No improvement (8/10).\n",
      "Epoch [14/1000], Loss: 0.4095, Train Acc: 0.8047\n",
      "Validation Acc: 0.7188\n",
      "No improvement (9/10).\n",
      "Epoch [15/1000], Loss: 0.4823, Train Acc: 0.8125\n",
      "Validation Acc: 0.7188\n",
      "No improvement (10/10).\n",
      "Stopping early! No improvement for 10 epochs.\n",
      "Training complete!\n",
      "MLP Test Accuracy: 0.7250\n"
     ]
    },
    {
     "data": {
      "image/png": "[encoded data removed]",
      "text/plain": [
       "<Figure size 1200x500 with 2 Axes>"
      ]
     },
     "metadata": {},
     "output_type": "display_data"
    }
   ],
   "source": [
    "set_seed(42)\n",
    "\n",
    "# Define model parameters\n",
    "input_size = X_train.shape[1]\n",
    "# print(f\"input_size: {input_size}\")\n",
    "output_size = len(set(y_train))  # Number of classes\n",
    "hidden_size = [300, 200]\n",
    "dropout_rate = 0.5\n",
    "learning_rate = 0.001\n",
    "epochs = 1000\n",
    "batch_size = 32\n",
    "\n",
    "train_loader = DataLoader(TensorDataset(\n",
    "    torch.tensor(X_train, dtype=torch.float32),\n",
    "    torch.tensor(y_train, dtype=torch.long)),\n",
    "    batch_size=batch_size, shuffle=True\n",
    ")\n",
    "\n",
    "val_loader = DataLoader(TensorDataset(\n",
    "    torch.tensor(X_val, dtype=torch.float32),\n",
    "    torch.tensor(y_val, dtype=torch.long)),\n",
    "    batch_size=batch_size, shuffle=False\n",
    ")\n",
    "\n",
    "test_loader = DataLoader(TensorDataset(\n",
    "    torch.tensor(X_test, dtype=torch.float32),\n",
    "    torch.tensor(y_test, dtype=torch.long)),\n",
    "    batch_size=batch_size, shuffle=False\n",
    ")\n",
    "\n",
    "model = MLP(input_size, hidden_size, output_size, dropout_rate, learning_rate)\n",
    "history = model.train_model(train_loader, val_loader, epochs=epochs, patience=10)\n",
    "\n",
    "# Evaluate MLP model\n",
    "mlp_accuracy = model.evaluate(test_loader)\n",
    "print(f\"MLP Test Accuracy: {mlp_accuracy:.4f}\")\n",
    "\n",
    "# Plot training history\n",
    "plt.figure(figsize=(12,5))\n",
    "plt.subplot(1,2,1)\n",
    "plt.plot(history['train_loss'], label='Train Loss')\n",
    "plt.xlabel('Epoch')\n",
    "plt.ylabel('Loss')\n",
    "plt.legend()\n",
    "\n",
    "plt.subplot(1,2,2)\n",
    "plt.plot(history['train_acc'], label='Train Acc')\n",
    "plt.plot(history['val_acc'], label='Validation Acc')\n",
    "plt.xlabel('Epoch')\n",
    "plt.ylabel('Accuracy')\n",
    "plt.legend()\n",
    "plt.show()"
   ]
  },
  {
   "cell_type": "markdown",
   "metadata": {},
   "source": [
    "Same as above, but getting the accuracy in a one-liner"
   ]
  },
  {
   "cell_type": "code",
   "execution_count": null,
   "metadata": {},
   "outputs": [
    {
     "name": "stdout",
     "output_type": "stream",
     "text": [
      "🔄 Using device: cuda (1 GPUs available)\n",
      "DEBUG: Optimizer initialized? True\n",
      "✅ Running on CUDA!\n",
      "Epoch [1/100], Loss: 0.9696, Train Acc: 0.6641\n",
      "Validation Acc: 0.6562\n",
      "Epoch [2/100], Loss: 0.7469, Train Acc: 0.7422\n",
      "Validation Acc: 0.6406\n",
      "No improvement (1/10).\n",
      "Epoch [3/100], Loss: 0.5988, Train Acc: 0.7852\n",
      "Validation Acc: 0.6406\n",
      "No improvement (2/10).\n",
      "Epoch [4/100], Loss: 0.4658, Train Acc: 0.8008\n",
      "Validation Acc: 0.7344\n",
      "Epoch [5/100], Loss: 0.4959, Train Acc: 0.7773\n",
      "Validation Acc: 0.6719\n",
      "No improvement (1/10).\n",
      "Epoch [6/100], Loss: 0.4065, Train Acc: 0.8125\n",
      "Validation Acc: 0.6562\n",
      "No improvement (2/10).\n",
      "Epoch [7/100], Loss: 0.4356, Train Acc: 0.8047\n",
      "Validation Acc: 0.6406\n",
      "No improvement (3/10).\n",
      "Epoch [8/100], Loss: 0.4291, Train Acc: 0.8008\n",
      "Validation Acc: 0.6562\n",
      "No improvement (4/10).\n",
      "Epoch [9/100], Loss: 0.4436, Train Acc: 0.8086\n",
      "Validation Acc: 0.7344\n",
      "No improvement (5/10).\n",
      "Epoch [10/100], Loss: 0.4074, Train Acc: 0.8008\n",
      "Validation Acc: 0.6719\n",
      "No improvement (6/10).\n",
      "Epoch [11/100], Loss: 0.3950, Train Acc: 0.8242\n",
      "Validation Acc: 0.6562\n",
      "No improvement (7/10).\n",
      "Epoch [12/100], Loss: 0.4369, Train Acc: 0.7930\n",
      "Validation Acc: 0.7188\n",
      "No improvement (8/10).\n",
      "Epoch [13/100], Loss: 0.4273, Train Acc: 0.8086\n",
      "Validation Acc: 0.6562\n",
      "No improvement (9/10).\n",
      "Epoch [14/100], Loss: 0.4312, Train Acc: 0.8203\n",
      "Validation Acc: 0.6562\n",
      "No improvement (10/10).\n",
      "Stopping early! No improvement for 10 epochs.\n",
      "Training complete!\n",
      "=== Multilayer Perceptron (MLP) Accuracy: 0.76 ===\n"
     ]
    }
   ],
   "source": [
    "# Train model using SSA data\n",
    "output_file = 'data/mRNA_trajectories_example.csv'\n",
    "X_train, X_val, X_test, y_train, y_val, y_test = load_and_split_data(output_file, split_val_size=0.2) # we must define split_val_size here to get a validation set\n",
    "mlp_accuracy = mlp_classifier(X_train, X_val, X_test, y_train, y_val, y_test, epochs=100)"
   ]
  }
 ],
 "metadata": {
  "kernelspec": {
   "display_name": "Python 3",
   "language": "python",
   "name": "python3"
  },
  "language_info": {
   "codemirror_mode": {
    "name": "ipython",
    "version": 3
   },
   "file_extension": ".py",
   "mimetype": "text/x-python",
   "name": "python",
   "nbconvert_exporter": "python",
   "pygments_lexer": "ipython3",
   "version": "3.11.11"
  }
 },
 "nbformat": 4,
 "nbformat_minor": 2
}
