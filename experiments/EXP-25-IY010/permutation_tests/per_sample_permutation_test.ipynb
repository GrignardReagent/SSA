{
 "cells": [
  {
   "cell_type": "markdown",
   "metadata": {},
   "source": [
    "# Per-Sample vs Global Permutation on IY010 Datasets\n",
    "\n",
    "Claim: A Transformer can learn under a fixed (global) permutation of time steps (it’s just a relabeling). To truly invalidate sequence order, you must randomize the permutation per sample — and keep the pipeline hardened against leakage. This notebook mirrors the analysis in `transformer_simulation_7_varying_1_stat_analysis.ipynb` but evaluates Original vs Global vs Per‑sample permutations."
   ]
  },
  {
   "cell_type": "code",
   "execution_count": 4,
   "metadata": {},
   "outputs": [
    {
     "name": "stdout",
     "output_type": "stream",
     "text": [
      "BASE_DIR: /home/ianyang/stochastic_simulations/experiments/EXP-25-IY010\n"
     ]
    }
   ],
   "source": [
    "from __future__ import annotations\n",
    "import numpy as np\n",
    "import pandas as pd\n",
    "import time\n",
    "import matplotlib.pyplot as plt\n",
    "from pathlib import Path\n",
    "import sys, os\n",
    "\n",
    "# Add src to Python path (same relative layout as the other notebook)\n",
    "sys.path.append(str(Path.cwd().parent.parent.parent / 'src'))\n",
    "\n",
    "from classifiers.svm_classifier import svm_classifier\n",
    "from classifiers.lstm_classifier import lstm_classifier\n",
    "from classifiers.transformer_classifier import transformer_classifier\n",
    "from utils.data_processing import add_binary_labels\n",
    "from utils.standardise_time_series import standardise_time_series\n",
    "from utils.shuffle_time_series import shuffle_time_series\n",
    "from utils.load_data import load_and_split_data\n",
    "\n",
    "BASE_DIR = Path.cwd().parent  # experiments/EXP-25-IY010\n",
    "OUT_DIR = BASE_DIR\n",
    "RANDOM_STATE = 42\n",
    "print('BASE_DIR:', BASE_DIR)\n"
   ]
  },
  {
   "cell_type": "markdown",
   "metadata": {},
   "source": [
    "## Helpers"
   ]
  },
  {
   "cell_type": "code",
   "execution_count": 5,
   "metadata": {},
   "outputs": [],
   "source": [
    "def prepare_labelled_data(synthetic_dir: Path, results_csv: Path, label_column: str):\n",
    "    results = pd.read_csv(results_csv)\n",
    "    # Mirror original filters\n",
    "    results = results[results['success']].dropna(subset=['mu_observed','cv_observed','t_ac_observed'])\n",
    "    labelled_results = add_binary_labels(results, label_column)\n",
    "\n",
    "    # Load trajectories and standardize length\n",
    "    data_frames, labels = [], []\n",
    "    for i in range(len(results)):\n",
    "        trajectory_filename = results['trajectory_filename'].values[i]\n",
    "        data = pd.read_csv(synthetic_dir / trajectory_filename)\n",
    "        data_frames.append(data)\n",
    "        label_value = labelled_results[labelled_results['trajectory_filename'] == trajectory_filename]['label'].iloc[0]\n",
    "        labels.append(label_value)\n",
    "    labelled_data = standardise_time_series(data_frames, labels=labels, prefix='t_')\n",
    "    return labelled_data\n",
    "\n",
    "def evaluate_all(df: pd.DataFrame, temp_prefix: str, *, seed: int = 42):\n",
    "    # Save original to temp for consistent splitting\n",
    "    temp_path = BASE_DIR / f'{temp_prefix}_orig.csv'\n",
    "    df.to_csv(temp_path, index=False)\n",
    "    X_train, X_val, X_test, y_train, y_val, y_test = load_and_split_data(temp_path, split_val_size=0.2)\n",
    "\n",
    "    print('SVM (Original)')\n",
    "    svm_acc = svm_classifier(X_train, X_test, y_train, y_test, svm_C=1.0, svm_gamma='scale', svm_kernel='rbf')\n",
    "    print('LSTM (Original)')\n",
    "    lstm_acc = lstm_classifier(X_train, X_val, X_test, y_train, y_val, y_test, epochs=100, hidden_size=128, num_layers=4, dropout_rate=0.2, learning_rate=0.001, batch_size=64, use_conv1d=True, use_attention=True, num_attention_heads=4)\n",
    "    print('Transformer (Original)')\n",
    "    transformer_acc = transformer_classifier(X_train, X_val, X_test, y_train, y_val, y_test, d_model=128, nhead=8, num_layers=4, epochs=50, use_conv1d=True, use_auxiliary=True)\n",
    "\n",
    "    # Global permutation: same column permutation for all rows\n",
    "    df_global = shuffle_time_series(df, preserve_columns=['label'], random_state=seed, strategy='global')\n",
    "    temp_global = BASE_DIR / f'{temp_prefix}_global.csv'\n",
    "    df_global.to_csv(temp_global, index=False)\n",
    "    X_train_g, X_val_g, X_test_g, y_train_g, y_val_g, y_test_g = load_and_split_data(temp_global, split_val_size=0.2)\n",
    "    print('SVM (Global perm)')\n",
    "    svm_acc_g = svm_classifier(X_train_g, X_test_g, y_train_g, y_test_g, svm_C=1.0, svm_gamma='scale', svm_kernel='rbf')\n",
    "    print('LSTM (Global perm)')\n",
    "    lstm_acc_g = lstm_classifier(X_train_g, X_val_g, X_test_g, y_train_g, y_val_g, y_test_g, epochs=100, hidden_size=128, num_layers=4, dropout_rate=0.2, learning_rate=0.001, batch_size=64, use_conv1d=True, use_attention=True, num_attention_heads=4)\n",
    "    print('Transformer (Global perm)')\n",
    "    transformer_acc_g = transformer_classifier(X_train_g, X_val_g, X_test_g, y_train_g, y_val_g, y_test_g, d_model=128, nhead=8, num_layers=4, epochs=50, use_conv1d=True, use_auxiliary=True)\n",
    "\n",
    "    # Per-sample permutation: break order within each row independently\n",
    "    df_ps = shuffle_time_series(df, preserve_columns=['label'], random_state=seed+1, strategy='per_sample')\n",
    "    temp_ps = BASE_DIR / f'{temp_prefix}_per_sample.csv'\n",
    "    df_ps.to_csv(temp_ps, index=False)\n",
    "    X_train_ps, X_val_ps, X_test_ps, y_train_ps, y_val_ps, y_test_ps = load_and_split_data(temp_ps, split_val_size=0.2)\n",
    "    print('SVM (Per-sample perm)')\n",
    "    svm_acc_ps = svm_classifier(X_train_ps, X_test_ps, y_train_ps, y_test_ps, svm_C=1.0, svm_gamma='scale', svm_kernel='rbf')\n",
    "    print('LSTM (Per-sample perm)')\n",
    "    lstm_acc_ps = lstm_classifier(X_train_ps, X_val_ps, X_test_ps, y_train_ps, y_val_ps, y_test_ps, epochs=100, hidden_size=128, num_layers=4, dropout_rate=0.2, learning_rate=0.001, batch_size=64, use_conv1d=True, use_attention=True, num_attention_heads=4)\n",
    "    print('Transformer (Per-sample perm)')\n",
    "    transformer_acc_ps = transformer_classifier(X_train_ps, X_val_ps, X_test_ps, y_train_ps, y_val_ps, y_test_ps, d_model=128, nhead=8, num_layers=4, epochs=50, use_conv1d=True, use_auxiliary=True)\n",
    "\n",
    "    # Clean temp files\n",
    "    for p in (temp_path, temp_global, temp_ps):\n",
    "        try:\n",
    "            os.remove(p)\n",
    "        except Exception:\n",
    "            pass\n",
    "\n",
    "    return {\n",
    "        'svm_original': svm_acc, 'svm_global': svm_acc_g, 'svm_per_sample': svm_acc_ps,\n",
    "        'lstm_original': lstm_acc, 'lstm_global': lstm_acc_g, 'lstm_per_sample': lstm_acc_ps,\n",
    "        'transformer_original': transformer_acc, 'transformer_global': transformer_acc_g, 'transformer_per_sample': transformer_acc_ps,\n",
    "    }\n"
   ]
  },
  {
   "cell_type": "markdown",
   "metadata": {},
   "source": [
    "## Run the three dataset variants"
   ]
  },
  {
   "cell_type": "code",
   "execution_count": 8,
   "metadata": {},
   "outputs": [
    {
     "name": "stdout",
     "output_type": "stream",
     "text": [
      "=== Dataset: Vary t_ac_target (mu, cv fixed) ===\n",
      "SVM (Original)\n",
      "=== SVM (RBF Kernel) Classification Accuracy: 0.83 ===\n",
      "LSTM (Original)\n",
      "=== LSTM with Conv1D and 4-Head Attention Accuracy: 1.00 ===\n",
      "Transformer (Original)\n",
      "=== Transformer with Conv1D and Auxiliary Task Accuracy: 1.00 ===\n",
      "SVM (Global perm)\n",
      "=== SVM (RBF Kernel) Classification Accuracy: 0.83 ===\n",
      "LSTM (Global perm)\n",
      "=== LSTM with Conv1D and 4-Head Attention Accuracy: 1.00 ===\n",
      "Transformer (Global perm)\n",
      "=== Transformer with Conv1D and Auxiliary Task Accuracy: 1.00 ===\n",
      "SVM (Per-sample perm)\n",
      "=== SVM (RBF Kernel) Classification Accuracy: 0.71 ===\n",
      "LSTM (Per-sample perm)\n",
      "=== LSTM with Conv1D and 4-Head Attention Accuracy: 1.00 ===\n",
      "Transformer (Per-sample perm)\n",
      "=== Transformer with Conv1D and Auxiliary Task Accuracy: 1.00 ===\n",
      "=== Dataset: Vary cv_target (mu, t_ac fixed) ===\n",
      "SVM (Original)\n",
      "=== SVM (RBF Kernel) Classification Accuracy: 0.92 ===\n",
      "LSTM (Original)\n",
      "=== LSTM with Conv1D and 4-Head Attention Accuracy: 1.00 ===\n",
      "Transformer (Original)\n",
      "=== Transformer with Conv1D and Auxiliary Task Accuracy: 1.00 ===\n",
      "SVM (Global perm)\n",
      "=== SVM (RBF Kernel) Classification Accuracy: 0.93 ===\n",
      "LSTM (Global perm)\n",
      "=== LSTM with Conv1D and 4-Head Attention Accuracy: 1.00 ===\n",
      "Transformer (Global perm)\n",
      "=== Transformer with Conv1D and Auxiliary Task Accuracy: 1.00 ===\n",
      "SVM (Per-sample perm)\n",
      "=== SVM (RBF Kernel) Classification Accuracy: 0.92 ===\n",
      "LSTM (Per-sample perm)\n",
      "=== LSTM with Conv1D and 4-Head Attention Accuracy: 1.00 ===\n",
      "Transformer (Per-sample perm)\n",
      "=== Transformer with Conv1D and Auxiliary Task Accuracy: 1.00 ===\n",
      "=== Dataset: Vary mu_target (cv, t_ac fixed) ===\n",
      "SVM (Original)\n",
      "=== SVM (RBF Kernel) Classification Accuracy: 0.89 ===\n",
      "LSTM (Original)\n",
      "=== LSTM with Conv1D and 4-Head Attention Accuracy: 1.00 ===\n",
      "Transformer (Original)\n",
      "=== Transformer with Conv1D and Auxiliary Task Accuracy: 1.00 ===\n",
      "SVM (Global perm)\n",
      "=== SVM (RBF Kernel) Classification Accuracy: 0.89 ===\n",
      "LSTM (Global perm)\n",
      "=== LSTM with Conv1D and 4-Head Attention Accuracy: 1.00 ===\n",
      "Transformer (Global perm)\n",
      "=== Transformer with Conv1D and Auxiliary Task Accuracy: 1.00 ===\n",
      "SVM (Per-sample perm)\n",
      "=== SVM (RBF Kernel) Classification Accuracy: 0.86 ===\n",
      "LSTM (Per-sample perm)\n",
      "=== LSTM with Conv1D and 4-Head Attention Accuracy: 1.00 ===\n",
      "Transformer (Per-sample perm)\n",
      "=== Transformer with Conv1D and Auxiliary Task Accuracy: 1.00 ===\n"
     ]
    },
    {
     "data": {
      "application/vnd.microsoft.datawrangler.viewer.v0+json": {
       "columns": [
        {
         "name": "index",
         "rawType": "int64",
         "type": "integer"
        },
        {
         "name": "parameter",
         "rawType": "object",
         "type": "string"
        },
        {
         "name": "svm_original",
         "rawType": "float64",
         "type": "float"
        },
        {
         "name": "svm_global",
         "rawType": "float64",
         "type": "float"
        },
        {
         "name": "svm_per_sample",
         "rawType": "float64",
         "type": "float"
        },
        {
         "name": "lstm_original",
         "rawType": "float64",
         "type": "float"
        },
        {
         "name": "lstm_global",
         "rawType": "float64",
         "type": "float"
        },
        {
         "name": "lstm_per_sample",
         "rawType": "float64",
         "type": "float"
        },
        {
         "name": "transformer_original",
         "rawType": "float64",
         "type": "float"
        },
        {
         "name": "transformer_global",
         "rawType": "float64",
         "type": "float"
        },
        {
         "name": "transformer_per_sample",
         "rawType": "float64",
         "type": "float"
        }
       ],
       "ref": "7dd1275d-9372-4e9e-b5f5-35d32efea1b3",
       "rows": [
        [
         "0",
         "Autocorrelation Time",
         "0.8287234042553191",
         "0.8297872340425532",
         "0.7053191489361702",
         "1.0",
         "1.0",
         "1.0",
         "1.0",
         "1.0",
         "1.0"
        ],
        [
         "1",
         "CV",
         "0.9244791666666666",
         "0.9255208333333333",
         "0.9161458333333333",
         "1.0",
         "1.0",
         "1.0",
         "1.0",
         "1.0",
         "1.0"
        ],
        [
         "2",
         "Mean",
         "0.89",
         "0.88875",
         "0.8625",
         "1.0",
         "0.99875",
         "1.0",
         "1.0",
         "1.0",
         "1.0"
        ]
       ],
       "shape": {
        "columns": 10,
        "rows": 3
       }
      },
      "text/html": [
       "<div>\n",
       "<style scoped>\n",
       "    .dataframe tbody tr th:only-of-type {\n",
       "        vertical-align: middle;\n",
       "    }\n",
       "\n",
       "    .dataframe tbody tr th {\n",
       "        vertical-align: top;\n",
       "    }\n",
       "\n",
       "    .dataframe thead th {\n",
       "        text-align: right;\n",
       "    }\n",
       "</style>\n",
       "<table border=\"1\" class=\"dataframe\">\n",
       "  <thead>\n",
       "    <tr style=\"text-align: right;\">\n",
       "      <th></th>\n",
       "      <th>parameter</th>\n",
       "      <th>svm_original</th>\n",
       "      <th>svm_global</th>\n",
       "      <th>svm_per_sample</th>\n",
       "      <th>lstm_original</th>\n",
       "      <th>lstm_global</th>\n",
       "      <th>lstm_per_sample</th>\n",
       "      <th>transformer_original</th>\n",
       "      <th>transformer_global</th>\n",
       "      <th>transformer_per_sample</th>\n",
       "    </tr>\n",
       "  </thead>\n",
       "  <tbody>\n",
       "    <tr>\n",
       "      <th>0</th>\n",
       "      <td>Autocorrelation Time</td>\n",
       "      <td>0.828723</td>\n",
       "      <td>0.829787</td>\n",
       "      <td>0.705319</td>\n",
       "      <td>1.0</td>\n",
       "      <td>1.00000</td>\n",
       "      <td>1.0</td>\n",
       "      <td>1.0</td>\n",
       "      <td>1.0</td>\n",
       "      <td>1.0</td>\n",
       "    </tr>\n",
       "    <tr>\n",
       "      <th>1</th>\n",
       "      <td>CV</td>\n",
       "      <td>0.924479</td>\n",
       "      <td>0.925521</td>\n",
       "      <td>0.916146</td>\n",
       "      <td>1.0</td>\n",
       "      <td>1.00000</td>\n",
       "      <td>1.0</td>\n",
       "      <td>1.0</td>\n",
       "      <td>1.0</td>\n",
       "      <td>1.0</td>\n",
       "    </tr>\n",
       "    <tr>\n",
       "      <th>2</th>\n",
       "      <td>Mean</td>\n",
       "      <td>0.890000</td>\n",
       "      <td>0.888750</td>\n",
       "      <td>0.862500</td>\n",
       "      <td>1.0</td>\n",
       "      <td>0.99875</td>\n",
       "      <td>1.0</td>\n",
       "      <td>1.0</td>\n",
       "      <td>1.0</td>\n",
       "      <td>1.0</td>\n",
       "    </tr>\n",
       "  </tbody>\n",
       "</table>\n",
       "</div>"
      ],
      "text/plain": [
       "              parameter  svm_original  svm_global  svm_per_sample  \\\n",
       "0  Autocorrelation Time      0.828723    0.829787        0.705319   \n",
       "1                    CV      0.924479    0.925521        0.916146   \n",
       "2                  Mean      0.890000    0.888750        0.862500   \n",
       "\n",
       "   lstm_original  lstm_global  lstm_per_sample  transformer_original  \\\n",
       "0            1.0      1.00000              1.0                   1.0   \n",
       "1            1.0      1.00000              1.0                   1.0   \n",
       "2            1.0      0.99875              1.0                   1.0   \n",
       "\n",
       "   transformer_global  transformer_per_sample  \n",
       "0                 1.0                     1.0  \n",
       "1                 1.0                     1.0  \n",
       "2                 1.0                     1.0  "
      ]
     },
     "execution_count": 8,
     "metadata": {},
     "output_type": "execute_result"
    }
   ],
   "source": [
    "results = {'parameter': [],\n",
    "           'svm_original': [], 'svm_global': [], 'svm_per_sample': [],\n",
    "           'lstm_original': [], 'lstm_global': [], 'lstm_per_sample': [],\n",
    "           'transformer_original': [], 'transformer_global': [], 'transformer_per_sample': []}\n",
    "\n",
    "# 1) Vary Autocorrelation Time (t_ac_target)\n",
    "print('=== Dataset: Vary t_ac_target (mu, cv fixed) ===')\n",
    "SYNTHETIC_DIR = BASE_DIR / 'data_7_mu_cv_fixed'\n",
    "RESULTS_CSV = BASE_DIR / 'IY010_simulation_parameters_7_mu_cv_fixed.csv'\n",
    "df_tac = prepare_labelled_data(SYNTHETIC_DIR, RESULTS_CSV, label_column='t_ac_target')\n",
    "res_tac = evaluate_all(df_tac, temp_prefix='t_ac_target', seed=RANDOM_STATE)\n",
    "results['parameter'].append('Autocorrelation Time')\n",
    "for k in res_tac: results[k].append(res_tac[k])\n",
    "\n",
    "# 2) Vary CV (cv_target)\n",
    "print('=== Dataset: Vary cv_target (mu, t_ac fixed) ===')\n",
    "SYNTHETIC_DIR = BASE_DIR / 'data_7_mu_t_ac_fixed'\n",
    "RESULTS_CSV = BASE_DIR / 'IY010_simulation_parameters_7_mu_t_ac_fixed.csv'\n",
    "df_cv = prepare_labelled_data(SYNTHETIC_DIR, RESULTS_CSV, label_column='cv_target')\n",
    "res_cv = evaluate_all(df_cv, temp_prefix='cv_target', seed=RANDOM_STATE)\n",
    "results['parameter'].append('CV')\n",
    "for k in res_cv: results[k].append(res_cv[k])\n",
    "\n",
    "# 3) Vary Mean (mu_target)\n",
    "print('=== Dataset: Vary mu_target (cv, t_ac fixed) ===')\n",
    "SYNTHETIC_DIR = BASE_DIR / 'data_7_cv_t_ac_fixed'\n",
    "RESULTS_CSV = BASE_DIR / 'IY010_simulation_parameters_7_cv_t_ac_fixed.csv'\n",
    "df_mu = prepare_labelled_data(SYNTHETIC_DIR, RESULTS_CSV, label_column='mu_target')\n",
    "res_mu = evaluate_all(df_mu, temp_prefix='mu_target', seed=RANDOM_STATE)\n",
    "results['parameter'].append('Mean')\n",
    "for k in res_mu: results[k].append(res_mu[k])\n",
    "\n",
    "results_df = pd.DataFrame(results)\n",
    "results_df\n"
   ]
  },
  {
   "cell_type": "markdown",
   "metadata": {},
   "source": [
    "## Plot: Original vs Global vs Per-sample"
   ]
  },
  {
   "cell_type": "code",
   "execution_count": 9,
   "metadata": {},
   "outputs": [
    {
     "data": {
      "image/png": "[encoded data removed]",
      "text/plain": [
       "<Figure size 1600x600 with 1 Axes>"
      ]
     },
     "metadata": {},
     "output_type": "display_data"
    }
   ],
   "source": [
    "import numpy as np\n",
    "labels = results_df['parameter'].tolist()\n",
    "x = np.arange(len(labels))\n",
    "width = 0.08\n",
    "fig, ax = plt.subplots(figsize=(16,6))\n",
    "series = [\n",
    "    ('SVM Orig', results_df['svm_original'].values),\n",
    "    ('SVM Global', results_df['svm_global'].values),\n",
    "    ('SVM Per-sample', results_df['svm_per_sample'].values),\n",
    "    ('LSTM Orig', results_df['lstm_original'].values),\n",
    "    ('LSTM Global', results_df['lstm_global'].values),\n",
    "    ('LSTM Per-sample', results_df['lstm_per_sample'].values),\n",
    "    ('Transformer Orig', results_df['transformer_original'].values),\n",
    "    ('Transformer Global', results_df['transformer_global'].values),\n",
    "    ('Transformer Per-sample', results_df['transformer_per_sample'].values),\n",
    "]\n",
    "colors = ['#4c78a8','#72b7b2','#f58518', '#54a24b','#9ecae9','#e45756', '#b279a2','#eeca3b','#ff9da7']\n",
    "for i,(name,vals) in enumerate(series):\n",
    "    ax.bar(x + (i-4)*width, vals, width, label=name, color=colors[i%len(colors)])\n",
    "    for j,v in enumerate(vals):\n",
    "        ax.text(x[j] + (i-4)*width, v+0.005, f'{v:.3f}', ha='center', fontsize=8, rotation=90)\n",
    "ax.set_xticks(x)\n",
    "ax.set_xticklabels(labels)\n",
    "ax.set_ylim(0, 1.05)\n",
    "ax.set_ylabel('Test Accuracy')\n",
    "ax.set_title('Classification Accuracy: Original vs Global vs Per-sample Permutations')\n",
    "ax.legend(bbox_to_anchor=(1.04,1), loc='upper left')\n",
    "plt.tight_layout()\n",
    "plt.show()\n"
   ]
  },
  {
   "cell_type": "markdown",
   "metadata": {},
   "source": [
    "## Leakage hardening\n",
    "- Use `shuffle_time_series(..., strategy='global')` for an order-control that should not affect SVM/MLP models.\n",
    "- Use `strategy='per_sample'` to truly break order; apply independently to train/val/test (this notebook does so by shuffling the entire DataFrame and then splitting).\n",
    "- No labels are used for permutations.\n",
    "- Classifier wrappers fit scalers only on training data.\n",
    "- Splitting is stratified to preserve class balance.\n",
    "- Temporary CSVs are deleted after each run to avoid stale data."
   ]
  },
  {
   "cell_type": "markdown",
   "id": "00f80bfd",
   "metadata": {},
   "source": []
  }
 ],
 "metadata": {
  "kernelspec": {
   "display_name": "stochastic_sim",
   "language": "python",
   "name": "python3"
  },
  "language_info": {
   "codemirror_mode": {
    "name": "ipython",
    "version": 3
   },
   "file_extension": ".py",
   "mimetype": "text/x-python",
   "name": "python",
   "nbconvert_exporter": "python",
   "pygments_lexer": "ipython3",
   "version": "3.11.11"
  }
 },
 "nbformat": 4,
 "nbformat_minor": 5
}
