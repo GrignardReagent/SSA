{
 "cells": [
  {
   "cell_type": "markdown",
   "id": "be8449fd",
   "metadata": {},
   "source": [
    "# Testing ``find_parameters()`` from ``mean_var_autocorr_v1.py``\n",
    "\n",
    "This function was from commit e92cd52, where `sigma_u` was fixed, to find parameters. \n",
    "\n",
    "The new `find_parameters()` and `quick_find_parameters()` functions from `mean_var_autocorr` and `mean_cv_autocorr` fix `sigma_b` to be constant, to find system parameters matching the specified moments. "
   ]
  },
  {
   "cell_type": "code",
   "execution_count": 2,
   "id": "6fc8e3c1",
   "metadata": {},
   "outputs": [],
   "source": [
    "import numpy as np\n",
    "import pandas as pd\n",
    "from simulation.mean_var_autocorr_v1 import find_parameters, check_biological_appropriateness\n",
    "import os\n",
    "import tqdm\n",
    "%load_ext autoreload\n",
    "%autoreload 2"
   ]
  },
  {
   "cell_type": "markdown",
   "id": "8899a8b7",
   "metadata": {},
   "source": [
    "Does the function work normally when we go over a variance range? "
   ]
  },
  {
   "cell_type": "code",
   "execution_count": 3,
   "id": "e2b83932",
   "metadata": {},
   "outputs": [
    {
     "name": "stdout",
     "output_type": "stream",
     "text": [
      "Attempt 1/10\n"
     ]
    },
    {
     "name": "stderr",
     "output_type": "stream",
     "text": [
      "/home/ianyang/stochastic_simulations/src/simulation/mean_var_autocorr_v1.py:50: RuntimeWarning: invalid value encountered in multiply\n",
      "  ACmRNA_eq = sp.exp(-d * t) * (\n",
      "/home/ianyang/stochastic_simulations/src/simulation/mean_var_autocorr_v1.py:51: RuntimeWarning: invalid value encountered in multiply\n",
      "  d * sp.exp((d - sigma_u - sigma_b) * t) * rho * sigma_u\n",
      "/home/ianyang/stochastic_simulations/src/simulation/mean_var_autocorr_v1.py:311: RuntimeWarning: The iteration is not making good progress, as measured by the \n",
      " improvement from the last ten iterations.\n",
      "  solution = fsolve(\n"
     ]
    },
    {
     "name": "stdout",
     "output_type": "stream",
     "text": [
      "[NORMAL] ✅ Found: {'rho': 110.98307411395902, 'sigma_b': 0.9962941077296419, 'd': 1.1061277470373247}\n"
     ]
    },
    {
     "name": "stderr",
     "output_type": "stream",
     "text": [
      "Running Variance Ratio Simulations:   0%|          | 0/290 [00:00<?, ?it/s]"
     ]
    },
    {
     "name": "stdout",
     "output_type": "stream",
     "text": [
      "Attempt 1/10\n"
     ]
    },
    {
     "name": "stderr",
     "output_type": "stream",
     "text": [
      "/home/ianyang/stochastic_simulations/src/simulation/mean_var_autocorr_v1.py:311: RuntimeWarning: The number of calls to function has reached maxfev = 400.\n",
      "  solution = fsolve(\n",
      "Running Variance Ratio Simulations:   0%|          | 1/290 [00:01<06:27,  1.34s/it]"
     ]
    },
    {
     "name": "stdout",
     "output_type": "stream",
     "text": [
      "[STRESS] ✅ Found: {'rho': 10.001107423073872, 'sigma_b': 168328.7890557837, 'd': 1.0000038022421092}\n",
      "Updated Parameter Sets: [{'cv_ratio': 0.1, 'sigma_u': 18.0, 'sigma_b': 168328.7890557837, 'rho': 10.001107423073872, 'd': 1.0000038022421092, 'label': 0}, {'cv_ratio': 0.1, 'sigma_u': 9.0, 'sigma_b': 0.9962941077296419, 'rho': 110.98307411395902, 'd': 1.1061277470373247, 'label': 1}]\n",
      "Attempt 1/10\n"
     ]
    },
    {
     "name": "stderr",
     "output_type": "stream",
     "text": [
      "Running Variance Ratio Simulations:   1%|          | 2/290 [00:01<03:53,  1.24it/s]"
     ]
    },
    {
     "name": "stdout",
     "output_type": "stream",
     "text": [
      "[STRESS] ✅ Found: {'rho': 15.319337224744771, 'sigma_b': 34.01321665535206, 'd': 1.001783718733607}\n",
      "Updated Parameter Sets: [{'cv_ratio': 0.11, 'sigma_u': 18.0, 'sigma_b': 34.01321665535206, 'rho': 15.319337224744771, 'd': 1.001783718733607, 'label': 0}, {'cv_ratio': 0.11, 'sigma_u': 9.0, 'sigma_b': 0.9962941077296419, 'rho': 110.98307411395902, 'd': 1.1061277470373247, 'label': 1}]\n",
      "Attempt 1/10\n"
     ]
    },
    {
     "name": "stderr",
     "output_type": "stream",
     "text": [
      "Running Variance Ratio Simulations:   1%|          | 3/290 [00:02<02:52,  1.66it/s]"
     ]
    },
    {
     "name": "stdout",
     "output_type": "stream",
     "text": [
      "[STRESS] ✅ Found: {'rho': 18.249233935343277, 'sigma_b': 22.027888351549755, 'd': 1.0042800261590086}\n",
      "Updated Parameter Sets: [{'cv_ratio': 0.12, 'sigma_u': 18.0, 'sigma_b': 22.027888351549755, 'rho': 18.249233935343277, 'd': 1.0042800261590086, 'label': 0}, {'cv_ratio': 0.12, 'sigma_u': 9.0, 'sigma_b': 0.9962941077296419, 'rho': 110.98307411395902, 'd': 1.1061277470373247, 'label': 1}]\n",
      "Attempt 1/10\n"
     ]
    },
    {
     "name": "stderr",
     "output_type": "stream",
     "text": [
      "Running Variance Ratio Simulations:   1%|▏         | 4/290 [00:02<02:59,  1.59it/s]"
     ]
    },
    {
     "name": "stdout",
     "output_type": "stream",
     "text": [
      "[STRESS] ✅ Found: {'rho': 20.82500655098291, 'sigma_b': 16.848436312031847, 'd': 1.0068422968187207}\n",
      "Updated Parameter Sets: [{'cv_ratio': 0.13, 'sigma_u': 18.0, 'sigma_b': 16.848436312031847, 'rho': 20.82500655098291, 'd': 1.0068422968187207, 'label': 0}, {'cv_ratio': 0.13, 'sigma_u': 9.0, 'sigma_b': 0.9962941077296419, 'rho': 110.98307411395902, 'd': 1.1061277470373247, 'label': 1}]\n",
      "Attempt 1/10\n"
     ]
    },
    {
     "name": "stderr",
     "output_type": "stream",
     "text": [
      "Running Variance Ratio Simulations:   2%|▏         | 5/290 [00:03<02:38,  1.80it/s]"
     ]
    },
    {
     "name": "stdout",
     "output_type": "stream",
     "text": [
      "[STRESS] ✅ Found: {'rho': 23.22905212268335, 'sigma_b': 13.83049507050374, 'd': 1.0093128937002689}\n",
      "Updated Parameter Sets: [{'cv_ratio': 0.13999999999999999, 'sigma_u': 18.0, 'sigma_b': 13.83049507050374, 'rho': 23.22905212268335, 'd': 1.0093128937002689, 'label': 0}, {'cv_ratio': 0.13999999999999999, 'sigma_u': 9.0, 'sigma_b': 0.9962941077296419, 'rho': 110.98307411395902, 'd': 1.1061277470373247, 'label': 1}]\n",
      "Attempt 1/10\n"
     ]
    },
    {
     "name": "stderr",
     "output_type": "stream",
     "text": [
      "Running Variance Ratio Simulations:   2%|▏         | 6/290 [00:03<02:30,  1.89it/s]"
     ]
    },
    {
     "name": "stdout",
     "output_type": "stream",
     "text": [
      "[STRESS] ✅ Found: {'rho': 25.52940625536571, 'sigma_b': 11.814379352561433, 'd': 1.0116396741985711}\n",
      "Updated Parameter Sets: [{'cv_ratio': 0.14999999999999997, 'sigma_u': 18.0, 'sigma_b': 11.814379352561433, 'rho': 25.52940625536571, 'd': 1.0116396741985711, 'label': 0}, {'cv_ratio': 0.14999999999999997, 'sigma_u': 9.0, 'sigma_b': 0.9962941077296419, 'rho': 110.98307411395902, 'd': 1.1061277470373247, 'label': 1}]\n",
      "Attempt 1/10\n"
     ]
    },
    {
     "name": "stderr",
     "output_type": "stream",
     "text": [
      "Running Variance Ratio Simulations:   2%|▏         | 7/290 [00:04<02:29,  1.89it/s]"
     ]
    },
    {
     "name": "stdout",
     "output_type": "stream",
     "text": [
      "[STRESS] ✅ Found: {'rho': 27.75980587562058, 'sigma_b': 10.355720703440056, 'd': 1.0138088163912626}\n",
      "Updated Parameter Sets: [{'cv_ratio': 0.15999999999999998, 'sigma_u': 18.0, 'sigma_b': 10.355720703440056, 'rho': 27.75980587562058, 'd': 1.0138088163912626, 'label': 0}, {'cv_ratio': 0.15999999999999998, 'sigma_u': 9.0, 'sigma_b': 0.9962941077296419, 'rho': 110.98307411395902, 'd': 1.1061277470373247, 'label': 1}]\n",
      "Attempt 1/10\n"
     ]
    },
    {
     "name": "stderr",
     "output_type": "stream",
     "text": [
      "Running Variance Ratio Simulations:   3%|▎         | 8/290 [00:04<02:05,  2.24it/s]"
     ]
    },
    {
     "name": "stdout",
     "output_type": "stream",
     "text": [
      "[STRESS] ✅ Found: {'rho': 29.939680738652502, 'sigma_b': 9.243403769453645, 'd': 1.0158222523462095}\n",
      "Updated Parameter Sets: [{'cv_ratio': 0.16999999999999998, 'sigma_u': 18.0, 'sigma_b': 9.243403769453645, 'rho': 29.939680738652502, 'd': 1.0158222523462095, 'label': 0}, {'cv_ratio': 0.16999999999999998, 'sigma_u': 9.0, 'sigma_b': 0.9962941077296419, 'rho': 110.98307411395902, 'd': 1.1061277470373247, 'label': 1}]\n",
      "Attempt 1/10\n"
     ]
    },
    {
     "name": "stderr",
     "output_type": "stream",
     "text": [
      "Running Variance Ratio Simulations:   3%|▎         | 10/290 [00:04<01:26,  3.23it/s]"
     ]
    },
    {
     "name": "stdout",
     "output_type": "stream",
     "text": [
      "[STRESS] ✅ Found: {'rho': 32.081328247125036, 'sigma_b': 8.362865956703793, 'd': 1.0176884726818054}\n",
      "Updated Parameter Sets: [{'cv_ratio': 0.17999999999999997, 'sigma_u': 18.0, 'sigma_b': 8.362865956703793, 'rho': 32.081328247125036, 'd': 1.0176884726818054, 'label': 0}, {'cv_ratio': 0.17999999999999997, 'sigma_u': 9.0, 'sigma_b': 0.9962941077296419, 'rho': 110.98307411395902, 'd': 1.1061277470373247, 'label': 1}]\n",
      "Attempt 1/10\n",
      "[STRESS] ✅ Found: {'rho': 34.19305797276291, 'sigma_b': 7.645996916892756, 'd': 1.0194184172004075}\n",
      "Updated Parameter Sets: [{'cv_ratio': 0.18999999999999995, 'sigma_u': 18.0, 'sigma_b': 7.645996916892756, 'rho': 34.19305797276291, 'd': 1.0194184172004075, 'label': 0}, {'cv_ratio': 0.18999999999999995, 'sigma_u': 9.0, 'sigma_b': 0.9962941077296419, 'rho': 110.98307411395902, 'd': 1.1061277470373247, 'label': 1}]\n",
      "Attempt 1/10\n"
     ]
    },
    {
     "name": "stderr",
     "output_type": "stream",
     "text": [
      "Running Variance Ratio Simulations:   4%|▍         | 11/290 [00:05<01:49,  2.54it/s]"
     ]
    },
    {
     "name": "stdout",
     "output_type": "stream",
     "text": [
      "[STRESS] ✅ Found: {'rho': 36.28076174277199, 'sigma_b': 7.0495025709409145, 'd': 1.0210235610754201}\n",
      "Updated Parameter Sets: [{'cv_ratio': 0.19999999999999996, 'sigma_u': 18.0, 'sigma_b': 7.0495025709409145, 'rho': 36.28076174277199, 'd': 1.0210235610754201, 'label': 0}, {'cv_ratio': 0.19999999999999996, 'sigma_u': 9.0, 'sigma_b': 0.9962941077296419, 'rho': 110.98307411395902, 'd': 1.1061277470373247, 'label': 1}]\n",
      "Attempt 1/10\n"
     ]
    },
    {
     "name": "stderr",
     "output_type": "stream",
     "text": [
      "Running Variance Ratio Simulations:   4%|▍         | 12/290 [00:06<02:27,  1.89it/s]"
     ]
    },
    {
     "name": "stdout",
     "output_type": "stream",
     "text": [
      "[STRESS] ✅ Found: {'rho': 38.348774637743546, 'sigma_b': 6.544416244685603, 'd': 1.0225150241984697}\n",
      "Updated Parameter Sets: [{'cv_ratio': 0.20999999999999996, 'sigma_u': 18.0, 'sigma_b': 6.544416244685603, 'rho': 38.348774637743546, 'd': 1.0225150241984697, 'label': 0}, {'cv_ratio': 0.20999999999999996, 'sigma_u': 9.0, 'sigma_b': 0.9962941077296419, 'rho': 110.98307411395902, 'd': 1.1061277470373247, 'label': 1}]\n",
      "Attempt 1/10\n"
     ]
    },
    {
     "name": "stderr",
     "output_type": "stream",
     "text": [
      "Running Variance Ratio Simulations:   4%|▍         | 13/290 [00:07<03:17,  1.40it/s]"
     ]
    },
    {
     "name": "stdout",
     "output_type": "stream",
     "text": [
      "[STRESS] ✅ Found: {'rho': 40.40038116679829, 'sigma_b': 6.110554624835102, 'd': 1.023903178923122}\n",
      "Updated Parameter Sets: [{'cv_ratio': 0.21999999999999995, 'sigma_u': 18.0, 'sigma_b': 6.110554624835102, 'rho': 40.40038116679829, 'd': 1.023903178923122, 'label': 0}, {'cv_ratio': 0.21999999999999995, 'sigma_u': 9.0, 'sigma_b': 0.9962941077296419, 'rho': 110.98307411395902, 'd': 1.1061277470373247, 'label': 1}]\n",
      "Attempt 1/10\n"
     ]
    },
    {
     "name": "stderr",
     "output_type": "stream",
     "text": [
      "Running Variance Ratio Simulations:   5%|▍         | 14/290 [00:08<03:16,  1.40it/s]"
     ]
    },
    {
     "name": "stdout",
     "output_type": "stream",
     "text": [
      "[STRESS] ✅ Found: {'rho': 42.43812970166058, 'sigma_b': 5.733382982153254, 'd': 1.0251975065384937}\n",
      "Updated Parameter Sets: [{'cv_ratio': 0.22999999999999995, 'sigma_u': 18.0, 'sigma_b': 5.733382982153254, 'rho': 42.43812970166058, 'd': 1.0251975065384937, 'label': 0}, {'cv_ratio': 0.22999999999999995, 'sigma_u': 9.0, 'sigma_b': 0.9962941077296419, 'rho': 110.98307411395902, 'd': 1.1061277470373247, 'label': 1}]\n",
      "Attempt 1/10\n"
     ]
    },
    {
     "name": "stderr",
     "output_type": "stream",
     "text": [
      "Running Variance Ratio Simulations:   5%|▌         | 15/290 [00:09<03:40,  1.25it/s]"
     ]
    },
    {
     "name": "stdout",
     "output_type": "stream",
     "text": [
      "[STRESS] ✅ Found: {'rho': 44.4640371533604, 'sigma_b': 5.402144404658814, 'd': 1.0264065778115783}\n",
      "Updated Parameter Sets: [{'cv_ratio': 0.23999999999999994, 'sigma_u': 18.0, 'sigma_b': 5.402144404658814, 'rho': 44.4640371533604, 'd': 1.0264065778115783, 'label': 0}, {'cv_ratio': 0.23999999999999994, 'sigma_u': 9.0, 'sigma_b': 0.9962941077296419, 'rho': 110.98307411395902, 'd': 1.1061277470373247, 'label': 1}]\n",
      "Attempt 1/10\n"
     ]
    },
    {
     "name": "stderr",
     "output_type": "stream",
     "text": [
      "Running Variance Ratio Simulations:   6%|▌         | 16/290 [00:09<03:30,  1.30it/s]"
     ]
    },
    {
     "name": "stdout",
     "output_type": "stream",
     "text": [
      "[STRESS] ✅ Found: {'rho': 46.4797263659147, 'sigma_b': 5.1086921918750825, 'd': 1.0275380934435518}\n",
      "Updated Parameter Sets: [{'cv_ratio': 0.24999999999999992, 'sigma_u': 18.0, 'sigma_b': 5.1086921918750825, 'rho': 46.4797263659147, 'd': 1.0275380934435518, 'label': 0}, {'cv_ratio': 0.24999999999999992, 'sigma_u': 9.0, 'sigma_b': 0.9962941077296419, 'rho': 110.98307411395902, 'd': 1.1061277470373247, 'label': 1}]\n",
      "Attempt 1/10\n"
     ]
    },
    {
     "name": "stderr",
     "output_type": "stream",
     "text": [
      "Running Variance Ratio Simulations:   6%|▌         | 17/290 [00:10<03:21,  1.35it/s]"
     ]
    },
    {
     "name": "stdout",
     "output_type": "stream",
     "text": [
      "[STRESS] ✅ Found: {'rho': 48.48652190140688, 'sigma_b': 4.846733792159936, 'd': 1.028598951192926}\n",
      "Updated Parameter Sets: [{'cv_ratio': 0.2599999999999999, 'sigma_u': 18.0, 'sigma_b': 4.846733792159936, 'rho': 48.48652190140688, 'd': 1.028598951192926, 'label': 0}, {'cv_ratio': 0.2599999999999999, 'sigma_u': 9.0, 'sigma_b': 0.9962941077296419, 'rho': 110.98307411395902, 'd': 1.1061277470373247, 'label': 1}]\n",
      "Attempt 1/10\n"
     ]
    },
    {
     "name": "stderr",
     "output_type": "stream",
     "text": [
      "Running Variance Ratio Simulations:   6%|▌         | 18/290 [00:11<03:14,  1.40it/s]"
     ]
    },
    {
     "name": "stdout",
     "output_type": "stream",
     "text": [
      "[STRESS] ✅ Found: {'rho': 50.48551825682537, 'sigma_b': 4.611325297163782, 'd': 1.0295953221087002}\n",
      "Updated Parameter Sets: [{'cv_ratio': 0.2699999999999999, 'sigma_u': 18.0, 'sigma_b': 4.611325297163782, 'rho': 50.48551825682537, 'd': 1.0295953221087002, 'label': 0}, {'cv_ratio': 0.2699999999999999, 'sigma_u': 9.0, 'sigma_b': 0.9962941077296419, 'rho': 110.98307411395902, 'd': 1.1061277470373247, 'label': 1}]\n",
      "Attempt 1/10\n"
     ]
    },
    {
     "name": "stderr",
     "output_type": "stream",
     "text": [
      "Running Variance Ratio Simulations:   7%|▋         | 19/290 [00:11<02:54,  1.55it/s]"
     ]
    },
    {
     "name": "stdout",
     "output_type": "stream",
     "text": [
      "[STRESS] ✅ Found: {'rho': 52.47762966132071, 'sigma_b': 4.398524157695817, 'd': 1.0305327269713827}\n",
      "Updated Parameter Sets: [{'cv_ratio': 0.2799999999999999, 'sigma_u': 18.0, 'sigma_b': 4.398524157695817, 'rho': 52.47762966132071, 'd': 1.0305327269713827, 'label': 0}, {'cv_ratio': 0.2799999999999999, 'sigma_u': 9.0, 'sigma_b': 0.9962941077296419, 'rho': 110.98307411395902, 'd': 1.1061277470373247, 'label': 1}]\n",
      "Attempt 1/10\n"
     ]
    },
    {
     "name": "stderr",
     "output_type": "stream",
     "text": [
      "Running Variance Ratio Simulations:   7%|▋         | 20/290 [00:12<02:50,  1.58it/s]"
     ]
    },
    {
     "name": "stdout",
     "output_type": "stream",
     "text": [
      "[STRESS] ✅ Found: {'rho': 54.46362692931632, 'sigma_b': 4.205144863013495, 'd': 1.0314161083705395}\n",
      "Updated Parameter Sets: [{'cv_ratio': 0.2899999999999999, 'sigma_u': 18.0, 'sigma_b': 4.205144863013495, 'rho': 54.46362692931632, 'd': 1.0314161083705395, 'label': 0}, {'cv_ratio': 0.2899999999999999, 'sigma_u': 9.0, 'sigma_b': 0.9962941077296419, 'rho': 110.98307411395902, 'd': 1.1061277470373247, 'label': 1}]\n",
      "Attempt 1/10\n"
     ]
    },
    {
     "name": "stderr",
     "output_type": "stream",
     "text": [
      "Running Variance Ratio Simulations:   7%|▋         | 21/290 [00:13<03:04,  1.46it/s]"
     ]
    },
    {
     "name": "stdout",
     "output_type": "stream",
     "text": [
      "[STRESS] ✅ Found: {'rho': 56.44416560062899, 'sigma_b': 4.028583418934041, 'd': 1.0322498968258833}\n",
      "Updated Parameter Sets: [{'cv_ratio': 0.29999999999999993, 'sigma_u': 18.0, 'sigma_b': 4.028583418934041, 'rho': 56.44416560062899, 'd': 1.0322498968258833, 'label': 0}, {'cv_ratio': 0.29999999999999993, 'sigma_u': 9.0, 'sigma_b': 0.9962941077296419, 'rho': 110.98307411395902, 'd': 1.1061277470373247, 'label': 1}]\n",
      "Attempt 1/10\n"
     ]
    },
    {
     "name": "stderr",
     "output_type": "stream",
     "text": [
      "Running Variance Ratio Simulations:   8%|▊         | 22/290 [00:13<02:47,  1.60it/s]"
     ]
    },
    {
     "name": "stdout",
     "output_type": "stream",
     "text": [
      "[STRESS] ✅ Found: {'rho': 58.419807352031945, 'sigma_b': 3.8666889073094213, 'd': 1.0330380699736437}\n",
      "Updated Parameter Sets: [{'cv_ratio': 0.30999999999999994, 'sigma_u': 18.0, 'sigma_b': 3.8666889073094213, 'rho': 58.419807352031945, 'd': 1.0330380699736437, 'label': 0}, {'cv_ratio': 0.30999999999999994, 'sigma_u': 9.0, 'sigma_b': 0.9962941077296419, 'rho': 110.98307411395902, 'd': 1.1061277470373247, 'label': 1}]\n",
      "Attempt 1/10\n"
     ]
    },
    {
     "name": "stderr",
     "output_type": "stream",
     "text": [
      "Running Variance Ratio Simulations:   8%|▊         | 23/290 [00:13<02:23,  1.86it/s]"
     ]
    },
    {
     "name": "stdout",
     "output_type": "stream",
     "text": [
      "[STRESS] ✅ Found: {'rho': 60.39103675740888, 'sigma_b': 3.717667933671359, 'd': 1.0337842051914647}\n",
      "Updated Parameter Sets: [{'cv_ratio': 0.3199999999999999, 'sigma_u': 18.0, 'sigma_b': 3.717667933671359, 'rho': 60.39103675740888, 'd': 1.0337842051914647, 'label': 0}, {'cv_ratio': 0.3199999999999999, 'sigma_u': 9.0, 'sigma_b': 0.9962941077296419, 'rho': 110.98307411395902, 'd': 1.1061277470373247, 'label': 1}]\n",
      "Attempt 1/10\n"
     ]
    },
    {
     "name": "stderr",
     "output_type": "stream",
     "text": [
      "Running Variance Ratio Simulations:   8%|▊         | 24/290 [00:14<02:55,  1.51it/s]"
     ]
    },
    {
     "name": "stdout",
     "output_type": "stream",
     "text": [
      "[STRESS] ✅ Found: {'rho': 62.358274459601404, 'sigma_b': 3.5800124725295266, 'd': 1.0344915259335858}\n",
      "Updated Parameter Sets: [{'cv_ratio': 0.32999999999999985, 'sigma_u': 18.0, 'sigma_b': 3.5800124725295266, 'rho': 62.358274459601404, 'd': 1.0344915259335858, 'label': 0}, {'cv_ratio': 0.32999999999999985, 'sigma_u': 9.0, 'sigma_b': 0.9962941077296419, 'rho': 110.98307411395902, 'd': 1.1061277470373247, 'label': 1}]\n",
      "Attempt 1/10\n"
     ]
    },
    {
     "name": "stderr",
     "output_type": "stream",
     "text": [
      "Running Variance Ratio Simulations:   9%|▊         | 25/290 [00:15<02:55,  1.51it/s]"
     ]
    },
    {
     "name": "stdout",
     "output_type": "stream",
     "text": [
      "[STRESS] ✅ Found: {'rho': 64.32188765831862, 'sigma_b': 3.452444655111052, 'd': 1.035162942431587}\n",
      "Updated Parameter Sets: [{'cv_ratio': 0.33999999999999986, 'sigma_u': 18.0, 'sigma_b': 3.452444655111052, 'rho': 64.32188765831862, 'd': 1.035162942431587, 'label': 0}, {'cv_ratio': 0.33999999999999986, 'sigma_u': 9.0, 'sigma_b': 0.9962941077296419, 'rho': 110.98307411395902, 'd': 1.1061277470373247, 'label': 1}]\n",
      "Attempt 1/10\n"
     ]
    },
    {
     "name": "stderr",
     "output_type": "stream",
     "text": [
      "Running Variance Ratio Simulations:   9%|▉         | 26/290 [00:15<02:35,  1.70it/s]"
     ]
    },
    {
     "name": "stdout",
     "output_type": "stream",
     "text": [
      "[STRESS] ✅ Found: {'rho': 66.28219885930183, 'sigma_b': 3.333873999434123, 'd': 1.035801087457366}\n",
      "Updated Parameter Sets: [{'cv_ratio': 0.34999999999999987, 'sigma_u': 18.0, 'sigma_b': 3.333873999434123, 'rho': 66.28219885930183, 'd': 1.035801087457366, 'label': 0}, {'cv_ratio': 0.34999999999999987, 'sigma_u': 9.0, 'sigma_b': 0.9962941077296419, 'rho': 110.98307411395902, 'd': 1.1061277470373247, 'label': 1}]\n",
      "Attempt 1/10\n"
     ]
    },
    {
     "name": "stderr",
     "output_type": "stream",
     "text": [
      "Running Variance Ratio Simulations:   9%|▉         | 27/290 [00:19<07:09,  1.63s/it]"
     ]
    },
    {
     "name": "stdout",
     "output_type": "stream",
     "text": [
      "[STRESS] ✅ Found: {'rho': 68.23949139641162, 'sigma_b': 3.223363932170317, 'd': 1.0364083470456116}\n",
      "Updated Parameter Sets: [{'cv_ratio': 0.3599999999999999, 'sigma_u': 18.0, 'sigma_b': 3.223363932170317, 'rho': 68.23949139641162, 'd': 1.0364083470456116, 'label': 0}, {'cv_ratio': 0.3599999999999999, 'sigma_u': 9.0, 'sigma_b': 0.9962941077296419, 'rho': 110.98307411395902, 'd': 1.1061277470373247, 'label': 1}]\n",
      "Attempt 1/10\n"
     ]
    },
    {
     "name": "stderr",
     "output_type": "stream",
     "text": [
      "Running Variance Ratio Simulations:  10%|▉         | 28/290 [00:20<05:55,  1.36s/it]"
     ]
    },
    {
     "name": "stdout",
     "output_type": "stream",
     "text": [
      "[STRESS] ✅ Found: {'rho': 70.194017637166, 'sigma_b': 3.1201052403214558, 'd': 1.0369868886808502}\n",
      "Updated Parameter Sets: [{'cv_ratio': 0.3699999999999999, 'sigma_u': 18.0, 'sigma_b': 3.1201052403214558, 'rho': 70.194017637166, 'd': 1.0369868886808502, 'label': 0}, {'cv_ratio': 0.3699999999999999, 'sigma_u': 9.0, 'sigma_b': 0.9962941077296419, 'rho': 110.98307411395902, 'd': 1.1061277470373247, 'label': 1}]\n",
      "Attempt 1/10\n"
     ]
    },
    {
     "name": "stderr",
     "output_type": "stream",
     "text": [
      "Running Variance Ratio Simulations:  10%|█         | 29/290 [00:21<04:41,  1.08s/it]"
     ]
    },
    {
     "name": "stdout",
     "output_type": "stream",
     "text": [
      "[STRESS] ✅ Found: {'rho': 72.14600125776364, 'sigma_b': 3.0233949583674, 'd': 1.037538684762518}\n",
      "Updated Parameter Sets: [{'cv_ratio': 0.3799999999999999, 'sigma_u': 18.0, 'sigma_b': 3.0233949583674, 'rho': 72.14600125776364, 'd': 1.037538684762518, 'label': 0}, {'cv_ratio': 0.3799999999999999, 'sigma_u': 9.0, 'sigma_b': 0.9962941077296419, 'rho': 110.98307411395902, 'd': 1.1061277470373247, 'label': 1}]\n",
      "Attempt 1/10\n"
     ]
    },
    {
     "name": "stderr",
     "output_type": "stream",
     "text": [
      "Running Variance Ratio Simulations:  10%|█         | 30/290 [00:21<03:48,  1.14it/s]"
     ]
    },
    {
     "name": "stdout",
     "output_type": "stream",
     "text": [
      "[STRESS] ✅ Found: {'rho': 74.09564127322365, 'sigma_b': 2.9326192755126725, 'd': 1.038065532885732}\n",
      "Updated Parameter Sets: [{'cv_ratio': 0.3899999999999999, 'sigma_u': 18.0, 'sigma_b': 2.9326192755126725, 'rho': 74.09564127322365, 'd': 1.038065532885732, 'label': 0}, {'cv_ratio': 0.3899999999999999, 'sigma_u': 9.0, 'sigma_b': 0.9962941077296419, 'rho': 110.98307411395902, 'd': 1.1061277470373247, 'label': 1}]\n",
      "Attempt 1/10\n"
     ]
    },
    {
     "name": "stderr",
     "output_type": "stream",
     "text": [
      "Running Variance Ratio Simulations:  11%|█         | 31/290 [00:21<03:12,  1.35it/s]"
     ]
    },
    {
     "name": "stdout",
     "output_type": "stream",
     "text": [
      "[STRESS] ✅ Found: {'rho': 76.04311719604841, 'sigma_b': 2.847239737578843, 'd': 1.0385690756976746}\n",
      "Updated Parameter Sets: [{'cv_ratio': 0.3999999999999998, 'sigma_u': 18.0, 'sigma_b': 2.847239737578843, 'rho': 76.04311719604841, 'd': 1.0385690756976746, 'label': 0}, {'cv_ratio': 0.3999999999999998, 'sigma_u': 9.0, 'sigma_b': 0.9962941077296419, 'rho': 110.98307411395902, 'd': 1.1061277470373247, 'label': 1}]\n",
      "Attempt 1/10\n"
     ]
    },
    {
     "name": "stderr",
     "output_type": "stream",
     "text": [
      "Running Variance Ratio Simulations:  11%|█         | 32/290 [00:23<03:56,  1.09it/s]"
     ]
    },
    {
     "name": "stdout",
     "output_type": "stream",
     "text": [
      "[STRESS] ✅ Found: {'rho': 77.98858952770665, 'sigma_b': 2.7667818833232856, 'd': 1.0390508159776026}\n",
      "Updated Parameter Sets: [{'cv_ratio': 0.4099999999999998, 'sigma_u': 18.0, 'sigma_b': 2.7667818833232856, 'rho': 77.98858952770665, 'd': 1.0390508159776026, 'label': 0}, {'cv_ratio': 0.4099999999999998, 'sigma_u': 9.0, 'sigma_b': 0.9962941077296419, 'rho': 110.98307411395902, 'd': 1.1061277470373247, 'label': 1}]\n",
      "Attempt 1/10\n"
     ]
    },
    {
     "name": "stderr",
     "output_type": "stream",
     "text": [
      "Running Variance Ratio Simulations:  11%|█▏        | 33/290 [00:24<04:20,  1.01s/it]"
     ]
    },
    {
     "name": "stdout",
     "output_type": "stream",
     "text": [
      "[STRESS] ✅ Found: {'rho': 79.93220314448287, 'sigma_b': 2.6908259408514574, 'd': 1.0395121313442668}\n",
      "Updated Parameter Sets: [{'cv_ratio': 0.4199999999999998, 'sigma_u': 18.0, 'sigma_b': 2.6908259408514574, 'rho': 79.93220314448287, 'd': 1.0395121313442668, 'label': 0}, {'cv_ratio': 0.4199999999999998, 'sigma_u': 9.0, 'sigma_b': 0.9962941077296419, 'rho': 110.98307411395902, 'd': 1.1061277470373247, 'label': 1}]\n",
      "Attempt 1/10\n"
     ]
    },
    {
     "name": "stderr",
     "output_type": "stream",
     "text": [
      "Running Variance Ratio Simulations:  12%|█▏        | 34/290 [00:24<03:34,  1.19it/s]"
     ]
    },
    {
     "name": "stdout",
     "output_type": "stream",
     "text": [
      "[STRESS] ✅ Found: {'rho': 81.87408902408465, 'sigma_b': 2.618999093902335, 'd': 1.0399542867804676}\n",
      "Updated Parameter Sets: [{'cv_ratio': 0.4299999999999998, 'sigma_u': 18.0, 'sigma_b': 2.618999093902335, 'rho': 81.87408902408465, 'd': 1.0399542867804676, 'label': 0}, {'cv_ratio': 0.4299999999999998, 'sigma_u': 9.0, 'sigma_b': 0.9962941077296419, 'rho': 110.98307411395902, 'd': 1.1061277470373247, 'label': 1}]\n",
      "Attempt 1/10\n"
     ]
    },
    {
     "name": "stderr",
     "output_type": "stream",
     "text": [
      "Running Variance Ratio Simulations:  12%|█▏        | 35/290 [00:25<02:57,  1.43it/s]"
     ]
    },
    {
     "name": "stdout",
     "output_type": "stream",
     "text": [
      "[STRESS] ✅ Found: {'rho': 83.81436589720198, 'sigma_b': 2.5509690368974107, 'd': 1.0403784457873992}\n",
      "Updated Parameter Sets: [{'cv_ratio': 0.43999999999999984, 'sigma_u': 18.0, 'sigma_b': 2.5509690368974107, 'rho': 83.81436589720198, 'd': 1.0403784457873992, 'label': 0}, {'cv_ratio': 0.43999999999999984, 'sigma_u': 9.0, 'sigma_b': 0.9962941077296419, 'rho': 110.98307411395902, 'd': 1.1061277470373247, 'label': 1}]\n",
      "Attempt 1/10\n"
     ]
    },
    {
     "name": "stderr",
     "output_type": "stream",
     "text": [
      "Running Variance Ratio Simulations:  12%|█▏        | 36/290 [00:25<02:53,  1.46it/s]"
     ]
    },
    {
     "name": "stdout",
     "output_type": "stream",
     "text": [
      "[STRESS] ✅ Found: {'rho': 85.75314167881301, 'sigma_b': 2.4864385705217424, 'd': 1.0407856801460196}\n",
      "Updated Parameter Sets: [{'cv_ratio': 0.44999999999999984, 'sigma_u': 18.0, 'sigma_b': 2.4864385705217424, 'rho': 85.75314167881301, 'd': 1.0407856801460196, 'label': 0}, {'cv_ratio': 0.44999999999999984, 'sigma_u': 9.0, 'sigma_b': 0.9962941077296419, 'rho': 110.98307411395902, 'd': 1.1061277470373247, 'label': 1}]\n",
      "Attempt 1/10\n"
     ]
    },
    {
     "name": "stderr",
     "output_type": "stream",
     "text": [
      "Running Variance Ratio Simulations:  13%|█▎        | 37/290 [00:26<02:30,  1.68it/s]"
     ]
    },
    {
     "name": "stdout",
     "output_type": "stream",
     "text": [
      "[STRESS] ✅ Found: {'rho': 87.69051467843963, 'sigma_b': 2.4251410457329032, 'd': 1.0411769788665426}\n",
      "Updated Parameter Sets: [{'cv_ratio': 0.45999999999999985, 'sigma_u': 18.0, 'sigma_b': 2.4251410457329032, 'rho': 87.69051467843963, 'd': 1.0411769788665426, 'label': 0}, {'cv_ratio': 0.45999999999999985, 'sigma_u': 9.0, 'sigma_b': 0.9962941077296419, 'rho': 110.98307411395902, 'd': 1.1061277470373247, 'label': 1}]\n",
      "Attempt 1/10\n"
     ]
    },
    {
     "name": "stderr",
     "output_type": "stream",
     "text": [
      "Running Variance Ratio Simulations:  13%|█▎        | 38/290 [00:27<02:54,  1.44it/s]"
     ]
    },
    {
     "name": "stdout",
     "output_type": "stream",
     "text": [
      "[STRESS] ✅ Found: {'rho': 89.62657467169744, 'sigma_b': 2.3668365046382576, 'd': 1.0415532558056397}\n",
      "Updated Parameter Sets: [{'cv_ratio': 0.46999999999999986, 'sigma_u': 18.0, 'sigma_b': 2.3668365046382576, 'rho': 89.62657467169744, 'd': 1.0415532558056397, 'label': 0}, {'cv_ratio': 0.46999999999999986, 'sigma_u': 9.0, 'sigma_b': 0.9962941077296419, 'rho': 110.98307411395902, 'd': 1.1061277470373247, 'label': 1}]\n",
      "Attempt 1/10\n"
     ]
    },
    {
     "name": "stderr",
     "output_type": "stream",
     "text": [
      "Running Variance Ratio Simulations:  13%|█▎        | 39/290 [00:27<02:40,  1.56it/s]"
     ]
    },
    {
     "name": "stdout",
     "output_type": "stream",
     "text": [
      "[STRESS] ✅ Found: {'rho': 91.56140381970046, 'sigma_b': 2.311308394827859, 'd': 1.0419153566289994}\n",
      "Updated Parameter Sets: [{'cv_ratio': 0.47999999999999976, 'sigma_u': 18.0, 'sigma_b': 2.311308394827859, 'rho': 91.56140381970046, 'd': 1.0419153566289994, 'label': 0}, {'cv_ratio': 0.47999999999999976, 'sigma_u': 9.0, 'sigma_b': 0.9962941077296419, 'rho': 110.98307411395902, 'd': 1.1061277470373247, 'label': 1}]\n",
      "Attempt 1/10\n"
     ]
    },
    {
     "name": "stderr",
     "output_type": "stream",
     "text": [
      "Running Variance Ratio Simulations:  14%|█▍        | 40/290 [00:29<04:09,  1.00it/s]"
     ]
    },
    {
     "name": "stdout",
     "output_type": "stream",
     "text": [
      "[STRESS] ✅ Found: {'rho': 93.49507747514319, 'sigma_b': 2.2583607617755286, 'd': 1.0422640650543304}\n",
      "Updated Parameter Sets: [{'cv_ratio': 0.48999999999999977, 'sigma_u': 18.0, 'sigma_b': 2.2583607617755286, 'rho': 93.49507747514319, 'd': 1.0422640650543304, 'label': 0}, {'cv_ratio': 0.48999999999999977, 'sigma_u': 9.0, 'sigma_b': 0.9962941077296419, 'rho': 110.98307411395902, 'd': 1.1061277470373247, 'label': 1}]\n",
      "Attempt 1/10\n"
     ]
    },
    {
     "name": "stderr",
     "output_type": "stream",
     "text": [
      "Running Variance Ratio Simulations:  14%|█▍        | 41/290 [00:30<04:07,  1.00it/s]"
     ]
    },
    {
     "name": "stdout",
     "output_type": "stream",
     "text": [
      "[STRESS] ✅ Found: {'rho': 95.42766486630529, 'sigma_b': 2.207815837366089, 'd': 1.0426001083457659}\n",
      "Updated Parameter Sets: [{'cv_ratio': 0.4999999999999998, 'sigma_u': 18.0, 'sigma_b': 2.207815837366089, 'rho': 95.42766486630529, 'd': 1.0426001083457659, 'label': 0}, {'cv_ratio': 0.4999999999999998, 'sigma_u': 9.0, 'sigma_b': 0.9962941077296419, 'rho': 110.98307411395902, 'd': 1.1061277470373247, 'label': 1}]\n",
      "Attempt 1/10\n"
     ]
    },
    {
     "name": "stderr",
     "output_type": "stream",
     "text": [
      "Running Variance Ratio Simulations:  14%|█▍        | 42/290 [00:31<03:27,  1.20it/s]"
     ]
    },
    {
     "name": "stdout",
     "output_type": "stream",
     "text": [
      "[STRESS] ✅ Found: {'rho': 97.35922973378193, 'sigma_b': 2.1595119623307344, 'd': 1.0429241622819558}\n",
      "Updated Parameter Sets: [{'cv_ratio': 0.5099999999999998, 'sigma_u': 18.0, 'sigma_b': 2.1595119623307344, 'rho': 97.35922973378193, 'd': 1.0429241622819558, 'label': 0}, {'cv_ratio': 0.5099999999999998, 'sigma_u': 9.0, 'sigma_b': 0.9962941077296419, 'rho': 110.98307411395902, 'd': 1.1061277470373247, 'label': 1}]\n",
      "Attempt 1/10\n"
     ]
    },
    {
     "name": "stderr",
     "output_type": "stream",
     "text": [
      "Running Variance Ratio Simulations:  15%|█▍        | 43/290 [00:31<03:16,  1.26it/s]"
     ]
    },
    {
     "name": "stdout",
     "output_type": "stream",
     "text": [
      "[STRESS] ✅ Found: {'rho': 99.28983086115583, 'sigma_b': 2.1133017884737253, 'd': 1.043236855603091}\n",
      "Updated Parameter Sets: [{'cv_ratio': 0.5199999999999998, 'sigma_u': 18.0, 'sigma_b': 2.1133017884737253, 'rho': 99.28983086115583, 'd': 1.043236855603091, 'label': 0}, {'cv_ratio': 0.5199999999999998, 'sigma_u': 9.0, 'sigma_b': 0.9962941077296419, 'rho': 110.98307411395902, 'd': 1.1061277470373247, 'label': 1}]\n",
      "Attempt 1/10\n"
     ]
    },
    {
     "name": "stderr",
     "output_type": "stream",
     "text": [
      "Running Variance Ratio Simulations:  15%|█▌        | 44/290 [00:32<02:36,  1.57it/s]"
     ]
    },
    {
     "name": "stdout",
     "output_type": "stream",
     "text": [
      "[STRESS] ✅ Found: {'rho': 101.21952256623857, 'sigma_b': 2.069050717543822, 'd': 1.043538774017818}\n",
      "Updated Parameter Sets: [{'cv_ratio': 0.5299999999999998, 'sigma_u': 18.0, 'sigma_b': 2.069050717543822, 'rho': 101.21952256623857, 'd': 1.043538774017818, 'label': 0}, {'cv_ratio': 0.5299999999999998, 'sigma_u': 9.0, 'sigma_b': 0.9962941077296419, 'rho': 110.98307411395902, 'd': 1.1061277470373247, 'label': 1}]\n",
      "Attempt 1/10\n"
     ]
    },
    {
     "name": "stderr",
     "output_type": "stream",
     "text": [
      "Running Variance Ratio Simulations:  16%|█▌        | 45/290 [00:34<04:26,  1.09s/it]"
     ]
    },
    {
     "name": "stdout",
     "output_type": "stream",
     "text": [
      "[STRESS] ✅ Found: {'rho': 103.14835507111299, 'sigma_b': 2.0266355438249763, 'd': 1.0438304637674203}\n",
      "Updated Parameter Sets: [{'cv_ratio': 0.5399999999999998, 'sigma_u': 18.0, 'sigma_b': 2.0266355438249763, 'rho': 103.14835507111299, 'd': 1.0438304637674203, 'label': 0}, {'cv_ratio': 0.5399999999999998, 'sigma_u': 9.0, 'sigma_b': 0.9962941077296419, 'rho': 110.98307411395902, 'd': 1.1061277470373247, 'label': 1}]\n",
      "Attempt 1/10\n"
     ]
    },
    {
     "name": "stderr",
     "output_type": "stream",
     "text": [
      "Running Variance Ratio Simulations:  16%|█▌        | 46/290 [00:34<03:39,  1.11it/s]"
     ]
    },
    {
     "name": "stdout",
     "output_type": "stream",
     "text": [
      "[STRESS] ✅ Found: {'rho': 105.07637498321182, 'sigma_b': 1.985943261438084, 'd': 1.0441124349476192}\n",
      "Updated Parameter Sets: [{'cv_ratio': 0.5499999999999998, 'sigma_u': 18.0, 'sigma_b': 1.985943261438084, 'rho': 105.07637498321182, 'd': 1.0441124349476192, 'label': 0}, {'cv_ratio': 0.5499999999999998, 'sigma_u': 9.0, 'sigma_b': 0.9962941077296419, 'rho': 110.98307411395902, 'd': 1.1061277470373247, 'label': 1}]\n",
      "Attempt 1/10\n"
     ]
    },
    {
     "name": "stderr",
     "output_type": "stream",
     "text": [
      "Running Variance Ratio Simulations:  16%|█▌        | 47/290 [00:35<03:48,  1.06it/s]"
     ]
    },
    {
     "name": "stdout",
     "output_type": "stream",
     "text": [
      "[STRESS] ✅ Found: {'rho': 107.00362552420954, 'sigma_b': 1.9468700270475456, 'd': 1.0443851643692996}\n",
      "Updated Parameter Sets: [{'cv_ratio': 0.5599999999999997, 'sigma_u': 18.0, 'sigma_b': 1.9468700270475456, 'rho': 107.00362552420954, 'd': 1.0443851643692996, 'label': 0}, {'cv_ratio': 0.5599999999999997, 'sigma_u': 9.0, 'sigma_b': 0.9962941077296419, 'rho': 110.98307411395902, 'd': 1.1061277470373247, 'label': 1}]\n",
      "Attempt 1/10\n"
     ]
    },
    {
     "name": "stderr",
     "output_type": "stream",
     "text": [
      "Running Variance Ratio Simulations:  17%|█▋        | 48/290 [00:36<03:10,  1.27it/s]"
     ]
    },
    {
     "name": "stdout",
     "output_type": "stream",
     "text": [
      "[STRESS] ✅ Found: {'rho': 108.93014688044394, 'sigma_b': 1.9093202417267492, 'd': 1.0446490982504752}\n",
      "Updated Parameter Sets: [{'cv_ratio': 0.5699999999999997, 'sigma_u': 18.0, 'sigma_b': 1.9093202417267492, 'rho': 108.93014688044394, 'd': 1.0446490982504752, 'label': 0}, {'cv_ratio': 0.5699999999999997, 'sigma_u': 9.0, 'sigma_b': 0.9962941077296419, 'rho': 110.98307411395902, 'd': 1.1061277470373247, 'label': 1}]\n",
      "Attempt 1/10\n"
     ]
    },
    {
     "name": "stderr",
     "output_type": "stream",
     "text": [
      "Running Variance Ratio Simulations:  17%|█▋        | 49/290 [00:36<02:36,  1.54it/s]"
     ]
    },
    {
     "name": "stdout",
     "output_type": "stream",
     "text": [
      "[STRESS] ✅ Found: {'rho': 110.8559764587086, 'sigma_b': 1.8732057438139555, 'd': 1.0449046546151461}\n",
      "Updated Parameter Sets: [{'cv_ratio': 0.5799999999999997, 'sigma_u': 18.0, 'sigma_b': 1.8732057438139555, 'rho': 110.8559764587086, 'd': 1.0449046546151461, 'label': 0}, {'cv_ratio': 0.5799999999999997, 'sigma_u': 9.0, 'sigma_b': 0.9962941077296419, 'rho': 110.98307411395902, 'd': 1.1061277470373247, 'label': 1}]\n",
      "Attempt 1/10\n"
     ]
    },
    {
     "name": "stderr",
     "output_type": "stream",
     "text": [
      "Running Variance Ratio Simulations:  17%|█▋        | 50/290 [00:36<02:25,  1.64it/s]"
     ]
    },
    {
     "name": "stdout",
     "output_type": "stream",
     "text": [
      "[STRESS] ✅ Found: {'rho': 112.78114912441532, 'sigma_b': 1.8384450948243858, 'd': 1.0451522254791925}\n",
      "Updated Parameter Sets: [{'cv_ratio': 0.5899999999999997, 'sigma_u': 18.0, 'sigma_b': 1.8384450948243858, 'rho': 112.78114912441532, 'd': 1.0451522254791925, 'label': 0}, {'cv_ratio': 0.5899999999999997, 'sigma_u': 9.0, 'sigma_b': 0.9962941077296419, 'rho': 110.98307411395902, 'd': 1.1061277470373247, 'label': 1}]\n",
      "Attempt 1/10\n"
     ]
    },
    {
     "name": "stderr",
     "output_type": "stream",
     "text": [
      "Running Variance Ratio Simulations:  18%|█▊        | 51/290 [00:37<02:26,  1.63it/s]"
     ]
    },
    {
     "name": "stdout",
     "output_type": "stream",
     "text": [
      "[STRESS] ✅ Found: {'rho': 114.70569741820215, 'sigma_b': 1.8049629471675472, 'd': 1.045392178825287}\n",
      "Updated Parameter Sets: [{'cv_ratio': 0.5999999999999998, 'sigma_u': 18.0, 'sigma_b': 1.8049629471675472, 'rho': 114.70569741820215, 'd': 1.045392178825287, 'label': 0}, {'cv_ratio': 0.5999999999999998, 'sigma_u': 9.0, 'sigma_b': 0.9962941077296419, 'rho': 110.98307411395902, 'd': 1.1061277470373247, 'label': 1}]\n",
      "Attempt 1/10\n"
     ]
    },
    {
     "name": "stderr",
     "output_type": "stream",
     "text": [
      "Running Variance Ratio Simulations:  18%|█▊        | 52/290 [00:39<03:23,  1.17it/s]"
     ]
    },
    {
     "name": "stdout",
     "output_type": "stream",
     "text": [
      "[STRESS] ✅ Found: {'rho': 116.62965174406209, 'sigma_b': 1.772689480692723, 'd': 1.0456248604316505}\n",
      "Updated Parameter Sets: [{'cv_ratio': 0.6099999999999998, 'sigma_u': 18.0, 'sigma_b': 1.772689480692723, 'rho': 116.62965174406209, 'd': 1.0456248604316505, 'label': 0}, {'cv_ratio': 0.6099999999999998, 'sigma_u': 9.0, 'sigma_b': 0.9962941077296419, 'rho': 110.98307411395902, 'd': 1.1061277470373247, 'label': 1}]\n",
      "Attempt 1/10\n"
     ]
    },
    {
     "name": "stderr",
     "output_type": "stream",
     "text": [
      "Running Variance Ratio Simulations:  18%|█▊        | 53/290 [00:39<02:55,  1.35it/s]"
     ]
    },
    {
     "name": "stdout",
     "output_type": "stream",
     "text": [
      "[STRESS] ✅ Found: {'rho': 118.55304054723422, 'sigma_b': 1.7415599030762736, 'd': 1.0458505954893693}\n",
      "Updated Parameter Sets: [{'cv_ratio': 0.6199999999999998, 'sigma_u': 18.0, 'sigma_b': 1.7415599030762736, 'rho': 118.55304054723422, 'd': 1.0458505954893693, 'label': 0}, {'cv_ratio': 0.6199999999999998, 'sigma_u': 9.0, 'sigma_b': 0.9962941077296419, 'rho': 110.98307411395902, 'd': 1.1061277470373247, 'label': 1}]\n",
      "Attempt 1/10\n"
     ]
    },
    {
     "name": "stderr",
     "output_type": "stream",
     "text": [
      "Running Variance Ratio Simulations:  19%|█▊        | 54/290 [00:40<02:50,  1.38it/s]"
     ]
    },
    {
     "name": "stdout",
     "output_type": "stream",
     "text": [
      "[STRESS] ✅ Found: {'rho': 120.47589051613238, 'sigma_b': 1.7115140019708286, 'd': 1.04606969013919}\n",
      "Updated Parameter Sets: [{'cv_ratio': 0.6299999999999997, 'sigma_u': 18.0, 'sigma_b': 1.7115140019708286, 'rho': 120.47589051613238, 'd': 1.04606969013919, 'label': 0}, {'cv_ratio': 0.6299999999999997, 'sigma_u': 9.0, 'sigma_b': 0.9962941077296419, 'rho': 110.98307411395902, 'd': 1.1061277470373247, 'label': 1}]\n",
      "Attempt 1/10\n"
     ]
    },
    {
     "name": "stderr",
     "output_type": "stream",
     "text": [
      "Running Variance Ratio Simulations:  19%|█▉        | 55/290 [00:41<03:17,  1.19it/s]"
     ]
    },
    {
     "name": "stdout",
     "output_type": "stream",
     "text": [
      "[STRESS] ✅ Found: {'rho': 122.39822649062432, 'sigma_b': 1.6824957454522464, 'd': 1.0462824328008533}\n",
      "Updated Parameter Sets: [{'cv_ratio': 0.6399999999999997, 'sigma_u': 18.0, 'sigma_b': 1.6824957454522464, 'rho': 122.39822649062432, 'd': 1.0462824328008533, 'label': 0}, {'cv_ratio': 0.6399999999999997, 'sigma_u': 9.0, 'sigma_b': 0.9962941077296419, 'rho': 110.98307411395902, 'd': 1.1061277470373247, 'label': 1}]\n",
      "Attempt 1/10\n"
     ]
    },
    {
     "name": "stderr",
     "output_type": "stream",
     "text": [
      "Running Variance Ratio Simulations:  19%|█▉        | 56/290 [00:41<02:53,  1.35it/s]"
     ]
    },
    {
     "name": "stdout",
     "output_type": "stream",
     "text": [
      "[STRESS] ✅ Found: {'rho': 124.320072057145, 'sigma_b': 1.6544529231215557, 'd': 1.0464890954863149}\n",
      "Updated Parameter Sets: [{'cv_ratio': 0.6499999999999997, 'sigma_u': 18.0, 'sigma_b': 1.6544529231215557, 'rho': 124.320072057145, 'd': 1.0464890954863149, 'label': 0}, {'cv_ratio': 0.6499999999999997, 'sigma_u': 9.0, 'sigma_b': 0.9962941077296419, 'rho': 110.98307411395902, 'd': 1.1061277470373247, 'label': 1}]\n",
      "Attempt 1/10\n"
     ]
    },
    {
     "name": "stderr",
     "output_type": "stream",
     "text": [
      "Running Variance Ratio Simulations:  20%|█▉        | 57/290 [00:42<02:46,  1.40it/s]"
     ]
    },
    {
     "name": "stdout",
     "output_type": "stream",
     "text": [
      "[STRESS] ✅ Found: {'rho': 126.24144920018482, 'sigma_b': 1.6273368242366424, 'd': 1.0466899349012975}\n",
      "Updated Parameter Sets: [{'cv_ratio': 0.6599999999999997, 'sigma_u': 18.0, 'sigma_b': 1.6273368242366424, 'rho': 126.24144920018482, 'd': 1.0466899349012975, 'label': 0}, {'cv_ratio': 0.6599999999999997, 'sigma_u': 9.0, 'sigma_b': 0.9962941077296419, 'rho': 110.98307411395902, 'd': 1.1061277470373247, 'label': 1}]\n",
      "Attempt 1/10\n"
     ]
    },
    {
     "name": "stderr",
     "output_type": "stream",
     "text": [
      "Running Variance Ratio Simulations:  20%|██        | 58/290 [00:43<03:20,  1.16it/s]"
     ]
    },
    {
     "name": "stdout",
     "output_type": "stream",
     "text": [
      "[STRESS] ✅ Found: {'rho': 128.16237863970795, 'sigma_b': 1.601101947671548, 'd': 1.0468851935305874}\n",
      "Updated Parameter Sets: [{'cv_ratio': 0.6699999999999997, 'sigma_u': 18.0, 'sigma_b': 1.601101947671548, 'rho': 128.16237863970795, 'd': 1.0468851935305874, 'label': 0}, {'cv_ratio': 0.6699999999999997, 'sigma_u': 9.0, 'sigma_b': 0.9962941077296419, 'rho': 110.98307411395902, 'd': 1.1061277470373247, 'label': 1}]\n",
      "Attempt 1/10\n"
     ]
    },
    {
     "name": "stderr",
     "output_type": "stream",
     "text": [
      "Running Variance Ratio Simulations:  20%|██        | 59/290 [00:44<03:00,  1.28it/s]"
     ]
    },
    {
     "name": "stdout",
     "output_type": "stream",
     "text": [
      "[STRESS] ✅ Found: {'rho': 130.08287988420582, 'sigma_b': 1.5757057404986106, 'd': 1.0470751005941588}\n",
      "Updated Parameter Sets: [{'cv_ratio': 0.6799999999999997, 'sigma_u': 18.0, 'sigma_b': 1.5757057404986106, 'rho': 130.08287988420582, 'd': 1.0470751005941588, 'label': 0}, {'cv_ratio': 0.6799999999999997, 'sigma_u': 9.0, 'sigma_b': 0.9962941077296419, 'rho': 110.98307411395902, 'd': 1.1061277470373247, 'label': 1}]\n",
      "Attempt 1/10\n"
     ]
    },
    {
     "name": "stderr",
     "output_type": "stream",
     "text": [
      "Running Variance Ratio Simulations:  21%|██        | 60/290 [00:45<03:50,  1.00s/it]"
     ]
    },
    {
     "name": "stdout",
     "output_type": "stream",
     "text": [
      "[STRESS] ✅ Found: {'rho': 132.00297131629972, 'sigma_b': 1.5511083617208978, 'd': 1.047259872944876}\n",
      "Updated Parameter Sets: [{'cv_ratio': 0.6899999999999997, 'sigma_u': 18.0, 'sigma_b': 1.5511083617208978, 'rho': 132.00297131629972, 'd': 1.047259872944876, 'label': 0}, {'cv_ratio': 0.6899999999999997, 'sigma_u': 9.0, 'sigma_b': 0.9962941077296419, 'rho': 110.98307411395902, 'd': 1.1061277470373247, 'label': 1}]\n",
      "Attempt 1/10\n"
     ]
    },
    {
     "name": "stderr",
     "output_type": "stream",
     "text": [
      "Running Variance Ratio Simulations:  21%|██        | 61/290 [00:46<03:24,  1.12it/s]"
     ]
    },
    {
     "name": "stdout",
     "output_type": "stream",
     "text": [
      "[STRESS] ✅ Found: {'rho': 133.92267026930386, 'sigma_b': 1.5272724693000566, 'd': 1.0474397158929685}\n",
      "Updated Parameter Sets: [{'cv_ratio': 0.6999999999999996, 'sigma_u': 18.0, 'sigma_b': 1.5272724693000566, 'rho': 133.92267026930386, 'd': 1.0474397158929685, 'label': 0}, {'cv_ratio': 0.6999999999999996, 'sigma_u': 9.0, 'sigma_b': 0.9962941077296419, 'rho': 110.98307411395902, 'd': 1.1061277470373247, 'label': 1}]\n",
      "Attempt 1/10\n"
     ]
    },
    {
     "name": "stderr",
     "output_type": "stream",
     "text": [
      "Running Variance Ratio Simulations:  21%|██▏       | 62/290 [00:47<03:56,  1.04s/it]"
     ]
    },
    {
     "name": "stdout",
     "output_type": "stream",
     "text": [
      "[STRESS] ✅ Found: {'rho': 135.84199311226584, 'sigma_b': 1.5041630239202737, 'd': 1.0476148239968417}\n",
      "Updated Parameter Sets: [{'cv_ratio': 0.7099999999999996, 'sigma_u': 18.0, 'sigma_b': 1.5041630239202737, 'rho': 135.84199311226584, 'd': 1.0476148239968417, 'label': 0}, {'cv_ratio': 0.7099999999999996, 'sigma_u': 9.0, 'sigma_b': 0.9962941077296419, 'rho': 110.98307411395902, 'd': 1.1061277470373247, 'label': 1}]\n",
      "Attempt 1/10\n"
     ]
    },
    {
     "name": "stderr",
     "output_type": "stream",
     "text": [
      "Running Variance Ratio Simulations:  22%|██▏       | 63/290 [00:48<03:43,  1.02it/s]"
     ]
    },
    {
     "name": "stdout",
     "output_type": "stream",
     "text": [
      "[STRESS] ✅ Found: {'rho': 137.7609553087854, 'sigma_b': 1.48174711712706, 'd': 1.0477853816399125}\n",
      "Updated Parameter Sets: [{'cv_ratio': 0.7199999999999996, 'sigma_u': 18.0, 'sigma_b': 1.48174711712706, 'rho': 137.7609553087854, 'd': 1.0477853816399125, 'label': 0}, {'cv_ratio': 0.7199999999999996, 'sigma_u': 9.0, 'sigma_b': 0.9962941077296419, 'rho': 110.98307411395902, 'd': 1.1061277470373247, 'label': 1}]\n",
      "Attempt 1/10\n"
     ]
    },
    {
     "name": "stderr",
     "output_type": "stream",
     "text": [
      "Running Variance Ratio Simulations:  22%|██▏       | 64/290 [00:49<03:21,  1.12it/s]"
     ]
    },
    {
     "name": "stdout",
     "output_type": "stream",
     "text": [
      "[STRESS] ✅ Found: {'rho': 139.67957147920754, 'sigma_b': 1.4599938077507257, 'd': 1.0479515638267671}\n",
      "Updated Parameter Sets: [{'cv_ratio': 0.7299999999999996, 'sigma_u': 18.0, 'sigma_b': 1.4599938077507257, 'rho': 139.67957147920754, 'd': 1.0479515638267671, 'label': 0}, {'cv_ratio': 0.7299999999999996, 'sigma_u': 9.0, 'sigma_b': 0.9962941077296419, 'rho': 110.98307411395902, 'd': 1.1061277470373247, 'label': 1}]\n",
      "Attempt 1/10\n"
     ]
    },
    {
     "name": "stderr",
     "output_type": "stream",
     "text": [
      "Running Variance Ratio Simulations:  22%|██▏       | 65/290 [00:50<03:55,  1.04s/it]"
     ]
    },
    {
     "name": "stdout",
     "output_type": "stream",
     "text": [
      "[STRESS] ✅ Found: {'rho': 141.5978554611565, 'sigma_b': 1.438873977863084, 'd': 1.0481135366944554}\n",
      "Updated Parameter Sets: [{'cv_ratio': 0.7399999999999997, 'sigma_u': 18.0, 'sigma_b': 1.438873977863084, 'rho': 141.5978554611565, 'd': 1.0481135366944554, 'label': 0}, {'cv_ratio': 0.7399999999999997, 'sigma_u': 9.0, 'sigma_b': 0.9962941077296419, 'rho': 110.98307411395902, 'd': 1.1061277470373247, 'label': 1}]\n",
      "Attempt 1/10\n"
     ]
    },
    {
     "name": "stderr",
     "output_type": "stream",
     "text": [
      "Running Variance Ratio Simulations:  23%|██▎       | 66/290 [00:51<03:12,  1.16it/s]"
     ]
    },
    {
     "name": "stdout",
     "output_type": "stream",
     "text": [
      "[STRESS] ✅ Found: {'rho': 143.51582027068764, 'sigma_b': 1.4183602001311049, 'd': 1.0482714580728407}\n",
      "Updated Parameter Sets: [{'cv_ratio': 0.7499999999999997, 'sigma_u': 18.0, 'sigma_b': 1.4183602001311049, 'rho': 143.51582027068764, 'd': 1.0482714580728407, 'label': 0}, {'cv_ratio': 0.7499999999999997, 'sigma_u': 9.0, 'sigma_b': 0.9962941077296419, 'rho': 110.98307411395902, 'd': 1.1061277470373247, 'label': 1}]\n",
      "Attempt 1/10\n"
     ]
    },
    {
     "name": "stderr",
     "output_type": "stream",
     "text": [
      "Running Variance Ratio Simulations:  23%|██▎       | 67/290 [00:51<02:41,  1.38it/s]"
     ]
    },
    {
     "name": "stdout",
     "output_type": "stream",
     "text": [
      "[STRESS] ✅ Found: {'rho': 145.43347858499, 'sigma_b': 1.398426613559889, 'd': 1.0484254780420201}\n",
      "Updated Parameter Sets: [{'cv_ratio': 0.7599999999999997, 'sigma_u': 18.0, 'sigma_b': 1.398426613559889, 'rho': 145.43347858499, 'd': 1.0484254780420201, 'label': 0}, {'cv_ratio': 0.7599999999999997, 'sigma_u': 9.0, 'sigma_b': 0.9962941077296419, 'rho': 110.98307411395902, 'd': 1.1061277470373247, 'label': 1}]\n",
      "Attempt 1/10\n"
     ]
    },
    {
     "name": "stderr",
     "output_type": "stream",
     "text": [
      "Running Variance Ratio Simulations:  23%|██▎       | 68/290 [00:52<02:30,  1.47it/s]"
     ]
    },
    {
     "name": "stdout",
     "output_type": "stream",
     "text": [
      "[STRESS] ✅ Found: {'rho': 147.35084192825755, 'sigma_b': 1.3790488181670189, 'd': 1.0485757393138322}\n",
      "Updated Parameter Sets: [{'cv_ratio': 0.7699999999999997, 'sigma_u': 18.0, 'sigma_b': 1.3790488181670189, 'rho': 147.35084192825755, 'd': 1.0485757393138322, 'label': 0}, {'cv_ratio': 0.7699999999999997, 'sigma_u': 9.0, 'sigma_b': 0.9962941077296419, 'rho': 110.98307411395902, 'd': 1.1061277470373247, 'label': 1}]\n",
      "Attempt 1/10\n"
     ]
    },
    {
     "name": "stderr",
     "output_type": "stream",
     "text": [
      "Running Variance Ratio Simulations:  24%|██▍       | 69/290 [00:53<03:03,  1.20it/s]"
     ]
    },
    {
     "name": "stdout",
     "output_type": "stream",
     "text": [
      "[STRESS] ✅ Found: {'rho': 149.2679215659283, 'sigma_b': 1.3602037675662968, 'd': 1.0487223777645143}\n",
      "Updated Parameter Sets: [{'cv_ratio': 0.7799999999999997, 'sigma_u': 18.0, 'sigma_b': 1.3602037675662968, 'rho': 149.2679215659283, 'd': 1.0487223777645143, 'label': 0}, {'cv_ratio': 0.7799999999999997, 'sigma_u': 9.0, 'sigma_b': 0.9962941077296419, 'rho': 110.98307411395902, 'd': 1.1061277470373247, 'label': 1}]\n",
      "Attempt 1/10\n"
     ]
    },
    {
     "name": "stderr",
     "output_type": "stream",
     "text": [
      "Running Variance Ratio Simulations:  24%|██▍       | 70/290 [00:53<02:48,  1.31it/s]"
     ]
    },
    {
     "name": "stdout",
     "output_type": "stream",
     "text": [
      "[STRESS] ✅ Found: {'rho': 151.1847281167824, 'sigma_b': 1.3418696785579007, 'd': 1.0488655227910748}\n",
      "Updated Parameter Sets: [{'cv_ratio': 0.7899999999999996, 'sigma_u': 18.0, 'sigma_b': 1.3418696785579007, 'rho': 151.1847281167824, 'd': 1.0488655227910748, 'label': 0}, {'cv_ratio': 0.7899999999999996, 'sigma_u': 9.0, 'sigma_b': 0.9962941077296419, 'rho': 110.98307411395902, 'd': 1.1061277470373247, 'label': 1}]\n",
      "Attempt 1/10\n"
     ]
    },
    {
     "name": "stderr",
     "output_type": "stream",
     "text": [
      "Running Variance Ratio Simulations:  24%|██▍       | 71/290 [00:54<02:25,  1.50it/s]"
     ]
    },
    {
     "name": "stdout",
     "output_type": "stream",
     "text": [
      "[STRESS] ✅ Found: {'rho': 153.10127167763562, 'sigma_b': 1.3240259448421283, 'd': 1.049005297714984}\n",
      "Updated Parameter Sets: [{'cv_ratio': 0.7999999999999996, 'sigma_u': 18.0, 'sigma_b': 1.3240259448421283, 'rho': 153.10127167763562, 'd': 1.049005297714984, 'label': 0}, {'cv_ratio': 0.7999999999999996, 'sigma_u': 9.0, 'sigma_b': 0.9962941077296419, 'rho': 110.98307411395902, 'd': 1.1061277470373247, 'label': 1}]\n",
      "Attempt 1/10\n"
     ]
    },
    {
     "name": "stderr",
     "output_type": "stream",
     "text": [
      "Running Variance Ratio Simulations:  25%|██▍       | 72/290 [00:55<02:28,  1.47it/s]"
     ]
    },
    {
     "name": "stdout",
     "output_type": "stream",
     "text": [
      "[STRESS] ✅ Found: {'rho': 155.01756183929695, 'sigma_b': 1.3066530585120035, 'd': 1.0491418201102987}\n",
      "Updated Parameter Sets: [{'cv_ratio': 0.8099999999999996, 'sigma_u': 18.0, 'sigma_b': 1.3066530585120035, 'rho': 155.01756183929695, 'd': 1.0491418201102987, 'label': 0}, {'cv_ratio': 0.8099999999999996, 'sigma_u': 9.0, 'sigma_b': 0.9962941077296419, 'rho': 110.98307411395902, 'd': 1.1061277470373247, 'label': 1}]\n",
      "Attempt 1/10\n"
     ]
    },
    {
     "name": "stderr",
     "output_type": "stream",
     "text": [
      "Running Variance Ratio Simulations:  25%|██▌       | 73/290 [00:58<05:05,  1.41s/it]"
     ]
    },
    {
     "name": "stdout",
     "output_type": "stream",
     "text": [
      "[STRESS] ✅ Found: {'rho': 156.93360774386616, 'sigma_b': 1.2897325371128643, 'd': 1.0492752021633802}\n",
      "Updated Parameter Sets: [{'cv_ratio': 0.8199999999999996, 'sigma_u': 18.0, 'sigma_b': 1.2897325371128643, 'rho': 156.93360774386616, 'd': 1.0492752021633802, 'label': 0}, {'cv_ratio': 0.8199999999999996, 'sigma_u': 9.0, 'sigma_b': 0.9962941077296419, 'rho': 110.98307411395902, 'd': 1.1061277470373247, 'label': 1}]\n",
      "Attempt 1/10\n"
     ]
    },
    {
     "name": "stderr",
     "output_type": "stream",
     "text": [
      "Running Variance Ratio Simulations:  26%|██▌       | 74/290 [00:58<04:10,  1.16s/it]"
     ]
    },
    {
     "name": "stdout",
     "output_type": "stream",
     "text": [
      "[STRESS] ✅ Found: {'rho': 158.84941808938817, 'sigma_b': 1.2732468573199083, 'd': 1.0494055509561127}\n",
      "Updated Parameter Sets: [{'cv_ratio': 0.8299999999999996, 'sigma_u': 18.0, 'sigma_b': 1.2732468573199083, 'rho': 158.84941808938817, 'd': 1.0494055509561127, 'label': 0}, {'cv_ratio': 0.8299999999999996, 'sigma_u': 9.0, 'sigma_b': 0.9962941077296419, 'rho': 110.98307411395902, 'd': 1.1061277470373247, 'label': 1}]\n",
      "Attempt 1/10\n"
     ]
    },
    {
     "name": "stderr",
     "output_type": "stream",
     "text": [
      "Running Variance Ratio Simulations:  26%|██▌       | 75/290 [00:59<03:29,  1.03it/s]"
     ]
    },
    {
     "name": "stdout",
     "output_type": "stream",
     "text": [
      "[STRESS] ✅ Found: {'rho': 160.76500111834386, 'sigma_b': 1.2571793926446415, 'd': 1.0495329696125753}\n",
      "Updated Parameter Sets: [{'cv_ratio': 0.8399999999999996, 'sigma_u': 18.0, 'sigma_b': 1.2571793926446415, 'rho': 160.76500111834386, 'd': 1.0495329696125753, 'label': 0}, {'cv_ratio': 0.8399999999999996, 'sigma_u': 9.0, 'sigma_b': 0.9962941077296419, 'rho': 110.98307411395902, 'd': 1.1061277470373247, 'label': 1}]\n",
      "Attempt 1/10\n"
     ]
    },
    {
     "name": "stderr",
     "output_type": "stream",
     "text": [
      "Running Variance Ratio Simulations:  26%|██▌       | 76/290 [00:59<03:05,  1.15it/s]"
     ]
    },
    {
     "name": "stdout",
     "output_type": "stream",
     "text": [
      "[STRESS] ✅ Found: {'rho': 162.6803648724408, 'sigma_b': 1.2415143584956778, 'd': 1.0496575532989632}\n",
      "Updated Parameter Sets: [{'cv_ratio': 0.8499999999999996, 'sigma_u': 18.0, 'sigma_b': 1.2415143584956778, 'rho': 162.6803648724408, 'd': 1.0496575532989632, 'label': 0}, {'cv_ratio': 0.8499999999999996, 'sigma_u': 9.0, 'sigma_b': 0.9962941077296419, 'rho': 110.98307411395902, 'd': 1.1061277470373247, 'label': 1}]\n",
      "Attempt 1/10\n"
     ]
    },
    {
     "name": "stderr",
     "output_type": "stream",
     "text": [
      "Running Variance Ratio Simulations:  27%|██▋       | 78/290 [01:01<02:21,  1.50it/s]"
     ]
    },
    {
     "name": "stdout",
     "output_type": "stream",
     "text": [
      "[STRESS] ✅ Found: {'rho': 164.59551674724457, 'sigma_b': 1.2262367557882583, 'd': 1.0497793980104078}\n",
      "Updated Parameter Sets: [{'cv_ratio': 0.8599999999999995, 'sigma_u': 18.0, 'sigma_b': 1.2262367557882583, 'rho': 164.59551674724457, 'd': 1.0497793980104078, 'label': 0}, {'cv_ratio': 0.8599999999999995, 'sigma_u': 9.0, 'sigma_b': 0.9962941077296419, 'rho': 110.98307411395902, 'd': 1.1061277470373247, 'label': 1}]\n",
      "Attempt 1/10\n",
      "[STRESS] ✅ Found: {'rho': 166.5104639933438, 'sigma_b': 1.2113323259631437, 'd': 1.049898592265086}\n",
      "Updated Parameter Sets: [{'cv_ratio': 0.8699999999999996, 'sigma_u': 18.0, 'sigma_b': 1.2113323259631437, 'rho': 166.5104639933438, 'd': 1.049898592265086, 'label': 0}, {'cv_ratio': 0.8699999999999996, 'sigma_u': 9.0, 'sigma_b': 0.9962941077296419, 'rho': 110.98307411395902, 'd': 1.1061277470373247, 'label': 1}]\n",
      "Attempt 1/10\n"
     ]
    },
    {
     "name": "stderr",
     "output_type": "stream",
     "text": [
      "Running Variance Ratio Simulations:  27%|██▋       | 79/290 [01:01<02:17,  1.53it/s]"
     ]
    },
    {
     "name": "stdout",
     "output_type": "stream",
     "text": [
      "[STRESS] ✅ Found: {'rho': 168.42521347466374, 'sigma_b': 1.1967875040998674, 'd': 1.0500152215878016}\n",
      "Updated Parameter Sets: [{'cv_ratio': 0.8799999999999996, 'sigma_u': 18.0, 'sigma_b': 1.1967875040998674, 'rho': 168.42521347466374, 'd': 1.0500152215878016, 'label': 0}, {'cv_ratio': 0.8799999999999996, 'sigma_u': 9.0, 'sigma_b': 0.9962941077296419, 'rho': 110.98307411395902, 'd': 1.1061277470373247, 'label': 1}]\n",
      "Attempt 1/10\n"
     ]
    },
    {
     "name": "stderr",
     "output_type": "stream",
     "text": [
      "Running Variance Ratio Simulations:  28%|██▊       | 80/290 [01:02<02:27,  1.43it/s]"
     ]
    },
    {
     "name": "stdout",
     "output_type": "stream",
     "text": [
      "[STRESS] ✅ Found: {'rho': 170.3397717672226, 'sigma_b': 1.1825893771420712, 'd': 1.0501293678745025}\n",
      "Updated Parameter Sets: [{'cv_ratio': 0.8899999999999996, 'sigma_u': 18.0, 'sigma_b': 1.1825893771420712, 'rho': 170.3397717672226, 'd': 1.0501293678745025, 'label': 0}, {'cv_ratio': 0.8899999999999996, 'sigma_u': 9.0, 'sigma_b': 0.9962941077296419, 'rho': 110.98307411395902, 'd': 1.1061277470373247, 'label': 1}]\n",
      "Attempt 1/10\n"
     ]
    },
    {
     "name": "stderr",
     "output_type": "stream",
     "text": [
      "Running Variance Ratio Simulations:  28%|██▊       | 81/290 [01:03<03:01,  1.15it/s]"
     ]
    },
    {
     "name": "stdout",
     "output_type": "stream",
     "text": [
      "[STRESS] ✅ Found: {'rho': 172.2541451336498, 'sigma_b': 1.1687256451782941, 'd': 1.0502411095679465}\n",
      "Updated Parameter Sets: [{'cv_ratio': 0.8999999999999996, 'sigma_u': 18.0, 'sigma_b': 1.1687256451782941, 'rho': 172.2541451336498, 'd': 1.0502411095679465, 'label': 0}, {'cv_ratio': 0.8999999999999996, 'sigma_u': 9.0, 'sigma_b': 0.9962941077296419, 'rho': 110.98307411395902, 'd': 1.1061277470373247, 'label': 1}]\n",
      "Attempt 1/10\n"
     ]
    },
    {
     "name": "stderr",
     "output_type": "stream",
     "text": [
      "Running Variance Ratio Simulations:  28%|██▊       | 82/290 [01:05<03:40,  1.06s/it]"
     ]
    },
    {
     "name": "stdout",
     "output_type": "stream",
     "text": [
      "[STRESS] ✅ Found: {'rho': 174.16833959137762, 'sigma_b': 1.1551845859516339, 'd': 1.0503505218340596}\n",
      "Updated Parameter Sets: [{'cv_ratio': 0.9099999999999996, 'sigma_u': 18.0, 'sigma_b': 1.1551845859516339, 'rho': 174.16833959137762, 'd': 1.0503505218340596, 'label': 0}, {'cv_ratio': 0.9099999999999996, 'sigma_u': 9.0, 'sigma_b': 0.9962941077296419, 'rho': 110.98307411395902, 'd': 1.1061277470373247, 'label': 1}]\n",
      "Attempt 1/10\n"
     ]
    },
    {
     "name": "stderr",
     "output_type": "stream",
     "text": [
      "Running Variance Ratio Simulations:  29%|██▊       | 83/290 [01:05<02:57,  1.17it/s]"
     ]
    },
    {
     "name": "stdout",
     "output_type": "stream",
     "text": [
      "[STRESS] ✅ Found: {'rho': 176.0823608788201, 'sigma_b': 1.1419550202699842, 'd': 1.0504576767500344}\n",
      "Updated Parameter Sets: [{'cv_ratio': 0.9199999999999996, 'sigma_u': 18.0, 'sigma_b': 1.1419550202699842, 'rho': 176.0823608788201, 'd': 1.0504576767500344, 'label': 0}, {'cv_ratio': 0.9199999999999996, 'sigma_u': 9.0, 'sigma_b': 0.9962941077296419, 'rho': 110.98307411395902, 'd': 1.1061277470373247, 'label': 1}]\n",
      "Attempt 1/10\n"
     ]
    },
    {
     "name": "stderr",
     "output_type": "stream",
     "text": [
      "Running Variance Ratio Simulations:  29%|██▉       | 84/290 [01:06<03:11,  1.08it/s]"
     ]
    },
    {
     "name": "stdout",
     "output_type": "stream",
     "text": [
      "[STRESS] ✅ Found: {'rho': 177.99621450897294, 'sigma_b': 1.129026281365173, 'd': 1.0505626434470685}\n",
      "Updated Parameter Sets: [{'cv_ratio': 0.9299999999999996, 'sigma_u': 18.0, 'sigma_b': 1.129026281365173, 'rho': 177.99621450897294, 'd': 1.0505626434470685, 'label': 0}, {'cv_ratio': 0.9299999999999996, 'sigma_u': 9.0, 'sigma_b': 0.9962941077296419, 'rho': 110.98307411395902, 'd': 1.1061277470373247, 'label': 1}]\n",
      "Attempt 1/10\n"
     ]
    },
    {
     "name": "stderr",
     "output_type": "stream",
     "text": [
      "Running Variance Ratio Simulations:  29%|██▉       | 85/290 [01:08<03:36,  1.05s/it]"
     ]
    },
    {
     "name": "stdout",
     "output_type": "stream",
     "text": [
      "[STRESS] ✅ Found: {'rho': 179.9099057377589, 'sigma_b': 1.116388185764872, 'd': 1.050665488264003}\n",
      "Updated Parameter Sets: [{'cv_ratio': 0.9399999999999996, 'sigma_u': 18.0, 'sigma_b': 1.116388185764872, 'rho': 179.9099057377589, 'd': 1.050665488264003, 'label': 0}, {'cv_ratio': 0.9399999999999996, 'sigma_u': 9.0, 'sigma_b': 0.9962941077296419, 'rho': 110.98307411395902, 'd': 1.1061277470373247, 'label': 1}]\n",
      "Attempt 1/10\n"
     ]
    },
    {
     "name": "stderr",
     "output_type": "stream",
     "text": [
      "Running Variance Ratio Simulations:  30%|██▉       | 86/290 [01:10<05:04,  1.49s/it]"
     ]
    },
    {
     "name": "stdout",
     "output_type": "stream",
     "text": [
      "[STRESS] ✅ Found: {'rho': 181.82343963301844, 'sigma_b': 1.1040310058854026, 'd': 1.0507662748907602}\n",
      "Updated Parameter Sets: [{'cv_ratio': 0.9499999999999995, 'sigma_u': 18.0, 'sigma_b': 1.1040310058854026, 'rho': 181.82343963301844, 'd': 1.0507662748907602, 'label': 0}, {'cv_ratio': 0.9499999999999995, 'sigma_u': 9.0, 'sigma_b': 0.9962941077296419, 'rho': 110.98307411395902, 'd': 1.1061277470373247, 'label': 1}]\n",
      "Attempt 1/10\n"
     ]
    },
    {
     "name": "stderr",
     "output_type": "stream",
     "text": [
      "Running Variance Ratio Simulations:  30%|███       | 87/290 [01:12<05:43,  1.69s/it]"
     ]
    },
    {
     "name": "stdout",
     "output_type": "stream",
     "text": [
      "[STRESS] ✅ Found: {'rho': 183.736821045278, 'sigma_b': 1.0919454457797795, 'd': 1.0508650644764872}\n",
      "Updated Parameter Sets: [{'cv_ratio': 0.9599999999999995, 'sigma_u': 18.0, 'sigma_b': 1.0919454457797795, 'rho': 183.736821045278, 'd': 1.0508650644764872, 'label': 0}, {'cv_ratio': 0.9599999999999995, 'sigma_u': 9.0, 'sigma_b': 0.9962941077296419, 'rho': 110.98307411395902, 'd': 1.1061277470373247, 'label': 1}]\n",
      "Attempt 1/10\n"
     ]
    },
    {
     "name": "stderr",
     "output_type": "stream",
     "text": [
      "Running Variance Ratio Simulations:  30%|███       | 88/290 [01:14<05:58,  1.77s/it]"
     ]
    },
    {
     "name": "stdout",
     "output_type": "stream",
     "text": [
      "[STRESS] ✅ Found: {'rho': 185.65005456375116, 'sigma_b': 1.0801226136416324, 'd': 1.0509619158087005}\n",
      "Updated Parameter Sets: [{'cv_ratio': 0.9699999999999995, 'sigma_u': 18.0, 'sigma_b': 1.0801226136416324, 'rho': 185.65005456375116, 'd': 1.0509619158087005, 'label': 0}, {'cv_ratio': 0.9699999999999995, 'sigma_u': 9.0, 'sigma_b': 0.9962941077296419, 'rho': 110.98307411395902, 'd': 1.1061277470373247, 'label': 1}]\n",
      "Attempt 1/10\n"
     ]
    },
    {
     "name": "stderr",
     "output_type": "stream",
     "text": [
      "Running Variance Ratio Simulations:  31%|███       | 89/290 [01:15<04:40,  1.40s/it]"
     ]
    },
    {
     "name": "stdout",
     "output_type": "stream",
     "text": [
      "[STRESS] ✅ Found: {'rho': 187.56314471249846, 'sigma_b': 1.0685540069178046, 'd': 1.051056885340255}\n",
      "Updated Parameter Sets: [{'cv_ratio': 0.9799999999999995, 'sigma_u': 18.0, 'sigma_b': 1.0685540069178046, 'rho': 187.56314471249846, 'd': 1.051056885340255, 'label': 0}, {'cv_ratio': 0.9799999999999995, 'sigma_u': 9.0, 'sigma_b': 0.9962941077296419, 'rho': 110.98307411395902, 'd': 1.1061277470373247, 'label': 1}]\n",
      "Attempt 1/10\n"
     ]
    },
    {
     "name": "stderr",
     "output_type": "stream",
     "text": [
      "Running Variance Ratio Simulations:  31%|███       | 90/290 [01:15<04:00,  1.20s/it]"
     ]
    },
    {
     "name": "stdout",
     "output_type": "stream",
     "text": [
      "[STRESS] ✅ Found: {'rho': 189.47609573021677, 'sigma_b': 1.0572314845231943, 'd': 1.051150027395077}\n",
      "Updated Parameter Sets: [{'cv_ratio': 0.9899999999999995, 'sigma_u': 18.0, 'sigma_b': 1.0572314845231943, 'rho': 189.47609573021677, 'd': 1.051150027395077, 'label': 0}, {'cv_ratio': 0.9899999999999995, 'sigma_u': 9.0, 'sigma_b': 0.9962941077296419, 'rho': 110.98307411395902, 'd': 1.1061277470373247, 'label': 1}]\n",
      "Attempt 1/10\n"
     ]
    },
    {
     "name": "stderr",
     "output_type": "stream",
     "text": [
      "Running Variance Ratio Simulations:  31%|███▏      | 91/290 [01:16<03:14,  1.02it/s]"
     ]
    },
    {
     "name": "stdout",
     "output_type": "stream",
     "text": [
      "[STRESS] ✅ Found: {'rho': 191.38891174901457, 'sigma_b': 1.0461472510367158, 'd': 1.0512413942122758}\n",
      "Updated Parameter Sets: [{'cv_ratio': 0.9999999999999996, 'sigma_u': 18.0, 'sigma_b': 1.0461472510367158, 'rho': 191.38891174901457, 'd': 1.0512413942122758, 'label': 0}, {'cv_ratio': 0.9999999999999996, 'sigma_u': 9.0, 'sigma_b': 0.9962941077296419, 'rho': 110.98307411395902, 'd': 1.1061277470373247, 'label': 1}]\n",
      "Attempt 1/10\n"
     ]
    },
    {
     "name": "stderr",
     "output_type": "stream",
     "text": [
      "Running Variance Ratio Simulations:  32%|███▏      | 92/290 [01:17<03:29,  1.06s/it]"
     ]
    },
    {
     "name": "stdout",
     "output_type": "stream",
     "text": [
      "[STRESS] ✅ Found: {'rho': 193.30159671303517, 'sigma_b': 1.0352938378386733, 'd': 1.0513310360541839}\n",
      "Updated Parameter Sets: [{'cv_ratio': 1.0099999999999996, 'sigma_u': 18.0, 'sigma_b': 1.0352938378386733, 'rho': 193.30159671303517, 'd': 1.0513310360541839, 'label': 0}, {'cv_ratio': 1.0099999999999996, 'sigma_u': 9.0, 'sigma_b': 0.9962941077296419, 'rho': 110.98307411395902, 'd': 1.1061277470373247, 'label': 1}]\n",
      "Attempt 1/10\n"
     ]
    },
    {
     "name": "stderr",
     "output_type": "stream",
     "text": [
      "Running Variance Ratio Simulations:  32%|███▏      | 93/290 [01:18<02:49,  1.16it/s]"
     ]
    },
    {
     "name": "stdout",
     "output_type": "stream",
     "text": [
      "[STRESS] ✅ Found: {'rho': 195.2141543928292, 'sigma_b': 1.024664085984492, 'd': 1.051419001313163}\n",
      "Updated Parameter Sets: [{'cv_ratio': 1.0199999999999996, 'sigma_u': 18.0, 'sigma_b': 1.024664085984492, 'rho': 195.2141543928292, 'd': 1.051419001313163, 'label': 0}, {'cv_ratio': 1.0199999999999996, 'sigma_u': 9.0, 'sigma_b': 0.9962941077296419, 'rho': 110.98307411395902, 'd': 1.1061277470373247, 'label': 1}]\n",
      "Attempt 1/10\n"
     ]
    },
    {
     "name": "stderr",
     "output_type": "stream",
     "text": [
      "Running Variance Ratio Simulations:  32%|███▏      | 94/290 [01:18<02:29,  1.31it/s]"
     ]
    },
    {
     "name": "stdout",
     "output_type": "stream",
     "text": [
      "[STRESS] ✅ Found: {'rho': 197.12658851448157, 'sigma_b': 1.0142511310124438, 'd': 1.0515053365797071}\n",
      "Updated Parameter Sets: [{'cv_ratio': 1.0299999999999996, 'sigma_u': 18.0, 'sigma_b': 1.0142511310124438, 'rho': 197.12658851448157, 'd': 1.0515053365797071, 'label': 0}, {'cv_ratio': 1.0299999999999996, 'sigma_u': 9.0, 'sigma_b': 0.9962941077296419, 'rho': 110.98307411395902, 'd': 1.1061277470373247, 'label': 1}]\n",
      "Attempt 1/10\n"
     ]
    },
    {
     "name": "stderr",
     "output_type": "stream",
     "text": [
      "Running Variance Ratio Simulations:  33%|███▎      | 95/290 [01:20<03:53,  1.19s/it]"
     ]
    },
    {
     "name": "stdout",
     "output_type": "stream",
     "text": [
      "[STRESS] ✅ Found: {'rho': 199.0389025154855, 'sigma_b': 1.004048386452436, 'd': 1.0515900867436512}\n",
      "Updated Parameter Sets: [{'cv_ratio': 1.0399999999999996, 'sigma_u': 18.0, 'sigma_b': 1.004048386452436, 'rho': 199.0389025154855, 'd': 1.0515900867436512, 'label': 0}, {'cv_ratio': 1.0399999999999996, 'sigma_u': 9.0, 'sigma_b': 0.9962941077296419, 'rho': 110.98307411395902, 'd': 1.1061277470373247, 'label': 1}]\n",
      "Attempt 1/10\n"
     ]
    },
    {
     "name": "stderr",
     "output_type": "stream",
     "text": [
      "Running Variance Ratio Simulations:  33%|███▎      | 96/290 [01:22<04:31,  1.40s/it]"
     ]
    },
    {
     "name": "stdout",
     "output_type": "stream",
     "text": [
      "[STRESS] ✅ Found: {'rho': 200.951099800882, 'sigma_b': 0.9940495312938865, 'd': 1.0516732950542935}\n",
      "Updated Parameter Sets: [{'cv_ratio': 1.0499999999999996, 'sigma_u': 18.0, 'sigma_b': 0.9940495312938865, 'rho': 200.951099800882, 'd': 1.0516732950542935, 'label': 0}, {'cv_ratio': 1.0499999999999996, 'sigma_u': 9.0, 'sigma_b': 0.9962941077296419, 'rho': 110.98307411395902, 'd': 1.1061277470373247, 'label': 1}]\n",
      "Attempt 1/10\n"
     ]
    },
    {
     "name": "stderr",
     "output_type": "stream",
     "text": [
      "Running Variance Ratio Simulations:  33%|███▎      | 97/290 [01:23<03:33,  1.11s/it]"
     ]
    },
    {
     "name": "stdout",
     "output_type": "stream",
     "text": [
      "[STRESS] ✅ Found: {'rho': 202.86318362561457, 'sigma_b': 0.9842484960054503, 'd': 1.05175500320586}\n",
      "Updated Parameter Sets: [{'cv_ratio': 1.0599999999999996, 'sigma_u': 18.0, 'sigma_b': 0.9842484960054503, 'rho': 202.86318362561457, 'd': 1.05175500320586, 'label': 0}, {'cv_ratio': 1.0599999999999996, 'sigma_u': 9.0, 'sigma_b': 0.9962941077296419, 'rho': 110.98307411395902, 'd': 1.1061277470373247, 'label': 1}]\n",
      "Attempt 1/10\n"
     ]
    },
    {
     "name": "stderr",
     "output_type": "stream",
     "text": [
      "Running Variance Ratio Simulations:  34%|███▍      | 98/290 [01:24<03:31,  1.10s/it]"
     ]
    },
    {
     "name": "stdout",
     "output_type": "stream",
     "text": [
      "[STRESS] ✅ Found: {'rho': 204.77515712102752, 'sigma_b': 0.9746394502154164, 'd': 1.051835251400008}\n",
      "Updated Parameter Sets: [{'cv_ratio': 1.0699999999999996, 'sigma_u': 18.0, 'sigma_b': 0.9746394502154164, 'rho': 204.77515712102752, 'd': 1.051835251400008, 'label': 0}, {'cv_ratio': 1.0699999999999996, 'sigma_u': 9.0, 'sigma_b': 0.9962941077296419, 'rho': 110.98307411395902, 'd': 1.1061277470373247, 'label': 1}]\n",
      "Attempt 1/10\n"
     ]
    },
    {
     "name": "stderr",
     "output_type": "stream",
     "text": [
      "Running Variance Ratio Simulations:  34%|███▍      | 99/290 [01:25<03:34,  1.12s/it]"
     ]
    },
    {
     "name": "stdout",
     "output_type": "stream",
     "text": [
      "[STRESS] ✅ Found: {'rho': 206.68702330468852, 'sigma_b': 0.9652167912638305, 'd': 1.051914078420982}\n",
      "Updated Parameter Sets: [{'cv_ratio': 1.0799999999999996, 'sigma_u': 18.0, 'sigma_b': 0.9652167912638305, 'rho': 206.68702330468852, 'd': 1.051914078420982, 'label': 0}, {'cv_ratio': 1.0799999999999996, 'sigma_u': 9.0, 'sigma_b': 0.9962941077296419, 'rho': 110.98307411395902, 'd': 1.1061277470373247, 'label': 1}]\n",
      "Attempt 1/10\n"
     ]
    },
    {
     "name": "stderr",
     "output_type": "stream",
     "text": [
      "Running Variance Ratio Simulations:  34%|███▍      | 100/290 [01:25<02:53,  1.09it/s]"
     ]
    },
    {
     "name": "stdout",
     "output_type": "stream",
     "text": [
      "[STRESS] ✅ Found: {'rho': 208.59878509265357, 'sigma_b': 0.9559751326316136, 'd': 1.0519915216839804}\n",
      "Updated Parameter Sets: [{'cv_ratio': 1.0899999999999996, 'sigma_u': 18.0, 'sigma_b': 0.9559751326316136, 'rho': 208.59878509265357, 'd': 1.0519915216839804, 'label': 0}, {'cv_ratio': 1.0899999999999996, 'sigma_u': 9.0, 'sigma_b': 0.9962941077296419, 'rho': 110.98307411395902, 'd': 1.1061277470373247, 'label': 1}]\n",
      "Attempt 1/10\n"
     ]
    },
    {
     "name": "stderr",
     "output_type": "stream",
     "text": [
      "Running Variance Ratio Simulations:  35%|███▍      | 101/290 [01:27<03:25,  1.09s/it]"
     ]
    },
    {
     "name": "stdout",
     "output_type": "stream",
     "text": [
      "[STRESS] ✅ Found: {'rho': 210.51044528787457, 'sigma_b': 0.9469092941669953, 'd': 1.0520676172815597}\n",
      "Updated Parameter Sets: [{'cv_ratio': 1.0999999999999996, 'sigma_u': 18.0, 'sigma_b': 0.9469092941669953, 'rho': 210.51044528787457, 'd': 1.0520676172815597, 'label': 0}, {'cv_ratio': 1.0999999999999996, 'sigma_u': 9.0, 'sigma_b': 0.9962941077296419, 'rho': 110.98307411395902, 'd': 1.1061277470373247, 'label': 1}]\n",
      "Attempt 1/10\n"
     ]
    },
    {
     "name": "stderr",
     "output_type": "stream",
     "text": [
      "/home/ianyang/stochastic_simulations/src/simulation/mean_var_autocorr_v1.py:311: RuntimeWarning: The iteration is not making good progress, as measured by the \n",
      " improvement from the last five Jacobian evaluations.\n",
      "  solution = fsolve(\n",
      "Running Variance Ratio Simulations:  35%|███▌      | 102/290 [01:28<03:30,  1.12s/it]"
     ]
    },
    {
     "name": "stdout",
     "output_type": "stream",
     "text": [
      "[STRESS] ✅ Found: {'rho': 212.42200662242342, 'sigma_b': 0.9380142918306235, 'd': 1.0521424001737212}\n",
      "Updated Parameter Sets: [{'cv_ratio': 1.1099999999999997, 'sigma_u': 18.0, 'sigma_b': 0.9380142918306235, 'rho': 212.42200662242342, 'd': 1.0521424001737212, 'label': 0}, {'cv_ratio': 1.1099999999999997, 'sigma_u': 9.0, 'sigma_b': 0.9962941077296419, 'rho': 110.98307411395902, 'd': 1.1061277470373247, 'label': 1}]\n",
      "Attempt 1/10\n"
     ]
    },
    {
     "name": "stderr",
     "output_type": "stream",
     "text": [
      "Running Variance Ratio Simulations:  36%|███▌      | 103/290 [01:29<03:02,  1.02it/s]"
     ]
    },
    {
     "name": "stdout",
     "output_type": "stream",
     "text": [
      "[STRESS] ✅ Found: {'rho': 214.33347161449157, 'sigma_b': 0.9292853291977167, 'd': 1.0522159039208012}\n",
      "Updated Parameter Sets: [{'cv_ratio': 1.1199999999999997, 'sigma_u': 18.0, 'sigma_b': 0.9292853291977167, 'rho': 214.33347161449157, 'd': 1.0522159039208012, 'label': 0}, {'cv_ratio': 1.1199999999999997, 'sigma_u': 9.0, 'sigma_b': 0.9962941077296419, 'rho': 110.98307411395902, 'd': 1.1061277470373247, 'label': 1}]\n",
      "Attempt 1/10\n"
     ]
    },
    {
     "name": "stderr",
     "output_type": "stream",
     "text": [
      "Running Variance Ratio Simulations:  36%|███▌      | 103/290 [01:31<02:46,  1.13it/s]\n"
     ]
    },
    {
     "ename": "KeyboardInterrupt",
     "evalue": "",
     "output_type": "error",
     "traceback": [
      "\u001b[0;31m---------------------------------------------------------------------------\u001b[0m",
      "\u001b[0;31mKeyboardInterrupt\u001b[0m                         Traceback (most recent call last)",
      "Cell \u001b[0;32mIn[3], line 36\u001b[0m\n\u001b[1;32m     33\u001b[0m variance_target_stress \u001b[38;5;241m=\u001b[39m ratio \u001b[38;5;241m*\u001b[39m variance_target_normal\n\u001b[1;32m     35\u001b[0m \u001b[38;5;66;03m# Only compute for stress condition\u001b[39;00m\n\u001b[0;32m---> 36\u001b[0m rho_stress, sigma_b_stress, d_stress \u001b[38;5;241m=\u001b[39m \u001b[43mfind_parameters\u001b[49m\u001b[43m(\u001b[49m\n\u001b[1;32m     37\u001b[0m \u001b[43m    \u001b[49m\u001b[43mparameters\u001b[49m\u001b[43m[\u001b[49m\u001b[38;5;124;43m\"\u001b[39;49m\u001b[38;5;124;43mstress\u001b[39;49m\u001b[38;5;124;43m\"\u001b[39;49m\u001b[43m]\u001b[49m\u001b[43m,\u001b[49m\u001b[43m \u001b[49m\u001b[43mmu_target\u001b[49m\u001b[43m,\u001b[49m\u001b[43m \u001b[49m\u001b[43mvariance_target\u001b[49m\u001b[38;5;241;43m=\u001b[39;49m\u001b[43mvariance_target_stress\u001b[49m\u001b[43m,\u001b[49m\u001b[43m \u001b[49m\u001b[43mautocorr_target\u001b[49m\u001b[38;5;241;43m=\u001b[39;49m\u001b[43mautocorr_target\u001b[49m\n\u001b[1;32m     38\u001b[0m \u001b[43m\u001b[49m\u001b[43m)\u001b[49m\n\u001b[1;32m     39\u001b[0m stress_results \u001b[38;5;241m=\u001b[39m {\u001b[38;5;124m\"\u001b[39m\u001b[38;5;124mrho\u001b[39m\u001b[38;5;124m\"\u001b[39m: rho_stress, \u001b[38;5;124m\"\u001b[39m\u001b[38;5;124msigma_b\u001b[39m\u001b[38;5;124m\"\u001b[39m: sigma_b_stress, \u001b[38;5;124m\"\u001b[39m\u001b[38;5;124md\u001b[39m\u001b[38;5;124m\"\u001b[39m: d_stress}\n\u001b[1;32m     40\u001b[0m \u001b[38;5;28mprint\u001b[39m(\u001b[38;5;124mf\u001b[39m\u001b[38;5;124m\"\u001b[39m\u001b[38;5;124m[STRESS] ✅ Found: \u001b[39m\u001b[38;5;132;01m{\u001b[39;00mstress_results\u001b[38;5;132;01m}\u001b[39;00m\u001b[38;5;124m\"\u001b[39m)\n",
      "File \u001b[0;32m~/stochastic_simulations/src/simulation/mean_var_autocorr_v1.py:311\u001b[0m, in \u001b[0;36mfind_parameters\u001b[0;34m(parameter_set, mu_target, variance_target, autocorr_target, cv_target, fano_factor_target, rho_range, sigma_b_range, d_range, num_guesses, check_biological, max_fano_factor, max_cv)\u001b[0m\n\u001b[1;32m    309\u001b[0m \u001b[38;5;28;01mfor\u001b[39;00m initial_guess \u001b[38;5;129;01min\u001b[39;00m initial_guesses:\n\u001b[1;32m    310\u001b[0m     \u001b[38;5;28;01mtry\u001b[39;00m:\n\u001b[0;32m--> 311\u001b[0m         solution \u001b[38;5;241m=\u001b[39m \u001b[43mfsolve\u001b[49m\u001b[43m(\u001b[49m\n\u001b[1;32m    312\u001b[0m \u001b[43m            \u001b[49m\u001b[43mequations\u001b[49m\u001b[43m,\u001b[49m\u001b[43m \u001b[49m\u001b[43minitial_guess\u001b[49m\u001b[43m,\u001b[49m\n\u001b[1;32m    313\u001b[0m \u001b[43m            \u001b[49m\u001b[43margs\u001b[49m\u001b[38;5;241;43m=\u001b[39;49m\u001b[43m(\u001b[49m\u001b[43msigma_u_val\u001b[49m\u001b[43m,\u001b[49m\u001b[43m \u001b[49m\u001b[43mmu_target\u001b[49m\u001b[43m,\u001b[49m\u001b[43m \u001b[49m\u001b[43mvariance_target\u001b[49m\u001b[43m,\u001b[49m\u001b[43m \u001b[49m\u001b[43mautocorr_target\u001b[49m\u001b[43m,\u001b[49m\u001b[43m \u001b[49m\u001b[43mcv_target\u001b[49m\u001b[43m,\u001b[49m\u001b[43m \u001b[49m\u001b[43mfano_factor_target\u001b[49m\u001b[43m)\u001b[49m\u001b[43m,\u001b[49m\n\u001b[1;32m    314\u001b[0m \u001b[43m            \u001b[49m\u001b[43mfprime\u001b[49m\u001b[38;5;241;43m=\u001b[39;49m\u001b[43mjacobian\u001b[49m\u001b[43m,\u001b[49m\u001b[43m  \u001b[49m\u001b[38;5;66;43;03m# Always use the main jacobian function\u001b[39;49;00m\n\u001b[1;32m    315\u001b[0m \u001b[43m            \u001b[49m\u001b[43mxtol\u001b[49m\u001b[38;5;241;43m=\u001b[39;49m\u001b[38;5;241;43m1e-8\u001b[39;49m\n\u001b[1;32m    316\u001b[0m \u001b[43m        \u001b[49m\u001b[43m)\u001b[49m\n\u001b[1;32m    318\u001b[0m         residuals \u001b[38;5;241m=\u001b[39m equations(solution, sigma_u_val, mu_target, variance_target, autocorr_target, cv_target, fano_factor_target)\n\u001b[1;32m    319\u001b[0m         residuals \u001b[38;5;241m=\u001b[39m np\u001b[38;5;241m.\u001b[39mabs(residuals)\n",
      "File \u001b[0;32m~/stochastic_simulations/micromamba/envs/stochastic_sim/lib/python3.11/site-packages/scipy/optimize/_minpack_py.py:170\u001b[0m, in \u001b[0;36mfsolve\u001b[0;34m(func, x0, args, fprime, full_output, col_deriv, xtol, maxfev, band, epsfcn, factor, diag)\u001b[0m\n\u001b[1;32m    160\u001b[0m _wrapped_func\u001b[38;5;241m.\u001b[39mnfev \u001b[38;5;241m=\u001b[39m \u001b[38;5;241m0\u001b[39m\n\u001b[1;32m    162\u001b[0m options \u001b[38;5;241m=\u001b[39m {\u001b[38;5;124m'\u001b[39m\u001b[38;5;124mcol_deriv\u001b[39m\u001b[38;5;124m'\u001b[39m: col_deriv,\n\u001b[1;32m    163\u001b[0m            \u001b[38;5;124m'\u001b[39m\u001b[38;5;124mxtol\u001b[39m\u001b[38;5;124m'\u001b[39m: xtol,\n\u001b[1;32m    164\u001b[0m            \u001b[38;5;124m'\u001b[39m\u001b[38;5;124mmaxfev\u001b[39m\u001b[38;5;124m'\u001b[39m: maxfev,\n\u001b[0;32m   (...)\u001b[0m\n\u001b[1;32m    167\u001b[0m            \u001b[38;5;124m'\u001b[39m\u001b[38;5;124mfactor\u001b[39m\u001b[38;5;124m'\u001b[39m: factor,\n\u001b[1;32m    168\u001b[0m            \u001b[38;5;124m'\u001b[39m\u001b[38;5;124mdiag\u001b[39m\u001b[38;5;124m'\u001b[39m: diag}\n\u001b[0;32m--> 170\u001b[0m res \u001b[38;5;241m=\u001b[39m \u001b[43m_root_hybr\u001b[49m\u001b[43m(\u001b[49m\u001b[43m_wrapped_func\u001b[49m\u001b[43m,\u001b[49m\u001b[43m \u001b[49m\u001b[43mx0\u001b[49m\u001b[43m,\u001b[49m\u001b[43m \u001b[49m\u001b[43margs\u001b[49m\u001b[43m,\u001b[49m\u001b[43m \u001b[49m\u001b[43mjac\u001b[49m\u001b[38;5;241;43m=\u001b[39;49m\u001b[43mfprime\u001b[49m\u001b[43m,\u001b[49m\u001b[43m \u001b[49m\u001b[38;5;241;43m*\u001b[39;49m\u001b[38;5;241;43m*\u001b[39;49m\u001b[43moptions\u001b[49m\u001b[43m)\u001b[49m\n\u001b[1;32m    171\u001b[0m res\u001b[38;5;241m.\u001b[39mnfev \u001b[38;5;241m=\u001b[39m _wrapped_func\u001b[38;5;241m.\u001b[39mnfev\n\u001b[1;32m    173\u001b[0m \u001b[38;5;28;01mif\u001b[39;00m full_output:\n",
      "File \u001b[0;32m~/stochastic_simulations/micromamba/envs/stochastic_sim/lib/python3.11/site-packages/scipy/optimize/_minpack_py.py:255\u001b[0m, in \u001b[0;36m_root_hybr\u001b[0;34m(func, x0, args, jac, col_deriv, xtol, maxfev, band, eps, factor, diag, **unknown_options)\u001b[0m\n\u001b[1;32m    253\u001b[0m     \u001b[38;5;28;01mif\u001b[39;00m (maxfev \u001b[38;5;241m==\u001b[39m \u001b[38;5;241m0\u001b[39m):\n\u001b[1;32m    254\u001b[0m         maxfev \u001b[38;5;241m=\u001b[39m \u001b[38;5;241m100\u001b[39m \u001b[38;5;241m*\u001b[39m (n \u001b[38;5;241m+\u001b[39m \u001b[38;5;241m1\u001b[39m)\n\u001b[0;32m--> 255\u001b[0m     retval \u001b[38;5;241m=\u001b[39m \u001b[43m_minpack\u001b[49m\u001b[38;5;241;43m.\u001b[39;49m\u001b[43m_hybrj\u001b[49m\u001b[43m(\u001b[49m\u001b[43mfunc\u001b[49m\u001b[43m,\u001b[49m\u001b[43m \u001b[49m\u001b[43mDfun\u001b[49m\u001b[43m,\u001b[49m\u001b[43m \u001b[49m\u001b[43mx0\u001b[49m\u001b[43m,\u001b[49m\u001b[43m \u001b[49m\u001b[43margs\u001b[49m\u001b[43m,\u001b[49m\u001b[43m \u001b[49m\u001b[38;5;241;43m1\u001b[39;49m\u001b[43m,\u001b[49m\n\u001b[1;32m    256\u001b[0m \u001b[43m                             \u001b[49m\u001b[43mcol_deriv\u001b[49m\u001b[43m,\u001b[49m\u001b[43m \u001b[49m\u001b[43mxtol\u001b[49m\u001b[43m,\u001b[49m\u001b[43m \u001b[49m\u001b[43mmaxfev\u001b[49m\u001b[43m,\u001b[49m\u001b[43m \u001b[49m\u001b[43mfactor\u001b[49m\u001b[43m,\u001b[49m\u001b[43m \u001b[49m\u001b[43mdiag\u001b[49m\u001b[43m)\u001b[49m\n\u001b[1;32m    258\u001b[0m x, status \u001b[38;5;241m=\u001b[39m retval[\u001b[38;5;241m0\u001b[39m], retval[\u001b[38;5;241m-\u001b[39m\u001b[38;5;241m1\u001b[39m]\n\u001b[1;32m    260\u001b[0m errors \u001b[38;5;241m=\u001b[39m {\u001b[38;5;241m0\u001b[39m: \u001b[38;5;124m\"\u001b[39m\u001b[38;5;124mImproper input parameters were entered.\u001b[39m\u001b[38;5;124m\"\u001b[39m,\n\u001b[1;32m    261\u001b[0m           \u001b[38;5;241m1\u001b[39m: \u001b[38;5;124m\"\u001b[39m\u001b[38;5;124mThe solution converged.\u001b[39m\u001b[38;5;124m\"\u001b[39m,\n\u001b[1;32m    262\u001b[0m           \u001b[38;5;241m2\u001b[39m: \u001b[38;5;124m\"\u001b[39m\u001b[38;5;124mThe number of calls to function has \u001b[39m\u001b[38;5;124m\"\u001b[39m\n\u001b[0;32m   (...)\u001b[0m\n\u001b[1;32m    271\u001b[0m               \u001b[38;5;124m\"\u001b[39m\u001b[38;5;124mten iterations.\u001b[39m\u001b[38;5;124m\"\u001b[39m,\n\u001b[1;32m    272\u001b[0m           \u001b[38;5;124m'\u001b[39m\u001b[38;5;124munknown\u001b[39m\u001b[38;5;124m'\u001b[39m: \u001b[38;5;124m\"\u001b[39m\u001b[38;5;124mAn error occurred.\u001b[39m\u001b[38;5;124m\"\u001b[39m}\n",
      "File \u001b[0;32m~/stochastic_simulations/src/simulation/mean_var_autocorr_v1.py:104\u001b[0m, in \u001b[0;36mjacobian\u001b[0;34m(vars, sigma_u, mu_target, variance_target, autocorr_target, cv_target, fano_factor_target)\u001b[0m\n\u001b[1;32m    102\u001b[0m J \u001b[38;5;241m=\u001b[39m sp\u001b[38;5;241m.\u001b[39mMatrix(eqs)\u001b[38;5;241m.\u001b[39mjacobian([rho_sym, sigma_b_sym, d_sym])\n\u001b[1;32m    103\u001b[0m \u001b[38;5;66;03m# and then convert it to a numpy array for numerical evaluation\u001b[39;00m\n\u001b[0;32m--> 104\u001b[0m J_func \u001b[38;5;241m=\u001b[39m \u001b[43msp\u001b[49m\u001b[38;5;241;43m.\u001b[39;49m\u001b[43mlambdify\u001b[49m\u001b[43m(\u001b[49m\u001b[43m(\u001b[49m\u001b[43mrho_sym\u001b[49m\u001b[43m,\u001b[49m\u001b[43m \u001b[49m\u001b[43msigma_b_sym\u001b[49m\u001b[43m,\u001b[49m\u001b[43m \u001b[49m\u001b[43md_sym\u001b[49m\u001b[43m)\u001b[49m\u001b[43m,\u001b[49m\u001b[43m \u001b[49m\u001b[43mJ\u001b[49m\u001b[43m,\u001b[49m\u001b[43m \u001b[49m\u001b[38;5;124;43m\"\u001b[39;49m\u001b[38;5;124;43mnumpy\u001b[39;49m\u001b[38;5;124;43m\"\u001b[39;49m\u001b[43m)\u001b[49m\n\u001b[1;32m    106\u001b[0m \u001b[38;5;66;03m# Evaluate the Jacobian at the given point\u001b[39;00m\n\u001b[1;32m    107\u001b[0m \u001b[38;5;28;01mreturn\u001b[39;00m np\u001b[38;5;241m.\u001b[39marray(J_func(rho_val, sigma_b_val, d_val))\u001b[38;5;241m.\u001b[39mastype(np\u001b[38;5;241m.\u001b[39mfloat64)\n",
      "File \u001b[0;32m~/stochastic_simulations/micromamba/envs/stochastic_sim/lib/python3.11/site-packages/sympy/utilities/lambdify.py:919\u001b[0m, in \u001b[0;36mlambdify\u001b[0;34m(args, expr, modules, printer, use_imps, dummify, cse, docstring_limit)\u001b[0m\n\u001b[1;32m    917\u001b[0m     src_str \u001b[38;5;241m=\u001b[39m \u001b[38;5;124m\"\u001b[39m\u001b[38;5;124mSOURCE CODE REDACTED DUE TO LENGTH, (see lambdify\u001b[39m\u001b[38;5;124m'\u001b[39m\u001b[38;5;124ms `docstring_limit`)\u001b[39m\u001b[38;5;124m\"\u001b[39m\n\u001b[1;32m    918\u001b[0m \u001b[38;5;28;01melse\u001b[39;00m:\n\u001b[0;32m--> 919\u001b[0m     expr_str \u001b[38;5;241m=\u001b[39m \u001b[38;5;28mstr\u001b[39m(expr)\n\u001b[1;32m    920\u001b[0m     \u001b[38;5;28;01mif\u001b[39;00m \u001b[38;5;28mlen\u001b[39m(expr_str) \u001b[38;5;241m>\u001b[39m \u001b[38;5;241m78\u001b[39m:\n\u001b[1;32m    921\u001b[0m         expr_str \u001b[38;5;241m=\u001b[39m textwrap\u001b[38;5;241m.\u001b[39mwrap(expr_str, \u001b[38;5;241m75\u001b[39m)[\u001b[38;5;241m0\u001b[39m] \u001b[38;5;241m+\u001b[39m \u001b[38;5;124m'\u001b[39m\u001b[38;5;124m...\u001b[39m\u001b[38;5;124m'\u001b[39m\n",
      "File \u001b[0;32m~/stochastic_simulations/micromamba/envs/stochastic_sim/lib/python3.11/site-packages/sympy/matrices/matrixbase.py:3727\u001b[0m, in \u001b[0;36mMatrixBase.__str__\u001b[0;34m(self)\u001b[0m\n\u001b[1;32m   3725\u001b[0m \u001b[38;5;28;01mif\u001b[39;00m S\u001b[38;5;241m.\u001b[39mZero \u001b[38;5;129;01min\u001b[39;00m \u001b[38;5;28mself\u001b[39m\u001b[38;5;241m.\u001b[39mshape:\n\u001b[1;32m   3726\u001b[0m     \u001b[38;5;28;01mreturn\u001b[39;00m \u001b[38;5;124m'\u001b[39m\u001b[38;5;124mMatrix(\u001b[39m\u001b[38;5;132;01m%s\u001b[39;00m\u001b[38;5;124m, \u001b[39m\u001b[38;5;132;01m%s\u001b[39;00m\u001b[38;5;124m, [])\u001b[39m\u001b[38;5;124m'\u001b[39m \u001b[38;5;241m%\u001b[39m (\u001b[38;5;28mself\u001b[39m\u001b[38;5;241m.\u001b[39mrows, \u001b[38;5;28mself\u001b[39m\u001b[38;5;241m.\u001b[39mcols)\n\u001b[0;32m-> 3727\u001b[0m \u001b[38;5;28;01mreturn\u001b[39;00m \u001b[38;5;124m\"\u001b[39m\u001b[38;5;124mMatrix(\u001b[39m\u001b[38;5;132;01m%s\u001b[39;00m\u001b[38;5;124m)\u001b[39m\u001b[38;5;124m\"\u001b[39m \u001b[38;5;241m%\u001b[39m \u001b[38;5;28mstr\u001b[39m(\u001b[38;5;28mself\u001b[39m\u001b[38;5;241m.\u001b[39mtolist())\n",
      "File \u001b[0;32m~/stochastic_simulations/micromamba/envs/stochastic_sim/lib/python3.11/site-packages/sympy/core/_print_helpers.py:29\u001b[0m, in \u001b[0;36mPrintable.__str__\u001b[0;34m(self)\u001b[0m\n\u001b[1;32m     27\u001b[0m \u001b[38;5;28;01mdef\u001b[39;00m\u001b[38;5;250m \u001b[39m\u001b[38;5;21m__str__\u001b[39m(\u001b[38;5;28mself\u001b[39m):\n\u001b[1;32m     28\u001b[0m     \u001b[38;5;28;01mfrom\u001b[39;00m\u001b[38;5;250m \u001b[39m\u001b[38;5;21;01msympy\u001b[39;00m\u001b[38;5;21;01m.\u001b[39;00m\u001b[38;5;21;01mprinting\u001b[39;00m\u001b[38;5;21;01m.\u001b[39;00m\u001b[38;5;21;01mstr\u001b[39;00m\u001b[38;5;250m \u001b[39m\u001b[38;5;28;01mimport\u001b[39;00m sstr\n\u001b[0;32m---> 29\u001b[0m     \u001b[38;5;28;01mreturn\u001b[39;00m \u001b[43msstr\u001b[49m\u001b[43m(\u001b[49m\u001b[38;5;28;43mself\u001b[39;49m\u001b[43m,\u001b[49m\u001b[43m \u001b[49m\u001b[43morder\u001b[49m\u001b[38;5;241;43m=\u001b[39;49m\u001b[38;5;28;43;01mNone\u001b[39;49;00m\u001b[43m)\u001b[49m\n",
      "File \u001b[0;32m~/stochastic_simulations/micromamba/envs/stochastic_sim/lib/python3.11/site-packages/sympy/printing/printer.py:372\u001b[0m, in \u001b[0;36m_PrintFunction.__call__\u001b[0;34m(self, *args, **kwargs)\u001b[0m\n\u001b[1;32m    371\u001b[0m \u001b[38;5;28;01mdef\u001b[39;00m\u001b[38;5;250m \u001b[39m\u001b[38;5;21m__call__\u001b[39m(\u001b[38;5;28mself\u001b[39m, \u001b[38;5;241m*\u001b[39margs, \u001b[38;5;241m*\u001b[39m\u001b[38;5;241m*\u001b[39mkwargs):\n\u001b[0;32m--> 372\u001b[0m     \u001b[38;5;28;01mreturn\u001b[39;00m \u001b[38;5;28;43mself\u001b[39;49m\u001b[38;5;241;43m.\u001b[39;49m\u001b[43m__wrapped__\u001b[49m\u001b[43m(\u001b[49m\u001b[38;5;241;43m*\u001b[39;49m\u001b[43margs\u001b[49m\u001b[43m,\u001b[49m\u001b[43m \u001b[49m\u001b[38;5;241;43m*\u001b[39;49m\u001b[38;5;241;43m*\u001b[39;49m\u001b[43mkwargs\u001b[49m\u001b[43m)\u001b[49m\n",
      "File \u001b[0;32m~/stochastic_simulations/micromamba/envs/stochastic_sim/lib/python3.11/site-packages/sympy/printing/str.py:995\u001b[0m, in \u001b[0;36msstr\u001b[0;34m(expr, **settings)\u001b[0m\n\u001b[1;32m    979\u001b[0m \u001b[38;5;250m\u001b[39m\u001b[38;5;124;03m\"\"\"Returns the expression as a string.\u001b[39;00m\n\u001b[1;32m    980\u001b[0m \n\u001b[1;32m    981\u001b[0m \u001b[38;5;124;03mFor large expressions where speed is a concern, use the setting\u001b[39;00m\n\u001b[0;32m   (...)\u001b[0m\n\u001b[1;32m    991\u001b[0m \u001b[38;5;124;03m'Eq(a + b, 0)'\u001b[39;00m\n\u001b[1;32m    992\u001b[0m \u001b[38;5;124;03m\"\"\"\u001b[39;00m\n\u001b[1;32m    994\u001b[0m p \u001b[38;5;241m=\u001b[39m StrPrinter(settings)\n\u001b[0;32m--> 995\u001b[0m s \u001b[38;5;241m=\u001b[39m \u001b[43mp\u001b[49m\u001b[38;5;241;43m.\u001b[39;49m\u001b[43mdoprint\u001b[49m\u001b[43m(\u001b[49m\u001b[43mexpr\u001b[49m\u001b[43m)\u001b[49m\n\u001b[1;32m    997\u001b[0m \u001b[38;5;28;01mreturn\u001b[39;00m s\n",
      "File \u001b[0;32m~/stochastic_simulations/micromamba/envs/stochastic_sim/lib/python3.11/site-packages/sympy/printing/printer.py:292\u001b[0m, in \u001b[0;36mPrinter.doprint\u001b[0;34m(self, expr)\u001b[0m\n\u001b[1;32m    290\u001b[0m \u001b[38;5;28;01mdef\u001b[39;00m\u001b[38;5;250m \u001b[39m\u001b[38;5;21mdoprint\u001b[39m(\u001b[38;5;28mself\u001b[39m, expr):\n\u001b[1;32m    291\u001b[0m \u001b[38;5;250m    \u001b[39m\u001b[38;5;124;03m\"\"\"Returns printer's representation for expr (as a string)\"\"\"\u001b[39;00m\n\u001b[0;32m--> 292\u001b[0m     \u001b[38;5;28;01mreturn\u001b[39;00m \u001b[38;5;28mself\u001b[39m\u001b[38;5;241m.\u001b[39m_str(\u001b[38;5;28;43mself\u001b[39;49m\u001b[38;5;241;43m.\u001b[39;49m\u001b[43m_print\u001b[49m\u001b[43m(\u001b[49m\u001b[43mexpr\u001b[49m\u001b[43m)\u001b[49m)\n",
      "File \u001b[0;32m~/stochastic_simulations/micromamba/envs/stochastic_sim/lib/python3.11/site-packages/sympy/printing/printer.py:331\u001b[0m, in \u001b[0;36mPrinter._print\u001b[0;34m(self, expr, **kwargs)\u001b[0m\n\u001b[1;32m    329\u001b[0m     printmethod \u001b[38;5;241m=\u001b[39m \u001b[38;5;28mgetattr\u001b[39m(\u001b[38;5;28mself\u001b[39m, printmethodname, \u001b[38;5;28;01mNone\u001b[39;00m)\n\u001b[1;32m    330\u001b[0m     \u001b[38;5;28;01mif\u001b[39;00m printmethod \u001b[38;5;129;01mis\u001b[39;00m \u001b[38;5;129;01mnot\u001b[39;00m \u001b[38;5;28;01mNone\u001b[39;00m:\n\u001b[0;32m--> 331\u001b[0m         \u001b[38;5;28;01mreturn\u001b[39;00m \u001b[43mprintmethod\u001b[49m\u001b[43m(\u001b[49m\u001b[43mexpr\u001b[49m\u001b[43m,\u001b[49m\u001b[43m \u001b[49m\u001b[38;5;241;43m*\u001b[39;49m\u001b[38;5;241;43m*\u001b[39;49m\u001b[43mkwargs\u001b[49m\u001b[43m)\u001b[49m\n\u001b[1;32m    332\u001b[0m \u001b[38;5;66;03m# Unknown object, fall back to the emptyPrinter.\u001b[39;00m\n\u001b[1;32m    333\u001b[0m \u001b[38;5;28;01mreturn\u001b[39;00m \u001b[38;5;28mself\u001b[39m\u001b[38;5;241m.\u001b[39memptyPrinter(expr)\n",
      "File \u001b[0;32m~/stochastic_simulations/micromamba/envs/stochastic_sim/lib/python3.11/site-packages/sympy/printing/str.py:57\u001b[0m, in \u001b[0;36mStrPrinter._print_Add\u001b[0;34m(self, expr, order)\u001b[0m\n\u001b[1;32m     55\u001b[0m l \u001b[38;5;241m=\u001b[39m []\n\u001b[1;32m     56\u001b[0m \u001b[38;5;28;01mfor\u001b[39;00m term \u001b[38;5;129;01min\u001b[39;00m terms:\n\u001b[0;32m---> 57\u001b[0m     t \u001b[38;5;241m=\u001b[39m \u001b[38;5;28;43mself\u001b[39;49m\u001b[38;5;241;43m.\u001b[39;49m\u001b[43m_print\u001b[49m\u001b[43m(\u001b[49m\u001b[43mterm\u001b[49m\u001b[43m)\u001b[49m\n\u001b[1;32m     58\u001b[0m     \u001b[38;5;28;01mif\u001b[39;00m t\u001b[38;5;241m.\u001b[39mstartswith(\u001b[38;5;124m'\u001b[39m\u001b[38;5;124m-\u001b[39m\u001b[38;5;124m'\u001b[39m) \u001b[38;5;129;01mand\u001b[39;00m \u001b[38;5;129;01mnot\u001b[39;00m term\u001b[38;5;241m.\u001b[39mis_Add:\n\u001b[1;32m     59\u001b[0m         sign \u001b[38;5;241m=\u001b[39m \u001b[38;5;124m\"\u001b[39m\u001b[38;5;124m-\u001b[39m\u001b[38;5;124m\"\u001b[39m\n",
      "File \u001b[0;32m~/stochastic_simulations/micromamba/envs/stochastic_sim/lib/python3.11/site-packages/sympy/printing/printer.py:331\u001b[0m, in \u001b[0;36mPrinter._print\u001b[0;34m(self, expr, **kwargs)\u001b[0m\n\u001b[1;32m    329\u001b[0m     printmethod \u001b[38;5;241m=\u001b[39m \u001b[38;5;28mgetattr\u001b[39m(\u001b[38;5;28mself\u001b[39m, printmethodname, \u001b[38;5;28;01mNone\u001b[39;00m)\n\u001b[1;32m    330\u001b[0m     \u001b[38;5;28;01mif\u001b[39;00m printmethod \u001b[38;5;129;01mis\u001b[39;00m \u001b[38;5;129;01mnot\u001b[39;00m \u001b[38;5;28;01mNone\u001b[39;00m:\n\u001b[0;32m--> 331\u001b[0m         \u001b[38;5;28;01mreturn\u001b[39;00m \u001b[43mprintmethod\u001b[49m\u001b[43m(\u001b[49m\u001b[43mexpr\u001b[49m\u001b[43m,\u001b[49m\u001b[43m \u001b[49m\u001b[38;5;241;43m*\u001b[39;49m\u001b[38;5;241;43m*\u001b[39;49m\u001b[43mkwargs\u001b[49m\u001b[43m)\u001b[49m\n\u001b[1;32m    332\u001b[0m \u001b[38;5;66;03m# Unknown object, fall back to the emptyPrinter.\u001b[39;00m\n\u001b[1;32m    333\u001b[0m \u001b[38;5;28;01mreturn\u001b[39;00m \u001b[38;5;28mself\u001b[39m\u001b[38;5;241m.\u001b[39memptyPrinter(expr)\n",
      "File \u001b[0;32m~/stochastic_simulations/micromamba/envs/stochastic_sim/lib/python3.11/site-packages/sympy/printing/str.py:364\u001b[0m, in \u001b[0;36mStrPrinter._print_Mul\u001b[0;34m(self, expr)\u001b[0m\n\u001b[1;32m    360\u001b[0m         a\u001b[38;5;241m.\u001b[39mappend(item)\n\u001b[1;32m    362\u001b[0m a \u001b[38;5;241m=\u001b[39m a \u001b[38;5;129;01mor\u001b[39;00m [S\u001b[38;5;241m.\u001b[39mOne]\n\u001b[0;32m--> 364\u001b[0m a_str \u001b[38;5;241m=\u001b[39m \u001b[43m[\u001b[49m\u001b[38;5;28;43mself\u001b[39;49m\u001b[38;5;241;43m.\u001b[39;49m\u001b[43mparenthesize\u001b[49m\u001b[43m(\u001b[49m\u001b[43mx\u001b[49m\u001b[43m,\u001b[49m\u001b[43m \u001b[49m\u001b[43mprec\u001b[49m\u001b[43m,\u001b[49m\u001b[43m \u001b[49m\u001b[43mstrict\u001b[49m\u001b[38;5;241;43m=\u001b[39;49m\u001b[38;5;28;43;01mFalse\u001b[39;49;00m\u001b[43m)\u001b[49m\u001b[43m \u001b[49m\u001b[38;5;28;43;01mfor\u001b[39;49;00m\u001b[43m \u001b[49m\u001b[43mx\u001b[49m\u001b[43m \u001b[49m\u001b[38;5;129;43;01min\u001b[39;49;00m\u001b[43m \u001b[49m\u001b[43ma\u001b[49m\u001b[43m]\u001b[49m\n\u001b[1;32m    365\u001b[0m b_str \u001b[38;5;241m=\u001b[39m [\u001b[38;5;28mself\u001b[39m\u001b[38;5;241m.\u001b[39mparenthesize(x, prec, strict\u001b[38;5;241m=\u001b[39m\u001b[38;5;28;01mFalse\u001b[39;00m) \u001b[38;5;28;01mfor\u001b[39;00m x \u001b[38;5;129;01min\u001b[39;00m b]\n\u001b[1;32m    367\u001b[0m \u001b[38;5;66;03m# To parenthesize Pow with exp = -1 and having more than one Symbol\u001b[39;00m\n",
      "File \u001b[0;32m~/stochastic_simulations/micromamba/envs/stochastic_sim/lib/python3.11/site-packages/sympy/printing/str.py:364\u001b[0m, in \u001b[0;36m<listcomp>\u001b[0;34m(.0)\u001b[0m\n\u001b[1;32m    360\u001b[0m         a\u001b[38;5;241m.\u001b[39mappend(item)\n\u001b[1;32m    362\u001b[0m a \u001b[38;5;241m=\u001b[39m a \u001b[38;5;129;01mor\u001b[39;00m [S\u001b[38;5;241m.\u001b[39mOne]\n\u001b[0;32m--> 364\u001b[0m a_str \u001b[38;5;241m=\u001b[39m [\u001b[38;5;28;43mself\u001b[39;49m\u001b[38;5;241;43m.\u001b[39;49m\u001b[43mparenthesize\u001b[49m\u001b[43m(\u001b[49m\u001b[43mx\u001b[49m\u001b[43m,\u001b[49m\u001b[43m \u001b[49m\u001b[43mprec\u001b[49m\u001b[43m,\u001b[49m\u001b[43m \u001b[49m\u001b[43mstrict\u001b[49m\u001b[38;5;241;43m=\u001b[39;49m\u001b[38;5;28;43;01mFalse\u001b[39;49;00m\u001b[43m)\u001b[49m \u001b[38;5;28;01mfor\u001b[39;00m x \u001b[38;5;129;01min\u001b[39;00m a]\n\u001b[1;32m    365\u001b[0m b_str \u001b[38;5;241m=\u001b[39m [\u001b[38;5;28mself\u001b[39m\u001b[38;5;241m.\u001b[39mparenthesize(x, prec, strict\u001b[38;5;241m=\u001b[39m\u001b[38;5;28;01mFalse\u001b[39;00m) \u001b[38;5;28;01mfor\u001b[39;00m x \u001b[38;5;129;01min\u001b[39;00m b]\n\u001b[1;32m    367\u001b[0m \u001b[38;5;66;03m# To parenthesize Pow with exp = -1 and having more than one Symbol\u001b[39;00m\n",
      "File \u001b[0;32m~/stochastic_simulations/micromamba/envs/stochastic_sim/lib/python3.11/site-packages/sympy/printing/str.py:36\u001b[0m, in \u001b[0;36mStrPrinter.parenthesize\u001b[0;34m(self, item, level, strict)\u001b[0m\n\u001b[1;32m     34\u001b[0m \u001b[38;5;28;01mdef\u001b[39;00m\u001b[38;5;250m \u001b[39m\u001b[38;5;21mparenthesize\u001b[39m(\u001b[38;5;28mself\u001b[39m, item, level, strict\u001b[38;5;241m=\u001b[39m\u001b[38;5;28;01mFalse\u001b[39;00m):\n\u001b[1;32m     35\u001b[0m     \u001b[38;5;28;01mif\u001b[39;00m (precedence(item) \u001b[38;5;241m<\u001b[39m level) \u001b[38;5;129;01mor\u001b[39;00m ((\u001b[38;5;129;01mnot\u001b[39;00m strict) \u001b[38;5;129;01mand\u001b[39;00m precedence(item) \u001b[38;5;241m<\u001b[39m\u001b[38;5;241m=\u001b[39m level):\n\u001b[0;32m---> 36\u001b[0m         \u001b[38;5;28;01mreturn\u001b[39;00m \u001b[38;5;124m\"\u001b[39m\u001b[38;5;124m(\u001b[39m\u001b[38;5;132;01m%s\u001b[39;00m\u001b[38;5;124m)\u001b[39m\u001b[38;5;124m\"\u001b[39m \u001b[38;5;241m%\u001b[39m \u001b[38;5;28;43mself\u001b[39;49m\u001b[38;5;241;43m.\u001b[39;49m\u001b[43m_print\u001b[49m\u001b[43m(\u001b[49m\u001b[43mitem\u001b[49m\u001b[43m)\u001b[49m\n\u001b[1;32m     37\u001b[0m     \u001b[38;5;28;01melse\u001b[39;00m:\n\u001b[1;32m     38\u001b[0m         \u001b[38;5;28;01mreturn\u001b[39;00m \u001b[38;5;28mself\u001b[39m\u001b[38;5;241m.\u001b[39m_print(item)\n",
      "File \u001b[0;32m~/stochastic_simulations/micromamba/envs/stochastic_sim/lib/python3.11/site-packages/sympy/printing/printer.py:331\u001b[0m, in \u001b[0;36mPrinter._print\u001b[0;34m(self, expr, **kwargs)\u001b[0m\n\u001b[1;32m    329\u001b[0m     printmethod \u001b[38;5;241m=\u001b[39m \u001b[38;5;28mgetattr\u001b[39m(\u001b[38;5;28mself\u001b[39m, printmethodname, \u001b[38;5;28;01mNone\u001b[39;00m)\n\u001b[1;32m    330\u001b[0m     \u001b[38;5;28;01mif\u001b[39;00m printmethod \u001b[38;5;129;01mis\u001b[39;00m \u001b[38;5;129;01mnot\u001b[39;00m \u001b[38;5;28;01mNone\u001b[39;00m:\n\u001b[0;32m--> 331\u001b[0m         \u001b[38;5;28;01mreturn\u001b[39;00m \u001b[43mprintmethod\u001b[49m\u001b[43m(\u001b[49m\u001b[43mexpr\u001b[49m\u001b[43m,\u001b[49m\u001b[43m \u001b[49m\u001b[38;5;241;43m*\u001b[39;49m\u001b[38;5;241;43m*\u001b[39;49m\u001b[43mkwargs\u001b[49m\u001b[43m)\u001b[49m\n\u001b[1;32m    332\u001b[0m \u001b[38;5;66;03m# Unknown object, fall back to the emptyPrinter.\u001b[39;00m\n\u001b[1;32m    333\u001b[0m \u001b[38;5;28;01mreturn\u001b[39;00m \u001b[38;5;28mself\u001b[39m\u001b[38;5;241m.\u001b[39memptyPrinter(expr)\n",
      "File \u001b[0;32m~/stochastic_simulations/micromamba/envs/stochastic_sim/lib/python3.11/site-packages/sympy/printing/str.py:57\u001b[0m, in \u001b[0;36mStrPrinter._print_Add\u001b[0;34m(self, expr, order)\u001b[0m\n\u001b[1;32m     55\u001b[0m l \u001b[38;5;241m=\u001b[39m []\n\u001b[1;32m     56\u001b[0m \u001b[38;5;28;01mfor\u001b[39;00m term \u001b[38;5;129;01min\u001b[39;00m terms:\n\u001b[0;32m---> 57\u001b[0m     t \u001b[38;5;241m=\u001b[39m \u001b[38;5;28;43mself\u001b[39;49m\u001b[38;5;241;43m.\u001b[39;49m\u001b[43m_print\u001b[49m\u001b[43m(\u001b[49m\u001b[43mterm\u001b[49m\u001b[43m)\u001b[49m\n\u001b[1;32m     58\u001b[0m     \u001b[38;5;28;01mif\u001b[39;00m t\u001b[38;5;241m.\u001b[39mstartswith(\u001b[38;5;124m'\u001b[39m\u001b[38;5;124m-\u001b[39m\u001b[38;5;124m'\u001b[39m) \u001b[38;5;129;01mand\u001b[39;00m \u001b[38;5;129;01mnot\u001b[39;00m term\u001b[38;5;241m.\u001b[39mis_Add:\n\u001b[1;32m     59\u001b[0m         sign \u001b[38;5;241m=\u001b[39m \u001b[38;5;124m\"\u001b[39m\u001b[38;5;124m-\u001b[39m\u001b[38;5;124m\"\u001b[39m\n",
      "File \u001b[0;32m~/stochastic_simulations/micromamba/envs/stochastic_sim/lib/python3.11/site-packages/sympy/printing/printer.py:331\u001b[0m, in \u001b[0;36mPrinter._print\u001b[0;34m(self, expr, **kwargs)\u001b[0m\n\u001b[1;32m    329\u001b[0m     printmethod \u001b[38;5;241m=\u001b[39m \u001b[38;5;28mgetattr\u001b[39m(\u001b[38;5;28mself\u001b[39m, printmethodname, \u001b[38;5;28;01mNone\u001b[39;00m)\n\u001b[1;32m    330\u001b[0m     \u001b[38;5;28;01mif\u001b[39;00m printmethod \u001b[38;5;129;01mis\u001b[39;00m \u001b[38;5;129;01mnot\u001b[39;00m \u001b[38;5;28;01mNone\u001b[39;00m:\n\u001b[0;32m--> 331\u001b[0m         \u001b[38;5;28;01mreturn\u001b[39;00m \u001b[43mprintmethod\u001b[49m\u001b[43m(\u001b[49m\u001b[43mexpr\u001b[49m\u001b[43m,\u001b[49m\u001b[43m \u001b[49m\u001b[38;5;241;43m*\u001b[39;49m\u001b[38;5;241;43m*\u001b[39;49m\u001b[43mkwargs\u001b[49m\u001b[43m)\u001b[49m\n\u001b[1;32m    332\u001b[0m \u001b[38;5;66;03m# Unknown object, fall back to the emptyPrinter.\u001b[39;00m\n\u001b[1;32m    333\u001b[0m \u001b[38;5;28;01mreturn\u001b[39;00m \u001b[38;5;28mself\u001b[39m\u001b[38;5;241m.\u001b[39memptyPrinter(expr)\n",
      "File \u001b[0;32m~/stochastic_simulations/micromamba/envs/stochastic_sim/lib/python3.11/site-packages/sympy/printing/str.py:365\u001b[0m, in \u001b[0;36mStrPrinter._print_Mul\u001b[0;34m(self, expr)\u001b[0m\n\u001b[1;32m    362\u001b[0m a \u001b[38;5;241m=\u001b[39m a \u001b[38;5;129;01mor\u001b[39;00m [S\u001b[38;5;241m.\u001b[39mOne]\n\u001b[1;32m    364\u001b[0m a_str \u001b[38;5;241m=\u001b[39m [\u001b[38;5;28mself\u001b[39m\u001b[38;5;241m.\u001b[39mparenthesize(x, prec, strict\u001b[38;5;241m=\u001b[39m\u001b[38;5;28;01mFalse\u001b[39;00m) \u001b[38;5;28;01mfor\u001b[39;00m x \u001b[38;5;129;01min\u001b[39;00m a]\n\u001b[0;32m--> 365\u001b[0m b_str \u001b[38;5;241m=\u001b[39m \u001b[43m[\u001b[49m\u001b[38;5;28;43mself\u001b[39;49m\u001b[38;5;241;43m.\u001b[39;49m\u001b[43mparenthesize\u001b[49m\u001b[43m(\u001b[49m\u001b[43mx\u001b[49m\u001b[43m,\u001b[49m\u001b[43m \u001b[49m\u001b[43mprec\u001b[49m\u001b[43m,\u001b[49m\u001b[43m \u001b[49m\u001b[43mstrict\u001b[49m\u001b[38;5;241;43m=\u001b[39;49m\u001b[38;5;28;43;01mFalse\u001b[39;49;00m\u001b[43m)\u001b[49m\u001b[43m \u001b[49m\u001b[38;5;28;43;01mfor\u001b[39;49;00m\u001b[43m \u001b[49m\u001b[43mx\u001b[49m\u001b[43m \u001b[49m\u001b[38;5;129;43;01min\u001b[39;49;00m\u001b[43m \u001b[49m\u001b[43mb\u001b[49m\u001b[43m]\u001b[49m\n\u001b[1;32m    367\u001b[0m \u001b[38;5;66;03m# To parenthesize Pow with exp = -1 and having more than one Symbol\u001b[39;00m\n\u001b[1;32m    368\u001b[0m \u001b[38;5;28;01mfor\u001b[39;00m item \u001b[38;5;129;01min\u001b[39;00m pow_paren:\n",
      "File \u001b[0;32m~/stochastic_simulations/micromamba/envs/stochastic_sim/lib/python3.11/site-packages/sympy/printing/str.py:365\u001b[0m, in \u001b[0;36m<listcomp>\u001b[0;34m(.0)\u001b[0m\n\u001b[1;32m    362\u001b[0m a \u001b[38;5;241m=\u001b[39m a \u001b[38;5;129;01mor\u001b[39;00m [S\u001b[38;5;241m.\u001b[39mOne]\n\u001b[1;32m    364\u001b[0m a_str \u001b[38;5;241m=\u001b[39m [\u001b[38;5;28mself\u001b[39m\u001b[38;5;241m.\u001b[39mparenthesize(x, prec, strict\u001b[38;5;241m=\u001b[39m\u001b[38;5;28;01mFalse\u001b[39;00m) \u001b[38;5;28;01mfor\u001b[39;00m x \u001b[38;5;129;01min\u001b[39;00m a]\n\u001b[0;32m--> 365\u001b[0m b_str \u001b[38;5;241m=\u001b[39m [\u001b[38;5;28mself\u001b[39m\u001b[38;5;241m.\u001b[39mparenthesize(x, prec, strict\u001b[38;5;241m=\u001b[39m\u001b[38;5;28;01mFalse\u001b[39;00m) \u001b[38;5;28;01mfor\u001b[39;00m x \u001b[38;5;129;01min\u001b[39;00m b]\n\u001b[1;32m    367\u001b[0m \u001b[38;5;66;03m# To parenthesize Pow with exp = -1 and having more than one Symbol\u001b[39;00m\n\u001b[1;32m    368\u001b[0m \u001b[38;5;28;01mfor\u001b[39;00m item \u001b[38;5;129;01min\u001b[39;00m pow_paren:\n",
      "\u001b[0;31mKeyboardInterrupt\u001b[0m: "
     ]
    }
   ],
   "source": [
    "###############################################################################\n",
    "# 1) Define target mean, variance and autocorrelations, and some parameters to start with\n",
    "###############################################################################\n",
    "variance_target_normal = 100 # Fixed normal variance\n",
    "mu_target = 10                 # Mean (same for both)\n",
    "variance_ratios = np.arange(0.1, 3.0, 0.01)\n",
    "autocorr_target = 1\n",
    "\n",
    "parameters = {\n",
    "    \"stress\": {\"sigma_u\": 18.0},\n",
    "    \"normal\": {\"sigma_u\": 9.0}\n",
    "}\n",
    "\n",
    "###############################################################################\n",
    "# Compute parameters for normal condition ONCE (since it doesn't change)\n",
    "###############################################################################\n",
    "try:\n",
    "    rho_normal, sigma_b_normal, d_normal = find_parameters(\n",
    "        parameters[\"normal\"], mu_target, variance_target=variance_target_normal, autocorr_target=autocorr_target\n",
    "    )\n",
    "    normal_results = {\"rho\": rho_normal, \"sigma_b\": sigma_b_normal, \"d\": d_normal}\n",
    "    print(f\"[NORMAL] ✅ Found: {normal_results}\")\n",
    "except ValueError as e:\n",
    "    print(f'{e}')\n",
    "    print(f\"[NORMAL] ❌ No suitable solution found.\")\n",
    "    normal_results = None\n",
    "\n",
    "###############################################################################\n",
    "# 2) Loop over different variance ratios (only compute stress condition each time)\n",
    "###############################################################################\n",
    "for ratio in tqdm.tqdm(variance_ratios, desc=\"Running Variance Ratio Simulations\"):\n",
    "    # For the stress condition, we define variance_target_stress by ratio\n",
    "    variance_target_stress = ratio * variance_target_normal\n",
    "\n",
    "    # Only compute for stress condition\n",
    "    rho_stress, sigma_b_stress, d_stress = find_parameters(\n",
    "        parameters[\"stress\"], mu_target, variance_target=variance_target_stress, autocorr_target=autocorr_target\n",
    "    )\n",
    "    stress_results = {\"rho\": rho_stress, \"sigma_b\": sigma_b_stress, \"d\": d_stress}\n",
    "    print(f\"[STRESS] ✅ Found: {stress_results}\")\n",
    "    \n",
    "    # Only proceed if we have results for both conditions\n",
    "    if normal_results is not None:\n",
    "        parameter_sets = [\n",
    "            {\"cv_ratio\": ratio,\n",
    "                \"sigma_u\": parameters[\"stress\"][\"sigma_u\"], \n",
    "                \"sigma_b\": stress_results['sigma_b'], \n",
    "                \"rho\": stress_results['rho'], \n",
    "                \"d\": stress_results['d'], \n",
    "                \"label\": 0},\n",
    "            \n",
    "            {\"cv_ratio\": ratio,\n",
    "                \"sigma_u\": parameters[\"normal\"][\"sigma_u\"], \n",
    "                \"sigma_b\": normal_results['sigma_b'], \n",
    "                \"rho\": normal_results['rho'], \n",
    "                \"d\": normal_results['d'], \n",
    "                \"label\": 1}\n",
    "        ]\n",
    "\n",
    "        # Output the results\n",
    "        print(\"Updated Parameter Sets:\", parameter_sets)"
   ]
  },
  {
   "cell_type": "markdown",
   "id": "4e3c9230",
   "metadata": {},
   "source": [
    "Does the function work normally when we go over a cv range? "
   ]
  },
  {
   "cell_type": "code",
   "execution_count": 12,
   "id": "58c7c2a5",
   "metadata": {},
   "outputs": [
    {
     "name": "stdout",
     "output_type": "stream",
     "text": [
      "Attempt 1/10\n"
     ]
    },
    {
     "name": "stderr",
     "output_type": "stream",
     "text": [
      "/home/ianyang/stochastic_simulations/src/simulation/mean_var_autocorr_v1.py:50: RuntimeWarning: invalid value encountered in multiply\n",
      "  ACmRNA_eq = sp.exp(-d * t) * (\n",
      "/home/ianyang/stochastic_simulations/src/simulation/mean_var_autocorr_v1.py:51: RuntimeWarning: invalid value encountered in multiply\n",
      "  d * sp.exp((d - sigma_u - sigma_b) * t) * rho * sigma_u\n",
      "/home/ianyang/stochastic_simulations/src/simulation/mean_var_autocorr_v1.py:334: RuntimeWarning: The iteration is not making good progress, as measured by the \n",
      " improvement from the last ten iterations.\n",
      "  solution = fsolve(\n"
     ]
    },
    {
     "name": "stdout",
     "output_type": "stream",
     "text": [
      "[NORMAL] ✅ Found: {'rho': 12.131128987023072, 'sigma_b': 11.364562161401812, 'd': 1.007616848422362}\n"
     ]
    },
    {
     "name": "stderr",
     "output_type": "stream",
     "text": [
      "Running CV Ratio Simulations:   0%|          | 0/150 [00:00<?, ?it/s]"
     ]
    },
    {
     "name": "stdout",
     "output_type": "stream",
     "text": [
      "Attempt 1/10\n"
     ]
    },
    {
     "name": "stderr",
     "output_type": "stream",
     "text": [
      "/home/ianyang/stochastic_simulations/src/simulation/mean_var_autocorr_v1.py:334: RuntimeWarning: The iteration is not making good progress, as measured by the \n",
      " improvement from the last five Jacobian evaluations.\n",
      "  solution = fsolve(\n"
     ]
    },
    {
     "name": "stdout",
     "output_type": "stream",
     "text": [
      "Attempt 2/10\n",
      "Attempt 3/10\n",
      "Attempt 4/10\n",
      "Attempt 5/10\n",
      "Attempt 6/10\n",
      "Attempt 7/10\n",
      "Attempt 8/10\n",
      "Attempt 9/10\n",
      "Attempt 10/10\n"
     ]
    },
    {
     "name": "stderr",
     "output_type": "stream",
     "text": [
      "Running CV Ratio Simulations:   0%|          | 0/150 [49:13<?, ?it/s]\n"
     ]
    },
    {
     "ename": "ValueError",
     "evalue": "No suitable solution found after multiple attempts. Try increasing num_guesses or widening the ranges.",
     "output_type": "error",
     "traceback": [
      "\u001b[0;31m---------------------------------------------------------------------------\u001b[0m",
      "\u001b[0;31mValueError\u001b[0m                                Traceback (most recent call last)",
      "Cell \u001b[0;32mIn[12], line 36\u001b[0m\n\u001b[1;32m     33\u001b[0m cv_target_stress \u001b[38;5;241m=\u001b[39m ratio \u001b[38;5;241m*\u001b[39m cv_target_normal\n\u001b[1;32m     35\u001b[0m \u001b[38;5;66;03m# Only compute for stress condition\u001b[39;00m\n\u001b[0;32m---> 36\u001b[0m rho_stress, sigma_b_stress, d_stress \u001b[38;5;241m=\u001b[39m \u001b[43mfind_parameters\u001b[49m\u001b[43m(\u001b[49m\n\u001b[1;32m     37\u001b[0m \u001b[43m    \u001b[49m\u001b[43mparameters\u001b[49m\u001b[43m[\u001b[49m\u001b[38;5;124;43m\"\u001b[39;49m\u001b[38;5;124;43mstress\u001b[39;49m\u001b[38;5;124;43m\"\u001b[39;49m\u001b[43m]\u001b[49m\u001b[43m,\u001b[49m\u001b[43m \u001b[49m\u001b[43mmu_target\u001b[49m\u001b[43m,\u001b[49m\u001b[43m \u001b[49m\u001b[43mcv_target\u001b[49m\u001b[38;5;241;43m=\u001b[39;49m\u001b[43mcv_target_stress\u001b[49m\u001b[43m,\u001b[49m\u001b[43m \u001b[49m\u001b[43mautocorr_target\u001b[49m\u001b[38;5;241;43m=\u001b[39;49m\u001b[43mautocorr_target\u001b[49m\n\u001b[1;32m     38\u001b[0m \u001b[43m\u001b[49m\u001b[43m)\u001b[49m\n\u001b[1;32m     39\u001b[0m stress_results \u001b[38;5;241m=\u001b[39m {\u001b[38;5;124m\"\u001b[39m\u001b[38;5;124mrho\u001b[39m\u001b[38;5;124m\"\u001b[39m: rho_stress, \u001b[38;5;124m\"\u001b[39m\u001b[38;5;124msigma_b\u001b[39m\u001b[38;5;124m\"\u001b[39m: sigma_b_stress, \u001b[38;5;124m\"\u001b[39m\u001b[38;5;124md\u001b[39m\u001b[38;5;124m\"\u001b[39m: d_stress}\n\u001b[1;32m     40\u001b[0m \u001b[38;5;28mprint\u001b[39m(\u001b[38;5;124mf\u001b[39m\u001b[38;5;124m\"\u001b[39m\u001b[38;5;124m[STRESS] ✅ Found: \u001b[39m\u001b[38;5;132;01m{\u001b[39;00mstress_results\u001b[38;5;132;01m}\u001b[39;00m\u001b[38;5;124m\"\u001b[39m)\n",
      "File \u001b[0;32m~/stochastic_simulations/src/simulation/mean_var_autocorr_v1.py:364\u001b[0m, in \u001b[0;36mfind_parameters\u001b[0;34m(parameter_set, mu_target, variance_target, autocorr_target, cv_target, fano_factor_target, rho_range, sigma_b_range, d_range, num_guesses, check_biological, max_fano_factor, max_cv)\u001b[0m\n\u001b[1;32m    361\u001b[0m         \u001b[38;5;28;01mexcept\u001b[39;00m \u001b[38;5;167;01mException\u001b[39;00m:\n\u001b[1;32m    362\u001b[0m             \u001b[38;5;28;01mcontinue\u001b[39;00m\n\u001b[0;32m--> 364\u001b[0m \u001b[38;5;28;01mraise\u001b[39;00m \u001b[38;5;167;01mValueError\u001b[39;00m(\u001b[38;5;124m\"\u001b[39m\u001b[38;5;124mNo suitable solution found after multiple attempts. Try increasing num_guesses or widening the ranges.\u001b[39m\u001b[38;5;124m\"\u001b[39m)\n",
      "\u001b[0;31mValueError\u001b[0m: No suitable solution found after multiple attempts. Try increasing num_guesses or widening the ranges."
     ]
    }
   ],
   "source": [
    "###############################################################################\n",
    "# 1) Define target mean, CV and autocorrelations, and some parameters to start with\n",
    "###############################################################################\n",
    "cv_target_normal = 0.5  # Fixed normal CV\n",
    "mu_target = 5                 # Mean (same for both)\n",
    "cv_ratios = np.arange(0.5, 2.0, 0.01)\n",
    "autocorr_target = 1\n",
    "\n",
    "parameters = {\n",
    "    \"stress\": {\"sigma_u\": 18.0},\n",
    "    \"normal\": {\"sigma_u\": 16.0}\n",
    "}\n",
    "\n",
    "###############################################################################\n",
    "# Compute parameters for normal condition ONCE (since it doesn't change)\n",
    "###############################################################################\n",
    "try:\n",
    "    rho_normal, sigma_b_normal, d_normal = find_parameters(\n",
    "        parameters[\"normal\"], mu_target, cv_target=cv_target_normal, autocorr_target=autocorr_target\n",
    "    )\n",
    "    normal_results = {\"rho\": rho_normal, \"sigma_b\": sigma_b_normal, \"d\": d_normal}\n",
    "    print(f\"[NORMAL] ✅ Found: {normal_results}\")\n",
    "except ValueError as e:\n",
    "    print(f'{e}')\n",
    "    print(f\"[NORMAL] ❌ No suitable solution found.\")\n",
    "    normal_results = None\n",
    "\n",
    "###############################################################################\n",
    "# 2) Loop over different CV ratios (only compute stress condition each time)\n",
    "###############################################################################\n",
    "for ratio in tqdm.tqdm(cv_ratios, desc=\"Running CV Ratio Simulations\"):\n",
    "    # For the stress condition, we define cv_target_stress by ratio\n",
    "    cv_target_stress = ratio * cv_target_normal\n",
    "\n",
    "    # Only compute for stress condition\n",
    "    rho_stress, sigma_b_stress, d_stress = find_parameters(\n",
    "        parameters[\"stress\"], mu_target, cv_target=cv_target_stress, autocorr_target=autocorr_target\n",
    "    )\n",
    "    stress_results = {\"rho\": rho_stress, \"sigma_b\": sigma_b_stress, \"d\": d_stress}\n",
    "    print(f\"[STRESS] ✅ Found: {stress_results}\")\n",
    "    \n",
    "    # Only proceed if we have results for both conditions\n",
    "    if normal_results is not None:\n",
    "        parameter_sets = [\n",
    "            {\"cv_ratio\": ratio,\n",
    "                \"sigma_u\": parameters[\"stress\"][\"sigma_u\"], \n",
    "                \"sigma_b\": stress_results['sigma_b'], \n",
    "                \"rho\": stress_results['rho'], \n",
    "                \"d\": stress_results['d'], \n",
    "                \"label\": 0},\n",
    "            \n",
    "            {\"cv_ratio\": ratio,\n",
    "                \"sigma_u\": parameters[\"normal\"][\"sigma_u\"], \n",
    "                \"sigma_b\": normal_results['sigma_b'], \n",
    "                \"rho\": normal_results['rho'], \n",
    "                # \"d\": normal_results['d'], \n",
    "                \"label\": 1}\n",
    "        ]\n",
    "\n",
    "        # Output the results\n",
    "        print(\"Updated Parameter Sets:\", parameter_sets)"
   ]
  },
  {
   "cell_type": "markdown",
   "id": "b0ac2c58",
   "metadata": {},
   "source": [
    "The function may struggle to find parameters for situations where CV values are extreme."
   ]
  },
  {
   "cell_type": "code",
   "execution_count": 3,
   "id": "ac5d522d",
   "metadata": {},
   "outputs": [
    {
     "name": "stdout",
     "output_type": "stream",
     "text": [
      "Attempt 1/10\n"
     ]
    },
    {
     "name": "stderr",
     "output_type": "stream",
     "text": [
      "/home/ianyang/stochastic_simulations/src/simulation/mean_var_autocorr_v1.py:50: RuntimeWarning: invalid value encountered in multiply\n",
      "  ACmRNA_eq = sp.exp(-d * t) * (\n",
      "/home/ianyang/stochastic_simulations/src/simulation/mean_var_autocorr_v1.py:51: RuntimeWarning: invalid value encountered in multiply\n",
      "  d * sp.exp((d - sigma_u - sigma_b) * t) * rho * sigma_u\n",
      "/home/ianyang/stochastic_simulations/src/simulation/mean_var_autocorr_v1.py:334: RuntimeWarning: The iteration is not making good progress, as measured by the \n",
      " improvement from the last ten iterations.\n",
      "  solution = fsolve(\n"
     ]
    },
    {
     "name": "stdout",
     "output_type": "stream",
     "text": [
      "[NORMAL] ✅ Found: {'rho': 92.82945472974659, 'sigma_b': 0.6277371133502097, 'd': 1.0966115048722693}\n"
     ]
    }
   ],
   "source": [
    "###############################################################################\n",
    "# 1) Define target mean, CV and autocorrelations, and some parameters to start with\n",
    "###############################################################################\n",
    "cv_target_normal = 1.3  # Fixed normal CV\n",
    "mu_target = 5                 # Mean (same for both)\n",
    "autocorr_target = 1\n",
    "\n",
    "parameters = {\n",
    "    \"normal\": {\"sigma_u\": 10.0}\n",
    "}\n",
    "\n",
    "###############################################################################\n",
    "# Compute parameters for normal condition ONCE (since it doesn't change)\n",
    "###############################################################################\n",
    "try:\n",
    "    rho_normal, sigma_b_normal, d_normal = find_parameters(\n",
    "        parameters[\"normal\"], mu_target, cv_target=cv_target_normal, autocorr_target=autocorr_target\n",
    "    )\n",
    "    normal_results = {\"rho\": rho_normal, \"sigma_b\": sigma_b_normal, \"d\": d_normal}\n",
    "    print(f\"[NORMAL] ✅ Found: {normal_results}\")\n",
    "except ValueError as e:\n",
    "    print(f'{e}')\n",
    "    print(f\"[NORMAL] ❌ No suitable solution found.\")\n",
    "    normal_results = None\n"
   ]
  },
  {
   "cell_type": "markdown",
   "id": "4f8fea40",
   "metadata": {},
   "source": [
    "Will the function give the same result if we switch to using `find_parameters()` version 2?"
   ]
  },
  {
   "cell_type": "code",
   "execution_count": 5,
   "id": "a39bf5f5",
   "metadata": {},
   "outputs": [
    {
     "name": "stdout",
     "output_type": "stream",
     "text": [
      "Attempt 1/10\n",
      "✅ System is biologically appropriate with Fano factor: 8.45, CV: 1.30\n",
      "✅ Found: {'rho': 92.82945472685547, 'sigma_u': 9.999999999322963, 'd': 1.0966115048722578}\n"
     ]
    }
   ],
   "source": [
    "from simulation.mean_var_autocorr import find_parameters\n",
    "\n",
    "###############################################################################\n",
    "# 1) Define target mean, CV and autocorrelations, and some parameters to start with\n",
    "###############################################################################\n",
    "cv_target_normal = 1.3  # Fixed normal CV\n",
    "mu_target = 5                 # Mean (same for both)\n",
    "autocorr_target = 1\n",
    "\n",
    "# use sigma_b from previous results\n",
    "parameters = {\"sigma_b\": 0.6277371133502097}\n",
    "\n",
    "###############################################################################\n",
    "# Compute parameters \n",
    "###############################################################################\n",
    "try:\n",
    "    rho, sigma_u, d = find_parameters(\n",
    "        parameters, mu_target, cv_target=cv_target_normal, autocorr_target=autocorr_target\n",
    "    )\n",
    "    results = {\"rho\": rho, \"sigma_u\": sigma_u, \"d\": d}\n",
    "    print(f\"✅ Found: {results}\")\n",
    "except ValueError as e:\n",
    "    print(f'{e}')\n",
    "    print(f\"❌ No suitable solution found.\")\n",
    "    results = None\n"
   ]
  },
  {
   "cell_type": "markdown",
   "id": "da759a60",
   "metadata": {},
   "source": [
    "Will the function give the same result if we switch to using `quick_find_parameters()` ?"
   ]
  },
  {
   "cell_type": "code",
   "execution_count": 6,
   "id": "1f81bdcc",
   "metadata": {},
   "outputs": [
    {
     "name": "stdout",
     "output_type": "stream",
     "text": [
      "Warning: Error during solving for D=1.0: unsupported operand type(s) for *: 'float' and 'dict'\n",
      "One of the following values is None: final d_value: None, rho: None, sigma_u: None\n",
      "Trying bounded minimization...\n",
      "Could not find a valid solution for parameter d\n",
      "❌ No suitable solution found.\n"
     ]
    }
   ],
   "source": [
    "from simulation.mean_cv_autocorr import quick_find_parameters\n",
    "\n",
    "###############################################################################\n",
    "# 1) Define target mean, CV and autocorrelations, and some parameters to start with\n",
    "###############################################################################\n",
    "cv_target_normal = 1.3  # Fixed normal CV\n",
    "mu_target = 5                 # Mean (same for both)\n",
    "autocorr_target = 1\n",
    "\n",
    "# use sigma_b from previous results\n",
    "parameters = {\"sigma_b\": 0.6277371133502097}\n",
    "\n",
    "###############################################################################\n",
    "# Compute parameters \n",
    "###############################################################################\n",
    "try:\n",
    "    rho, sigma_u, d = quick_find_parameters(\n",
    "        parameters, mu_target, cv_target=cv_target_normal, autocorr_target=autocorr_target\n",
    "    )\n",
    "    results = {\"rho\": rho, \"sigma_u\": sigma_u, \"d\": d}\n",
    "    print(f\"✅ Found: {results}\")\n",
    "except ValueError as e:\n",
    "    print(f'{e}')\n",
    "    print(f\"❌ No suitable solution found.\")\n",
    "    results = None\n"
   ]
  },
  {
   "cell_type": "markdown",
   "id": "ac8d07d2",
   "metadata": {},
   "source": [
    "## Scale the Stats\n",
    "\n",
    "We can scale the stats so parameters are possible to compute"
   ]
  },
  {
   "cell_type": "code",
   "execution_count": 9,
   "id": "a553c04a",
   "metadata": {},
   "outputs": [
    {
     "name": "stdout",
     "output_type": "stream",
     "text": [
      "Attempt 1/10\n"
     ]
    },
    {
     "name": "stderr",
     "output_type": "stream",
     "text": [
      "/home/ianyang/stochastic_simulations/src/simulation/mean_var_autocorr.py:48: RuntimeWarning: invalid value encountered in multiply\n",
      "  ACmRNA_eq = sp.exp(-d_val * t) * (\n",
      "/home/ianyang/stochastic_simulations/src/simulation/mean_var_autocorr.py:49: RuntimeWarning: invalid value encountered in multiply\n",
      "  d_val * sp.exp((d_val - sigma_u_val - sigma_b) * t) * rho_val * sigma_u_val\n",
      "/home/ianyang/stochastic_simulations/src/simulation/mean_var_autocorr.py:324: RuntimeWarning: The iteration is not making good progress, as measured by the \n",
      " improvement from the last ten iterations.\n",
      "  solution = fsolve(\n"
     ]
    },
    {
     "name": "stdout",
     "output_type": "stream",
     "text": [
      "✅ System is biologically appropriate with Fano factor: 8.45, CV: 1.30\n",
      "✅ Found: {'rho': 40.77878567744539, 'sigma_u': 1.4149215951836442, 'd': 2.129527693233373}\n",
      "Updated Parameter Sets: [{'sigma_b': 0.5, 'sigma_u': 1.4149215951836442, 'rho': 40.77878567744539, 'd': 2.129527693233373, 'label': 0}]\n",
      "Saved 1 parameter sets to data/parameter_sets_1.3_5_1.csv\n"
     ]
    },
    {
     "name": "stderr",
     "output_type": "stream",
     "text": [
      "Simulating Telegraph Model Systems:   0%|          | 0/1 [00:00<?, ?it/s]"
     ]
    },
    {
     "name": "stdout",
     "output_type": "stream",
     "text": [
      "Running simulations on 12 cores...\n",
      "System 1 parameters: {'sigma_b': 0.5, 'sigma_u': 1.4149215951836442, 'rho': 40.77878567744539, 'd': 2.129527693233373, 'label': 0}\n"
     ]
    },
    {
     "name": "stderr",
     "output_type": "stream",
     "text": [
      "Simulating Telegraph Model Systems: 100%|██████████| 1/1 [00:17<00:00, 17.21s/it]\n"
     ]
    },
    {
     "name": "stdout",
     "output_type": "stream",
     "text": [
      "Steady state series saved to data/mRNA_trajectories_1/steady_state_trajectories/m_traj_1.3_0_SS.csv\n"
     ]
    },
    {
     "name": "stderr",
     "output_type": "stream",
     "text": [
      "Simulating Telegraph Model Systems:   0%|          | 0/1 [00:00<?, ?it/s]"
     ]
    },
    {
     "name": "stdout",
     "output_type": "stream",
     "text": [
      "Running simulations on 12 cores...\n",
      "System 1 parameters: {'sigma_b': 0.5, 'sigma_u': 1.4149215951836442, 'rho': 40.77878567744539, 'd': 2.129527693233373, 'label': 0}\n"
     ]
    },
    {
     "name": "stderr",
     "output_type": "stream",
     "text": [
      "Simulating Telegraph Model Systems: 100%|██████████| 1/1 [00:17<00:00, 17.32s/it]\n"
     ]
    },
    {
     "name": "stdout",
     "output_type": "stream",
     "text": [
      "Steady state series saved to data/mRNA_trajectories_1/steady_state_trajectories/m_traj_1.3_1_SS.csv\n"
     ]
    },
    {
     "name": "stderr",
     "output_type": "stream",
     "text": [
      "Simulating Telegraph Model Systems:   0%|          | 0/1 [00:00<?, ?it/s]"
     ]
    },
    {
     "name": "stdout",
     "output_type": "stream",
     "text": [
      "Running simulations on 12 cores...\n",
      "System 1 parameters: {'sigma_b': 0.5, 'sigma_u': 1.4149215951836442, 'rho': 40.77878567744539, 'd': 2.129527693233373, 'label': 0}\n"
     ]
    },
    {
     "name": "stderr",
     "output_type": "stream",
     "text": [
      "Process ForkPoolWorker-56:\n",
      "Process ForkPoolWorker-53:\n",
      "Process ForkPoolWorker-57:\n",
      "Process ForkPoolWorker-59:\n",
      "Process ForkPoolWorker-60:\n",
      "Process ForkPoolWorker-58:\n",
      "Process ForkPoolWorker-55:\n",
      "Simulating Telegraph Model Systems:   0%|          | 0/1 [00:09<?, ?it/s]\n"
     ]
    },
    {
     "ename": "KeyboardInterrupt",
     "evalue": "",
     "output_type": "error",
     "traceback": [
      "\u001b[0;31m---------------------------------------------------------------------------\u001b[0m",
      "\u001b[0;31mKeyboardInterrupt\u001b[0m                         Traceback (most recent call last)",
      "Cell \u001b[0;32mIn[9], line 69\u001b[0m\n\u001b[1;32m     65\u001b[0m \u001b[38;5;66;03m###########################################################################\u001b[39;00m\n\u001b[1;32m     66\u001b[0m \u001b[38;5;66;03m# 3) Simulate & Save data\u001b[39;00m\n\u001b[1;32m     67\u001b[0m \u001b[38;5;66;03m###########################################################################  \u001b[39;00m\n\u001b[1;32m     68\u001b[0m     \u001b[38;5;28;01mfor\u001b[39;00m i \u001b[38;5;129;01min\u001b[39;00m \u001b[38;5;28mrange\u001b[39m(num_iterations):\n\u001b[0;32m---> 69\u001b[0m         df_results \u001b[38;5;241m=\u001b[39m \u001b[43msimulate_one_telegraph_model_system\u001b[49m\u001b[43m(\u001b[49m\u001b[43mparameter_sets\u001b[49m\u001b[43m,\u001b[49m\u001b[43m \u001b[49m\u001b[43mextended_time_points\u001b[49m\u001b[43m,\u001b[49m\u001b[43m \u001b[49m\u001b[43msize\u001b[49m\u001b[43m)\u001b[49m\n\u001b[1;32m     71\u001b[0m         output_dir \u001b[38;5;241m=\u001b[39m \u001b[38;5;124mf\u001b[39m\u001b[38;5;124m\"\u001b[39m\u001b[38;5;124mdata/mRNA_trajectories_\u001b[39m\u001b[38;5;132;01m{\u001b[39;00m\u001b[38;5;28mint\u001b[39m(cv_target)\u001b[38;5;132;01m}\u001b[39;00m\u001b[38;5;124m\"\u001b[39m\n\u001b[1;32m     72\u001b[0m         os\u001b[38;5;241m.\u001b[39mmakedirs(output_dir, exist_ok\u001b[38;5;241m=\u001b[39m\u001b[38;5;28;01mTrue\u001b[39;00m)\n",
      "File \u001b[0;32m~/stochastic_simulations/src/simulation/simulate_telegraph_model.py:86\u001b[0m, in \u001b[0;36msimulate_one_telegraph_model_system\u001b[0;34m(parameter_set, time_points, size, num_cores)\u001b[0m\n\u001b[1;32m     73\u001b[0m \u001b[38;5;28;01mdef\u001b[39;00m\u001b[38;5;250m \u001b[39m\u001b[38;5;21msimulate_one_telegraph_model_system\u001b[39m(parameter_set, time_points, size, num_cores\u001b[38;5;241m=\u001b[39m\u001b[38;5;28;01mNone\u001b[39;00m):\n\u001b[1;32m     74\u001b[0m \u001b[38;5;250m    \u001b[39m\u001b[38;5;124;03m\"\"\"\u001b[39;00m\n\u001b[1;32m     75\u001b[0m \u001b[38;5;124;03m    Simulates a single system using stochastic gene expression model without forcing steady-state extension.\u001b[39;00m\n\u001b[1;32m     76\u001b[0m \u001b[38;5;124;03m    \u001b[39;00m\n\u001b[0;32m   (...)\u001b[0m\n\u001b[1;32m     84\u001b[0m \u001b[38;5;124;03m        pd.DataFrame: DataFrame containing simulation results.\u001b[39;00m\n\u001b[1;32m     85\u001b[0m \u001b[38;5;124;03m    \"\"\"\u001b[39;00m\n\u001b[0;32m---> 86\u001b[0m     \u001b[38;5;28;01mreturn\u001b[39;00m \u001b[43msimulate_two_telegraph_model_systems\u001b[49m\u001b[43m(\u001b[49m\u001b[43mparameter_set\u001b[49m\u001b[43m,\u001b[49m\u001b[43m \u001b[49m\u001b[43mtime_points\u001b[49m\u001b[43m,\u001b[49m\u001b[43m \u001b[49m\u001b[43msize\u001b[49m\u001b[43m,\u001b[49m\u001b[43m \u001b[49m\u001b[43mnum_cores\u001b[49m\u001b[43m)\u001b[49m\n",
      "File \u001b[0;32m~/stochastic_simulations/src/simulation/simulate_telegraph_model.py:51\u001b[0m, in \u001b[0;36msimulate_two_telegraph_model_systems\u001b[0;34m(parameter_sets, time_points, size, num_cores)\u001b[0m\n\u001b[1;32m     49\u001b[0m \u001b[38;5;28;01mwith\u001b[39;00m multiprocessing\u001b[38;5;241m.\u001b[39mPool(num_cores) \u001b[38;5;28;01mas\u001b[39;00m pool:\n\u001b[1;32m     50\u001b[0m     \u001b[38;5;28mprint\u001b[39m(\u001b[38;5;124mf\u001b[39m\u001b[38;5;124m\"\u001b[39m\u001b[38;5;124mRunning simulations on \u001b[39m\u001b[38;5;132;01m{\u001b[39;00mnum_cores\u001b[38;5;132;01m}\u001b[39;00m\u001b[38;5;124m cores...\u001b[39m\u001b[38;5;130;01m\\n\u001b[39;00m\u001b[38;5;124mSystem \u001b[39m\u001b[38;5;132;01m{\u001b[39;00msystem_index\u001b[38;5;250m \u001b[39m\u001b[38;5;241m+\u001b[39m\u001b[38;5;250m \u001b[39m\u001b[38;5;241m1\u001b[39m\u001b[38;5;132;01m}\u001b[39;00m\u001b[38;5;124m parameters: \u001b[39m\u001b[38;5;132;01m{\u001b[39;00mparam_set\u001b[38;5;132;01m}\u001b[39;00m\u001b[38;5;124m\"\u001b[39m)\n\u001b[0;32m---> 51\u001b[0m     results \u001b[38;5;241m=\u001b[39m \u001b[43mpool\u001b[49m\u001b[38;5;241;43m.\u001b[39;49m\u001b[43mmap\u001b[49m\u001b[43m(\u001b[49m\u001b[43mrun_simulation\u001b[49m\u001b[43m,\u001b[49m\u001b[43m \u001b[49m\u001b[43m[\u001b[49m\u001b[43m(\u001b[49m\u001b[43mparam_set\u001b[49m\u001b[43m,\u001b[49m\u001b[43m \u001b[49m\u001b[43mtime_points\u001b[49m\u001b[43m,\u001b[49m\u001b[43m \u001b[49m\u001b[43msize\u001b[49m\u001b[43m)\u001b[49m\u001b[43m]\u001b[49m\u001b[43m)\u001b[49m\n\u001b[1;32m     53\u001b[0m \u001b[38;5;66;03m# Flatten results\u001b[39;00m\n\u001b[1;32m     54\u001b[0m results \u001b[38;5;241m=\u001b[39m [item \u001b[38;5;28;01mfor\u001b[39;00m sublist \u001b[38;5;129;01min\u001b[39;00m results \u001b[38;5;28;01mfor\u001b[39;00m item \u001b[38;5;129;01min\u001b[39;00m sublist]\n",
      "File \u001b[0;32m~/stochastic_simulations/micromamba/envs/stochastic_sim/lib/python3.11/multiprocessing/pool.py:367\u001b[0m, in \u001b[0;36mPool.map\u001b[0;34m(self, func, iterable, chunksize)\u001b[0m\n\u001b[1;32m    362\u001b[0m \u001b[38;5;28;01mdef\u001b[39;00m\u001b[38;5;250m \u001b[39m\u001b[38;5;21mmap\u001b[39m(\u001b[38;5;28mself\u001b[39m, func, iterable, chunksize\u001b[38;5;241m=\u001b[39m\u001b[38;5;28;01mNone\u001b[39;00m):\n\u001b[1;32m    363\u001b[0m \u001b[38;5;250m    \u001b[39m\u001b[38;5;124;03m'''\u001b[39;00m\n\u001b[1;32m    364\u001b[0m \u001b[38;5;124;03m    Apply `func` to each element in `iterable`, collecting the results\u001b[39;00m\n\u001b[1;32m    365\u001b[0m \u001b[38;5;124;03m    in a list that is returned.\u001b[39;00m\n\u001b[1;32m    366\u001b[0m \u001b[38;5;124;03m    '''\u001b[39;00m\n\u001b[0;32m--> 367\u001b[0m     \u001b[38;5;28;01mreturn\u001b[39;00m \u001b[38;5;28;43mself\u001b[39;49m\u001b[38;5;241;43m.\u001b[39;49m\u001b[43m_map_async\u001b[49m\u001b[43m(\u001b[49m\u001b[43mfunc\u001b[49m\u001b[43m,\u001b[49m\u001b[43m \u001b[49m\u001b[43miterable\u001b[49m\u001b[43m,\u001b[49m\u001b[43m \u001b[49m\u001b[43mmapstar\u001b[49m\u001b[43m,\u001b[49m\u001b[43m \u001b[49m\u001b[43mchunksize\u001b[49m\u001b[43m)\u001b[49m\u001b[38;5;241;43m.\u001b[39;49m\u001b[43mget\u001b[49m\u001b[43m(\u001b[49m\u001b[43m)\u001b[49m\n",
      "File \u001b[0;32m~/stochastic_simulations/micromamba/envs/stochastic_sim/lib/python3.11/multiprocessing/pool.py:768\u001b[0m, in \u001b[0;36mApplyResult.get\u001b[0;34m(self, timeout)\u001b[0m\n\u001b[1;32m    767\u001b[0m \u001b[38;5;28;01mdef\u001b[39;00m\u001b[38;5;250m \u001b[39m\u001b[38;5;21mget\u001b[39m(\u001b[38;5;28mself\u001b[39m, timeout\u001b[38;5;241m=\u001b[39m\u001b[38;5;28;01mNone\u001b[39;00m):\n\u001b[0;32m--> 768\u001b[0m     \u001b[38;5;28;43mself\u001b[39;49m\u001b[38;5;241;43m.\u001b[39;49m\u001b[43mwait\u001b[49m\u001b[43m(\u001b[49m\u001b[43mtimeout\u001b[49m\u001b[43m)\u001b[49m\n\u001b[1;32m    769\u001b[0m     \u001b[38;5;28;01mif\u001b[39;00m \u001b[38;5;129;01mnot\u001b[39;00m \u001b[38;5;28mself\u001b[39m\u001b[38;5;241m.\u001b[39mready():\n\u001b[1;32m    770\u001b[0m         \u001b[38;5;28;01mraise\u001b[39;00m \u001b[38;5;167;01mTimeoutError\u001b[39;00m\n",
      "File \u001b[0;32m~/stochastic_simulations/micromamba/envs/stochastic_sim/lib/python3.11/multiprocessing/pool.py:765\u001b[0m, in \u001b[0;36mApplyResult.wait\u001b[0;34m(self, timeout)\u001b[0m\n\u001b[1;32m    764\u001b[0m \u001b[38;5;28;01mdef\u001b[39;00m\u001b[38;5;250m \u001b[39m\u001b[38;5;21mwait\u001b[39m(\u001b[38;5;28mself\u001b[39m, timeout\u001b[38;5;241m=\u001b[39m\u001b[38;5;28;01mNone\u001b[39;00m):\n\u001b[0;32m--> 765\u001b[0m     \u001b[38;5;28;43mself\u001b[39;49m\u001b[38;5;241;43m.\u001b[39;49m\u001b[43m_event\u001b[49m\u001b[38;5;241;43m.\u001b[39;49m\u001b[43mwait\u001b[49m\u001b[43m(\u001b[49m\u001b[43mtimeout\u001b[49m\u001b[43m)\u001b[49m\n",
      "File \u001b[0;32m~/stochastic_simulations/micromamba/envs/stochastic_sim/lib/python3.11/threading.py:629\u001b[0m, in \u001b[0;36mEvent.wait\u001b[0;34m(self, timeout)\u001b[0m\n\u001b[1;32m    627\u001b[0m signaled \u001b[38;5;241m=\u001b[39m \u001b[38;5;28mself\u001b[39m\u001b[38;5;241m.\u001b[39m_flag\n\u001b[1;32m    628\u001b[0m \u001b[38;5;28;01mif\u001b[39;00m \u001b[38;5;129;01mnot\u001b[39;00m signaled:\n\u001b[0;32m--> 629\u001b[0m     signaled \u001b[38;5;241m=\u001b[39m \u001b[38;5;28;43mself\u001b[39;49m\u001b[38;5;241;43m.\u001b[39;49m\u001b[43m_cond\u001b[49m\u001b[38;5;241;43m.\u001b[39;49m\u001b[43mwait\u001b[49m\u001b[43m(\u001b[49m\u001b[43mtimeout\u001b[49m\u001b[43m)\u001b[49m\n\u001b[1;32m    630\u001b[0m \u001b[38;5;28;01mreturn\u001b[39;00m signaled\n",
      "File \u001b[0;32m~/stochastic_simulations/micromamba/envs/stochastic_sim/lib/python3.11/threading.py:327\u001b[0m, in \u001b[0;36mCondition.wait\u001b[0;34m(self, timeout)\u001b[0m\n\u001b[1;32m    325\u001b[0m \u001b[38;5;28;01mtry\u001b[39;00m:    \u001b[38;5;66;03m# restore state no matter what (e.g., KeyboardInterrupt)\u001b[39;00m\n\u001b[1;32m    326\u001b[0m     \u001b[38;5;28;01mif\u001b[39;00m timeout \u001b[38;5;129;01mis\u001b[39;00m \u001b[38;5;28;01mNone\u001b[39;00m:\n\u001b[0;32m--> 327\u001b[0m         \u001b[43mwaiter\u001b[49m\u001b[38;5;241;43m.\u001b[39;49m\u001b[43macquire\u001b[49m\u001b[43m(\u001b[49m\u001b[43m)\u001b[49m\n\u001b[1;32m    328\u001b[0m         gotit \u001b[38;5;241m=\u001b[39m \u001b[38;5;28;01mTrue\u001b[39;00m\n\u001b[1;32m    329\u001b[0m     \u001b[38;5;28;01melse\u001b[39;00m:\n",
      "\u001b[0;31mKeyboardInterrupt\u001b[0m: "
     ]
    }
   ],
   "source": [
    "import numpy as np\n",
    "import pandas as pd\n",
    "import os\n",
    "import tqdm\n",
    "from simulation.mean_var_autocorr import find_parameters\n",
    "from simulation.mean_cv_autocorr import quick_find_parameters\n",
    "from simulation.simulate_telegraph_model import simulate_two_telegraph_model_systems, simulate_one_telegraph_model_system\n",
    "from utils.steady_state import save_steady_state\n",
    "\n",
    "###############################################################################\n",
    "# 1) Define target mean, CV and autocorrelations, and some parameters to start with\n",
    "###############################################################################\n",
    "cv_target = 1.30  # Fixed normal CV\n",
    "mu_target = 5                 # Mean (same for both)\n",
    "autocorr_target = 1\n",
    "parameters = {\"sigma_b\": 0.5}\n",
    "\n",
    "###############################################################################\n",
    "# 2) Compute parameters \n",
    "#########################################################\n",
    "\n",
    "try:\n",
    "    rho, sigma_u, d = find_parameters(\n",
    "        parameters, mu_target, cv_target=cv_target, autocorr_target=autocorr_target\n",
    "    )\n",
    "    results = {\"rho\": rho, \"sigma_u\": sigma_u, \"d\": d}\n",
    "    print(f\"✅ Found: {results}\")\n",
    "except ValueError as e:\n",
    "    print(f'{e}')\n",
    "    print(f\"❌ No suitable solution found.\")\n",
    "    results = None\n",
    "\n",
    "# Only proceed if we have results for both conditions\n",
    "if results is not None:\n",
    "    parameter_sets = [\n",
    "        {\n",
    "            \"sigma_b\": parameters[\"sigma_b\"], \n",
    "            \"sigma_u\": results['sigma_u'], \n",
    "            \"rho\": results['rho'], \n",
    "            \"d\": results['d'], \n",
    "            \"label\": 0\n",
    "        }\n",
    "    ]\n",
    "    # Output the results\n",
    "    print(\"Updated Parameter Sets:\", parameter_sets)\n",
    "    \n",
    "    # Save all parameter sets calculated to CSV\n",
    "    df_params = pd.DataFrame(parameter_sets)\n",
    "    param_out_path = f'data/parameter_sets_{cv_target}_{mu_target}_{autocorr_target}.csv'\n",
    "    df_params.to_csv(param_out_path, index=False)\n",
    "    print(f\"Saved {len(parameter_sets)} parameter sets to {param_out_path}\")\n",
    "\n",
    "    # Simulation parameters\n",
    "    min_d = min(pset['d'] for pset in parameter_sets)\n",
    "    steady_state_time = int(10 / min_d)\n",
    "    time_points = np.arange(0, 144.0, 1.0)\n",
    "    extended_time_points = np.arange(\n",
    "        time_points[0],\n",
    "        len(time_points) + steady_state_time,\n",
    "        time_points[1] - time_points[0]\n",
    "    )\n",
    "    size = 200\n",
    "    num_iterations = 10\n",
    "    \n",
    "###########################################################################\n",
    "# 3) Simulate & Save data\n",
    "###########################################################################  \n",
    "    for i in range(num_iterations):\n",
    "        df_results = simulate_one_telegraph_model_system(parameter_sets, extended_time_points, size)\n",
    "\n",
    "        output_dir = f\"data/mRNA_trajectories_{int(cv_target)}\"\n",
    "        os.makedirs(output_dir, exist_ok=True)\n",
    "        \n",
    "        # save full time series\n",
    "        output_file = f\"{output_dir}/m_traj_{cv_target}_{i}.csv\"\n",
    "        df_results.to_csv(output_file, index=False)\n",
    "\n",
    "        # get only the steady state part of the data\n",
    "        save_path = f'{output_dir}/steady_state_trajectories/'\n",
    "        remaining_time_points, steady_state_series = save_steady_state(output_file, parameter_sets, time_points, save_path=save_path)                  \n"
   ]
  }
 ],
 "metadata": {
  "kernelspec": {
   "display_name": "stochastic_sim",
   "language": "python",
   "name": "python3"
  },
  "language_info": {
   "codemirror_mode": {
    "name": "ipython",
    "version": 3
   },
   "file_extension": ".py",
   "mimetype": "text/x-python",
   "name": "python",
   "nbconvert_exporter": "python",
   "pygments_lexer": "ipython3",
   "version": "3.11.11"
  }
 },
 "nbformat": 4,
 "nbformat_minor": 5
}
