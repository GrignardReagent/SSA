{
 "cells": [
  {
   "cell_type": "code",
   "execution_count": null,
   "id": "e380c72a",
   "metadata": {},
   "outputs": [
    {
     "name": "stderr",
     "output_type": "stream",
     "text": [
      "\u001b[32m\u001b[1m  Activating\u001b[22m\u001b[39m project at `~/stochastic_simulations/julia`\n"
     ]
    }
   ],
   "source": [
    "using Pkg\n",
    "Pkg.activate(\".\")\n",
    "\n",
    "include(\"JuliaTelegraphSimulation.jl\")\n",
    "using .JuliaTelegraphSimulation\n"
   ]
  },
  {
   "cell_type": "code",
   "execution_count": null,
   "id": "13db3141",
   "metadata": {},
   "outputs": [
    {
     "name": "stdout",
     "output_type": "stream",
     "text": [
      "\u001b[1m5×102 DataFrame\u001b[0m\n",
      "\u001b[1m Row \u001b[0m│\u001b[1m label \u001b[0m\u001b[1m time_0.0 \u001b[0m\u001b[1m time_1.0 \u001b[0m\u001b[1m time_2.0 \u001b[0m\u001b[1m time_3.0 \u001b[0m\u001b[1m time_4.0 \u001b[0m\u001b[1m time_5.0 \u001b[0m\u001b[1m time_6.0 \u001b[0m\u001b[1m time_7.0 \u001b[0m\u001b[1m time_8.0 \u001b[0m\u001b[1m time_9.0 \u001b[0m\u001b[1m time_10.0 \u001b[0m\u001b[1m time_11.0 \u001b[0m\u001b[1m time_12.0 \u001b[0m\u001b[1m time_13.0 \u001b[0m\u001b[1m time_14.0 \u001b[0m\u001b[1m time_15.0 \u001b[0m\u001b[1m time_16.0 \u001b[0m\u001b[1m time_17.0 \u001b[0m\u001b[1m time_18.0 \u001b[0m\u001b[1m time_19.0 \u001b[0m\u001b[1m time_20.0 \u001b[0m\u001b[1m time_21.0 \u001b[0m\u001b[1m time_22.0 \u001b[0m\u001b[1m time_23.0 \u001b[0m\u001b[1m time_24.0 \u001b[0m\u001b[1m time_25.0 \u001b[0m\u001b[1m time_26.0 \u001b[0m\u001b[1m time_27.0 \u001b[0m\u001b[1m time_28.0 \u001b[0m\u001b[1m time_29.0 \u001b[0m\u001b[1m time_30.0 \u001b[0m\u001b[1m time_31.0 \u001b[0m\u001b[1m time_32.0 \u001b[0m\u001b[1m time_33.0 \u001b[0m\u001b[1m time_34.0 \u001b[0m\u001b[1m time_35.0 \u001b[0m\u001b[1m time_36.0 \u001b[0m\u001b[1m time_37.0 \u001b[0m\u001b[1m time_38.0 \u001b[0m\u001b[1m time_39.0 \u001b[0m\u001b[1m time_40.0 \u001b[0m\u001b[1m time_41.0 \u001b[0m\u001b[1m time_42.0 \u001b[0m\u001b[1m time_43.0 \u001b[0m\u001b[1m time_44.0 \u001b[0m\u001b[1m time_45.0 \u001b[0m\u001b[1m time_46.0 \u001b[0m\u001b[1m time_47.0 \u001b[0m\u001b[1m time_48.0 \u001b[0m\u001b[1m time_49.0 \u001b[0m\u001b[1m time_50.0 \u001b[0m\u001b[1m time_51.0 \u001b[0m\u001b[1m time_52.0 \u001b[0m\u001b[1m time_53.0 \u001b[0m\u001b[1m time_54.0 \u001b[0m\u001b[1m time_55.0 \u001b[0m\u001b[1m time_56.0 \u001b[0m\u001b[1m time_57.0 \u001b[0m\u001b[1m time_58.0 \u001b[0m\u001b[1m time_59.0 \u001b[0m\u001b[1m time_60.0 \u001b[0m\u001b[1m time_61.0 \u001b[0m\u001b[1m time_62.0 \u001b[0m\u001b[1m time_63.0 \u001b[0m\u001b[1m time_64.0 \u001b[0m\u001b[1m time_65.0 \u001b[0m\u001b[1m time_66.0 \u001b[0m\u001b[1m time_67.0 \u001b[0m\u001b[1m time_68.0 \u001b[0m\u001b[1m time_69.0 \u001b[0m\u001b[1m time_70.0 \u001b[0m\u001b[1m time_71.0 \u001b[0m\u001b[1m time_72.0 \u001b[0m\u001b[1m time_73.0 \u001b[0m\u001b[1m time_74.0 \u001b[0m\u001b[1m time_75.0 \u001b[0m\u001b[1m time_76.0 \u001b[0m\u001b[1m time_77.0 \u001b[0m\u001b[1m time_78.0 \u001b[0m\u001b[1m time_79.0 \u001b[0m\u001b[1m time_80.0 \u001b[0m\u001b[1m time_81.0 \u001b[0m\u001b[1m time_82.0 \u001b[0m\u001b[1m time_83.0 \u001b[0m\u001b[1m time_84.0 \u001b[0m\u001b[1m time_85.0 \u001b[0m\u001b[1m time_86.0 \u001b[0m\u001b[1m time_87.0 \u001b[0m\u001b[1m time_88.0 \u001b[0m\u001b[1m time_89.0 \u001b[0m\u001b[1m time_90.0 \u001b[0m\u001b[1m time_91.0 \u001b[0m\u001b[1m time_92.0 \u001b[0m\u001b[1m time_93.0 \u001b[0m\u001b[1m time_94.0 \u001b[0m\u001b[1m time_95.0 \u001b[0m\u001b[1m time_96.0 \u001b[0m\u001b[1m time_97.0 \u001b[0m\u001b[1m time_98.0 \u001b[0m\u001b[1m time_99.0 \u001b[0m\u001b[1m time_100.0 \u001b[0m\n",
      "     │\u001b[90m Any   \u001b[0m\u001b[90m Any      \u001b[0m\u001b[90m Any      \u001b[0m\u001b[90m Any      \u001b[0m\u001b[90m Any      \u001b[0m\u001b[90m Any      \u001b[0m\u001b[90m Any      \u001b[0m\u001b[90m Any      \u001b[0m\u001b[90m Any      \u001b[0m\u001b[90m Any      \u001b[0m\u001b[90m Any      \u001b[0m\u001b[90m Any       \u001b[0m\u001b[90m Any       \u001b[0m\u001b[90m Any       \u001b[0m\u001b[90m Any       \u001b[0m\u001b[90m Any       \u001b[0m\u001b[90m Any       \u001b[0m\u001b[90m Any       \u001b[0m\u001b[90m Any       \u001b[0m\u001b[90m Any       \u001b[0m\u001b[90m Any       \u001b[0m\u001b[90m Any       \u001b[0m\u001b[90m Any       \u001b[0m\u001b[90m Any       \u001b[0m\u001b[90m Any       \u001b[0m\u001b[90m Any       \u001b[0m\u001b[90m Any       \u001b[0m\u001b[90m Any       \u001b[0m\u001b[90m Any       \u001b[0m\u001b[90m Any       \u001b[0m\u001b[90m Any       \u001b[0m\u001b[90m Any       \u001b[0m\u001b[90m Any       \u001b[0m\u001b[90m Any       \u001b[0m\u001b[90m Any       \u001b[0m\u001b[90m Any       \u001b[0m\u001b[90m Any       \u001b[0m\u001b[90m Any       \u001b[0m\u001b[90m Any       \u001b[0m\u001b[90m Any       \u001b[0m\u001b[90m Any       \u001b[0m\u001b[90m Any       \u001b[0m\u001b[90m Any       \u001b[0m\u001b[90m Any       \u001b[0m\u001b[90m Any       \u001b[0m\u001b[90m Any       \u001b[0m\u001b[90m Any       \u001b[0m\u001b[90m Any       \u001b[0m\u001b[90m Any       \u001b[0m\u001b[90m Any       \u001b[0m\u001b[90m Any       \u001b[0m\u001b[90m Any       \u001b[0m\u001b[90m Any       \u001b[0m\u001b[90m Any       \u001b[0m\u001b[90m Any       \u001b[0m\u001b[90m Any       \u001b[0m\u001b[90m Any       \u001b[0m\u001b[90m Any       \u001b[0m\u001b[90m Any       \u001b[0m\u001b[90m Any       \u001b[0m\u001b[90m Any       \u001b[0m\u001b[90m Any       \u001b[0m\u001b[90m Any       \u001b[0m\u001b[90m Any       \u001b[0m\u001b[90m Any       \u001b[0m\u001b[90m Any       \u001b[0m\u001b[90m Any       \u001b[0m\u001b[90m Any       \u001b[0m\u001b[90m Any       \u001b[0m\u001b[90m Any       \u001b[0m\u001b[90m Any       \u001b[0m\u001b[90m Any       \u001b[0m\u001b[90m Any       \u001b[0m\u001b[90m Any       \u001b[0m\u001b[90m Any       \u001b[0m\u001b[90m Any       \u001b[0m\u001b[90m Any       \u001b[0m\u001b[90m Any       \u001b[0m\u001b[90m Any       \u001b[0m\u001b[90m Any       \u001b[0m\u001b[90m Any       \u001b[0m\u001b[90m Any       \u001b[0m\u001b[90m Any       \u001b[0m\u001b[90m Any       \u001b[0m\u001b[90m Any       \u001b[0m\u001b[90m Any       \u001b[0m\u001b[90m Any       \u001b[0m\u001b[90m Any       \u001b[0m\u001b[90m Any       \u001b[0m\u001b[90m Any       \u001b[0m\u001b[90m Any       \u001b[0m\u001b[90m Any       \u001b[0m\u001b[90m Any       \u001b[0m\u001b[90m Any       \u001b[0m\u001b[90m Any       \u001b[0m\u001b[90m Any       \u001b[0m\u001b[90m Any       \u001b[0m\u001b[90m Any       \u001b[0m\u001b[90m Any       \u001b[0m\u001b[90m Any       \u001b[0m\u001b[90m Any       \u001b[0m\u001b[90m Any        \u001b[0m\n",
      "─────┼─────────────────────────────────────────────────────────────────────────────────────────────────────────────────────────────────────────────────────────────────────────────────────────────────────────────────────────────────────────────────────────────────────────────────────────────────────────────────────────────────────────────────────────────────────────────────────────────────────────────────────────────────────────────────────────────────────────────────────────────────────────────────────────────────────────────────────────────────────────────────────────────────────────────────────────────────────────────────────────────────────────────────────────────────────────────────────────────────────────────────────────────────────────────────────────────────────────────────────────────────────────────────────────────────────────────────────────────────────────────────────────────────────────────────────────────────────────────────────────────────────────────────────────────────────────────────────────────────────────────────────────────────────────────────────────────────────────────────────\n",
      "   1 │ 0      0         4         6         5         4         5         8         9         10        6         5          5          7          7          7          6          3          2          2          0          0          0          2          7          8          7          8          5          4          10         8          11         5          5          3          3          2          2          5          6          9          5          7          9          8          8          13         16         13         10         13         11         16         18         17         13         13         9          9          12         8          7          8          5          9          8          6          7          9          9          11         10         12         9          9          9          11         8          10         8          11         17         15         11         11         12         15         15         16         8          7          4          3          3          2          2          1          0          0          1          6\n",
      "   2 │ 0      0         2         5         6         8         6         8         8         11        9         5          7          8          10         11         14         13         12         17         15         11         6          12         10         15         14         11         14         19         14         8          12         16         14         17         14         16         16         12         9          7          3          2          2          2          0          0          0          0          0          0          0          0          0          0          0          0          0          0          0          0          0          0          0          0          0          0          0          0          0          0          0          0          0          0          0          0          0          0          0          0          0          0          0          0          0          0          0          0          0          0          0          6          9          8          10         12         10         13         14         12\n",
      "   3 │ 0      0         7         11        9         10        10        13        11        11        11        16         14         12         11         15         11         10         11         5          6          12         10         10         4          4          4          8          10         13         10         10         9          8          11         11         14         13         11         10         9          11         10         7          3          3          2          2          0          0          0          0          0          0          0          0          0          0          0          0          0          0          0          0          0          0          0          0          0          0          0          0          0          0          0          0          0          0          0          0          0          0          0          0          0          0          0          0          0          0          0          0          7          6          4          7          8          10         9          5          4          4\n",
      "   4 │ 0      0         3         2         1         1         0         0         0         0         0         0          0          0          0          0          0          0          0          0          0          0          0          0          0          0          0          0          0          0          0          0          0          0          0          0          0          0          0          0          0          0          0          0          0          0          0          0          0          0          0          0          0          0          0          0          0          0          0          0          0          0          0          0          0          0          0          0          0          0          0          0          0          2          5          5          10         11         7          5          6          12         7          6          3          3          1          1          1          1          1          1          1          0          0          0          0          0          0          3          5          9\n",
      "   5 │ 0      0         6         8         10        6         9         5         9         12        10        13         10         7          8          5          7          11         13         15         13         12         10         13         13         11         16         13         10         9          10         8          10         11         6          6          6          6          8          9          8          7          3          2          8          8          12         7          7          6          7          4          4          4          5          9          5          7          11         8          7          8          9          9          10         7          8          8          8          5          6          10         9          8          9          8          9          11         12         10         11         9          13         12         10         7          10         7          5          7          8          7          6          7          7          8          7          12         17         13         5          9\n",
      "(1000, 102)\n"
     ]
    }
   ],
   "source": [
    "# run simulations for two conditions\n",
    "parameter_sets = [\n",
    "    Dict(\"sigma_u\"=>0.02, \"sigma_b\"=>0.1, \"rho\"=>5.0, \"d\"=>0.5, \"label\"=>0),\n",
    "    Dict(\"sigma_u\"=>0.05, \"sigma_b\"=>0.2, \"rho\"=>8.0, \"d\"=>0.5, \"label\"=>1)\n",
    "]\n",
    "\n",
    "# Save times\n",
    "time_points = collect(0.0:1.0:100.0)  # 0,1,2,...,100\n",
    "\n",
    "# Run 500 trajectories per condition using all available threads\n",
    "df = simulate_telegraph_model(parameter_sets, time_points, 500)\n",
    "\n",
    "println(first(df, 5))\n",
    "println(size(df))  # Should be (1000, 102) for 2 conditions and 101 time points each"
   ]
  },
  {
   "cell_type": "code",
   "execution_count": null,
   "id": "25f5fea4",
   "metadata": {},
   "outputs": [
    {
     "name": "stdout",
     "output_type": "stream",
     "text": [
      "\u001b[1m5×102 DataFrame\u001b[0m\n",
      "\u001b[1m Row \u001b[0m│\u001b[1m label \u001b[0m\u001b[1m time_0.0 \u001b[0m\u001b[1m time_1.0 \u001b[0m\u001b[1m time_2.0 \u001b[0m\u001b[1m time_3.0 \u001b[0m\u001b[1m time_4.0 \u001b[0m\u001b[1m time_5.0 \u001b[0m\u001b[1m time_6.0 \u001b[0m\u001b[1m time_7.0 \u001b[0m\u001b[1m time_8.0 \u001b[0m\u001b[1m time_9.0 \u001b[0m\u001b[1m time_10.0 \u001b[0m\u001b[1m time_11.0 \u001b[0m\u001b[1m time_12.0 \u001b[0m\u001b[1m time_13.0 \u001b[0m\u001b[1m time_14.0 \u001b[0m\u001b[1m time_15.0 \u001b[0m\u001b[1m time_16.0 \u001b[0m\u001b[1m time_17.0 \u001b[0m\u001b[1m time_18.0 \u001b[0m\u001b[1m time_19.0 \u001b[0m\u001b[1m time_20.0 \u001b[0m\u001b[1m time_21.0 \u001b[0m\u001b[1m time_22.0 \u001b[0m\u001b[1m time_23.0 \u001b[0m\u001b[1m time_24.0 \u001b[0m\u001b[1m time_25.0 \u001b[0m\u001b[1m time_26.0 \u001b[0m\u001b[1m time_27.0 \u001b[0m\u001b[1m time_28.0 \u001b[0m\u001b[1m time_29.0 \u001b[0m\u001b[1m time_30.0 \u001b[0m\u001b[1m time_31.0 \u001b[0m\u001b[1m time_32.0 \u001b[0m\u001b[1m time_33.0 \u001b[0m\u001b[1m time_34.0 \u001b[0m\u001b[1m time_35.0 \u001b[0m\u001b[1m time_36.0 \u001b[0m\u001b[1m time_37.0 \u001b[0m\u001b[1m time_38.0 \u001b[0m\u001b[1m time_39.0 \u001b[0m\u001b[1m time_40.0 \u001b[0m\u001b[1m time_41.0 \u001b[0m\u001b[1m time_42.0 \u001b[0m\u001b[1m time_43.0 \u001b[0m\u001b[1m time_44.0 \u001b[0m\u001b[1m time_45.0 \u001b[0m\u001b[1m time_46.0 \u001b[0m\u001b[1m time_47.0 \u001b[0m\u001b[1m time_48.0 \u001b[0m\u001b[1m time_49.0 \u001b[0m\u001b[1m time_50.0 \u001b[0m\u001b[1m time_51.0 \u001b[0m\u001b[1m time_52.0 \u001b[0m\u001b[1m time_53.0 \u001b[0m\u001b[1m time_54.0 \u001b[0m\u001b[1m time_55.0 \u001b[0m\u001b[1m time_56.0 \u001b[0m\u001b[1m time_57.0 \u001b[0m\u001b[1m time_58.0 \u001b[0m\u001b[1m time_59.0 \u001b[0m\u001b[1m time_60.0 \u001b[0m\u001b[1m time_61.0 \u001b[0m\u001b[1m time_62.0 \u001b[0m\u001b[1m time_63.0 \u001b[0m\u001b[1m time_64.0 \u001b[0m\u001b[1m time_65.0 \u001b[0m\u001b[1m time_66.0 \u001b[0m\u001b[1m time_67.0 \u001b[0m\u001b[1m time_68.0 \u001b[0m\u001b[1m time_69.0 \u001b[0m\u001b[1m time_70.0 \u001b[0m\u001b[1m time_71.0 \u001b[0m\u001b[1m time_72.0 \u001b[0m\u001b[1m time_73.0 \u001b[0m\u001b[1m time_74.0 \u001b[0m\u001b[1m time_75.0 \u001b[0m\u001b[1m time_76.0 \u001b[0m\u001b[1m time_77.0 \u001b[0m\u001b[1m time_78.0 \u001b[0m\u001b[1m time_79.0 \u001b[0m\u001b[1m time_80.0 \u001b[0m\u001b[1m time_81.0 \u001b[0m\u001b[1m time_82.0 \u001b[0m\u001b[1m time_83.0 \u001b[0m\u001b[1m time_84.0 \u001b[0m\u001b[1m time_85.0 \u001b[0m\u001b[1m time_86.0 \u001b[0m\u001b[1m time_87.0 \u001b[0m\u001b[1m time_88.0 \u001b[0m\u001b[1m time_89.0 \u001b[0m\u001b[1m time_90.0 \u001b[0m\u001b[1m time_91.0 \u001b[0m\u001b[1m time_92.0 \u001b[0m\u001b[1m time_93.0 \u001b[0m\u001b[1m time_94.0 \u001b[0m\u001b[1m time_95.0 \u001b[0m\u001b[1m time_96.0 \u001b[0m\u001b[1m time_97.0 \u001b[0m\u001b[1m time_98.0 \u001b[0m\u001b[1m time_99.0 \u001b[0m\u001b[1m time_100.0 \u001b[0m\n",
      "     │\u001b[90m Any   \u001b[0m\u001b[90m Any      \u001b[0m\u001b[90m Any      \u001b[0m\u001b[90m Any      \u001b[0m\u001b[90m Any      \u001b[0m\u001b[90m Any      \u001b[0m\u001b[90m Any      \u001b[0m\u001b[90m Any      \u001b[0m\u001b[90m Any      \u001b[0m\u001b[90m Any      \u001b[0m\u001b[90m Any      \u001b[0m\u001b[90m Any       \u001b[0m\u001b[90m Any       \u001b[0m\u001b[90m Any       \u001b[0m\u001b[90m Any       \u001b[0m\u001b[90m Any       \u001b[0m\u001b[90m Any       \u001b[0m\u001b[90m Any       \u001b[0m\u001b[90m Any       \u001b[0m\u001b[90m Any       \u001b[0m\u001b[90m Any       \u001b[0m\u001b[90m Any       \u001b[0m\u001b[90m Any       \u001b[0m\u001b[90m Any       \u001b[0m\u001b[90m Any       \u001b[0m\u001b[90m Any       \u001b[0m\u001b[90m Any       \u001b[0m\u001b[90m Any       \u001b[0m\u001b[90m Any       \u001b[0m\u001b[90m Any       \u001b[0m\u001b[90m Any       \u001b[0m\u001b[90m Any       \u001b[0m\u001b[90m Any       \u001b[0m\u001b[90m Any       \u001b[0m\u001b[90m Any       \u001b[0m\u001b[90m Any       \u001b[0m\u001b[90m Any       \u001b[0m\u001b[90m Any       \u001b[0m\u001b[90m Any       \u001b[0m\u001b[90m Any       \u001b[0m\u001b[90m Any       \u001b[0m\u001b[90m Any       \u001b[0m\u001b[90m Any       \u001b[0m\u001b[90m Any       \u001b[0m\u001b[90m Any       \u001b[0m\u001b[90m Any       \u001b[0m\u001b[90m Any       \u001b[0m\u001b[90m Any       \u001b[0m\u001b[90m Any       \u001b[0m\u001b[90m Any       \u001b[0m\u001b[90m Any       \u001b[0m\u001b[90m Any       \u001b[0m\u001b[90m Any       \u001b[0m\u001b[90m Any       \u001b[0m\u001b[90m Any       \u001b[0m\u001b[90m Any       \u001b[0m\u001b[90m Any       \u001b[0m\u001b[90m Any       \u001b[0m\u001b[90m Any       \u001b[0m\u001b[90m Any       \u001b[0m\u001b[90m Any       \u001b[0m\u001b[90m Any       \u001b[0m\u001b[90m Any       \u001b[0m\u001b[90m Any       \u001b[0m\u001b[90m Any       \u001b[0m\u001b[90m Any       \u001b[0m\u001b[90m Any       \u001b[0m\u001b[90m Any       \u001b[0m\u001b[90m Any       \u001b[0m\u001b[90m Any       \u001b[0m\u001b[90m Any       \u001b[0m\u001b[90m Any       \u001b[0m\u001b[90m Any       \u001b[0m\u001b[90m Any       \u001b[0m\u001b[90m Any       \u001b[0m\u001b[90m Any       \u001b[0m\u001b[90m Any       \u001b[0m\u001b[90m Any       \u001b[0m\u001b[90m Any       \u001b[0m\u001b[90m Any       \u001b[0m\u001b[90m Any       \u001b[0m\u001b[90m Any       \u001b[0m\u001b[90m Any       \u001b[0m\u001b[90m Any       \u001b[0m\u001b[90m Any       \u001b[0m\u001b[90m Any       \u001b[0m\u001b[90m Any       \u001b[0m\u001b[90m Any       \u001b[0m\u001b[90m Any       \u001b[0m\u001b[90m Any       \u001b[0m\u001b[90m Any       \u001b[0m\u001b[90m Any       \u001b[0m\u001b[90m Any       \u001b[0m\u001b[90m Any       \u001b[0m\u001b[90m Any       \u001b[0m\u001b[90m Any       \u001b[0m\u001b[90m Any       \u001b[0m\u001b[90m Any       \u001b[0m\u001b[90m Any       \u001b[0m\u001b[90m Any       \u001b[0m\u001b[90m Any       \u001b[0m\u001b[90m Any        \u001b[0m\n",
      "─────┼─────────────────────────────────────────────────────────────────────────────────────────────────────────────────────────────────────────────────────────────────────────────────────────────────────────────────────────────────────────────────────────────────────────────────────────────────────────────────────────────────────────────────────────────────────────────────────────────────────────────────────────────────────────────────────────────────────────────────────────────────────────────────────────────────────────────────────────────────────────────────────────────────────────────────────────────────────────────────────────────────────────────────────────────────────────────────────────────────────────────────────────────────────────────────────────────────────────────────────────────────────────────────────────────────────────────────────────────────────────────────────────────────────────────────────────────────────────────────────────────────────────────────────────────────────────────────────────────────────────────────────────────────────────────────────────────────────────────────────\n",
      "   1 │ 0      0         2         4         7         13        8         6         4         2         1         0          5          10         7          8          5          7          7          9          10         15         11         7          4          4          4          1          1          1          0          0          0          0          0          0          0          0          0          0          0          0          0          0          0          0          0          0          0          0          0          0          0          0          0          0          0          0          0          0          3          5          11         8          11         12         22         17         18         13         9          3          2          1          1          0          5          8          7          8          9          6          9          4          8          11         7          4          7          11         14         9          6          12         14         11         14         12         7          12         9          10\n",
      "   2 │ 0      0         4         9         8         7         6         4         1         1         1         1          6          15         12         7          12         10         11         13         15         8          11         9          6          6          6          12         11         13         12         9          9          6          9          9          7          9          11         13         10         11         10         10         9          9          8          13         14         15         15         12         7          8          2          7          7          5          3          7          13         10         10         9          12         9          6          7          8          16         15         13         13         12         13         13         16         16         14         14         11         10         13         7          9          11         13         8          11         12         9          8          8          8          14         10         8          7          8          10         9          10\n",
      "   3 │ 0      0         3         2         7         10        11        10        8         11        11        16         12         12         7          10         13         10         6          6          3          5          5          5          8          6          5          5          5          4          6          5          4          4          6          7          5          9          9          13         12         8          4          9          8          3          11         10         8          6          4          5          7          7          6          7          10         10         9          9          11         11         11         8          13         11         14         12         8          10         8          10         13         6          4          1          0          0          0          0          0          0          0          0          0          0          0          0          0          0          0          0          0          0          0          0          0          0          0          0          0          0\n",
      "   4 │ 0      0         3         5         4         5         10        11        10        13        14        6          9          5          9          11         12         9          7          10         7          8          11         4          5          7          6          12         12         12         10         11         10         9          6          7          11         10         10         12         12         10         16         15         10         5          5          7          6          14         15         14         12         11         14         18         10         9          7          9          11         11         7          5          8          9          7          12         12         8          7          7          7          12         11         11         10         8          7          8          8          11         9          11         15         13         12         8          9          11         11         5          5          6          4          2          2          2          2          1          1          1\n",
      "   5 │ 0      0         3         6         11        10        9         8         13        16        19        18         16         11         9          9          8          5          10         13         12         12         6          8          11         12         10         7          8          5          7          3          2          0          0          0          0          0          0          0          0          3          7          10         13         10         10         13         8          10         11         8          6          10         13         11         8          5          10         10         10         8          11         12         12         12         17         13         15         11         11         7          6          5          3          2          0          0          0          0          0          0          0          3          7          7          9          10         15         10         11         9          6          6          5          7          11         9          8          7          9          9\n",
      "(500, 102)\n"
     ]
    }
   ],
   "source": [
    "# run simulations for one condition\n",
    "parameter_sets = [\n",
    "    Dict(\"sigma_u\"=>0.02, \"sigma_b\"=>0.1, \"rho\"=>5.0, \"d\"=>0.5, \"label\"=>0)\n",
    "]\n",
    "\n",
    "# Save times\n",
    "time_points = collect(0.0:1.0:100.0)  # 0,1,2,...,100\n",
    "\n",
    "# Run 500 trajectories per condition using all available threads\n",
    "df = simulate_telegraph_model(parameter_sets, time_points, 500)\n",
    "\n",
    "println(first(df, 5))\n",
    "println(size(df))  # Should be (500, 102) for 1 condition and 101 time points each"
   ]
  },
  {
   "cell_type": "code",
   "execution_count": null,
   "id": "86734613",
   "metadata": {},
   "outputs": [
    {
     "name": "stdout",
     "output_type": "stream",
     "text": [
      "\u001b[1m5×102 DataFrame\u001b[0m\n",
      "\u001b[1m Row \u001b[0m│\u001b[1m label \u001b[0m\u001b[1m time_0.0 \u001b[0m\u001b[1m time_1.0 \u001b[0m\u001b[1m time_2.0 \u001b[0m\u001b[1m time_3.0 \u001b[0m\u001b[1m time_4.0 \u001b[0m\u001b[1m time_5.0 \u001b[0m\u001b[1m time_6.0 \u001b[0m\u001b[1m time_7.0 \u001b[0m\u001b[1m time_8.0 \u001b[0m\u001b[1m time_9.0 \u001b[0m\u001b[1m time_10.0 \u001b[0m\u001b[1m time_11.0 \u001b[0m\u001b[1m time_12.0 \u001b[0m\u001b[1m time_13.0 \u001b[0m\u001b[1m time_14.0 \u001b[0m\u001b[1m time_15.0 \u001b[0m\u001b[1m time_16.0 \u001b[0m\u001b[1m time_17.0 \u001b[0m\u001b[1m time_18.0 \u001b[0m\u001b[1m time_19.0 \u001b[0m\u001b[1m time_20.0 \u001b[0m\u001b[1m time_21.0 \u001b[0m\u001b[1m time_22.0 \u001b[0m\u001b[1m time_23.0 \u001b[0m\u001b[1m time_24.0 \u001b[0m\u001b[1m time_25.0 \u001b[0m\u001b[1m time_26.0 \u001b[0m\u001b[1m time_27.0 \u001b[0m\u001b[1m time_28.0 \u001b[0m\u001b[1m time_29.0 \u001b[0m\u001b[1m time_30.0 \u001b[0m\u001b[1m time_31.0 \u001b[0m\u001b[1m time_32.0 \u001b[0m\u001b[1m time_33.0 \u001b[0m\u001b[1m time_34.0 \u001b[0m\u001b[1m time_35.0 \u001b[0m\u001b[1m time_36.0 \u001b[0m\u001b[1m time_37.0 \u001b[0m\u001b[1m time_38.0 \u001b[0m\u001b[1m time_39.0 \u001b[0m\u001b[1m time_40.0 \u001b[0m\u001b[1m time_41.0 \u001b[0m\u001b[1m time_42.0 \u001b[0m\u001b[1m time_43.0 \u001b[0m\u001b[1m time_44.0 \u001b[0m\u001b[1m time_45.0 \u001b[0m\u001b[1m time_46.0 \u001b[0m\u001b[1m time_47.0 \u001b[0m\u001b[1m time_48.0 \u001b[0m\u001b[1m time_49.0 \u001b[0m\u001b[1m time_50.0 \u001b[0m\u001b[1m time_51.0 \u001b[0m\u001b[1m time_52.0 \u001b[0m\u001b[1m time_53.0 \u001b[0m\u001b[1m time_54.0 \u001b[0m\u001b[1m time_55.0 \u001b[0m\u001b[1m time_56.0 \u001b[0m\u001b[1m time_57.0 \u001b[0m\u001b[1m time_58.0 \u001b[0m\u001b[1m time_59.0 \u001b[0m\u001b[1m time_60.0 \u001b[0m\u001b[1m time_61.0 \u001b[0m\u001b[1m time_62.0 \u001b[0m\u001b[1m time_63.0 \u001b[0m\u001b[1m time_64.0 \u001b[0m\u001b[1m time_65.0 \u001b[0m\u001b[1m time_66.0 \u001b[0m\u001b[1m time_67.0 \u001b[0m\u001b[1m time_68.0 \u001b[0m\u001b[1m time_69.0 \u001b[0m\u001b[1m time_70.0 \u001b[0m\u001b[1m time_71.0 \u001b[0m\u001b[1m time_72.0 \u001b[0m\u001b[1m time_73.0 \u001b[0m\u001b[1m time_74.0 \u001b[0m\u001b[1m time_75.0 \u001b[0m\u001b[1m time_76.0 \u001b[0m\u001b[1m time_77.0 \u001b[0m\u001b[1m time_78.0 \u001b[0m\u001b[1m time_79.0 \u001b[0m\u001b[1m time_80.0 \u001b[0m\u001b[1m time_81.0 \u001b[0m\u001b[1m time_82.0 \u001b[0m\u001b[1m time_83.0 \u001b[0m\u001b[1m time_84.0 \u001b[0m\u001b[1m time_85.0 \u001b[0m\u001b[1m time_86.0 \u001b[0m\u001b[1m time_87.0 \u001b[0m\u001b[1m time_88.0 \u001b[0m\u001b[1m time_89.0 \u001b[0m\u001b[1m time_90.0 \u001b[0m\u001b[1m time_91.0 \u001b[0m\u001b[1m time_92.0 \u001b[0m\u001b[1m time_93.0 \u001b[0m\u001b[1m time_94.0 \u001b[0m\u001b[1m time_95.0 \u001b[0m\u001b[1m time_96.0 \u001b[0m\u001b[1m time_97.0 \u001b[0m\u001b[1m time_98.0 \u001b[0m\u001b[1m time_99.0 \u001b[0m\u001b[1m time_100.0 \u001b[0m\n",
      "     │\u001b[90m Any   \u001b[0m\u001b[90m Any      \u001b[0m\u001b[90m Any      \u001b[0m\u001b[90m Any      \u001b[0m\u001b[90m Any      \u001b[0m\u001b[90m Any      \u001b[0m\u001b[90m Any      \u001b[0m\u001b[90m Any      \u001b[0m\u001b[90m Any      \u001b[0m\u001b[90m Any      \u001b[0m\u001b[90m Any      \u001b[0m\u001b[90m Any       \u001b[0m\u001b[90m Any       \u001b[0m\u001b[90m Any       \u001b[0m\u001b[90m Any       \u001b[0m\u001b[90m Any       \u001b[0m\u001b[90m Any       \u001b[0m\u001b[90m Any       \u001b[0m\u001b[90m Any       \u001b[0m\u001b[90m Any       \u001b[0m\u001b[90m Any       \u001b[0m\u001b[90m Any       \u001b[0m\u001b[90m Any       \u001b[0m\u001b[90m Any       \u001b[0m\u001b[90m Any       \u001b[0m\u001b[90m Any       \u001b[0m\u001b[90m Any       \u001b[0m\u001b[90m Any       \u001b[0m\u001b[90m Any       \u001b[0m\u001b[90m Any       \u001b[0m\u001b[90m Any       \u001b[0m\u001b[90m Any       \u001b[0m\u001b[90m Any       \u001b[0m\u001b[90m Any       \u001b[0m\u001b[90m Any       \u001b[0m\u001b[90m Any       \u001b[0m\u001b[90m Any       \u001b[0m\u001b[90m Any       \u001b[0m\u001b[90m Any       \u001b[0m\u001b[90m Any       \u001b[0m\u001b[90m Any       \u001b[0m\u001b[90m Any       \u001b[0m\u001b[90m Any       \u001b[0m\u001b[90m Any       \u001b[0m\u001b[90m Any       \u001b[0m\u001b[90m Any       \u001b[0m\u001b[90m Any       \u001b[0m\u001b[90m Any       \u001b[0m\u001b[90m Any       \u001b[0m\u001b[90m Any       \u001b[0m\u001b[90m Any       \u001b[0m\u001b[90m Any       \u001b[0m\u001b[90m Any       \u001b[0m\u001b[90m Any       \u001b[0m\u001b[90m Any       \u001b[0m\u001b[90m Any       \u001b[0m\u001b[90m Any       \u001b[0m\u001b[90m Any       \u001b[0m\u001b[90m Any       \u001b[0m\u001b[90m Any       \u001b[0m\u001b[90m Any       \u001b[0m\u001b[90m Any       \u001b[0m\u001b[90m Any       \u001b[0m\u001b[90m Any       \u001b[0m\u001b[90m Any       \u001b[0m\u001b[90m Any       \u001b[0m\u001b[90m Any       \u001b[0m\u001b[90m Any       \u001b[0m\u001b[90m Any       \u001b[0m\u001b[90m Any       \u001b[0m\u001b[90m Any       \u001b[0m\u001b[90m Any       \u001b[0m\u001b[90m Any       \u001b[0m\u001b[90m Any       \u001b[0m\u001b[90m Any       \u001b[0m\u001b[90m Any       \u001b[0m\u001b[90m Any       \u001b[0m\u001b[90m Any       \u001b[0m\u001b[90m Any       \u001b[0m\u001b[90m Any       \u001b[0m\u001b[90m Any       \u001b[0m\u001b[90m Any       \u001b[0m\u001b[90m Any       \u001b[0m\u001b[90m Any       \u001b[0m\u001b[90m Any       \u001b[0m\u001b[90m Any       \u001b[0m\u001b[90m Any       \u001b[0m\u001b[90m Any       \u001b[0m\u001b[90m Any       \u001b[0m\u001b[90m Any       \u001b[0m\u001b[90m Any       \u001b[0m\u001b[90m Any       \u001b[0m\u001b[90m Any       \u001b[0m\u001b[90m Any       \u001b[0m\u001b[90m Any       \u001b[0m\u001b[90m Any       \u001b[0m\u001b[90m Any       \u001b[0m\u001b[90m Any       \u001b[0m\u001b[90m Any       \u001b[0m\u001b[90m Any       \u001b[0m\u001b[90m Any       \u001b[0m\u001b[90m Any        \u001b[0m\n",
      "─────┼─────────────────────────────────────────────────────────────────────────────────────────────────────────────────────────────────────────────────────────────────────────────────────────────────────────────────────────────────────────────────────────────────────────────────────────────────────────────────────────────────────────────────────────────────────────────────────────────────────────────────────────────────────────────────────────────────────────────────────────────────────────────────────────────────────────────────────────────────────────────────────────────────────────────────────────────────────────────────────────────────────────────────────────────────────────────────────────────────────────────────────────────────────────────────────────────────────────────────────────────────────────────────────────────────────────────────────────────────────────────────────────────────────────────────────────────────────────────────────────────────────────────────────────────────────────────────────────────────────────────────────────────────────────────────────────────────────────────────────\n",
      "   1 │ 0      0         2         7         10        6         4         4         3         1         1         1          0          2          7          9          13         11         12         11         14         14         10         11         6          4          2          1          1          1          0          2          4          8          10         12         7          10         11         5          5          6          5          10         9          12         5          2          2          1          1          1          1          0          0          0          1          5          10         10         7          5          10         12         11         11         14         18         13         12         11         12         15         9          10         10         11         7          10         10         11         13         9          8          10         7          6          7          7          13         13         16         17         14         13         13         6          3          7          10         7          8\n",
      "   2 │ 0      0         5         7         6         10        10        14        10        16        17        17         9          8          9          11         9          10         9          8          8          8          6          7          10         13         14         11         9          9          8          4          7          5          4          7          6          5          4          3          8          4          4          5          8          7          5          9          9          6          4          3          11         5          2          2          2          2          1          1          1          1          0          0          0          1          4          7          11         13         10         13         13         12         10         5          3          1          7          8          11         9          11         13         10         8          15         12         11         11         11         12         12         10         9          12         15         9          8          12         12         9\n",
      "   3 │ 0      0         7         6         7         7         11        10        16        11        5         4          2          1          1          1          1          1          4          4          6          6          6          10         9          11         11         6          8          6          7          7          6          5          8          5          5          4          6          10         9          6          5          6          15         19         15         11         13         9          5          8          11         11         9          8          7          4          6          9          6          13         14         15         6          6          10         9          12         13         7          13         16         11         9          14         14         13         12         8          6          3          2          2          2          2          1          0          0          0          0          0          0          3          3          7          7          7          8          12         11         15\n",
      "   4 │ 0      0         3         9         13        11        14        10        9         7         9         9          7          8          11         15         13         11         8          9          12         16         16         13         15         13         11         9          9          8          8          10         11         14         12         13         10         11         11         9          7          8          10         10         13         11         8          9          13         12         13         12         14         13         11         13         8          11         11         9          11         12         10         9          9          10         8          6          8          7          11         12         11         16         11         11         10         12         13         12         12         16         9          11         10         8          5          7          12         11         10         13         17         17         12         12         8          6          5          8          9          13\n",
      "   5 │ 0      0         7         7         10        6         2         1         0         0         0         0          0          0          0          3          6          8          8          11         11         15         12         10         9          7          8          9          9          11         13         12         11         10         11         14         14         11         12         15         14         13         11         11         11         8          11         10         10         8          7          6          2          3          5          7          8          8          6          14         21         16         16         20         15         16         26         12         9          10         9          5          4          4          4          11         7          10         10         9          10         9          11         8          11         12         16         12         11         13         12         11         13         12         11         6          8          8          9          14         20         12\n",
      "(500, 102)\n"
     ]
    }
   ],
   "source": [
    "# run a simulation without label, the label column will automatically be set to 0.\n",
    "parameter_sets = [\n",
    "    Dict(\"sigma_u\"=>0.02, \"sigma_b\"=>0.1, \"rho\"=>5.0, \"d\"=>0.5)\n",
    "]   \n",
    "\n",
    "# Save times    \n",
    "time_points = collect(0.0:1.0:100.0)  # 0,1,2,...,100\n",
    "\n",
    "# Run 500 trajectories per condition using all available threads\n",
    "df = simulate_telegraph_model(parameter_sets, time_points, 500)\n",
    "println(first(df, 5))\n",
    "println(size(df))  # Should be (500, 101) for 1 condition without"
   ]
  },
  {
   "cell_type": "code",
   "execution_count": null,
   "id": "8d34f692",
   "metadata": {},
   "outputs": [
    {
     "data": {
      "text/plain": [
       "\"telegraph_simulation_example.csv\""
      ]
     },
     "metadata": {},
     "output_type": "display_data"
    }
   ],
   "source": [
    "# csv saving routine: this saves the trajectories in the same fashion as the python code\n",
    "using CSV\n",
    "CSV.write(\"telegraph_simulation_example.csv\", df)"
   ]
  },
  {
   "cell_type": "code",
   "execution_count": null,
   "id": "11009305",
   "metadata": {},
   "outputs": [],
   "source": [
    "# npz saving routine, Matrix{Int64} must be used to convert DataFrame to a matrix of integers or this will fail\n",
    "using NPZ\n",
    "npzwrite(\"telegraph_simulation_example.npz\", Matrix{Int64}(df))"
   ]
  },
  {
   "cell_type": "markdown",
   "id": "58609d1b",
   "metadata": {},
   "source": [
    "----\n",
    "# Calling the julia functions within python\n",
    "<span style=\"color: red\"> Run the following using a Python virtual environment</span>"
   ]
  },
  {
   "cell_type": "code",
   "execution_count": 2,
   "id": "8fe5adc8",
   "metadata": {},
   "outputs": [
    {
     "name": "stderr",
     "output_type": "stream",
     "text": [
      "  Activating project at `~/stochastic_simulations/julia`\n",
      "Precompiling project...\n",
      "    476.7 ms  ✓ libaom_jll\n",
      "    698.2 ms  ✓ SparseMatrixColorings → SparseMatrixColoringsColorsExt\n",
      "    746.5 ms  ✓ FFMPEG_jll\n",
      "    520.9 ms  ✓ FFMPEG\n",
      "    696.4 ms  ✓ GR_jll\n",
      "   2833.8 ms  ✓ GR\n",
      "  48770.2 ms  ✓ Plots\n",
      "   2848.7 ms  ✓ Plots → FileIOExt\n",
      "   3287.4 ms  ✓ Plots → UnitfulExt\n",
      "  9 dependencies successfully precompiled in 59 seconds. 578 already precompiled.\n"
     ]
    },
    {
     "data": {
      "application/vnd.microsoft.datawrangler.viewer.v0+json": {
       "columns": [
        {
         "name": "index",
         "rawType": "int64",
         "type": "integer"
        },
        {
         "name": "0",
         "rawType": "int64",
         "type": "integer"
        },
        {
         "name": "1",
         "rawType": "int64",
         "type": "integer"
        },
        {
         "name": "2",
         "rawType": "int64",
         "type": "integer"
        },
        {
         "name": "3",
         "rawType": "int64",
         "type": "integer"
        },
        {
         "name": "4",
         "rawType": "int64",
         "type": "integer"
        },
        {
         "name": "5",
         "rawType": "int64",
         "type": "integer"
        },
        {
         "name": "6",
         "rawType": "int64",
         "type": "integer"
        },
        {
         "name": "7",
         "rawType": "int64",
         "type": "integer"
        },
        {
         "name": "8",
         "rawType": "int64",
         "type": "integer"
        },
        {
         "name": "9",
         "rawType": "int64",
         "type": "integer"
        },
        {
         "name": "10",
         "rawType": "int64",
         "type": "integer"
        },
        {
         "name": "11",
         "rawType": "int64",
         "type": "integer"
        },
        {
         "name": "12",
         "rawType": "int64",
         "type": "integer"
        },
        {
         "name": "13",
         "rawType": "int64",
         "type": "integer"
        },
        {
         "name": "14",
         "rawType": "int64",
         "type": "integer"
        },
        {
         "name": "15",
         "rawType": "int64",
         "type": "integer"
        },
        {
         "name": "16",
         "rawType": "int64",
         "type": "integer"
        },
        {
         "name": "17",
         "rawType": "int64",
         "type": "integer"
        },
        {
         "name": "18",
         "rawType": "int64",
         "type": "integer"
        },
        {
         "name": "19",
         "rawType": "int64",
         "type": "integer"
        },
        {
         "name": "20",
         "rawType": "int64",
         "type": "integer"
        },
        {
         "name": "21",
         "rawType": "int64",
         "type": "integer"
        },
        {
         "name": "22",
         "rawType": "int64",
         "type": "integer"
        },
        {
         "name": "23",
         "rawType": "int64",
         "type": "integer"
        },
        {
         "name": "24",
         "rawType": "int64",
         "type": "integer"
        },
        {
         "name": "25",
         "rawType": "int64",
         "type": "integer"
        },
        {
         "name": "26",
         "rawType": "int64",
         "type": "integer"
        },
        {
         "name": "27",
         "rawType": "int64",
         "type": "integer"
        },
        {
         "name": "28",
         "rawType": "int64",
         "type": "integer"
        },
        {
         "name": "29",
         "rawType": "int64",
         "type": "integer"
        },
        {
         "name": "30",
         "rawType": "int64",
         "type": "integer"
        },
        {
         "name": "31",
         "rawType": "int64",
         "type": "integer"
        },
        {
         "name": "32",
         "rawType": "int64",
         "type": "integer"
        },
        {
         "name": "33",
         "rawType": "int64",
         "type": "integer"
        },
        {
         "name": "34",
         "rawType": "int64",
         "type": "integer"
        },
        {
         "name": "35",
         "rawType": "int64",
         "type": "integer"
        },
        {
         "name": "36",
         "rawType": "int64",
         "type": "integer"
        },
        {
         "name": "37",
         "rawType": "int64",
         "type": "integer"
        },
        {
         "name": "38",
         "rawType": "int64",
         "type": "integer"
        },
        {
         "name": "39",
         "rawType": "int64",
         "type": "integer"
        },
        {
         "name": "40",
         "rawType": "int64",
         "type": "integer"
        },
        {
         "name": "41",
         "rawType": "int64",
         "type": "integer"
        },
        {
         "name": "42",
         "rawType": "int64",
         "type": "integer"
        },
        {
         "name": "43",
         "rawType": "int64",
         "type": "integer"
        },
        {
         "name": "44",
         "rawType": "int64",
         "type": "integer"
        },
        {
         "name": "45",
         "rawType": "int64",
         "type": "integer"
        },
        {
         "name": "46",
         "rawType": "int64",
         "type": "integer"
        },
        {
         "name": "47",
         "rawType": "int64",
         "type": "integer"
        },
        {
         "name": "48",
         "rawType": "int64",
         "type": "integer"
        },
        {
         "name": "49",
         "rawType": "int64",
         "type": "integer"
        },
        {
         "name": "50",
         "rawType": "int64",
         "type": "integer"
        },
        {
         "name": "51",
         "rawType": "int64",
         "type": "integer"
        },
        {
         "name": "52",
         "rawType": "int64",
         "type": "integer"
        },
        {
         "name": "53",
         "rawType": "int64",
         "type": "integer"
        },
        {
         "name": "54",
         "rawType": "int64",
         "type": "integer"
        },
        {
         "name": "55",
         "rawType": "int64",
         "type": "integer"
        },
        {
         "name": "56",
         "rawType": "int64",
         "type": "integer"
        },
        {
         "name": "57",
         "rawType": "int64",
         "type": "integer"
        },
        {
         "name": "58",
         "rawType": "int64",
         "type": "integer"
        },
        {
         "name": "59",
         "rawType": "int64",
         "type": "integer"
        },
        {
         "name": "60",
         "rawType": "int64",
         "type": "integer"
        },
        {
         "name": "61",
         "rawType": "int64",
         "type": "integer"
        },
        {
         "name": "62",
         "rawType": "int64",
         "type": "integer"
        },
        {
         "name": "63",
         "rawType": "int64",
         "type": "integer"
        },
        {
         "name": "64",
         "rawType": "int64",
         "type": "integer"
        },
        {
         "name": "65",
         "rawType": "int64",
         "type": "integer"
        },
        {
         "name": "66",
         "rawType": "int64",
         "type": "integer"
        },
        {
         "name": "67",
         "rawType": "int64",
         "type": "integer"
        },
        {
         "name": "68",
         "rawType": "int64",
         "type": "integer"
        },
        {
         "name": "69",
         "rawType": "int64",
         "type": "integer"
        },
        {
         "name": "70",
         "rawType": "int64",
         "type": "integer"
        },
        {
         "name": "71",
         "rawType": "int64",
         "type": "integer"
        },
        {
         "name": "72",
         "rawType": "int64",
         "type": "integer"
        },
        {
         "name": "73",
         "rawType": "int64",
         "type": "integer"
        },
        {
         "name": "74",
         "rawType": "int64",
         "type": "integer"
        },
        {
         "name": "75",
         "rawType": "int64",
         "type": "integer"
        },
        {
         "name": "76",
         "rawType": "int64",
         "type": "integer"
        },
        {
         "name": "77",
         "rawType": "int64",
         "type": "integer"
        },
        {
         "name": "78",
         "rawType": "int64",
         "type": "integer"
        },
        {
         "name": "79",
         "rawType": "int64",
         "type": "integer"
        },
        {
         "name": "80",
         "rawType": "int64",
         "type": "integer"
        },
        {
         "name": "81",
         "rawType": "int64",
         "type": "integer"
        },
        {
         "name": "82",
         "rawType": "int64",
         "type": "integer"
        },
        {
         "name": "83",
         "rawType": "int64",
         "type": "integer"
        },
        {
         "name": "84",
         "rawType": "int64",
         "type": "integer"
        },
        {
         "name": "85",
         "rawType": "int64",
         "type": "integer"
        },
        {
         "name": "86",
         "rawType": "int64",
         "type": "integer"
        },
        {
         "name": "87",
         "rawType": "int64",
         "type": "integer"
        },
        {
         "name": "88",
         "rawType": "int64",
         "type": "integer"
        },
        {
         "name": "89",
         "rawType": "int64",
         "type": "integer"
        },
        {
         "name": "90",
         "rawType": "int64",
         "type": "integer"
        },
        {
         "name": "91",
         "rawType": "int64",
         "type": "integer"
        },
        {
         "name": "92",
         "rawType": "int64",
         "type": "integer"
        },
        {
         "name": "93",
         "rawType": "int64",
         "type": "integer"
        },
        {
         "name": "94",
         "rawType": "int64",
         "type": "integer"
        },
        {
         "name": "95",
         "rawType": "int64",
         "type": "integer"
        },
        {
         "name": "96",
         "rawType": "int64",
         "type": "integer"
        },
        {
         "name": "97",
         "rawType": "int64",
         "type": "integer"
        },
        {
         "name": "98",
         "rawType": "int64",
         "type": "integer"
        },
        {
         "name": "99",
         "rawType": "int64",
         "type": "integer"
        },
        {
         "name": "100",
         "rawType": "int64",
         "type": "integer"
        },
        {
         "name": "101",
         "rawType": "int64",
         "type": "integer"
        },
        {
         "name": "102",
         "rawType": "int64",
         "type": "integer"
        },
        {
         "name": "103",
         "rawType": "int64",
         "type": "integer"
        },
        {
         "name": "104",
         "rawType": "int64",
         "type": "integer"
        },
        {
         "name": "105",
         "rawType": "int64",
         "type": "integer"
        },
        {
         "name": "106",
         "rawType": "int64",
         "type": "integer"
        },
        {
         "name": "107",
         "rawType": "int64",
         "type": "integer"
        },
        {
         "name": "108",
         "rawType": "int64",
         "type": "integer"
        },
        {
         "name": "109",
         "rawType": "int64",
         "type": "integer"
        },
        {
         "name": "110",
         "rawType": "int64",
         "type": "integer"
        },
        {
         "name": "111",
         "rawType": "int64",
         "type": "integer"
        },
        {
         "name": "112",
         "rawType": "int64",
         "type": "integer"
        },
        {
         "name": "113",
         "rawType": "int64",
         "type": "integer"
        },
        {
         "name": "114",
         "rawType": "int64",
         "type": "integer"
        },
        {
         "name": "115",
         "rawType": "int64",
         "type": "integer"
        },
        {
         "name": "116",
         "rawType": "int64",
         "type": "integer"
        },
        {
         "name": "117",
         "rawType": "int64",
         "type": "integer"
        },
        {
         "name": "118",
         "rawType": "int64",
         "type": "integer"
        },
        {
         "name": "119",
         "rawType": "int64",
         "type": "integer"
        },
        {
         "name": "120",
         "rawType": "int64",
         "type": "integer"
        },
        {
         "name": "121",
         "rawType": "int64",
         "type": "integer"
        },
        {
         "name": "122",
         "rawType": "int64",
         "type": "integer"
        },
        {
         "name": "123",
         "rawType": "int64",
         "type": "integer"
        },
        {
         "name": "124",
         "rawType": "int64",
         "type": "integer"
        },
        {
         "name": "125",
         "rawType": "int64",
         "type": "integer"
        },
        {
         "name": "126",
         "rawType": "int64",
         "type": "integer"
        },
        {
         "name": "127",
         "rawType": "int64",
         "type": "integer"
        },
        {
         "name": "128",
         "rawType": "int64",
         "type": "integer"
        },
        {
         "name": "129",
         "rawType": "int64",
         "type": "integer"
        },
        {
         "name": "130",
         "rawType": "int64",
         "type": "integer"
        },
        {
         "name": "131",
         "rawType": "int64",
         "type": "integer"
        },
        {
         "name": "132",
         "rawType": "int64",
         "type": "integer"
        },
        {
         "name": "133",
         "rawType": "int64",
         "type": "integer"
        },
        {
         "name": "134",
         "rawType": "int64",
         "type": "integer"
        },
        {
         "name": "135",
         "rawType": "int64",
         "type": "integer"
        },
        {
         "name": "136",
         "rawType": "int64",
         "type": "integer"
        },
        {
         "name": "137",
         "rawType": "int64",
         "type": "integer"
        },
        {
         "name": "138",
         "rawType": "int64",
         "type": "integer"
        },
        {
         "name": "139",
         "rawType": "int64",
         "type": "integer"
        },
        {
         "name": "140",
         "rawType": "int64",
         "type": "integer"
        },
        {
         "name": "141",
         "rawType": "int64",
         "type": "integer"
        },
        {
         "name": "142",
         "rawType": "int64",
         "type": "integer"
        },
        {
         "name": "143",
         "rawType": "int64",
         "type": "integer"
        },
        {
         "name": "144",
         "rawType": "int64",
         "type": "integer"
        },
        {
         "name": "145",
         "rawType": "int64",
         "type": "integer"
        },
        {
         "name": "146",
         "rawType": "int64",
         "type": "integer"
        },
        {
         "name": "147",
         "rawType": "int64",
         "type": "integer"
        },
        {
         "name": "148",
         "rawType": "int64",
         "type": "integer"
        },
        {
         "name": "149",
         "rawType": "int64",
         "type": "integer"
        },
        {
         "name": "150",
         "rawType": "int64",
         "type": "integer"
        },
        {
         "name": "151",
         "rawType": "int64",
         "type": "integer"
        },
        {
         "name": "152",
         "rawType": "int64",
         "type": "integer"
        },
        {
         "name": "153",
         "rawType": "int64",
         "type": "integer"
        },
        {
         "name": "154",
         "rawType": "int64",
         "type": "integer"
        },
        {
         "name": "155",
         "rawType": "int64",
         "type": "integer"
        },
        {
         "name": "156",
         "rawType": "int64",
         "type": "integer"
        },
        {
         "name": "157",
         "rawType": "int64",
         "type": "integer"
        },
        {
         "name": "158",
         "rawType": "int64",
         "type": "integer"
        },
        {
         "name": "159",
         "rawType": "int64",
         "type": "integer"
        },
        {
         "name": "160",
         "rawType": "int64",
         "type": "integer"
        },
        {
         "name": "161",
         "rawType": "int64",
         "type": "integer"
        },
        {
         "name": "162",
         "rawType": "int64",
         "type": "integer"
        },
        {
         "name": "163",
         "rawType": "int64",
         "type": "integer"
        },
        {
         "name": "164",
         "rawType": "int64",
         "type": "integer"
        },
        {
         "name": "165",
         "rawType": "int64",
         "type": "integer"
        },
        {
         "name": "166",
         "rawType": "int64",
         "type": "integer"
        },
        {
         "name": "167",
         "rawType": "int64",
         "type": "integer"
        },
        {
         "name": "168",
         "rawType": "int64",
         "type": "integer"
        },
        {
         "name": "169",
         "rawType": "int64",
         "type": "integer"
        },
        {
         "name": "170",
         "rawType": "int64",
         "type": "integer"
        },
        {
         "name": "171",
         "rawType": "int64",
         "type": "integer"
        },
        {
         "name": "172",
         "rawType": "int64",
         "type": "integer"
        },
        {
         "name": "173",
         "rawType": "int64",
         "type": "integer"
        },
        {
         "name": "174",
         "rawType": "int64",
         "type": "integer"
        },
        {
         "name": "175",
         "rawType": "int64",
         "type": "integer"
        },
        {
         "name": "176",
         "rawType": "int64",
         "type": "integer"
        },
        {
         "name": "177",
         "rawType": "int64",
         "type": "integer"
        },
        {
         "name": "178",
         "rawType": "int64",
         "type": "integer"
        },
        {
         "name": "179",
         "rawType": "int64",
         "type": "integer"
        },
        {
         "name": "180",
         "rawType": "int64",
         "type": "integer"
        },
        {
         "name": "181",
         "rawType": "int64",
         "type": "integer"
        },
        {
         "name": "182",
         "rawType": "int64",
         "type": "integer"
        },
        {
         "name": "183",
         "rawType": "int64",
         "type": "integer"
        },
        {
         "name": "184",
         "rawType": "int64",
         "type": "integer"
        },
        {
         "name": "185",
         "rawType": "int64",
         "type": "integer"
        },
        {
         "name": "186",
         "rawType": "int64",
         "type": "integer"
        },
        {
         "name": "187",
         "rawType": "int64",
         "type": "integer"
        },
        {
         "name": "188",
         "rawType": "int64",
         "type": "integer"
        },
        {
         "name": "189",
         "rawType": "int64",
         "type": "integer"
        },
        {
         "name": "190",
         "rawType": "int64",
         "type": "integer"
        },
        {
         "name": "191",
         "rawType": "int64",
         "type": "integer"
        },
        {
         "name": "192",
         "rawType": "int64",
         "type": "integer"
        },
        {
         "name": "193",
         "rawType": "int64",
         "type": "integer"
        },
        {
         "name": "194",
         "rawType": "int64",
         "type": "integer"
        },
        {
         "name": "195",
         "rawType": "int64",
         "type": "integer"
        },
        {
         "name": "196",
         "rawType": "int64",
         "type": "integer"
        },
        {
         "name": "197",
         "rawType": "int64",
         "type": "integer"
        },
        {
         "name": "198",
         "rawType": "int64",
         "type": "integer"
        },
        {
         "name": "199",
         "rawType": "int64",
         "type": "integer"
        },
        {
         "name": "200",
         "rawType": "int64",
         "type": "integer"
        },
        {
         "name": "201",
         "rawType": "int64",
         "type": "integer"
        },
        {
         "name": "202",
         "rawType": "int64",
         "type": "integer"
        },
        {
         "name": "203",
         "rawType": "int64",
         "type": "integer"
        },
        {
         "name": "204",
         "rawType": "int64",
         "type": "integer"
        },
        {
         "name": "205",
         "rawType": "int64",
         "type": "integer"
        },
        {
         "name": "206",
         "rawType": "int64",
         "type": "integer"
        },
        {
         "name": "207",
         "rawType": "int64",
         "type": "integer"
        },
        {
         "name": "208",
         "rawType": "int64",
         "type": "integer"
        },
        {
         "name": "209",
         "rawType": "int64",
         "type": "integer"
        },
        {
         "name": "210",
         "rawType": "int64",
         "type": "integer"
        },
        {
         "name": "211",
         "rawType": "int64",
         "type": "integer"
        },
        {
         "name": "212",
         "rawType": "int64",
         "type": "integer"
        },
        {
         "name": "213",
         "rawType": "int64",
         "type": "integer"
        },
        {
         "name": "214",
         "rawType": "int64",
         "type": "integer"
        },
        {
         "name": "215",
         "rawType": "int64",
         "type": "integer"
        },
        {
         "name": "216",
         "rawType": "int64",
         "type": "integer"
        },
        {
         "name": "217",
         "rawType": "int64",
         "type": "integer"
        },
        {
         "name": "218",
         "rawType": "int64",
         "type": "integer"
        },
        {
         "name": "219",
         "rawType": "int64",
         "type": "integer"
        },
        {
         "name": "220",
         "rawType": "int64",
         "type": "integer"
        },
        {
         "name": "221",
         "rawType": "int64",
         "type": "integer"
        },
        {
         "name": "222",
         "rawType": "int64",
         "type": "integer"
        },
        {
         "name": "223",
         "rawType": "int64",
         "type": "integer"
        },
        {
         "name": "224",
         "rawType": "int64",
         "type": "integer"
        },
        {
         "name": "225",
         "rawType": "int64",
         "type": "integer"
        },
        {
         "name": "226",
         "rawType": "int64",
         "type": "integer"
        },
        {
         "name": "227",
         "rawType": "int64",
         "type": "integer"
        },
        {
         "name": "228",
         "rawType": "int64",
         "type": "integer"
        },
        {
         "name": "229",
         "rawType": "int64",
         "type": "integer"
        },
        {
         "name": "230",
         "rawType": "int64",
         "type": "integer"
        },
        {
         "name": "231",
         "rawType": "int64",
         "type": "integer"
        },
        {
         "name": "232",
         "rawType": "int64",
         "type": "integer"
        },
        {
         "name": "233",
         "rawType": "int64",
         "type": "integer"
        },
        {
         "name": "234",
         "rawType": "int64",
         "type": "integer"
        },
        {
         "name": "235",
         "rawType": "int64",
         "type": "integer"
        },
        {
         "name": "236",
         "rawType": "int64",
         "type": "integer"
        },
        {
         "name": "237",
         "rawType": "int64",
         "type": "integer"
        },
        {
         "name": "238",
         "rawType": "int64",
         "type": "integer"
        },
        {
         "name": "239",
         "rawType": "int64",
         "type": "integer"
        },
        {
         "name": "240",
         "rawType": "int64",
         "type": "integer"
        },
        {
         "name": "241",
         "rawType": "int64",
         "type": "integer"
        },
        {
         "name": "242",
         "rawType": "int64",
         "type": "integer"
        },
        {
         "name": "243",
         "rawType": "int64",
         "type": "integer"
        },
        {
         "name": "244",
         "rawType": "int64",
         "type": "integer"
        },
        {
         "name": "245",
         "rawType": "int64",
         "type": "integer"
        },
        {
         "name": "246",
         "rawType": "int64",
         "type": "integer"
        },
        {
         "name": "247",
         "rawType": "int64",
         "type": "integer"
        },
        {
         "name": "248",
         "rawType": "int64",
         "type": "integer"
        },
        {
         "name": "249",
         "rawType": "int64",
         "type": "integer"
        },
        {
         "name": "250",
         "rawType": "int64",
         "type": "integer"
        },
        {
         "name": "251",
         "rawType": "int64",
         "type": "integer"
        },
        {
         "name": "252",
         "rawType": "int64",
         "type": "integer"
        },
        {
         "name": "253",
         "rawType": "int64",
         "type": "integer"
        },
        {
         "name": "254",
         "rawType": "int64",
         "type": "integer"
        },
        {
         "name": "255",
         "rawType": "int64",
         "type": "integer"
        },
        {
         "name": "256",
         "rawType": "int64",
         "type": "integer"
        },
        {
         "name": "257",
         "rawType": "int64",
         "type": "integer"
        },
        {
         "name": "258",
         "rawType": "int64",
         "type": "integer"
        },
        {
         "name": "259",
         "rawType": "int64",
         "type": "integer"
        },
        {
         "name": "260",
         "rawType": "int64",
         "type": "integer"
        },
        {
         "name": "261",
         "rawType": "int64",
         "type": "integer"
        },
        {
         "name": "262",
         "rawType": "int64",
         "type": "integer"
        },
        {
         "name": "263",
         "rawType": "int64",
         "type": "integer"
        },
        {
         "name": "264",
         "rawType": "int64",
         "type": "integer"
        },
        {
         "name": "265",
         "rawType": "int64",
         "type": "integer"
        },
        {
         "name": "266",
         "rawType": "int64",
         "type": "integer"
        },
        {
         "name": "267",
         "rawType": "int64",
         "type": "integer"
        },
        {
         "name": "268",
         "rawType": "int64",
         "type": "integer"
        },
        {
         "name": "269",
         "rawType": "int64",
         "type": "integer"
        },
        {
         "name": "270",
         "rawType": "int64",
         "type": "integer"
        },
        {
         "name": "271",
         "rawType": "int64",
         "type": "integer"
        },
        {
         "name": "272",
         "rawType": "int64",
         "type": "integer"
        },
        {
         "name": "273",
         "rawType": "int64",
         "type": "integer"
        },
        {
         "name": "274",
         "rawType": "int64",
         "type": "integer"
        },
        {
         "name": "275",
         "rawType": "int64",
         "type": "integer"
        },
        {
         "name": "276",
         "rawType": "int64",
         "type": "integer"
        },
        {
         "name": "277",
         "rawType": "int64",
         "type": "integer"
        },
        {
         "name": "278",
         "rawType": "int64",
         "type": "integer"
        },
        {
         "name": "279",
         "rawType": "int64",
         "type": "integer"
        },
        {
         "name": "280",
         "rawType": "int64",
         "type": "integer"
        },
        {
         "name": "281",
         "rawType": "int64",
         "type": "integer"
        },
        {
         "name": "282",
         "rawType": "int64",
         "type": "integer"
        },
        {
         "name": "283",
         "rawType": "int64",
         "type": "integer"
        },
        {
         "name": "284",
         "rawType": "int64",
         "type": "integer"
        },
        {
         "name": "285",
         "rawType": "int64",
         "type": "integer"
        },
        {
         "name": "286",
         "rawType": "int64",
         "type": "integer"
        },
        {
         "name": "287",
         "rawType": "int64",
         "type": "integer"
        },
        {
         "name": "288",
         "rawType": "int64",
         "type": "integer"
        },
        {
         "name": "289",
         "rawType": "int64",
         "type": "integer"
        },
        {
         "name": "290",
         "rawType": "int64",
         "type": "integer"
        },
        {
         "name": "291",
         "rawType": "int64",
         "type": "integer"
        },
        {
         "name": "292",
         "rawType": "int64",
         "type": "integer"
        },
        {
         "name": "293",
         "rawType": "int64",
         "type": "integer"
        },
        {
         "name": "294",
         "rawType": "int64",
         "type": "integer"
        },
        {
         "name": "295",
         "rawType": "int64",
         "type": "integer"
        },
        {
         "name": "296",
         "rawType": "int64",
         "type": "integer"
        },
        {
         "name": "297",
         "rawType": "int64",
         "type": "integer"
        },
        {
         "name": "298",
         "rawType": "int64",
         "type": "integer"
        },
        {
         "name": "299",
         "rawType": "int64",
         "type": "integer"
        },
        {
         "name": "300",
         "rawType": "int64",
         "type": "integer"
        },
        {
         "name": "301",
         "rawType": "int64",
         "type": "integer"
        },
        {
         "name": "302",
         "rawType": "int64",
         "type": "integer"
        },
        {
         "name": "303",
         "rawType": "int64",
         "type": "integer"
        },
        {
         "name": "304",
         "rawType": "int64",
         "type": "integer"
        },
        {
         "name": "305",
         "rawType": "int64",
         "type": "integer"
        },
        {
         "name": "306",
         "rawType": "int64",
         "type": "integer"
        },
        {
         "name": "307",
         "rawType": "int64",
         "type": "integer"
        },
        {
         "name": "308",
         "rawType": "int64",
         "type": "integer"
        },
        {
         "name": "309",
         "rawType": "int64",
         "type": "integer"
        },
        {
         "name": "310",
         "rawType": "int64",
         "type": "integer"
        },
        {
         "name": "311",
         "rawType": "int64",
         "type": "integer"
        },
        {
         "name": "312",
         "rawType": "int64",
         "type": "integer"
        },
        {
         "name": "313",
         "rawType": "int64",
         "type": "integer"
        },
        {
         "name": "314",
         "rawType": "int64",
         "type": "integer"
        },
        {
         "name": "315",
         "rawType": "int64",
         "type": "integer"
        },
        {
         "name": "316",
         "rawType": "int64",
         "type": "integer"
        },
        {
         "name": "317",
         "rawType": "int64",
         "type": "integer"
        },
        {
         "name": "318",
         "rawType": "int64",
         "type": "integer"
        },
        {
         "name": "319",
         "rawType": "int64",
         "type": "integer"
        },
        {
         "name": "320",
         "rawType": "int64",
         "type": "integer"
        },
        {
         "name": "321",
         "rawType": "int64",
         "type": "integer"
        },
        {
         "name": "322",
         "rawType": "int64",
         "type": "integer"
        },
        {
         "name": "323",
         "rawType": "int64",
         "type": "integer"
        },
        {
         "name": "324",
         "rawType": "int64",
         "type": "integer"
        },
        {
         "name": "325",
         "rawType": "int64",
         "type": "integer"
        },
        {
         "name": "326",
         "rawType": "int64",
         "type": "integer"
        },
        {
         "name": "327",
         "rawType": "int64",
         "type": "integer"
        },
        {
         "name": "328",
         "rawType": "int64",
         "type": "integer"
        },
        {
         "name": "329",
         "rawType": "int64",
         "type": "integer"
        },
        {
         "name": "330",
         "rawType": "int64",
         "type": "integer"
        },
        {
         "name": "331",
         "rawType": "int64",
         "type": "integer"
        },
        {
         "name": "332",
         "rawType": "int64",
         "type": "integer"
        },
        {
         "name": "333",
         "rawType": "int64",
         "type": "integer"
        },
        {
         "name": "334",
         "rawType": "int64",
         "type": "integer"
        },
        {
         "name": "335",
         "rawType": "int64",
         "type": "integer"
        },
        {
         "name": "336",
         "rawType": "int64",
         "type": "integer"
        },
        {
         "name": "337",
         "rawType": "int64",
         "type": "integer"
        },
        {
         "name": "338",
         "rawType": "int64",
         "type": "integer"
        },
        {
         "name": "339",
         "rawType": "int64",
         "type": "integer"
        },
        {
         "name": "340",
         "rawType": "int64",
         "type": "integer"
        },
        {
         "name": "341",
         "rawType": "int64",
         "type": "integer"
        },
        {
         "name": "342",
         "rawType": "int64",
         "type": "integer"
        },
        {
         "name": "343",
         "rawType": "int64",
         "type": "integer"
        },
        {
         "name": "344",
         "rawType": "int64",
         "type": "integer"
        },
        {
         "name": "345",
         "rawType": "int64",
         "type": "integer"
        },
        {
         "name": "346",
         "rawType": "int64",
         "type": "integer"
        },
        {
         "name": "347",
         "rawType": "int64",
         "type": "integer"
        },
        {
         "name": "348",
         "rawType": "int64",
         "type": "integer"
        },
        {
         "name": "349",
         "rawType": "int64",
         "type": "integer"
        },
        {
         "name": "350",
         "rawType": "int64",
         "type": "integer"
        },
        {
         "name": "351",
         "rawType": "int64",
         "type": "integer"
        },
        {
         "name": "352",
         "rawType": "int64",
         "type": "integer"
        },
        {
         "name": "353",
         "rawType": "int64",
         "type": "integer"
        },
        {
         "name": "354",
         "rawType": "int64",
         "type": "integer"
        },
        {
         "name": "355",
         "rawType": "int64",
         "type": "integer"
        },
        {
         "name": "356",
         "rawType": "int64",
         "type": "integer"
        },
        {
         "name": "357",
         "rawType": "int64",
         "type": "integer"
        },
        {
         "name": "358",
         "rawType": "int64",
         "type": "integer"
        },
        {
         "name": "359",
         "rawType": "int64",
         "type": "integer"
        },
        {
         "name": "360",
         "rawType": "int64",
         "type": "integer"
        },
        {
         "name": "361",
         "rawType": "int64",
         "type": "integer"
        },
        {
         "name": "362",
         "rawType": "int64",
         "type": "integer"
        },
        {
         "name": "363",
         "rawType": "int64",
         "type": "integer"
        },
        {
         "name": "364",
         "rawType": "int64",
         "type": "integer"
        },
        {
         "name": "365",
         "rawType": "int64",
         "type": "integer"
        },
        {
         "name": "366",
         "rawType": "int64",
         "type": "integer"
        },
        {
         "name": "367",
         "rawType": "int64",
         "type": "integer"
        },
        {
         "name": "368",
         "rawType": "int64",
         "type": "integer"
        },
        {
         "name": "369",
         "rawType": "int64",
         "type": "integer"
        },
        {
         "name": "370",
         "rawType": "int64",
         "type": "integer"
        },
        {
         "name": "371",
         "rawType": "int64",
         "type": "integer"
        },
        {
         "name": "372",
         "rawType": "int64",
         "type": "integer"
        },
        {
         "name": "373",
         "rawType": "int64",
         "type": "integer"
        },
        {
         "name": "374",
         "rawType": "int64",
         "type": "integer"
        },
        {
         "name": "375",
         "rawType": "int64",
         "type": "integer"
        },
        {
         "name": "376",
         "rawType": "int64",
         "type": "integer"
        },
        {
         "name": "377",
         "rawType": "int64",
         "type": "integer"
        },
        {
         "name": "378",
         "rawType": "int64",
         "type": "integer"
        },
        {
         "name": "379",
         "rawType": "int64",
         "type": "integer"
        },
        {
         "name": "380",
         "rawType": "int64",
         "type": "integer"
        },
        {
         "name": "381",
         "rawType": "int64",
         "type": "integer"
        },
        {
         "name": "382",
         "rawType": "int64",
         "type": "integer"
        },
        {
         "name": "383",
         "rawType": "int64",
         "type": "integer"
        },
        {
         "name": "384",
         "rawType": "int64",
         "type": "integer"
        },
        {
         "name": "385",
         "rawType": "int64",
         "type": "integer"
        },
        {
         "name": "386",
         "rawType": "int64",
         "type": "integer"
        },
        {
         "name": "387",
         "rawType": "int64",
         "type": "integer"
        },
        {
         "name": "388",
         "rawType": "int64",
         "type": "integer"
        },
        {
         "name": "389",
         "rawType": "int64",
         "type": "integer"
        },
        {
         "name": "390",
         "rawType": "int64",
         "type": "integer"
        },
        {
         "name": "391",
         "rawType": "int64",
         "type": "integer"
        },
        {
         "name": "392",
         "rawType": "int64",
         "type": "integer"
        },
        {
         "name": "393",
         "rawType": "int64",
         "type": "integer"
        },
        {
         "name": "394",
         "rawType": "int64",
         "type": "integer"
        },
        {
         "name": "395",
         "rawType": "int64",
         "type": "integer"
        },
        {
         "name": "396",
         "rawType": "int64",
         "type": "integer"
        },
        {
         "name": "397",
         "rawType": "int64",
         "type": "integer"
        },
        {
         "name": "398",
         "rawType": "int64",
         "type": "integer"
        },
        {
         "name": "399",
         "rawType": "int64",
         "type": "integer"
        },
        {
         "name": "400",
         "rawType": "int64",
         "type": "integer"
        },
        {
         "name": "401",
         "rawType": "int64",
         "type": "integer"
        },
        {
         "name": "402",
         "rawType": "int64",
         "type": "integer"
        },
        {
         "name": "403",
         "rawType": "int64",
         "type": "integer"
        },
        {
         "name": "404",
         "rawType": "int64",
         "type": "integer"
        },
        {
         "name": "405",
         "rawType": "int64",
         "type": "integer"
        },
        {
         "name": "406",
         "rawType": "int64",
         "type": "integer"
        },
        {
         "name": "407",
         "rawType": "int64",
         "type": "integer"
        },
        {
         "name": "408",
         "rawType": "int64",
         "type": "integer"
        },
        {
         "name": "409",
         "rawType": "int64",
         "type": "integer"
        },
        {
         "name": "410",
         "rawType": "int64",
         "type": "integer"
        },
        {
         "name": "411",
         "rawType": "int64",
         "type": "integer"
        },
        {
         "name": "412",
         "rawType": "int64",
         "type": "integer"
        },
        {
         "name": "413",
         "rawType": "int64",
         "type": "integer"
        },
        {
         "name": "414",
         "rawType": "int64",
         "type": "integer"
        },
        {
         "name": "415",
         "rawType": "int64",
         "type": "integer"
        },
        {
         "name": "416",
         "rawType": "int64",
         "type": "integer"
        },
        {
         "name": "417",
         "rawType": "int64",
         "type": "integer"
        },
        {
         "name": "418",
         "rawType": "int64",
         "type": "integer"
        },
        {
         "name": "419",
         "rawType": "int64",
         "type": "integer"
        },
        {
         "name": "420",
         "rawType": "int64",
         "type": "integer"
        },
        {
         "name": "421",
         "rawType": "int64",
         "type": "integer"
        },
        {
         "name": "422",
         "rawType": "int64",
         "type": "integer"
        },
        {
         "name": "423",
         "rawType": "int64",
         "type": "integer"
        },
        {
         "name": "424",
         "rawType": "int64",
         "type": "integer"
        },
        {
         "name": "425",
         "rawType": "int64",
         "type": "integer"
        },
        {
         "name": "426",
         "rawType": "int64",
         "type": "integer"
        },
        {
         "name": "427",
         "rawType": "int64",
         "type": "integer"
        },
        {
         "name": "428",
         "rawType": "int64",
         "type": "integer"
        },
        {
         "name": "429",
         "rawType": "int64",
         "type": "integer"
        },
        {
         "name": "430",
         "rawType": "int64",
         "type": "integer"
        },
        {
         "name": "431",
         "rawType": "int64",
         "type": "integer"
        },
        {
         "name": "432",
         "rawType": "int64",
         "type": "integer"
        },
        {
         "name": "433",
         "rawType": "int64",
         "type": "integer"
        },
        {
         "name": "434",
         "rawType": "int64",
         "type": "integer"
        },
        {
         "name": "435",
         "rawType": "int64",
         "type": "integer"
        },
        {
         "name": "436",
         "rawType": "int64",
         "type": "integer"
        },
        {
         "name": "437",
         "rawType": "int64",
         "type": "integer"
        },
        {
         "name": "438",
         "rawType": "int64",
         "type": "integer"
        },
        {
         "name": "439",
         "rawType": "int64",
         "type": "integer"
        },
        {
         "name": "440",
         "rawType": "int64",
         "type": "integer"
        },
        {
         "name": "441",
         "rawType": "int64",
         "type": "integer"
        },
        {
         "name": "442",
         "rawType": "int64",
         "type": "integer"
        },
        {
         "name": "443",
         "rawType": "int64",
         "type": "integer"
        },
        {
         "name": "444",
         "rawType": "int64",
         "type": "integer"
        },
        {
         "name": "445",
         "rawType": "int64",
         "type": "integer"
        },
        {
         "name": "446",
         "rawType": "int64",
         "type": "integer"
        },
        {
         "name": "447",
         "rawType": "int64",
         "type": "integer"
        },
        {
         "name": "448",
         "rawType": "int64",
         "type": "integer"
        },
        {
         "name": "449",
         "rawType": "int64",
         "type": "integer"
        },
        {
         "name": "450",
         "rawType": "int64",
         "type": "integer"
        },
        {
         "name": "451",
         "rawType": "int64",
         "type": "integer"
        },
        {
         "name": "452",
         "rawType": "int64",
         "type": "integer"
        },
        {
         "name": "453",
         "rawType": "int64",
         "type": "integer"
        },
        {
         "name": "454",
         "rawType": "int64",
         "type": "integer"
        },
        {
         "name": "455",
         "rawType": "int64",
         "type": "integer"
        },
        {
         "name": "456",
         "rawType": "int64",
         "type": "integer"
        },
        {
         "name": "457",
         "rawType": "int64",
         "type": "integer"
        },
        {
         "name": "458",
         "rawType": "int64",
         "type": "integer"
        },
        {
         "name": "459",
         "rawType": "int64",
         "type": "integer"
        },
        {
         "name": "460",
         "rawType": "int64",
         "type": "integer"
        },
        {
         "name": "461",
         "rawType": "int64",
         "type": "integer"
        },
        {
         "name": "462",
         "rawType": "int64",
         "type": "integer"
        },
        {
         "name": "463",
         "rawType": "int64",
         "type": "integer"
        },
        {
         "name": "464",
         "rawType": "int64",
         "type": "integer"
        },
        {
         "name": "465",
         "rawType": "int64",
         "type": "integer"
        },
        {
         "name": "466",
         "rawType": "int64",
         "type": "integer"
        },
        {
         "name": "467",
         "rawType": "int64",
         "type": "integer"
        },
        {
         "name": "468",
         "rawType": "int64",
         "type": "integer"
        },
        {
         "name": "469",
         "rawType": "int64",
         "type": "integer"
        },
        {
         "name": "470",
         "rawType": "int64",
         "type": "integer"
        },
        {
         "name": "471",
         "rawType": "int64",
         "type": "integer"
        },
        {
         "name": "472",
         "rawType": "int64",
         "type": "integer"
        },
        {
         "name": "473",
         "rawType": "int64",
         "type": "integer"
        },
        {
         "name": "474",
         "rawType": "int64",
         "type": "integer"
        },
        {
         "name": "475",
         "rawType": "int64",
         "type": "integer"
        },
        {
         "name": "476",
         "rawType": "int64",
         "type": "integer"
        },
        {
         "name": "477",
         "rawType": "int64",
         "type": "integer"
        },
        {
         "name": "478",
         "rawType": "int64",
         "type": "integer"
        },
        {
         "name": "479",
         "rawType": "int64",
         "type": "integer"
        },
        {
         "name": "480",
         "rawType": "int64",
         "type": "integer"
        },
        {
         "name": "481",
         "rawType": "int64",
         "type": "integer"
        },
        {
         "name": "482",
         "rawType": "int64",
         "type": "integer"
        },
        {
         "name": "483",
         "rawType": "int64",
         "type": "integer"
        },
        {
         "name": "484",
         "rawType": "int64",
         "type": "integer"
        },
        {
         "name": "485",
         "rawType": "int64",
         "type": "integer"
        },
        {
         "name": "486",
         "rawType": "int64",
         "type": "integer"
        },
        {
         "name": "487",
         "rawType": "int64",
         "type": "integer"
        },
        {
         "name": "488",
         "rawType": "int64",
         "type": "integer"
        },
        {
         "name": "489",
         "rawType": "int64",
         "type": "integer"
        },
        {
         "name": "490",
         "rawType": "int64",
         "type": "integer"
        },
        {
         "name": "491",
         "rawType": "int64",
         "type": "integer"
        },
        {
         "name": "492",
         "rawType": "int64",
         "type": "integer"
        },
        {
         "name": "493",
         "rawType": "int64",
         "type": "integer"
        },
        {
         "name": "494",
         "rawType": "int64",
         "type": "integer"
        },
        {
         "name": "495",
         "rawType": "int64",
         "type": "integer"
        },
        {
         "name": "496",
         "rawType": "int64",
         "type": "integer"
        },
        {
         "name": "497",
         "rawType": "int64",
         "type": "integer"
        },
        {
         "name": "498",
         "rawType": "int64",
         "type": "integer"
        },
        {
         "name": "499",
         "rawType": "int64",
         "type": "integer"
        },
        {
         "name": "500",
         "rawType": "int64",
         "type": "integer"
        },
        {
         "name": "501",
         "rawType": "int64",
         "type": "integer"
        },
        {
         "name": "502",
         "rawType": "int64",
         "type": "integer"
        },
        {
         "name": "503",
         "rawType": "int64",
         "type": "integer"
        },
        {
         "name": "504",
         "rawType": "int64",
         "type": "integer"
        },
        {
         "name": "505",
         "rawType": "int64",
         "type": "integer"
        },
        {
         "name": "506",
         "rawType": "int64",
         "type": "integer"
        },
        {
         "name": "507",
         "rawType": "int64",
         "type": "integer"
        },
        {
         "name": "508",
         "rawType": "int64",
         "type": "integer"
        },
        {
         "name": "509",
         "rawType": "int64",
         "type": "integer"
        },
        {
         "name": "510",
         "rawType": "int64",
         "type": "integer"
        },
        {
         "name": "511",
         "rawType": "int64",
         "type": "integer"
        },
        {
         "name": "512",
         "rawType": "int64",
         "type": "integer"
        },
        {
         "name": "513",
         "rawType": "int64",
         "type": "integer"
        },
        {
         "name": "514",
         "rawType": "int64",
         "type": "integer"
        },
        {
         "name": "515",
         "rawType": "int64",
         "type": "integer"
        },
        {
         "name": "516",
         "rawType": "int64",
         "type": "integer"
        },
        {
         "name": "517",
         "rawType": "int64",
         "type": "integer"
        },
        {
         "name": "518",
         "rawType": "int64",
         "type": "integer"
        },
        {
         "name": "519",
         "rawType": "int64",
         "type": "integer"
        },
        {
         "name": "520",
         "rawType": "int64",
         "type": "integer"
        },
        {
         "name": "521",
         "rawType": "int64",
         "type": "integer"
        },
        {
         "name": "522",
         "rawType": "int64",
         "type": "integer"
        },
        {
         "name": "523",
         "rawType": "int64",
         "type": "integer"
        },
        {
         "name": "524",
         "rawType": "int64",
         "type": "integer"
        },
        {
         "name": "525",
         "rawType": "int64",
         "type": "integer"
        },
        {
         "name": "526",
         "rawType": "int64",
         "type": "integer"
        },
        {
         "name": "527",
         "rawType": "int64",
         "type": "integer"
        },
        {
         "name": "528",
         "rawType": "int64",
         "type": "integer"
        },
        {
         "name": "529",
         "rawType": "int64",
         "type": "integer"
        },
        {
         "name": "530",
         "rawType": "int64",
         "type": "integer"
        },
        {
         "name": "531",
         "rawType": "int64",
         "type": "integer"
        },
        {
         "name": "532",
         "rawType": "int64",
         "type": "integer"
        },
        {
         "name": "533",
         "rawType": "int64",
         "type": "integer"
        },
        {
         "name": "534",
         "rawType": "int64",
         "type": "integer"
        },
        {
         "name": "535",
         "rawType": "int64",
         "type": "integer"
        },
        {
         "name": "536",
         "rawType": "int64",
         "type": "integer"
        },
        {
         "name": "537",
         "rawType": "int64",
         "type": "integer"
        },
        {
         "name": "538",
         "rawType": "int64",
         "type": "integer"
        },
        {
         "name": "539",
         "rawType": "int64",
         "type": "integer"
        },
        {
         "name": "540",
         "rawType": "int64",
         "type": "integer"
        },
        {
         "name": "541",
         "rawType": "int64",
         "type": "integer"
        },
        {
         "name": "542",
         "rawType": "int64",
         "type": "integer"
        },
        {
         "name": "543",
         "rawType": "int64",
         "type": "integer"
        },
        {
         "name": "544",
         "rawType": "int64",
         "type": "integer"
        },
        {
         "name": "545",
         "rawType": "int64",
         "type": "integer"
        },
        {
         "name": "546",
         "rawType": "int64",
         "type": "integer"
        },
        {
         "name": "547",
         "rawType": "int64",
         "type": "integer"
        },
        {
         "name": "548",
         "rawType": "int64",
         "type": "integer"
        },
        {
         "name": "549",
         "rawType": "int64",
         "type": "integer"
        },
        {
         "name": "550",
         "rawType": "int64",
         "type": "integer"
        },
        {
         "name": "551",
         "rawType": "int64",
         "type": "integer"
        },
        {
         "name": "552",
         "rawType": "int64",
         "type": "integer"
        },
        {
         "name": "553",
         "rawType": "int64",
         "type": "integer"
        },
        {
         "name": "554",
         "rawType": "int64",
         "type": "integer"
        },
        {
         "name": "555",
         "rawType": "int64",
         "type": "integer"
        },
        {
         "name": "556",
         "rawType": "int64",
         "type": "integer"
        },
        {
         "name": "557",
         "rawType": "int64",
         "type": "integer"
        },
        {
         "name": "558",
         "rawType": "int64",
         "type": "integer"
        },
        {
         "name": "559",
         "rawType": "int64",
         "type": "integer"
        },
        {
         "name": "560",
         "rawType": "int64",
         "type": "integer"
        },
        {
         "name": "561",
         "rawType": "int64",
         "type": "integer"
        },
        {
         "name": "562",
         "rawType": "int64",
         "type": "integer"
        },
        {
         "name": "563",
         "rawType": "int64",
         "type": "integer"
        },
        {
         "name": "564",
         "rawType": "int64",
         "type": "integer"
        },
        {
         "name": "565",
         "rawType": "int64",
         "type": "integer"
        },
        {
         "name": "566",
         "rawType": "int64",
         "type": "integer"
        },
        {
         "name": "567",
         "rawType": "int64",
         "type": "integer"
        },
        {
         "name": "568",
         "rawType": "int64",
         "type": "integer"
        },
        {
         "name": "569",
         "rawType": "int64",
         "type": "integer"
        },
        {
         "name": "570",
         "rawType": "int64",
         "type": "integer"
        },
        {
         "name": "571",
         "rawType": "int64",
         "type": "integer"
        },
        {
         "name": "572",
         "rawType": "int64",
         "type": "integer"
        },
        {
         "name": "573",
         "rawType": "int64",
         "type": "integer"
        },
        {
         "name": "574",
         "rawType": "int64",
         "type": "integer"
        },
        {
         "name": "575",
         "rawType": "int64",
         "type": "integer"
        },
        {
         "name": "576",
         "rawType": "int64",
         "type": "integer"
        },
        {
         "name": "577",
         "rawType": "int64",
         "type": "integer"
        },
        {
         "name": "578",
         "rawType": "int64",
         "type": "integer"
        },
        {
         "name": "579",
         "rawType": "int64",
         "type": "integer"
        },
        {
         "name": "580",
         "rawType": "int64",
         "type": "integer"
        },
        {
         "name": "581",
         "rawType": "int64",
         "type": "integer"
        },
        {
         "name": "582",
         "rawType": "int64",
         "type": "integer"
        },
        {
         "name": "583",
         "rawType": "int64",
         "type": "integer"
        },
        {
         "name": "584",
         "rawType": "int64",
         "type": "integer"
        },
        {
         "name": "585",
         "rawType": "int64",
         "type": "integer"
        },
        {
         "name": "586",
         "rawType": "int64",
         "type": "integer"
        },
        {
         "name": "587",
         "rawType": "int64",
         "type": "integer"
        },
        {
         "name": "588",
         "rawType": "int64",
         "type": "integer"
        },
        {
         "name": "589",
         "rawType": "int64",
         "type": "integer"
        },
        {
         "name": "590",
         "rawType": "int64",
         "type": "integer"
        },
        {
         "name": "591",
         "rawType": "int64",
         "type": "integer"
        },
        {
         "name": "592",
         "rawType": "int64",
         "type": "integer"
        },
        {
         "name": "593",
         "rawType": "int64",
         "type": "integer"
        },
        {
         "name": "594",
         "rawType": "int64",
         "type": "integer"
        },
        {
         "name": "595",
         "rawType": "int64",
         "type": "integer"
        },
        {
         "name": "596",
         "rawType": "int64",
         "type": "integer"
        },
        {
         "name": "597",
         "rawType": "int64",
         "type": "integer"
        },
        {
         "name": "598",
         "rawType": "int64",
         "type": "integer"
        },
        {
         "name": "599",
         "rawType": "int64",
         "type": "integer"
        },
        {
         "name": "600",
         "rawType": "int64",
         "type": "integer"
        },
        {
         "name": "601",
         "rawType": "int64",
         "type": "integer"
        },
        {
         "name": "602",
         "rawType": "int64",
         "type": "integer"
        },
        {
         "name": "603",
         "rawType": "int64",
         "type": "integer"
        },
        {
         "name": "604",
         "rawType": "int64",
         "type": "integer"
        },
        {
         "name": "605",
         "rawType": "int64",
         "type": "integer"
        },
        {
         "name": "606",
         "rawType": "int64",
         "type": "integer"
        },
        {
         "name": "607",
         "rawType": "int64",
         "type": "integer"
        },
        {
         "name": "608",
         "rawType": "int64",
         "type": "integer"
        },
        {
         "name": "609",
         "rawType": "int64",
         "type": "integer"
        },
        {
         "name": "610",
         "rawType": "int64",
         "type": "integer"
        },
        {
         "name": "611",
         "rawType": "int64",
         "type": "integer"
        },
        {
         "name": "612",
         "rawType": "int64",
         "type": "integer"
        },
        {
         "name": "613",
         "rawType": "int64",
         "type": "integer"
        },
        {
         "name": "614",
         "rawType": "int64",
         "type": "integer"
        },
        {
         "name": "615",
         "rawType": "int64",
         "type": "integer"
        },
        {
         "name": "616",
         "rawType": "int64",
         "type": "integer"
        },
        {
         "name": "617",
         "rawType": "int64",
         "type": "integer"
        },
        {
         "name": "618",
         "rawType": "int64",
         "type": "integer"
        },
        {
         "name": "619",
         "rawType": "int64",
         "type": "integer"
        },
        {
         "name": "620",
         "rawType": "int64",
         "type": "integer"
        },
        {
         "name": "621",
         "rawType": "int64",
         "type": "integer"
        },
        {
         "name": "622",
         "rawType": "int64",
         "type": "integer"
        },
        {
         "name": "623",
         "rawType": "int64",
         "type": "integer"
        },
        {
         "name": "624",
         "rawType": "int64",
         "type": "integer"
        },
        {
         "name": "625",
         "rawType": "int64",
         "type": "integer"
        },
        {
         "name": "626",
         "rawType": "int64",
         "type": "integer"
        },
        {
         "name": "627",
         "rawType": "int64",
         "type": "integer"
        },
        {
         "name": "628",
         "rawType": "int64",
         "type": "integer"
        },
        {
         "name": "629",
         "rawType": "int64",
         "type": "integer"
        },
        {
         "name": "630",
         "rawType": "int64",
         "type": "integer"
        },
        {
         "name": "631",
         "rawType": "int64",
         "type": "integer"
        },
        {
         "name": "632",
         "rawType": "int64",
         "type": "integer"
        },
        {
         "name": "633",
         "rawType": "int64",
         "type": "integer"
        },
        {
         "name": "634",
         "rawType": "int64",
         "type": "integer"
        },
        {
         "name": "635",
         "rawType": "int64",
         "type": "integer"
        },
        {
         "name": "636",
         "rawType": "int64",
         "type": "integer"
        },
        {
         "name": "637",
         "rawType": "int64",
         "type": "integer"
        },
        {
         "name": "638",
         "rawType": "int64",
         "type": "integer"
        },
        {
         "name": "639",
         "rawType": "int64",
         "type": "integer"
        },
        {
         "name": "640",
         "rawType": "int64",
         "type": "integer"
        },
        {
         "name": "641",
         "rawType": "int64",
         "type": "integer"
        },
        {
         "name": "642",
         "rawType": "int64",
         "type": "integer"
        },
        {
         "name": "643",
         "rawType": "int64",
         "type": "integer"
        },
        {
         "name": "644",
         "rawType": "int64",
         "type": "integer"
        },
        {
         "name": "645",
         "rawType": "int64",
         "type": "integer"
        },
        {
         "name": "646",
         "rawType": "int64",
         "type": "integer"
        },
        {
         "name": "647",
         "rawType": "int64",
         "type": "integer"
        },
        {
         "name": "648",
         "rawType": "int64",
         "type": "integer"
        },
        {
         "name": "649",
         "rawType": "int64",
         "type": "integer"
        },
        {
         "name": "650",
         "rawType": "int64",
         "type": "integer"
        },
        {
         "name": "651",
         "rawType": "int64",
         "type": "integer"
        },
        {
         "name": "652",
         "rawType": "int64",
         "type": "integer"
        },
        {
         "name": "653",
         "rawType": "int64",
         "type": "integer"
        },
        {
         "name": "654",
         "rawType": "int64",
         "type": "integer"
        },
        {
         "name": "655",
         "rawType": "int64",
         "type": "integer"
        },
        {
         "name": "656",
         "rawType": "int64",
         "type": "integer"
        },
        {
         "name": "657",
         "rawType": "int64",
         "type": "integer"
        },
        {
         "name": "658",
         "rawType": "int64",
         "type": "integer"
        },
        {
         "name": "659",
         "rawType": "int64",
         "type": "integer"
        },
        {
         "name": "660",
         "rawType": "int64",
         "type": "integer"
        },
        {
         "name": "661",
         "rawType": "int64",
         "type": "integer"
        },
        {
         "name": "662",
         "rawType": "int64",
         "type": "integer"
        },
        {
         "name": "663",
         "rawType": "int64",
         "type": "integer"
        },
        {
         "name": "664",
         "rawType": "int64",
         "type": "integer"
        },
        {
         "name": "665",
         "rawType": "int64",
         "type": "integer"
        },
        {
         "name": "666",
         "rawType": "int64",
         "type": "integer"
        },
        {
         "name": "667",
         "rawType": "int64",
         "type": "integer"
        },
        {
         "name": "668",
         "rawType": "int64",
         "type": "integer"
        },
        {
         "name": "669",
         "rawType": "int64",
         "type": "integer"
        },
        {
         "name": "670",
         "rawType": "int64",
         "type": "integer"
        },
        {
         "name": "671",
         "rawType": "int64",
         "type": "integer"
        },
        {
         "name": "672",
         "rawType": "int64",
         "type": "integer"
        },
        {
         "name": "673",
         "rawType": "int64",
         "type": "integer"
        },
        {
         "name": "674",
         "rawType": "int64",
         "type": "integer"
        },
        {
         "name": "675",
         "rawType": "int64",
         "type": "integer"
        },
        {
         "name": "676",
         "rawType": "int64",
         "type": "integer"
        },
        {
         "name": "677",
         "rawType": "int64",
         "type": "integer"
        },
        {
         "name": "678",
         "rawType": "int64",
         "type": "integer"
        },
        {
         "name": "679",
         "rawType": "int64",
         "type": "integer"
        },
        {
         "name": "680",
         "rawType": "int64",
         "type": "integer"
        },
        {
         "name": "681",
         "rawType": "int64",
         "type": "integer"
        },
        {
         "name": "682",
         "rawType": "int64",
         "type": "integer"
        },
        {
         "name": "683",
         "rawType": "int64",
         "type": "integer"
        },
        {
         "name": "684",
         "rawType": "int64",
         "type": "integer"
        },
        {
         "name": "685",
         "rawType": "int64",
         "type": "integer"
        },
        {
         "name": "686",
         "rawType": "int64",
         "type": "integer"
        },
        {
         "name": "687",
         "rawType": "int64",
         "type": "integer"
        },
        {
         "name": "688",
         "rawType": "int64",
         "type": "integer"
        },
        {
         "name": "689",
         "rawType": "int64",
         "type": "integer"
        },
        {
         "name": "690",
         "rawType": "int64",
         "type": "integer"
        },
        {
         "name": "691",
         "rawType": "int64",
         "type": "integer"
        },
        {
         "name": "692",
         "rawType": "int64",
         "type": "integer"
        },
        {
         "name": "693",
         "rawType": "int64",
         "type": "integer"
        },
        {
         "name": "694",
         "rawType": "int64",
         "type": "integer"
        },
        {
         "name": "695",
         "rawType": "int64",
         "type": "integer"
        },
        {
         "name": "696",
         "rawType": "int64",
         "type": "integer"
        },
        {
         "name": "697",
         "rawType": "int64",
         "type": "integer"
        },
        {
         "name": "698",
         "rawType": "int64",
         "type": "integer"
        },
        {
         "name": "699",
         "rawType": "int64",
         "type": "integer"
        },
        {
         "name": "700",
         "rawType": "int64",
         "type": "integer"
        },
        {
         "name": "701",
         "rawType": "int64",
         "type": "integer"
        },
        {
         "name": "702",
         "rawType": "int64",
         "type": "integer"
        },
        {
         "name": "703",
         "rawType": "int64",
         "type": "integer"
        },
        {
         "name": "704",
         "rawType": "int64",
         "type": "integer"
        },
        {
         "name": "705",
         "rawType": "int64",
         "type": "integer"
        },
        {
         "name": "706",
         "rawType": "int64",
         "type": "integer"
        },
        {
         "name": "707",
         "rawType": "int64",
         "type": "integer"
        },
        {
         "name": "708",
         "rawType": "int64",
         "type": "integer"
        },
        {
         "name": "709",
         "rawType": "int64",
         "type": "integer"
        },
        {
         "name": "710",
         "rawType": "int64",
         "type": "integer"
        },
        {
         "name": "711",
         "rawType": "int64",
         "type": "integer"
        },
        {
         "name": "712",
         "rawType": "int64",
         "type": "integer"
        },
        {
         "name": "713",
         "rawType": "int64",
         "type": "integer"
        },
        {
         "name": "714",
         "rawType": "int64",
         "type": "integer"
        },
        {
         "name": "715",
         "rawType": "int64",
         "type": "integer"
        },
        {
         "name": "716",
         "rawType": "int64",
         "type": "integer"
        },
        {
         "name": "717",
         "rawType": "int64",
         "type": "integer"
        },
        {
         "name": "718",
         "rawType": "int64",
         "type": "integer"
        },
        {
         "name": "719",
         "rawType": "int64",
         "type": "integer"
        },
        {
         "name": "720",
         "rawType": "int64",
         "type": "integer"
        },
        {
         "name": "721",
         "rawType": "int64",
         "type": "integer"
        },
        {
         "name": "722",
         "rawType": "int64",
         "type": "integer"
        },
        {
         "name": "723",
         "rawType": "int64",
         "type": "integer"
        },
        {
         "name": "724",
         "rawType": "int64",
         "type": "integer"
        },
        {
         "name": "725",
         "rawType": "int64",
         "type": "integer"
        },
        {
         "name": "726",
         "rawType": "int64",
         "type": "integer"
        },
        {
         "name": "727",
         "rawType": "int64",
         "type": "integer"
        },
        {
         "name": "728",
         "rawType": "int64",
         "type": "integer"
        },
        {
         "name": "729",
         "rawType": "int64",
         "type": "integer"
        },
        {
         "name": "730",
         "rawType": "int64",
         "type": "integer"
        },
        {
         "name": "731",
         "rawType": "int64",
         "type": "integer"
        },
        {
         "name": "732",
         "rawType": "int64",
         "type": "integer"
        },
        {
         "name": "733",
         "rawType": "int64",
         "type": "integer"
        },
        {
         "name": "734",
         "rawType": "int64",
         "type": "integer"
        },
        {
         "name": "735",
         "rawType": "int64",
         "type": "integer"
        },
        {
         "name": "736",
         "rawType": "int64",
         "type": "integer"
        },
        {
         "name": "737",
         "rawType": "int64",
         "type": "integer"
        },
        {
         "name": "738",
         "rawType": "int64",
         "type": "integer"
        },
        {
         "name": "739",
         "rawType": "int64",
         "type": "integer"
        },
        {
         "name": "740",
         "rawType": "int64",
         "type": "integer"
        },
        {
         "name": "741",
         "rawType": "int64",
         "type": "integer"
        },
        {
         "name": "742",
         "rawType": "int64",
         "type": "integer"
        },
        {
         "name": "743",
         "rawType": "int64",
         "type": "integer"
        },
        {
         "name": "744",
         "rawType": "int64",
         "type": "integer"
        },
        {
         "name": "745",
         "rawType": "int64",
         "type": "integer"
        },
        {
         "name": "746",
         "rawType": "int64",
         "type": "integer"
        },
        {
         "name": "747",
         "rawType": "int64",
         "type": "integer"
        },
        {
         "name": "748",
         "rawType": "int64",
         "type": "integer"
        },
        {
         "name": "749",
         "rawType": "int64",
         "type": "integer"
        },
        {
         "name": "750",
         "rawType": "int64",
         "type": "integer"
        },
        {
         "name": "751",
         "rawType": "int64",
         "type": "integer"
        },
        {
         "name": "752",
         "rawType": "int64",
         "type": "integer"
        },
        {
         "name": "753",
         "rawType": "int64",
         "type": "integer"
        },
        {
         "name": "754",
         "rawType": "int64",
         "type": "integer"
        },
        {
         "name": "755",
         "rawType": "int64",
         "type": "integer"
        },
        {
         "name": "756",
         "rawType": "int64",
         "type": "integer"
        },
        {
         "name": "757",
         "rawType": "int64",
         "type": "integer"
        },
        {
         "name": "758",
         "rawType": "int64",
         "type": "integer"
        },
        {
         "name": "759",
         "rawType": "int64",
         "type": "integer"
        },
        {
         "name": "760",
         "rawType": "int64",
         "type": "integer"
        },
        {
         "name": "761",
         "rawType": "int64",
         "type": "integer"
        },
        {
         "name": "762",
         "rawType": "int64",
         "type": "integer"
        },
        {
         "name": "763",
         "rawType": "int64",
         "type": "integer"
        },
        {
         "name": "764",
         "rawType": "int64",
         "type": "integer"
        },
        {
         "name": "765",
         "rawType": "int64",
         "type": "integer"
        },
        {
         "name": "766",
         "rawType": "int64",
         "type": "integer"
        },
        {
         "name": "767",
         "rawType": "int64",
         "type": "integer"
        },
        {
         "name": "768",
         "rawType": "int64",
         "type": "integer"
        },
        {
         "name": "769",
         "rawType": "int64",
         "type": "integer"
        },
        {
         "name": "770",
         "rawType": "int64",
         "type": "integer"
        },
        {
         "name": "771",
         "rawType": "int64",
         "type": "integer"
        },
        {
         "name": "772",
         "rawType": "int64",
         "type": "integer"
        },
        {
         "name": "773",
         "rawType": "int64",
         "type": "integer"
        },
        {
         "name": "774",
         "rawType": "int64",
         "type": "integer"
        },
        {
         "name": "775",
         "rawType": "int64",
         "type": "integer"
        },
        {
         "name": "776",
         "rawType": "int64",
         "type": "integer"
        },
        {
         "name": "777",
         "rawType": "int64",
         "type": "integer"
        },
        {
         "name": "778",
         "rawType": "int64",
         "type": "integer"
        },
        {
         "name": "779",
         "rawType": "int64",
         "type": "integer"
        },
        {
         "name": "780",
         "rawType": "int64",
         "type": "integer"
        },
        {
         "name": "781",
         "rawType": "int64",
         "type": "integer"
        },
        {
         "name": "782",
         "rawType": "int64",
         "type": "integer"
        },
        {
         "name": "783",
         "rawType": "int64",
         "type": "integer"
        },
        {
         "name": "784",
         "rawType": "int64",
         "type": "integer"
        },
        {
         "name": "785",
         "rawType": "int64",
         "type": "integer"
        },
        {
         "name": "786",
         "rawType": "int64",
         "type": "integer"
        },
        {
         "name": "787",
         "rawType": "int64",
         "type": "integer"
        },
        {
         "name": "788",
         "rawType": "int64",
         "type": "integer"
        },
        {
         "name": "789",
         "rawType": "int64",
         "type": "integer"
        },
        {
         "name": "790",
         "rawType": "int64",
         "type": "integer"
        },
        {
         "name": "791",
         "rawType": "int64",
         "type": "integer"
        },
        {
         "name": "792",
         "rawType": "int64",
         "type": "integer"
        },
        {
         "name": "793",
         "rawType": "int64",
         "type": "integer"
        },
        {
         "name": "794",
         "rawType": "int64",
         "type": "integer"
        },
        {
         "name": "795",
         "rawType": "int64",
         "type": "integer"
        },
        {
         "name": "796",
         "rawType": "int64",
         "type": "integer"
        },
        {
         "name": "797",
         "rawType": "int64",
         "type": "integer"
        },
        {
         "name": "798",
         "rawType": "int64",
         "type": "integer"
        },
        {
         "name": "799",
         "rawType": "int64",
         "type": "integer"
        },
        {
         "name": "800",
         "rawType": "int64",
         "type": "integer"
        },
        {
         "name": "801",
         "rawType": "int64",
         "type": "integer"
        },
        {
         "name": "802",
         "rawType": "int64",
         "type": "integer"
        },
        {
         "name": "803",
         "rawType": "int64",
         "type": "integer"
        },
        {
         "name": "804",
         "rawType": "int64",
         "type": "integer"
        },
        {
         "name": "805",
         "rawType": "int64",
         "type": "integer"
        },
        {
         "name": "806",
         "rawType": "int64",
         "type": "integer"
        },
        {
         "name": "807",
         "rawType": "int64",
         "type": "integer"
        },
        {
         "name": "808",
         "rawType": "int64",
         "type": "integer"
        },
        {
         "name": "809",
         "rawType": "int64",
         "type": "integer"
        },
        {
         "name": "810",
         "rawType": "int64",
         "type": "integer"
        },
        {
         "name": "811",
         "rawType": "int64",
         "type": "integer"
        },
        {
         "name": "812",
         "rawType": "int64",
         "type": "integer"
        },
        {
         "name": "813",
         "rawType": "int64",
         "type": "integer"
        },
        {
         "name": "814",
         "rawType": "int64",
         "type": "integer"
        },
        {
         "name": "815",
         "rawType": "int64",
         "type": "integer"
        },
        {
         "name": "816",
         "rawType": "int64",
         "type": "integer"
        },
        {
         "name": "817",
         "rawType": "int64",
         "type": "integer"
        },
        {
         "name": "818",
         "rawType": "int64",
         "type": "integer"
        },
        {
         "name": "819",
         "rawType": "int64",
         "type": "integer"
        },
        {
         "name": "820",
         "rawType": "int64",
         "type": "integer"
        },
        {
         "name": "821",
         "rawType": "int64",
         "type": "integer"
        },
        {
         "name": "822",
         "rawType": "int64",
         "type": "integer"
        },
        {
         "name": "823",
         "rawType": "int64",
         "type": "integer"
        },
        {
         "name": "824",
         "rawType": "int64",
         "type": "integer"
        },
        {
         "name": "825",
         "rawType": "int64",
         "type": "integer"
        },
        {
         "name": "826",
         "rawType": "int64",
         "type": "integer"
        },
        {
         "name": "827",
         "rawType": "int64",
         "type": "integer"
        },
        {
         "name": "828",
         "rawType": "int64",
         "type": "integer"
        },
        {
         "name": "829",
         "rawType": "int64",
         "type": "integer"
        },
        {
         "name": "830",
         "rawType": "int64",
         "type": "integer"
        },
        {
         "name": "831",
         "rawType": "int64",
         "type": "integer"
        },
        {
         "name": "832",
         "rawType": "int64",
         "type": "integer"
        },
        {
         "name": "833",
         "rawType": "int64",
         "type": "integer"
        },
        {
         "name": "834",
         "rawType": "int64",
         "type": "integer"
        },
        {
         "name": "835",
         "rawType": "int64",
         "type": "integer"
        },
        {
         "name": "836",
         "rawType": "int64",
         "type": "integer"
        },
        {
         "name": "837",
         "rawType": "int64",
         "type": "integer"
        },
        {
         "name": "838",
         "rawType": "int64",
         "type": "integer"
        },
        {
         "name": "839",
         "rawType": "int64",
         "type": "integer"
        },
        {
         "name": "840",
         "rawType": "int64",
         "type": "integer"
        },
        {
         "name": "841",
         "rawType": "int64",
         "type": "integer"
        },
        {
         "name": "842",
         "rawType": "int64",
         "type": "integer"
        },
        {
         "name": "843",
         "rawType": "int64",
         "type": "integer"
        },
        {
         "name": "844",
         "rawType": "int64",
         "type": "integer"
        },
        {
         "name": "845",
         "rawType": "int64",
         "type": "integer"
        },
        {
         "name": "846",
         "rawType": "int64",
         "type": "integer"
        },
        {
         "name": "847",
         "rawType": "int64",
         "type": "integer"
        },
        {
         "name": "848",
         "rawType": "int64",
         "type": "integer"
        },
        {
         "name": "849",
         "rawType": "int64",
         "type": "integer"
        },
        {
         "name": "850",
         "rawType": "int64",
         "type": "integer"
        },
        {
         "name": "851",
         "rawType": "int64",
         "type": "integer"
        },
        {
         "name": "852",
         "rawType": "int64",
         "type": "integer"
        },
        {
         "name": "853",
         "rawType": "int64",
         "type": "integer"
        },
        {
         "name": "854",
         "rawType": "int64",
         "type": "integer"
        },
        {
         "name": "855",
         "rawType": "int64",
         "type": "integer"
        },
        {
         "name": "856",
         "rawType": "int64",
         "type": "integer"
        },
        {
         "name": "857",
         "rawType": "int64",
         "type": "integer"
        },
        {
         "name": "858",
         "rawType": "int64",
         "type": "integer"
        },
        {
         "name": "859",
         "rawType": "int64",
         "type": "integer"
        },
        {
         "name": "860",
         "rawType": "int64",
         "type": "integer"
        },
        {
         "name": "861",
         "rawType": "int64",
         "type": "integer"
        },
        {
         "name": "862",
         "rawType": "int64",
         "type": "integer"
        },
        {
         "name": "863",
         "rawType": "int64",
         "type": "integer"
        },
        {
         "name": "864",
         "rawType": "int64",
         "type": "integer"
        },
        {
         "name": "865",
         "rawType": "int64",
         "type": "integer"
        },
        {
         "name": "866",
         "rawType": "int64",
         "type": "integer"
        },
        {
         "name": "867",
         "rawType": "int64",
         "type": "integer"
        },
        {
         "name": "868",
         "rawType": "int64",
         "type": "integer"
        },
        {
         "name": "869",
         "rawType": "int64",
         "type": "integer"
        },
        {
         "name": "870",
         "rawType": "int64",
         "type": "integer"
        },
        {
         "name": "871",
         "rawType": "int64",
         "type": "integer"
        },
        {
         "name": "872",
         "rawType": "int64",
         "type": "integer"
        },
        {
         "name": "873",
         "rawType": "int64",
         "type": "integer"
        },
        {
         "name": "874",
         "rawType": "int64",
         "type": "integer"
        },
        {
         "name": "875",
         "rawType": "int64",
         "type": "integer"
        },
        {
         "name": "876",
         "rawType": "int64",
         "type": "integer"
        },
        {
         "name": "877",
         "rawType": "int64",
         "type": "integer"
        },
        {
         "name": "878",
         "rawType": "int64",
         "type": "integer"
        },
        {
         "name": "879",
         "rawType": "int64",
         "type": "integer"
        },
        {
         "name": "880",
         "rawType": "int64",
         "type": "integer"
        },
        {
         "name": "881",
         "rawType": "int64",
         "type": "integer"
        },
        {
         "name": "882",
         "rawType": "int64",
         "type": "integer"
        },
        {
         "name": "883",
         "rawType": "int64",
         "type": "integer"
        },
        {
         "name": "884",
         "rawType": "int64",
         "type": "integer"
        },
        {
         "name": "885",
         "rawType": "int64",
         "type": "integer"
        },
        {
         "name": "886",
         "rawType": "int64",
         "type": "integer"
        },
        {
         "name": "887",
         "rawType": "int64",
         "type": "integer"
        },
        {
         "name": "888",
         "rawType": "int64",
         "type": "integer"
        },
        {
         "name": "889",
         "rawType": "int64",
         "type": "integer"
        },
        {
         "name": "890",
         "rawType": "int64",
         "type": "integer"
        },
        {
         "name": "891",
         "rawType": "int64",
         "type": "integer"
        },
        {
         "name": "892",
         "rawType": "int64",
         "type": "integer"
        },
        {
         "name": "893",
         "rawType": "int64",
         "type": "integer"
        },
        {
         "name": "894",
         "rawType": "int64",
         "type": "integer"
        },
        {
         "name": "895",
         "rawType": "int64",
         "type": "integer"
        },
        {
         "name": "896",
         "rawType": "int64",
         "type": "integer"
        },
        {
         "name": "897",
         "rawType": "int64",
         "type": "integer"
        },
        {
         "name": "898",
         "rawType": "int64",
         "type": "integer"
        },
        {
         "name": "899",
         "rawType": "int64",
         "type": "integer"
        },
        {
         "name": "900",
         "rawType": "int64",
         "type": "integer"
        },
        {
         "name": "901",
         "rawType": "int64",
         "type": "integer"
        },
        {
         "name": "902",
         "rawType": "int64",
         "type": "integer"
        },
        {
         "name": "903",
         "rawType": "int64",
         "type": "integer"
        },
        {
         "name": "904",
         "rawType": "int64",
         "type": "integer"
        },
        {
         "name": "905",
         "rawType": "int64",
         "type": "integer"
        },
        {
         "name": "906",
         "rawType": "int64",
         "type": "integer"
        },
        {
         "name": "907",
         "rawType": "int64",
         "type": "integer"
        },
        {
         "name": "908",
         "rawType": "int64",
         "type": "integer"
        },
        {
         "name": "909",
         "rawType": "int64",
         "type": "integer"
        },
        {
         "name": "910",
         "rawType": "int64",
         "type": "integer"
        },
        {
         "name": "911",
         "rawType": "int64",
         "type": "integer"
        },
        {
         "name": "912",
         "rawType": "int64",
         "type": "integer"
        },
        {
         "name": "913",
         "rawType": "int64",
         "type": "integer"
        },
        {
         "name": "914",
         "rawType": "int64",
         "type": "integer"
        },
        {
         "name": "915",
         "rawType": "int64",
         "type": "integer"
        },
        {
         "name": "916",
         "rawType": "int64",
         "type": "integer"
        },
        {
         "name": "917",
         "rawType": "int64",
         "type": "integer"
        },
        {
         "name": "918",
         "rawType": "int64",
         "type": "integer"
        },
        {
         "name": "919",
         "rawType": "int64",
         "type": "integer"
        },
        {
         "name": "920",
         "rawType": "int64",
         "type": "integer"
        },
        {
         "name": "921",
         "rawType": "int64",
         "type": "integer"
        },
        {
         "name": "922",
         "rawType": "int64",
         "type": "integer"
        },
        {
         "name": "923",
         "rawType": "int64",
         "type": "integer"
        },
        {
         "name": "924",
         "rawType": "int64",
         "type": "integer"
        },
        {
         "name": "925",
         "rawType": "int64",
         "type": "integer"
        },
        {
         "name": "926",
         "rawType": "int64",
         "type": "integer"
        },
        {
         "name": "927",
         "rawType": "int64",
         "type": "integer"
        },
        {
         "name": "928",
         "rawType": "int64",
         "type": "integer"
        },
        {
         "name": "929",
         "rawType": "int64",
         "type": "integer"
        },
        {
         "name": "930",
         "rawType": "int64",
         "type": "integer"
        },
        {
         "name": "931",
         "rawType": "int64",
         "type": "integer"
        },
        {
         "name": "932",
         "rawType": "int64",
         "type": "integer"
        },
        {
         "name": "933",
         "rawType": "int64",
         "type": "integer"
        },
        {
         "name": "934",
         "rawType": "int64",
         "type": "integer"
        },
        {
         "name": "935",
         "rawType": "int64",
         "type": "integer"
        },
        {
         "name": "936",
         "rawType": "int64",
         "type": "integer"
        },
        {
         "name": "937",
         "rawType": "int64",
         "type": "integer"
        },
        {
         "name": "938",
         "rawType": "int64",
         "type": "integer"
        },
        {
         "name": "939",
         "rawType": "int64",
         "type": "integer"
        },
        {
         "name": "940",
         "rawType": "int64",
         "type": "integer"
        },
        {
         "name": "941",
         "rawType": "int64",
         "type": "integer"
        },
        {
         "name": "942",
         "rawType": "int64",
         "type": "integer"
        },
        {
         "name": "943",
         "rawType": "int64",
         "type": "integer"
        },
        {
         "name": "944",
         "rawType": "int64",
         "type": "integer"
        },
        {
         "name": "945",
         "rawType": "int64",
         "type": "integer"
        },
        {
         "name": "946",
         "rawType": "int64",
         "type": "integer"
        },
        {
         "name": "947",
         "rawType": "int64",
         "type": "integer"
        },
        {
         "name": "948",
         "rawType": "int64",
         "type": "integer"
        },
        {
         "name": "949",
         "rawType": "int64",
         "type": "integer"
        },
        {
         "name": "950",
         "rawType": "int64",
         "type": "integer"
        },
        {
         "name": "951",
         "rawType": "int64",
         "type": "integer"
        },
        {
         "name": "952",
         "rawType": "int64",
         "type": "integer"
        },
        {
         "name": "953",
         "rawType": "int64",
         "type": "integer"
        },
        {
         "name": "954",
         "rawType": "int64",
         "type": "integer"
        },
        {
         "name": "955",
         "rawType": "int64",
         "type": "integer"
        },
        {
         "name": "956",
         "rawType": "int64",
         "type": "integer"
        },
        {
         "name": "957",
         "rawType": "int64",
         "type": "integer"
        },
        {
         "name": "958",
         "rawType": "int64",
         "type": "integer"
        },
        {
         "name": "959",
         "rawType": "int64",
         "type": "integer"
        },
        {
         "name": "960",
         "rawType": "int64",
         "type": "integer"
        },
        {
         "name": "961",
         "rawType": "int64",
         "type": "integer"
        },
        {
         "name": "962",
         "rawType": "int64",
         "type": "integer"
        },
        {
         "name": "963",
         "rawType": "int64",
         "type": "integer"
        },
        {
         "name": "964",
         "rawType": "int64",
         "type": "integer"
        },
        {
         "name": "965",
         "rawType": "int64",
         "type": "integer"
        },
        {
         "name": "966",
         "rawType": "int64",
         "type": "integer"
        },
        {
         "name": "967",
         "rawType": "int64",
         "type": "integer"
        },
        {
         "name": "968",
         "rawType": "int64",
         "type": "integer"
        },
        {
         "name": "969",
         "rawType": "int64",
         "type": "integer"
        },
        {
         "name": "970",
         "rawType": "int64",
         "type": "integer"
        },
        {
         "name": "971",
         "rawType": "int64",
         "type": "integer"
        },
        {
         "name": "972",
         "rawType": "int64",
         "type": "integer"
        },
        {
         "name": "973",
         "rawType": "int64",
         "type": "integer"
        },
        {
         "name": "974",
         "rawType": "int64",
         "type": "integer"
        },
        {
         "name": "975",
         "rawType": "int64",
         "type": "integer"
        },
        {
         "name": "976",
         "rawType": "int64",
         "type": "integer"
        },
        {
         "name": "977",
         "rawType": "int64",
         "type": "integer"
        },
        {
         "name": "978",
         "rawType": "int64",
         "type": "integer"
        },
        {
         "name": "979",
         "rawType": "int64",
         "type": "integer"
        },
        {
         "name": "980",
         "rawType": "int64",
         "type": "integer"
        },
        {
         "name": "981",
         "rawType": "int64",
         "type": "integer"
        },
        {
         "name": "982",
         "rawType": "int64",
         "type": "integer"
        },
        {
         "name": "983",
         "rawType": "int64",
         "type": "integer"
        },
        {
         "name": "984",
         "rawType": "int64",
         "type": "integer"
        },
        {
         "name": "985",
         "rawType": "int64",
         "type": "integer"
        },
        {
         "name": "986",
         "rawType": "int64",
         "type": "integer"
        },
        {
         "name": "987",
         "rawType": "int64",
         "type": "integer"
        },
        {
         "name": "988",
         "rawType": "int64",
         "type": "integer"
        },
        {
         "name": "989",
         "rawType": "int64",
         "type": "integer"
        },
        {
         "name": "990",
         "rawType": "int64",
         "type": "integer"
        },
        {
         "name": "991",
         "rawType": "int64",
         "type": "integer"
        },
        {
         "name": "992",
         "rawType": "int64",
         "type": "integer"
        },
        {
         "name": "993",
         "rawType": "int64",
         "type": "integer"
        },
        {
         "name": "994",
         "rawType": "int64",
         "type": "integer"
        },
        {
         "name": "995",
         "rawType": "int64",
         "type": "integer"
        },
        {
         "name": "996",
         "rawType": "int64",
         "type": "integer"
        },
        {
         "name": "997",
         "rawType": "int64",
         "type": "integer"
        },
        {
         "name": "998",
         "rawType": "int64",
         "type": "integer"
        },
        {
         "name": "999",
         "rawType": "int64",
         "type": "integer"
        },
        {
         "name": "1000",
         "rawType": "int64",
         "type": "integer"
        }
       ],
       "ref": "18dc5ab4-4cc7-49f3-86b6-f74e4ba838b9",
       "rows": [
        [
         "0",
         "0",
         "0",
         "6",
         "11",
         "12",
         "13",
         "10",
         "13",
         "16",
         "18",
         "17",
         "14",
         "12",
         "17",
         "9",
         "5",
         "4",
         "6",
         "9",
         "9",
         "8",
         "7",
         "14",
         "10",
         "12",
         "14",
         "9",
         "10",
         "6",
         "9",
         "14",
         "12",
         "11",
         "10",
         "11",
         "8",
         "9",
         "10",
         "12",
         "10",
         "7",
         "10",
         "12",
         "12",
         "8",
         "6",
         "6",
         "8",
         "9",
         "9",
         "11",
         "12",
         "10",
         "12",
         "11",
         "12",
         "9",
         "10",
         "12",
         "13",
         "12",
         "12",
         "12",
         "7",
         "11",
         "16",
         "12",
         "7",
         "10",
         "7",
         "6",
         "6",
         "14",
         "11",
         "9",
         "11",
         "10",
         "10",
         "12",
         "10",
         "15",
         "10",
         "9",
         "12",
         "11",
         "12",
         "8",
         "9",
         "5",
         "5",
         "7",
         "9",
         "9",
         "9",
         "9",
         "11",
         "12",
         "11",
         "10",
         "12",
         "9",
         "7",
         "5",
         "5",
         "7",
         "6",
         "7",
         "9",
         "7",
         "4",
         "9",
         "9",
         "16",
         "10",
         "13",
         "10",
         "5",
         "8",
         "9",
         "9",
         "12",
         "8",
         "6",
         "3",
         "3",
         "3",
         "1",
         "1",
         "0",
         "0",
         "0",
         "0",
         "0",
         "2",
         "1",
         "1",
         "0",
         "0",
         "0",
         "0",
         "0",
         "0",
         "0",
         "0",
         "0",
         "3",
         "7",
         "12",
         "11",
         "13",
         "11",
         "8",
         "4",
         "9",
         "7",
         "5",
         "14",
         "12",
         "9",
         "12",
         "9",
         "10",
         "13",
         "8",
         "7",
         "11",
         "12",
         "13",
         "9",
         "14",
         "14",
         "12",
         "11",
         "13",
         "12",
         "11",
         "14",
         "12",
         "11",
         "15",
         "11",
         "11",
         "13",
         "11",
         "13",
         "12",
         "10",
         "10",
         "11",
         "10",
         "9",
         "8",
         "8",
         "8",
         "10",
         "8",
         "11",
         "13",
         "12",
         "13",
         "10",
         "9",
         "6",
         "4",
         "7",
         "6",
         "7",
         "5",
         "8",
         "5",
         "3",
         "1",
         "1",
         "1",
         "0",
         "0",
         "0",
         "0",
         "0",
         "0",
         "0",
         "3",
         "6",
         "8",
         "9",
         "7",
         "6",
         "10",
         "12",
         "8",
         "8",
         "12",
         "10",
         "6",
         "9",
         "8",
         "9",
         "12",
         "6",
         "8",
         "12",
         "12",
         "13",
         "9",
         "8",
         "7",
         "6",
         "8",
         "15",
         "12",
         "14",
         "9",
         "12",
         "11",
         "15",
         "13",
         "10",
         "13",
         "9",
         "10",
         "10",
         "7",
         "12",
         "15",
         "15",
         "12",
         "13",
         "17",
         "15",
         "15",
         "14",
         "11",
         "9",
         "16",
         "11",
         "9",
         "6",
         "3",
         "3",
         "1",
         "0",
         "0",
         "0",
         "0",
         "0",
         "0",
         "0",
         "0",
         "0",
         "4",
         "6",
         "5",
         "7",
         "8",
         "5",
         "14",
         "11",
         "7",
         "10",
         "7",
         "10",
         "12",
         "11",
         "15",
         "16",
         "9",
         "8",
         "5",
         "8",
         "10",
         "13",
         "8",
         "8",
         "9",
         "7",
         "10",
         "11",
         "8",
         "7",
         "7",
         "6",
         "8",
         "9",
         "7",
         "6",
         "12",
         "11",
         "8",
         "10",
         "9",
         "7",
         "7",
         "7",
         "5",
         "9",
         "6",
         "8",
         "8",
         "9",
         "11",
         "16",
         "13",
         "10",
         "10",
         "8",
         "9",
         "8",
         "14",
         "12",
         "9",
         "7",
         "4",
         "6",
         "4",
         "4",
         "6",
         "5",
         "6",
         "7",
         "10",
         "16",
         "12",
         "10",
         "8",
         "12",
         "15",
         "12",
         "15",
         "13",
         "15",
         "10",
         "10",
         "11",
         "17",
         "11",
         "13",
         "15",
         "13",
         "9",
         "7",
         "7",
         "12",
         "11",
         "13",
         "17",
         "12",
         "10",
         "12",
         "9",
         "9",
         "7",
         "12",
         "12",
         "13",
         "9",
         "11",
         "10",
         "6",
         "9",
         "9",
         "6",
         "4",
         "7",
         "10",
         "15",
         "9",
         "7",
         "11",
         "6",
         "7",
         "12",
         "10",
         "8",
         "6",
         "6",
         "5",
         "2",
         "2",
         "1",
         "1",
         "1",
         "0",
         "0",
         "0",
         "0",
         "4",
         "11",
         "11",
         "13",
         "12",
         "14",
         "15",
         "15",
         "12",
         "10",
         "10",
         "10",
         "8",
         "14",
         "12",
         "11",
         "8",
         "7",
         "8",
         "6",
         "3",
         "10",
         "6",
         "8",
         "9",
         "6",
         "5",
         "8",
         "8",
         "9",
         "8",
         "10",
         "10",
         "8",
         "11",
         "5",
         "7",
         "6",
         "8",
         "8",
         "9",
         "11",
         "15",
         "13",
         "17",
         "11",
         "8",
         "8",
         "8",
         "9",
         "6",
         "4",
         "7",
         "6",
         "7",
         "9",
         "11",
         "8",
         "8",
         "8",
         "9",
         "7",
         "9",
         "11",
         "10",
         "8",
         "11",
         "12",
         "9",
         "10",
         "10",
         "13",
         "11",
         "13",
         "10",
         "13",
         "12",
         "7",
         "4",
         "7",
         "6",
         "14",
         "15",
         "11",
         "9",
         "9",
         "10",
         "9",
         "10",
         "11",
         "12",
         "9",
         "9",
         "12",
         "12",
         "12",
         "10",
         "7",
         "10",
         "6",
         "3",
         "3",
         "2",
         "2",
         "2",
         "2",
         "0",
         "0",
         "4",
         "6",
         "6",
         "2",
         "7",
         "9",
         "10",
         "16",
         "18",
         "13",
         "11",
         "14",
         "12",
         "15",
         "7",
         "7",
         "5",
         "8",
         "13",
         "11",
         "14",
         "14",
         "13",
         "15",
         "12",
         "5",
         "2",
         "1",
         "1",
         "0",
         "0",
         "1",
         "7",
         "6",
         "5",
         "6",
         "12",
         "9",
         "9",
         "7",
         "9",
         "13",
         "11",
         "5",
         "6",
         "6",
         "9",
         "14",
         "11",
         "11",
         "12",
         "9",
         "6",
         "5",
         "11",
         "10",
         "7",
         "3",
         "1",
         "0",
         "0",
         "4",
         "10",
         "13",
         "8",
         "3",
         "5",
         "9",
         "10",
         "4",
         "3",
         "2",
         "0",
         "0",
         "0",
         "0",
         "0",
         "0",
         "0",
         "0",
         "0",
         "0",
         "0",
         "0",
         "0",
         "0",
         "0",
         "0",
         "0",
         "0",
         "1",
         "6",
         "8",
         "10",
         "10",
         "11",
         "12",
         "10",
         "11",
         "12",
         "9",
         "10",
         "10",
         "12",
         "9",
         "5",
         "4",
         "5",
         "4",
         "3",
         "1",
         "0",
         "0",
         "0",
         "0",
         "0",
         "0",
         "0",
         "0",
         "0",
         "0",
         "0",
         "0",
         "1",
         "2",
         "6",
         "8",
         "11",
         "5",
         "4",
         "5",
         "4",
         "3",
         "7",
         "6",
         "7",
         "9",
         "7",
         "10",
         "9",
         "9",
         "12",
         "12",
         "10",
         "9",
         "10",
         "15",
         "14",
         "16",
         "14",
         "17",
         "12",
         "8",
         "11",
         "9",
         "5",
         "1",
         "0",
         "0",
         "0",
         "0",
         "0",
         "0",
         "0",
         "0",
         "0",
         "2",
         "4",
         "6",
         "9",
         "11",
         "9",
         "11",
         "11",
         "13",
         "12",
         "6",
         "4",
         "8",
         "12",
         "15",
         "19",
         "10",
         "10",
         "10",
         "7",
         "8",
         "9",
         "10",
         "11",
         "8",
         "6",
         "4",
         "5",
         "6",
         "8",
         "6",
         "7",
         "4",
         "3",
         "9",
         "10",
         "8",
         "7",
         "9",
         "7",
         "6",
         "11",
         "13",
         "12",
         "9",
         "8",
         "8",
         "6",
         "9",
         "9",
         "6",
         "10",
         "16",
         "13",
         "13",
         "11",
         "8",
         "8",
         "7",
         "5",
         "6",
         "5",
         "4",
         "12",
         "12",
         "13",
         "9",
         "7",
         "7",
         "14",
         "13",
         "12",
         "11",
         "7",
         "8",
         "8",
         "13",
         "11",
         "11",
         "13",
         "10",
         "12",
         "10",
         "11",
         "12",
         "8",
         "11",
         "11",
         "9",
         "7",
         "6",
         "4",
         "1",
         "1",
         "1",
         "1",
         "0",
         "0",
         "0",
         "0",
         "0",
         "0",
         "0",
         "0",
         "0",
         "0",
         "0",
         "0",
         "4",
         "9",
         "7",
         "9",
         "5",
         "6",
         "5",
         "7",
         "11",
         "13",
         "11",
         "12",
         "10",
         "9",
         "13",
         "13",
         "12",
         "8",
         "7",
         "8",
         "8",
         "9",
         "11",
         "11",
         "10",
         "11",
         "9",
         "5",
         "9",
         "9",
         "7",
         "7",
         "10",
         "8",
         "10",
         "11",
         "9",
         "8",
         "6",
         "1",
         "3",
         "5",
         "7",
         "9",
         "10",
         "11",
         "12",
         "15",
         "15",
         "14",
         "13",
         "13",
         "7",
         "7",
         "12",
         "11",
         "14",
         "13",
         "13",
         "11",
         "10",
         "8",
         "9",
         "12",
         "7",
         "6",
         "8",
         "5",
         "6",
         "9",
         "11",
         "15",
         "13",
         "10",
         "8",
         "8",
         "6",
         "3",
         "6",
         "8",
         "6",
         "7",
         "8",
         "15",
         "13",
         "11",
         "15",
         "10",
         "12",
         "14",
         "10",
         "15",
         "13",
         "15",
         "14",
         "9",
         "7",
         "8",
         "7",
         "10",
         "5",
         "2",
         "5",
         "7",
         "10",
         "5",
         "9",
         "5",
         "3",
         "3",
         "7",
         "5",
         "9",
         "5",
         "5",
         "2",
         "2",
         "1",
         "0",
         "0",
         "0",
         "0",
         "0",
         "0",
         "0",
         "0",
         "0",
         "0",
         "0",
         "0",
         "0",
         "0",
         "0",
         "0",
         "0",
         "0",
         "0",
         "1",
         "4",
         "8",
         "7",
         "7",
         "5",
         "6",
         "7",
         "7",
         "8",
         "11",
         "11",
         "12",
         "6",
         "7",
         "6",
         "11",
         "12",
         "8",
         "4",
         "4",
         "7",
         "6",
         "6",
         "11",
         "10",
         "13",
         "7",
         "5",
         "4",
         "6",
         "10",
         "10",
         "8",
         "9",
         "12",
         "12",
         "10",
         "16",
         "13",
         "14",
         "16",
         "13",
         "15",
         "13",
         "14",
         "11",
         "5",
         "3",
         "3",
         "2",
         "2",
         "0",
         "0",
         "0",
         "0",
         "0"
        ],
        [
         "1",
         "0",
         "0",
         "2",
         "1",
         "1",
         "1",
         "0",
         "0",
         "0",
         "0",
         "0",
         "0",
         "0",
         "0",
         "0",
         "0",
         "0",
         "0",
         "0",
         "0",
         "0",
         "0",
         "0",
         "0",
         "0",
         "0",
         "3",
         "8",
         "8",
         "10",
         "11",
         "12",
         "14",
         "9",
         "16",
         "14",
         "6",
         "10",
         "10",
         "7",
         "10",
         "12",
         "12",
         "11",
         "9",
         "9",
         "6",
         "3",
         "2",
         "5",
         "8",
         "7",
         "7",
         "10",
         "4",
         "4",
         "9",
         "11",
         "7",
         "5",
         "4",
         "9",
         "11",
         "12",
         "8",
         "6",
         "7",
         "7",
         "6",
         "7",
         "10",
         "10",
         "10",
         "12",
         "13",
         "9",
         "14",
         "13",
         "15",
         "16",
         "11",
         "9",
         "7",
         "5",
         "6",
         "7",
         "9",
         "10",
         "9",
         "5",
         "5",
         "4",
         "3",
         "1",
         "1",
         "7",
         "8",
         "8",
         "7",
         "6",
         "4",
         "8",
         "9",
         "11",
         "12",
         "12",
         "11",
         "11",
         "12",
         "17",
         "16",
         "12",
         "16",
         "19",
         "16",
         "11",
         "10",
         "9",
         "9",
         "9",
         "7",
         "5",
         "8",
         "9",
         "19",
         "14",
         "8",
         "8",
         "9",
         "11",
         "15",
         "12",
         "12",
         "10",
         "9",
         "14",
         "12",
         "10",
         "8",
         "6",
         "8",
         "13",
         "13",
         "13",
         "12",
         "10",
         "11",
         "14",
         "11",
         "8",
         "8",
         "5",
         "3",
         "3",
         "1",
         "0",
         "0",
         "0",
         "0",
         "0",
         "0",
         "0",
         "0",
         "0",
         "0",
         "0",
         "0",
         "3",
         "4",
         "7",
         "7",
         "9",
         "10",
         "7",
         "11",
         "8",
         "14",
         "12",
         "10",
         "8",
         "7",
         "7",
         "6",
         "9",
         "13",
         "10",
         "9",
         "9",
         "9",
         "6",
         "4",
         "4",
         "6",
         "9",
         "13",
         "10",
         "6",
         "5",
         "3",
         "1",
         "1",
         "1",
         "0",
         "0",
         "0",
         "0",
         "7",
         "5",
         "4",
         "2",
         "1",
         "1",
         "1",
         "0",
         "0",
         "0",
         "0",
         "0",
         "3",
         "6",
         "7",
         "6",
         "7",
         "8",
         "9",
         "5",
         "3",
         "11",
         "10",
         "12",
         "10",
         "9",
         "9",
         "8",
         "11",
         "14",
         "15",
         "16",
         "10",
         "9",
         "9",
         "11",
         "12",
         "7",
         "10",
         "9",
         "11",
         "10",
         "9",
         "10",
         "10",
         "15",
         "17",
         "7",
         "8",
         "10",
         "8",
         "11",
         "10",
         "12",
         "15",
         "14",
         "17",
         "14",
         "11",
         "13",
         "15",
         "12",
         "8",
         "8",
         "13",
         "7",
         "10",
         "7",
         "6",
         "10",
         "9",
         "7",
         "8",
         "10",
         "6",
         "7",
         "9",
         "7",
         "9",
         "13",
         "11",
         "12",
         "7",
         "4",
         "1",
         "1",
         "1",
         "0",
         "0",
         "0",
         "0",
         "0",
         "0",
         "0",
         "0",
         "0",
         "0",
         "0",
         "0",
         "0",
         "0",
         "0",
         "0",
         "0",
         "0",
         "0",
         "0",
         "0",
         "0",
         "0",
         "0",
         "0",
         "0",
         "1",
         "6",
         "3",
         "5",
         "8",
         "12",
         "12",
         "10",
         "11",
         "13",
         "8",
         "9",
         "11",
         "10",
         "9",
         "10",
         "9",
         "8",
         "6",
         "5",
         "6",
         "7",
         "7",
         "6",
         "10",
         "11",
         "13",
         "9",
         "14",
         "7",
         "8",
         "9",
         "10",
         "7",
         "8",
         "8",
         "11",
         "7",
         "5",
         "2",
         "9",
         "11",
         "11",
         "12",
         "13",
         "15",
         "17",
         "16",
         "11",
         "10",
         "9",
         "9",
         "6",
         "7",
         "7",
         "11",
         "11",
         "11",
         "13",
         "11",
         "13",
         "11",
         "8",
         "11",
         "8",
         "10",
         "9",
         "7",
         "7",
         "13",
         "15",
         "13",
         "12",
         "11",
         "10",
         "12",
         "7",
         "9",
         "7",
         "8",
         "9",
         "7",
         "7",
         "6",
         "7",
         "16",
         "11",
         "10",
         "10",
         "12",
         "11",
         "10",
         "7",
         "7",
         "9",
         "13",
         "20",
         "17",
         "10",
         "11",
         "7",
         "4",
         "9",
         "11",
         "8",
         "10",
         "6",
         "3",
         "1",
         "1",
         "0",
         "0",
         "0",
         "0",
         "0",
         "0",
         "0",
         "0",
         "0",
         "0",
         "0",
         "0",
         "3",
         "8",
         "13",
         "15",
         "8",
         "8",
         "7",
         "7",
         "10",
         "13",
         "14",
         "13",
         "12",
         "12",
         "9",
         "10",
         "13",
         "13",
         "11",
         "7",
         "6",
         "5",
         "3",
         "2",
         "1",
         "0",
         "0",
         "0",
         "0",
         "0",
         "0",
         "0",
         "0",
         "0",
         "0",
         "0",
         "0",
         "0",
         "0",
         "5",
         "6",
         "8",
         "11",
         "12",
         "11",
         "11",
         "10",
         "10",
         "11",
         "12",
         "14",
         "14",
         "12",
         "10",
         "13",
         "12",
         "9",
         "10",
         "12",
         "12",
         "9",
         "11",
         "13",
         "12",
         "12",
         "9",
         "12",
         "14",
         "12",
         "11",
         "11",
         "15",
         "14",
         "12",
         "16",
         "19",
         "18",
         "17",
         "15",
         "16",
         "16",
         "13",
         "9",
         "9",
         "8",
         "7",
         "4",
         "3",
         "3",
         "2",
         "1",
         "1",
         "0",
         "0",
         "0",
         "0",
         "0",
         "0",
         "0",
         "0",
         "0",
         "0",
         "0",
         "0",
         "0",
         "0",
         "0",
         "0",
         "0",
         "0",
         "0",
         "0",
         "0",
         "0",
         "0",
         "0",
         "0",
         "0",
         "0",
         "0",
         "0",
         "0",
         "0",
         "0",
         "0",
         "0",
         "6",
         "7",
         "8",
         "9",
         "9",
         "9",
         "11",
         "12",
         "12",
         "17",
         "14",
         "14",
         "11",
         "11",
         "10",
         "6",
         "8",
         "13",
         "12",
         "17",
         "13",
         "9",
         "8",
         "8",
         "10",
         "6",
         "7",
         "9",
         "11",
         "10",
         "12",
         "12",
         "12",
         "9",
         "9",
         "13",
         "6",
         "8",
         "9",
         "7",
         "7",
         "8",
         "6",
         "7",
         "5",
         "8",
         "12",
         "12",
         "11",
         "11",
         "12",
         "14",
         "12",
         "10",
         "9",
         "10",
         "7",
         "9",
         "8",
         "5",
         "6",
         "14",
         "13",
         "13",
         "11",
         "12",
         "10",
         "9",
         "14",
         "12",
         "11",
         "14",
         "13",
         "11",
         "11",
         "8",
         "8",
         "10",
         "13",
         "12",
         "12",
         "10",
         "10",
         "12",
         "9",
         "9",
         "11",
         "14",
         "19",
         "21",
         "16",
         "16",
         "11",
         "10",
         "8",
         "9",
         "7",
         "8",
         "7",
         "11",
         "13",
         "13",
         "10",
         "14",
         "12",
         "10",
         "15",
         "14",
         "11",
         "12",
         "10",
         "13",
         "10",
         "8",
         "9",
         "3",
         "4",
         "4",
         "5",
         "12",
         "7",
         "6",
         "4",
         "7",
         "11",
         "10",
         "9",
         "7",
         "8",
         "6",
         "6",
         "12",
         "9",
         "7",
         "12",
         "8",
         "9",
         "9",
         "10",
         "12",
         "14",
         "10",
         "16",
         "17",
         "15",
         "12",
         "11",
         "11",
         "12",
         "9",
         "8",
         "9",
         "12",
         "11",
         "15",
         "9",
         "5",
         "5",
         "4",
         "4",
         "8",
         "11",
         "11",
         "12",
         "10",
         "6",
         "6",
         "6",
         "9",
         "11",
         "11",
         "10",
         "9",
         "10",
         "12",
         "8",
         "8",
         "9",
         "17",
         "15",
         "10",
         "10",
         "5",
         "5",
         "3",
         "6",
         "10",
         "12",
         "8",
         "11",
         "13",
         "10",
         "10",
         "8",
         "11",
         "12",
         "11",
         "11",
         "10",
         "9",
         "10",
         "11",
         "9",
         "10",
         "8",
         "4",
         "7",
         "7",
         "7",
         "11",
         "10",
         "10",
         "8",
         "9",
         "9",
         "8",
         "12",
         "10",
         "11",
         "10",
         "11",
         "14",
         "15",
         "9",
         "17",
         "8",
         "10",
         "7",
         "11",
         "12",
         "10",
         "8",
         "10",
         "12",
         "7",
         "8",
         "8",
         "6",
         "8",
         "11",
         "6",
         "8",
         "8",
         "9",
         "9",
         "9",
         "9",
         "8",
         "9",
         "10",
         "8",
         "12",
         "11",
         "8",
         "8",
         "11",
         "10",
         "12",
         "9",
         "8",
         "9",
         "8",
         "7",
         "13",
         "10",
         "10",
         "8",
         "6",
         "11",
         "9",
         "11",
         "12",
         "12",
         "11",
         "9",
         "13",
         "11",
         "11",
         "10",
         "10",
         "12",
         "14",
         "17",
         "17",
         "13",
         "16",
         "12",
         "8",
         "11",
         "10",
         "13",
         "11",
         "10",
         "8",
         "3",
         "7",
         "6",
         "2",
         "2",
         "1",
         "1",
         "1",
         "1",
         "3",
         "3",
         "12",
         "13",
         "10",
         "12",
         "12",
         "12",
         "9",
         "9",
         "8",
         "11",
         "11",
         "12",
         "12",
         "10",
         "10",
         "7",
         "8",
         "5",
         "9",
         "4",
         "6",
         "7",
         "5",
         "7",
         "6",
         "8",
         "11",
         "7",
         "7",
         "11",
         "7",
         "12",
         "11",
         "9",
         "8",
         "11",
         "14",
         "13",
         "11",
         "10",
         "12",
         "13",
         "11",
         "8",
         "6",
         "8",
         "10",
         "9",
         "11",
         "11",
         "8",
         "9",
         "3",
         "6",
         "10",
         "9",
         "6",
         "8",
         "8",
         "9",
         "14",
         "15",
         "8",
         "11",
         "7",
         "8",
         "13",
         "15",
         "11",
         "13",
         "18",
         "20",
         "14",
         "10",
         "9",
         "9",
         "12",
         "12",
         "9",
         "11",
         "8",
         "7",
         "10",
         "11",
         "17",
         "15",
         "11",
         "9",
         "11",
         "11",
         "12",
         "13",
         "11",
         "10",
         "7",
         "8",
         "10",
         "12",
         "10",
         "6",
         "10",
         "12",
         "11",
         "14",
         "15",
         "16",
         "16",
         "12",
         "9",
         "10",
         "9",
         "7",
         "6",
         "11",
         "10",
         "11",
         "9",
         "9",
         "8",
         "10",
         "10",
         "7",
         "8",
         "7",
         "11",
         "8",
         "9",
         "9",
         "11"
        ],
        [
         "2",
         "0",
         "0",
         "5",
         "8",
         "6",
         "10",
         "9",
         "10",
         "8",
         "5",
         "13",
         "15",
         "14",
         "22",
         "15",
         "11",
         "9",
         "10",
         "5",
         "10",
         "12",
         "11",
         "18",
         "16",
         "12",
         "14",
         "13",
         "15",
         "13",
         "11",
         "9",
         "9",
         "8",
         "10",
         "7",
         "10",
         "11",
         "14",
         "12",
         "9",
         "12",
         "15",
         "13",
         "13",
         "9",
         "9",
         "8",
         "8",
         "12",
         "10",
         "8",
         "10",
         "11",
         "7",
         "8",
         "7",
         "4",
         "4",
         "8",
         "9",
         "7",
         "4",
         "8",
         "9",
         "9",
         "6",
         "11",
         "8",
         "9",
         "11",
         "7",
         "6",
         "7",
         "10",
         "10",
         "9",
         "6",
         "13",
         "11",
         "17",
         "15",
         "9",
         "11",
         "11",
         "12",
         "9",
         "9",
         "8",
         "5",
         "5",
         "7",
         "7",
         "7",
         "10",
         "9",
         "11",
         "13",
         "10",
         "12",
         "7",
         "8",
         "9",
         "7",
         "10",
         "14",
         "14",
         "15",
         "14",
         "13",
         "10",
         "10",
         "10",
         "8",
         "12",
         "13",
         "9",
         "4",
         "4",
         "2",
         "2",
         "2",
         "1",
         "1",
         "1",
         "1",
         "1",
         "0",
         "1",
         "5",
         "11",
         "9",
         "9",
         "9",
         "9",
         "10",
         "11",
         "7",
         "6",
         "11",
         "12",
         "10",
         "10",
         "12",
         "10",
         "12",
         "12",
         "11",
         "10",
         "11",
         "11",
         "13",
         "12",
         "12",
         "9",
         "9",
         "10",
         "12",
         "9",
         "7",
         "7",
         "8",
         "9",
         "8",
         "10",
         "11",
         "10",
         "13",
         "15",
         "12",
         "9",
         "4",
         "7",
         "8",
         "10",
         "6",
         "6",
         "9",
         "8",
         "8",
         "8",
         "10",
         "12",
         "10",
         "7",
         "9",
         "11",
         "13",
         "10",
         "9",
         "14",
         "16",
         "12",
         "11",
         "15",
         "15",
         "14",
         "15",
         "13",
         "13",
         "11",
         "9",
         "10",
         "8",
         "6",
         "8",
         "7",
         "11",
         "12",
         "10",
         "7",
         "5",
         "3",
         "3",
         "2",
         "5",
         "3",
         "9",
         "9",
         "9",
         "11",
         "7",
         "9",
         "4",
         "5",
         "6",
         "8",
         "12",
         "6",
         "9",
         "3",
         "2",
         "1",
         "1",
         "6",
         "9",
         "6",
         "4",
         "8",
         "7",
         "9",
         "8",
         "7",
         "7",
         "8",
         "9",
         "12",
         "8",
         "11",
         "15",
         "13",
         "13",
         "9",
         "11",
         "9",
         "6",
         "4",
         "1",
         "1",
         "1",
         "0",
         "0",
         "0",
         "0",
         "0",
         "0",
         "0",
         "0",
         "0",
         "3",
         "5",
         "7",
         "8",
         "11",
         "13",
         "15",
         "16",
         "14",
         "15",
         "15",
         "10",
         "12",
         "10",
         "9",
         "9",
         "7",
         "7",
         "10",
         "11",
         "10",
         "10",
         "10",
         "8",
         "11",
         "9",
         "12",
         "10",
         "10",
         "12",
         "12",
         "6",
         "5",
         "6",
         "8",
         "8",
         "11",
         "11",
         "8",
         "6",
         "6",
         "10",
         "12",
         "11",
         "9",
         "8",
         "13",
         "8",
         "6",
         "3",
         "9",
         "11",
         "12",
         "8",
         "11",
         "16",
         "8",
         "14",
         "8",
         "5",
         "6",
         "6",
         "11",
         "8",
         "11",
         "8",
         "10",
         "15",
         "9",
         "3",
         "2",
         "1",
         "0",
         "0",
         "0",
         "0",
         "0",
         "0",
         "0",
         "0",
         "0",
         "0",
         "0",
         "0",
         "0",
         "0",
         "0",
         "0",
         "0",
         "3",
         "5",
         "7",
         "7",
         "10",
         "5",
         "2",
         "1",
         "1",
         "1",
         "1",
         "1",
         "1",
         "1",
         "1",
         "1",
         "0",
         "0",
         "0",
         "0",
         "0",
         "2",
         "5",
         "9",
         "7",
         "12",
         "9",
         "7",
         "3",
         "3",
         "3",
         "5",
         "10",
         "8",
         "10",
         "9",
         "6",
         "7",
         "11",
         "10",
         "11",
         "9",
         "7",
         "6",
         "9",
         "9",
         "8",
         "11",
         "12",
         "13",
         "12",
         "10",
         "6",
         "11",
         "9",
         "10",
         "8",
         "8",
         "8",
         "6",
         "7",
         "6",
         "9",
         "13",
         "16",
         "15",
         "14",
         "11",
         "12",
         "12",
         "12",
         "10",
         "10",
         "11",
         "9",
         "9",
         "11",
         "12",
         "11",
         "14",
         "15",
         "12",
         "9",
         "5",
         "5",
         "4",
         "2",
         "1",
         "0",
         "3",
         "3",
         "6",
         "7",
         "10",
         "10",
         "12",
         "10",
         "9",
         "10",
         "8",
         "14",
         "12",
         "13",
         "14",
         "12",
         "12",
         "8",
         "5",
         "5",
         "8",
         "9",
         "8",
         "6",
         "6",
         "3",
         "6",
         "8",
         "8",
         "6",
         "9",
         "12",
         "9",
         "6",
         "9",
         "12",
         "12",
         "10",
         "7",
         "9",
         "8",
         "7",
         "13",
         "8",
         "9",
         "13",
         "16",
         "15",
         "7",
         "6",
         "11",
         "9",
         "9",
         "10",
         "14",
         "12",
         "13",
         "10",
         "10",
         "7",
         "11",
         "10",
         "9",
         "8",
         "9",
         "7",
         "8",
         "7",
         "8",
         "10",
         "6",
         "1",
         "4",
         "8",
         "6",
         "4",
         "6",
         "6",
         "10",
         "9",
         "13",
         "16",
         "19",
         "16",
         "12",
         "14",
         "13",
         "11",
         "9",
         "11",
         "11",
         "12",
         "9",
         "11",
         "10",
         "7",
         "13",
         "9",
         "10",
         "9",
         "17",
         "15",
         "15",
         "9",
         "5",
         "8",
         "8",
         "14",
         "11",
         "11",
         "12",
         "10",
         "12",
         "13",
         "8",
         "8",
         "11",
         "8",
         "5",
         "2",
         "0",
         "0",
         "0",
         "0",
         "0",
         "0",
         "0",
         "7",
         "6",
         "5",
         "7",
         "4",
         "5",
         "7",
         "8",
         "7",
         "5",
         "4",
         "8",
         "8",
         "9",
         "8",
         "9",
         "8",
         "9",
         "8",
         "8",
         "12",
         "11",
         "9",
         "13",
         "14",
         "10",
         "11",
         "12",
         "12",
         "10",
         "12",
         "11",
         "7",
         "7",
         "9",
         "9",
         "8",
         "9",
         "9",
         "6",
         "7",
         "9",
         "10",
         "8",
         "7",
         "6",
         "4",
         "7",
         "9",
         "6",
         "10",
         "10",
         "8",
         "3",
         "4",
         "5",
         "6",
         "4",
         "9",
         "7",
         "9",
         "8",
         "7",
         "7",
         "10",
         "14",
         "6",
         "4",
         "9",
         "12",
         "9",
         "9",
         "9",
         "10",
         "8",
         "8",
         "5",
         "5",
         "7",
         "4",
         "3",
         "5",
         "11",
         "7",
         "9",
         "9",
         "10",
         "7",
         "7",
         "11",
         "11",
         "12",
         "12",
         "15",
         "15",
         "11",
         "9",
         "9",
         "12",
         "12",
         "16",
         "17",
         "13",
         "15",
         "13",
         "12",
         "9",
         "10",
         "9",
         "11",
         "11",
         "10",
         "9",
         "4",
         "8",
         "9",
         "12",
         "12",
         "13",
         "10",
         "7",
         "8",
         "6",
         "8",
         "6",
         "8",
         "8",
         "8",
         "7",
         "8",
         "11",
         "3",
         "6",
         "6",
         "10",
         "12",
         "10",
         "13",
         "10",
         "13",
         "10",
         "6",
         "3",
         "1",
         "1",
         "1",
         "1",
         "1",
         "1",
         "0",
         "1",
         "4",
         "7",
         "7",
         "4",
         "11",
         "11",
         "12",
         "8",
         "7",
         "9",
         "6",
         "7",
         "10",
         "12",
         "13",
         "14",
         "14",
         "8",
         "6",
         "8",
         "7",
         "6",
         "5",
         "3",
         "2",
         "2",
         "1",
         "0",
         "0",
         "0",
         "0",
         "0",
         "0",
         "0",
         "2",
         "5",
         "6",
         "9",
         "7",
         "7",
         "10",
         "12",
         "12",
         "11",
         "11",
         "8",
         "11",
         "16",
         "10",
         "12",
         "13",
         "12",
         "12",
         "12",
         "12",
         "11",
         "9",
         "8",
         "9",
         "9",
         "8",
         "10",
         "9",
         "7",
         "8",
         "7",
         "5",
         "3",
         "1",
         "1",
         "1",
         "1",
         "0",
         "0",
         "0",
         "6",
         "6",
         "8",
         "6",
         "7",
         "11",
         "11",
         "14",
         "15",
         "16",
         "17",
         "13",
         "12",
         "7",
         "5",
         "6",
         "7",
         "9",
         "8",
         "9",
         "10",
         "8",
         "9",
         "9",
         "7",
         "8",
         "10",
         "9",
         "10",
         "11",
         "10",
         "8",
         "6",
         "11",
         "14",
         "13",
         "12",
         "9",
         "12",
         "12",
         "8",
         "11",
         "8",
         "11",
         "12",
         "8",
         "5",
         "7",
         "7",
         "5",
         "5",
         "7",
         "10",
         "13",
         "14",
         "13",
         "10",
         "8",
         "7",
         "9",
         "11",
         "8",
         "11",
         "12",
         "9",
         "7",
         "9",
         "13",
         "14",
         "11",
         "8",
         "7",
         "5",
         "10",
         "11",
         "11",
         "14",
         "9",
         "9",
         "7",
         "7",
         "10",
         "12",
         "15",
         "13",
         "15",
         "18",
         "12",
         "8",
         "7",
         "4",
         "3",
         "2",
         "1",
         "0",
         "0",
         "0",
         "0",
         "0",
         "0",
         "0",
         "0",
         "0",
         "0",
         "0",
         "0",
         "0",
         "4",
         "3",
         "3",
         "3",
         "3",
         "4",
         "7",
         "9",
         "8",
         "7",
         "1",
         "1",
         "6",
         "9",
         "11",
         "14",
         "12",
         "10",
         "11",
         "13",
         "9",
         "8",
         "9",
         "12",
         "10",
         "10",
         "13",
         "10",
         "9",
         "11",
         "14",
         "7",
         "9",
         "9",
         "11",
         "12",
         "10",
         "7",
         "6",
         "8",
         "7",
         "4",
         "9",
         "6",
         "7",
         "7",
         "8",
         "10",
         "8",
         "13",
         "11",
         "12",
         "9",
         "8",
         "9",
         "11",
         "10",
         "11",
         "12",
         "10",
         "8",
         "9",
         "9",
         "12",
         "11",
         "10",
         "13",
         "11",
         "9",
         "9",
         "5",
         "5",
         "11",
         "12",
         "11",
         "7",
         "5",
         "6",
         "7",
         "10",
         "14",
         "17",
         "15",
         "9",
         "5",
         "4",
         "1",
         "0",
         "0",
         "0",
         "0",
         "0",
         "0",
         "0",
         "0"
        ],
        [
         "3",
         "0",
         "0",
         "5",
         "12",
         "9",
         "9",
         "10",
         "11",
         "11",
         "12",
         "11",
         "11",
         "13",
         "8",
         "13",
         "14",
         "13",
         "12",
         "17",
         "12",
         "15",
         "10",
         "7",
         "10",
         "15",
         "10",
         "11",
         "10",
         "9",
         "10",
         "11",
         "11",
         "9",
         "9",
         "10",
         "14",
         "16",
         "14",
         "16",
         "11",
         "13",
         "10",
         "9",
         "12",
         "13",
         "14",
         "10",
         "11",
         "15",
         "15",
         "15",
         "10",
         "14",
         "11",
         "14",
         "17",
         "10",
         "12",
         "5",
         "4",
         "8",
         "4",
         "3",
         "1",
         "0",
         "0",
         "0",
         "0",
         "0",
         "0",
         "0",
         "2",
         "5",
         "5",
         "8",
         "5",
         "7",
         "8",
         "6",
         "13",
         "15",
         "12",
         "11",
         "14",
         "11",
         "11",
         "7",
         "7",
         "7",
         "4",
         "6",
         "8",
         "6",
         "8",
         "5",
         "8",
         "10",
         "11",
         "10",
         "9",
         "9",
         "6",
         "8",
         "9",
         "8",
         "11",
         "8",
         "5",
         "9",
         "12",
         "11",
         "10",
         "10",
         "10",
         "8",
         "6",
         "11",
         "11",
         "11",
         "13",
         "8",
         "9",
         "6",
         "7",
         "10",
         "10",
         "14",
         "10",
         "7",
         "7",
         "9",
         "7",
         "6",
         "8",
         "8",
         "10",
         "14",
         "14",
         "11",
         "8",
         "6",
         "9",
         "7",
         "12",
         "12",
         "11",
         "9",
         "12",
         "10",
         "12",
         "13",
         "13",
         "16",
         "15",
         "18",
         "19",
         "11",
         "8",
         "12",
         "8",
         "9",
         "10",
         "12",
         "8",
         "11",
         "10",
         "12",
         "8",
         "4",
         "1",
         "1",
         "0",
         "0",
         "0",
         "0",
         "0",
         "0",
         "0",
         "0",
         "0",
         "3",
         "6",
         "4",
         "4",
         "6",
         "9",
         "10",
         "15",
         "10",
         "12",
         "8",
         "11",
         "7",
         "8",
         "8",
         "8",
         "5",
         "9",
         "8",
         "10",
         "11",
         "8",
         "7",
         "6",
         "6",
         "5",
         "11",
         "7",
         "8",
         "15",
         "12",
         "11",
         "13",
         "13",
         "9",
         "8",
         "7",
         "6",
         "7",
         "8",
         "7",
         "10",
         "8",
         "13",
         "12",
         "10",
         "8",
         "9",
         "10",
         "8",
         "9",
         "10",
         "10",
         "10",
         "4",
         "2",
         "4",
         "4",
         "4",
         "6",
         "3",
         "4",
         "10",
         "6",
         "6",
         "9",
         "9",
         "8",
         "8",
         "6",
         "5",
         "5",
         "7",
         "16",
         "13",
         "8",
         "8",
         "3",
         "2",
         "1",
         "1",
         "0",
         "0",
         "0",
         "0",
         "0",
         "0",
         "0",
         "0",
         "0",
         "0",
         "0",
         "0",
         "3",
         "5",
         "7",
         "6",
         "5",
         "1",
         "3",
         "7",
         "8",
         "7",
         "7",
         "14",
         "15",
         "18",
         "18",
         "17",
         "9",
         "11",
         "12",
         "11",
         "9",
         "6",
         "4",
         "2",
         "2",
         "0",
         "0",
         "0",
         "0",
         "0",
         "0",
         "0",
         "0",
         "3",
         "4",
         "4",
         "7",
         "10",
         "15",
         "15",
         "10",
         "7",
         "7",
         "6",
         "9",
         "11",
         "8",
         "13",
         "12",
         "8",
         "7",
         "14",
         "16",
         "12",
         "11",
         "12",
         "7",
         "9",
         "8",
         "5",
         "3",
         "1",
         "0",
         "0",
         "0",
         "0",
         "0",
         "0",
         "0",
         "0",
         "2",
         "9",
         "9",
         "12",
         "6",
         "3",
         "3",
         "6",
         "6",
         "4",
         "7",
         "9",
         "11",
         "12",
         "10",
         "18",
         "11",
         "9",
         "9",
         "10",
         "12",
         "11",
         "11",
         "10",
         "11",
         "8",
         "2",
         "5",
         "11",
         "11",
         "13",
         "11",
         "11",
         "6",
         "10",
         "8",
         "5",
         "9",
         "11",
         "11",
         "10",
         "13",
         "12",
         "9",
         "7",
         "8",
         "7",
         "6",
         "5",
         "5",
         "6",
         "8",
         "7",
         "8",
         "7",
         "8",
         "11",
         "5",
         "2",
         "5",
         "8",
         "6",
         "3",
         "3",
         "1",
         "5",
         "9",
         "11",
         "9",
         "8",
         "6",
         "5",
         "4",
         "6",
         "6",
         "5",
         "9",
         "12",
         "13",
         "16",
         "12",
         "13",
         "15",
         "10",
         "12",
         "9",
         "6",
         "6",
         "6",
         "8",
         "9",
         "12",
         "9",
         "8",
         "11",
         "13",
         "8",
         "10",
         "9",
         "9",
         "10",
         "10",
         "10",
         "12",
         "7",
         "7",
         "7",
         "8",
         "9",
         "14",
         "12",
         "16",
         "7",
         "2",
         "1",
         "3",
         "9",
         "19",
         "25",
         "20",
         "12",
         "13",
         "14",
         "9",
         "12",
         "8",
         "8",
         "8",
         "4",
         "8",
         "11",
         "11",
         "13",
         "15",
         "14",
         "12",
         "14",
         "12",
         "14",
         "14",
         "13",
         "12",
         "7",
         "9",
         "8",
         "8",
         "7",
         "6",
         "5",
         "7",
         "9",
         "6",
         "4",
         "5",
         "6",
         "9",
         "9",
         "5",
         "9",
         "6",
         "11",
         "12",
         "14",
         "13",
         "10",
         "11",
         "10",
         "8",
         "7",
         "6",
         "7",
         "8",
         "9",
         "8",
         "7",
         "9",
         "6",
         "6",
         "5",
         "1",
         "0",
         "0",
         "0",
         "0",
         "0",
         "0",
         "0",
         "0",
         "0",
         "0",
         "0",
         "0",
         "0",
         "0",
         "0",
         "0",
         "0",
         "0",
         "5",
         "11",
         "11",
         "5",
         "8",
         "12",
         "14",
         "11",
         "9",
         "4",
         "2",
         "6",
         "9",
         "12",
         "9",
         "14",
         "16",
         "14",
         "10",
         "9",
         "9",
         "13",
         "9",
         "8",
         "6",
         "5",
         "8",
         "7",
         "9",
         "12",
         "9",
         "6",
         "4",
         "4",
         "5",
         "6",
         "6",
         "9",
         "8",
         "11",
         "10",
         "10",
         "6",
         "7",
         "8",
         "9",
         "9",
         "10",
         "10",
         "14",
         "9",
         "13",
         "11",
         "15",
         "16",
         "14",
         "15",
         "14",
         "17",
         "13",
         "13",
         "10",
         "13",
         "11",
         "6",
         "4",
         "2",
         "2",
         "1",
         "1",
         "1",
         "1",
         "1",
         "1",
         "1",
         "1",
         "1",
         "0",
         "0",
         "0",
         "0",
         "5",
         "9",
         "3",
         "7",
         "11",
         "10",
         "10",
         "11",
         "9",
         "10",
         "9",
         "8",
         "8",
         "11",
         "12",
         "12",
         "11",
         "12",
         "12",
         "11",
         "12",
         "13",
         "8",
         "10",
         "8",
         "10",
         "15",
         "14",
         "11",
         "11",
         "9",
         "4",
         "5",
         "3",
         "6",
         "6",
         "6",
         "6",
         "8",
         "10",
         "9",
         "9",
         "11",
         "10",
         "9",
         "11",
         "9",
         "8",
         "8",
         "10",
         "9",
         "4",
         "5",
         "5",
         "12",
         "10",
         "10",
         "11",
         "11",
         "14",
         "12",
         "14",
         "19",
         "20",
         "19",
         "15",
         "15",
         "16",
         "15",
         "15",
         "11",
         "13",
         "15",
         "14",
         "17",
         "12",
         "13",
         "11",
         "13",
         "8",
         "13",
         "12",
         "12",
         "10",
         "9",
         "10",
         "11",
         "10",
         "14",
         "18",
         "12",
         "13",
         "10",
         "14",
         "14",
         "12",
         "13",
         "15",
         "6",
         "10",
         "7",
         "6",
         "5",
         "5",
         "11",
         "6",
         "3",
         "4",
         "12",
         "6",
         "9",
         "9",
         "5",
         "4",
         "4",
         "8",
         "8",
         "7",
         "12",
         "5",
         "12",
         "12",
         "9",
         "11",
         "12",
         "9",
         "10",
         "7",
         "11",
         "10",
         "9",
         "8",
         "10",
         "11",
         "12",
         "12",
         "13",
         "9",
         "6",
         "7",
         "13",
         "15",
         "7",
         "5",
         "6",
         "7",
         "9",
         "11",
         "17",
         "14",
         "16",
         "13",
         "12",
         "13",
         "9",
         "9",
         "11",
         "6",
         "7",
         "12",
         "9",
         "7",
         "13",
         "7",
         "10",
         "14",
         "11",
         "16",
         "14",
         "4",
         "5",
         "6",
         "9",
         "9",
         "8",
         "12",
         "13",
         "15",
         "12",
         "10",
         "8",
         "8",
         "10",
         "11",
         "13",
         "14",
         "12",
         "16",
         "14",
         "15",
         "12",
         "9",
         "10",
         "12",
         "11",
         "11",
         "10",
         "11",
         "17",
         "15",
         "10",
         "7",
         "5",
         "2",
         "2",
         "0",
         "0",
         "0",
         "0",
         "4",
         "4",
         "7",
         "7",
         "8",
         "7",
         "9",
         "8",
         "9",
         "11",
         "9",
         "14",
         "10",
         "9",
         "6",
         "6",
         "3",
         "8",
         "9",
         "7",
         "8",
         "12",
         "8",
         "7",
         "7",
         "9",
         "14",
         "12",
         "14",
         "14",
         "14",
         "18",
         "13",
         "8",
         "10",
         "8",
         "9",
         "11",
         "9",
         "7",
         "12",
         "10",
         "10",
         "10",
         "10",
         "12",
         "12",
         "12",
         "13",
         "12",
         "12",
         "16",
         "16",
         "18",
         "17",
         "8",
         "12",
         "11",
         "14",
         "16",
         "15",
         "15",
         "11",
         "11",
         "16",
         "14",
         "12",
         "10",
         "11",
         "9",
         "11",
         "7",
         "8",
         "14",
         "13",
         "8",
         "5",
         "10",
         "8",
         "9",
         "9",
         "11",
         "13",
         "14",
         "15",
         "7",
         "13",
         "8",
         "8",
         "9",
         "15",
         "13",
         "14",
         "11",
         "11",
         "12",
         "10",
         "7",
         "10",
         "13",
         "9",
         "9",
         "8",
         "8",
         "10",
         "10",
         "9",
         "6",
         "7",
         "8",
         "6",
         "8",
         "14",
         "13",
         "12",
         "9",
         "9",
         "10",
         "14",
         "12",
         "8",
         "7",
         "9",
         "8",
         "12",
         "14",
         "13",
         "10",
         "7",
         "5",
         "2",
         "1",
         "1",
         "1",
         "1",
         "0",
         "0",
         "0",
         "0",
         "9",
         "10",
         "9",
         "13",
         "16",
         "17",
         "13",
         "10",
         "10",
         "9",
         "6",
         "10",
         "15",
         "16",
         "15",
         "16",
         "11",
         "12",
         "17",
         "19",
         "16",
         "9",
         "14",
         "8",
         "5",
         "8",
         "6",
         "5",
         "7",
         "8",
         "10"
        ],
        [
         "4",
         "0",
         "0",
         "5",
         "9",
         "6",
         "6",
         "12",
         "11",
         "11",
         "14",
         "10",
         "8",
         "4",
         "9",
         "8",
         "5",
         "4",
         "8",
         "6",
         "7",
         "7",
         "7",
         "8",
         "5",
         "3",
         "3",
         "1",
         "0",
         "0",
         "0",
         "0",
         "0",
         "0",
         "0",
         "0",
         "0",
         "0",
         "0",
         "0",
         "0",
         "2",
         "6",
         "9",
         "6",
         "1",
         "0",
         "0",
         "4",
         "5",
         "5",
         "7",
         "12",
         "12",
         "12",
         "13",
         "16",
         "11",
         "13",
         "14",
         "14",
         "11",
         "7",
         "9",
         "6",
         "7",
         "7",
         "9",
         "7",
         "13",
         "12",
         "18",
         "17",
         "16",
         "13",
         "12",
         "12",
         "11",
         "12",
         "9",
         "9",
         "11",
         "9",
         "12",
         "11",
         "10",
         "10",
         "9",
         "11",
         "10",
         "14",
         "19",
         "13",
         "12",
         "8",
         "7",
         "10",
         "9",
         "13",
         "12",
         "17",
         "13",
         "13",
         "20",
         "18",
         "12",
         "12",
         "12",
         "12",
         "13",
         "9",
         "9",
         "8",
         "6",
         "6",
         "12",
         "10",
         "9",
         "10",
         "6",
         "6",
         "9",
         "8",
         "9",
         "9",
         "10",
         "11",
         "11",
         "14",
         "9",
         "8",
         "8",
         "11",
         "8",
         "6",
         "6",
         "6",
         "4",
         "8",
         "9",
         "12",
         "10",
         "10",
         "11",
         "13",
         "12",
         "11",
         "9",
         "11",
         "12",
         "11",
         "12",
         "8",
         "5",
         "8",
         "8",
         "9",
         "7",
         "6",
         "7",
         "5",
         "7",
         "5",
         "5",
         "5",
         "9",
         "11",
         "9",
         "10",
         "11",
         "6",
         "15",
         "11",
         "9",
         "14",
         "11",
         "10",
         "10",
         "8",
         "10",
         "13",
         "14",
         "12",
         "7",
         "11",
         "7",
         "6",
         "10",
         "10",
         "6",
         "8",
         "8",
         "7",
         "8",
         "9",
         "6",
         "6",
         "8",
         "5",
         "6",
         "8",
         "4",
         "9",
         "7",
         "9",
         "10",
         "10",
         "9",
         "10",
         "11",
         "8",
         "6",
         "8",
         "6",
         "6",
         "8",
         "4",
         "9",
         "7",
         "8",
         "4",
         "4",
         "2",
         "2",
         "1",
         "5",
         "10",
         "15",
         "10",
         "6",
         "6",
         "8",
         "7",
         "8",
         "12",
         "7",
         "10",
         "13",
         "8",
         "8",
         "9",
         "5",
         "8",
         "7",
         "7",
         "7",
         "10",
         "10",
         "14",
         "15",
         "11",
         "10",
         "12",
         "11",
         "13",
         "11",
         "12",
         "10",
         "11",
         "13",
         "13",
         "12",
         "14",
         "11",
         "14",
         "13",
         "8",
         "9",
         "8",
         "11",
         "14",
         "11",
         "9",
         "11",
         "10",
         "13",
         "14",
         "16",
         "17",
         "13",
         "11",
         "8",
         "6",
         "7",
         "4",
         "8",
         "12",
         "10",
         "8",
         "10",
         "8",
         "9",
         "11",
         "11",
         "10",
         "8",
         "15",
         "15",
         "13",
         "12",
         "6",
         "9",
         "7",
         "9",
         "6",
         "6",
         "6",
         "9",
         "7",
         "5",
         "8",
         "8",
         "8",
         "10",
         "10",
         "10",
         "9",
         "9",
         "9",
         "12",
         "11",
         "11",
         "10",
         "10",
         "8",
         "9",
         "9",
         "9",
         "10",
         "5",
         "5",
         "5",
         "11",
         "8",
         "7",
         "12",
         "9",
         "15",
         "15",
         "12",
         "11",
         "11",
         "12",
         "12",
         "6",
         "5",
         "7",
         "11",
         "15",
         "12",
         "11",
         "13",
         "9",
         "10",
         "8",
         "11",
         "8",
         "6",
         "10",
         "10",
         "7",
         "10",
         "8",
         "8",
         "7",
         "9",
         "11",
         "3",
         "8",
         "6",
         "3",
         "2",
         "10",
         "12",
         "9",
         "7",
         "10",
         "11",
         "9",
         "9",
         "7",
         "6",
         "8",
         "11",
         "13",
         "12",
         "9",
         "8",
         "9",
         "11",
         "7",
         "11",
         "15",
         "12",
         "16",
         "10",
         "9",
         "6",
         "11",
         "5",
         "7",
         "6",
         "6",
         "6",
         "5",
         "3",
         "6",
         "6",
         "6",
         "7",
         "6",
         "12",
         "9",
         "8",
         "10",
         "10",
         "7",
         "6",
         "8",
         "6",
         "13",
         "8",
         "6",
         "3",
         "2",
         "1",
         "0",
         "0",
         "0",
         "0",
         "0",
         "0",
         "0",
         "0",
         "0",
         "1",
         "6",
         "10",
         "10",
         "11",
         "11",
         "12",
         "8",
         "2",
         "1",
         "1",
         "1",
         "0",
         "0",
         "0",
         "0",
         "0",
         "0",
         "0",
         "0",
         "0",
         "0",
         "0",
         "0",
         "0",
         "0",
         "0",
         "0",
         "0",
         "0",
         "0",
         "0",
         "0",
         "0",
         "0",
         "0",
         "3",
         "4",
         "6",
         "5",
         "2",
         "2",
         "7",
         "5",
         "5",
         "11",
         "17",
         "14",
         "11",
         "12",
         "14",
         "9",
         "10",
         "15",
         "19",
         "14",
         "12",
         "12",
         "10",
         "11",
         "9",
         "13",
         "12",
         "15",
         "17",
         "10",
         "7",
         "3",
         "0",
         "0",
         "0",
         "3",
         "14",
         "12",
         "12",
         "14",
         "19",
         "16",
         "13",
         "13",
         "14",
         "12",
         "13",
         "12",
         "8",
         "11",
         "11",
         "16",
         "15",
         "15",
         "10",
         "9",
         "13",
         "8",
         "5",
         "6",
         "9",
         "7",
         "10",
         "11",
         "8",
         "3",
         "2",
         "5",
         "8",
         "9",
         "10",
         "10",
         "15",
         "11",
         "14",
         "11",
         "9",
         "7",
         "8",
         "9",
         "9",
         "8",
         "9",
         "6",
         "9",
         "8",
         "10",
         "10",
         "10",
         "11",
         "10",
         "9",
         "10",
         "12",
         "13",
         "11",
         "8",
         "10",
         "7",
         "9",
         "11",
         "9",
         "8",
         "10",
         "8",
         "11",
         "16",
         "11",
         "13",
         "11",
         "12",
         "11",
         "12",
         "11",
         "16",
         "16",
         "12",
         "13",
         "9",
         "6",
         "7",
         "7",
         "5",
         "10",
         "11",
         "10",
         "11",
         "18",
         "17",
         "17",
         "14",
         "12",
         "11",
         "10",
         "11",
         "9",
         "13",
         "9",
         "6",
         "5",
         "4",
         "3",
         "2",
         "1",
         "1",
         "0",
         "0",
         "0",
         "0",
         "0",
         "3",
         "9",
         "11",
         "7",
         "9",
         "5",
         "5",
         "10",
         "7",
         "4",
         "6",
         "6",
         "5",
         "5",
         "5",
         "7",
         "7",
         "8",
         "8",
         "8",
         "6",
         "7",
         "8",
         "8",
         "15",
         "16",
         "20",
         "15",
         "10",
         "8",
         "8",
         "10",
         "5",
         "6",
         "7",
         "7",
         "9",
         "11",
         "10",
         "8",
         "8",
         "11",
         "9",
         "9",
         "12",
         "11",
         "8",
         "10",
         "7",
         "8",
         "7",
         "10",
         "10",
         "10",
         "14",
         "15",
         "15",
         "12",
         "15",
         "12",
         "13",
         "13",
         "12",
         "8",
         "10",
         "13",
         "13",
         "11",
         "12",
         "12",
         "11",
         "12",
         "10",
         "13",
         "9",
         "9",
         "9",
         "11",
         "8",
         "10",
         "8",
         "14",
         "11",
         "8",
         "10",
         "9",
         "9",
         "10",
         "8",
         "6",
         "5",
         "7",
         "8",
         "10",
         "12",
         "8",
         "11",
         "10",
         "10",
         "13",
         "21",
         "14",
         "11",
         "12",
         "12",
         "9",
         "16",
         "18",
         "15",
         "11",
         "11",
         "10",
         "5",
         "8",
         "10",
         "6",
         "6",
         "6",
         "8",
         "12",
         "6",
         "9",
         "10",
         "9",
         "16",
         "17",
         "13",
         "8",
         "8",
         "12",
         "9",
         "11",
         "10",
         "8",
         "13",
         "16",
         "12",
         "10",
         "14",
         "15",
         "15",
         "13",
         "14",
         "14",
         "10",
         "11",
         "15",
         "12",
         "14",
         "18",
         "19",
         "17",
         "15",
         "8",
         "15",
         "11",
         "10",
         "11",
         "6",
         "6",
         "7",
         "8",
         "5",
         "6",
         "8",
         "10",
         "8",
         "15",
         "19",
         "11",
         "9",
         "8",
         "9",
         "8",
         "8",
         "9",
         "8",
         "7",
         "2",
         "11",
         "12",
         "12",
         "10",
         "12",
         "13",
         "7",
         "4",
         "8",
         "7",
         "13",
         "14",
         "13",
         "14",
         "9",
         "9",
         "13",
         "12",
         "14",
         "15",
         "13",
         "11",
         "9",
         "7",
         "9",
         "6",
         "6",
         "8",
         "10",
         "8",
         "4",
         "5",
         "4",
         "7",
         "11",
         "9",
         "11",
         "9",
         "8",
         "9",
         "11",
         "10",
         "12",
         "14",
         "14",
         "10",
         "12",
         "14",
         "15",
         "10",
         "12",
         "14",
         "9",
         "7",
         "9",
         "9",
         "15",
         "11",
         "11",
         "9",
         "10",
         "7",
         "6",
         "10",
         "10",
         "9",
         "11",
         "12",
         "13",
         "11",
         "13",
         "9",
         "10",
         "12",
         "12",
         "8",
         "4",
         "6",
         "10",
         "10",
         "6",
         "7",
         "8",
         "6",
         "7",
         "9",
         "9",
         "15",
         "10",
         "10",
         "7",
         "7",
         "7",
         "13",
         "15",
         "14",
         "14",
         "13",
         "12",
         "13",
         "12",
         "8",
         "9",
         "13",
         "15",
         "8",
         "7",
         "12",
         "10",
         "9",
         "10",
         "9",
         "13",
         "12",
         "12",
         "10",
         "16",
         "10",
         "10",
         "12",
         "4",
         "2",
         "2",
         "1",
         "0",
         "0",
         "0",
         "4",
         "5",
         "11",
         "11",
         "6",
         "5",
         "6",
         "13",
         "10",
         "9",
         "7",
         "8",
         "8",
         "14",
         "12",
         "9",
         "15",
         "16",
         "15",
         "11",
         "9",
         "10",
         "13",
         "7",
         "5",
         "7",
         "6",
         "8",
         "12",
         "8",
         "11",
         "8",
         "9",
         "3",
         "6",
         "7",
         "6",
         "6",
         "6",
         "5",
         "7",
         "10",
         "9",
         "8",
         "10",
         "5",
         "6",
         "6",
         "11",
         "11",
         "10",
         "10",
         "4",
         "1",
         "4",
         "6",
         "7",
         "10",
         "10",
         "13",
         "13",
         "11",
         "10",
         "4",
         "3",
         "7",
         "8",
         "9",
         "12",
         "12",
         "6",
         "9",
         "11",
         "16",
         "15"
        ]
       ],
       "shape": {
        "columns": 1001,
        "rows": 5
       }
      },
      "text/html": [
       "<div>\n",
       "<style scoped>\n",
       "    .dataframe tbody tr th:only-of-type {\n",
       "        vertical-align: middle;\n",
       "    }\n",
       "\n",
       "    .dataframe tbody tr th {\n",
       "        vertical-align: top;\n",
       "    }\n",
       "\n",
       "    .dataframe thead th {\n",
       "        text-align: right;\n",
       "    }\n",
       "</style>\n",
       "<table border=\"1\" class=\"dataframe\">\n",
       "  <thead>\n",
       "    <tr style=\"text-align: right;\">\n",
       "      <th></th>\n",
       "      <th>0</th>\n",
       "      <th>1</th>\n",
       "      <th>2</th>\n",
       "      <th>3</th>\n",
       "      <th>4</th>\n",
       "      <th>5</th>\n",
       "      <th>6</th>\n",
       "      <th>7</th>\n",
       "      <th>8</th>\n",
       "      <th>9</th>\n",
       "      <th>...</th>\n",
       "      <th>991</th>\n",
       "      <th>992</th>\n",
       "      <th>993</th>\n",
       "      <th>994</th>\n",
       "      <th>995</th>\n",
       "      <th>996</th>\n",
       "      <th>997</th>\n",
       "      <th>998</th>\n",
       "      <th>999</th>\n",
       "      <th>1000</th>\n",
       "    </tr>\n",
       "  </thead>\n",
       "  <tbody>\n",
       "    <tr>\n",
       "      <th>0</th>\n",
       "      <td>0</td>\n",
       "      <td>0</td>\n",
       "      <td>6</td>\n",
       "      <td>11</td>\n",
       "      <td>12</td>\n",
       "      <td>13</td>\n",
       "      <td>10</td>\n",
       "      <td>13</td>\n",
       "      <td>16</td>\n",
       "      <td>18</td>\n",
       "      <td>...</td>\n",
       "      <td>5</td>\n",
       "      <td>3</td>\n",
       "      <td>3</td>\n",
       "      <td>2</td>\n",
       "      <td>2</td>\n",
       "      <td>0</td>\n",
       "      <td>0</td>\n",
       "      <td>0</td>\n",
       "      <td>0</td>\n",
       "      <td>0</td>\n",
       "    </tr>\n",
       "    <tr>\n",
       "      <th>1</th>\n",
       "      <td>0</td>\n",
       "      <td>0</td>\n",
       "      <td>2</td>\n",
       "      <td>1</td>\n",
       "      <td>1</td>\n",
       "      <td>1</td>\n",
       "      <td>0</td>\n",
       "      <td>0</td>\n",
       "      <td>0</td>\n",
       "      <td>0</td>\n",
       "      <td>...</td>\n",
       "      <td>10</td>\n",
       "      <td>10</td>\n",
       "      <td>7</td>\n",
       "      <td>8</td>\n",
       "      <td>7</td>\n",
       "      <td>11</td>\n",
       "      <td>8</td>\n",
       "      <td>9</td>\n",
       "      <td>9</td>\n",
       "      <td>11</td>\n",
       "    </tr>\n",
       "    <tr>\n",
       "      <th>2</th>\n",
       "      <td>0</td>\n",
       "      <td>0</td>\n",
       "      <td>5</td>\n",
       "      <td>8</td>\n",
       "      <td>6</td>\n",
       "      <td>10</td>\n",
       "      <td>9</td>\n",
       "      <td>10</td>\n",
       "      <td>8</td>\n",
       "      <td>5</td>\n",
       "      <td>...</td>\n",
       "      <td>4</td>\n",
       "      <td>1</td>\n",
       "      <td>0</td>\n",
       "      <td>0</td>\n",
       "      <td>0</td>\n",
       "      <td>0</td>\n",
       "      <td>0</td>\n",
       "      <td>0</td>\n",
       "      <td>0</td>\n",
       "      <td>0</td>\n",
       "    </tr>\n",
       "    <tr>\n",
       "      <th>3</th>\n",
       "      <td>0</td>\n",
       "      <td>0</td>\n",
       "      <td>5</td>\n",
       "      <td>12</td>\n",
       "      <td>9</td>\n",
       "      <td>9</td>\n",
       "      <td>10</td>\n",
       "      <td>11</td>\n",
       "      <td>11</td>\n",
       "      <td>12</td>\n",
       "      <td>...</td>\n",
       "      <td>9</td>\n",
       "      <td>14</td>\n",
       "      <td>8</td>\n",
       "      <td>5</td>\n",
       "      <td>8</td>\n",
       "      <td>6</td>\n",
       "      <td>5</td>\n",
       "      <td>7</td>\n",
       "      <td>8</td>\n",
       "      <td>10</td>\n",
       "    </tr>\n",
       "    <tr>\n",
       "      <th>4</th>\n",
       "      <td>0</td>\n",
       "      <td>0</td>\n",
       "      <td>5</td>\n",
       "      <td>9</td>\n",
       "      <td>6</td>\n",
       "      <td>6</td>\n",
       "      <td>12</td>\n",
       "      <td>11</td>\n",
       "      <td>11</td>\n",
       "      <td>14</td>\n",
       "      <td>...</td>\n",
       "      <td>7</td>\n",
       "      <td>8</td>\n",
       "      <td>9</td>\n",
       "      <td>12</td>\n",
       "      <td>12</td>\n",
       "      <td>6</td>\n",
       "      <td>9</td>\n",
       "      <td>11</td>\n",
       "      <td>16</td>\n",
       "      <td>15</td>\n",
       "    </tr>\n",
       "  </tbody>\n",
       "</table>\n",
       "<p>5 rows × 1001 columns</p>\n",
       "</div>"
      ],
      "text/plain": [
       "   0     1     2     3     4     5     6     7     8     9     ...  991   \\\n",
       "0     0     0     6    11    12    13    10    13    16    18  ...     5   \n",
       "1     0     0     2     1     1     1     0     0     0     0  ...    10   \n",
       "2     0     0     5     8     6    10     9    10     8     5  ...     4   \n",
       "3     0     0     5    12     9     9    10    11    11    12  ...     9   \n",
       "4     0     0     5     9     6     6    12    11    11    14  ...     7   \n",
       "\n",
       "   992   993   994   995   996   997   998   999   1000  \n",
       "0     3     3     2     2     0     0     0     0     0  \n",
       "1    10     7     8     7    11     8     9     9    11  \n",
       "2     1     0     0     0     0     0     0     0     0  \n",
       "3    14     8     5     8     6     5     7     8    10  \n",
       "4     8     9    12    12     6     9    11    16    15  \n",
       "\n",
       "[5 rows x 1001 columns]"
      ]
     },
     "execution_count": 2,
     "metadata": {},
     "output_type": "execute_result"
    },
    {
     "name": "stderr",
     "output_type": "stream",
     "text": [
      "WARNING: replacing module JuliaTelegraphSimulation.\n",
      "WARNING: using JuliaTelegraphSimulation.simulate_telegraph_model in module Main conflicts with an existing identifier.\n"
     ]
    }
   ],
   "source": [
    "#!/usr/bin/env python3\n",
    "from juliacall import Main as jl\n",
    "import numpy as np\n",
    "\n",
    "# 1) Julia env + your module\n",
    "jl.seval('using Pkg; Pkg.activate(\".\"); Pkg.instantiate()')\n",
    "jl.seval('using DataFrames, NPZ')\n",
    "jl.include(\"JuliaTelegraphSimulation.jl\")\n",
    "jl.seval('using .JuliaTelegraphSimulation')\n",
    "\n",
    "# 2) Keep inputs in Python, but pass them as bound variables (no string interpolation!)\n",
    "parameter_sets = [{\"sigma_u\":0.02, \"sigma_b\":0.1, \"rho\":5.0, \"d\":0.5, \"label\":0}]\n",
    "time_points = np.arange(0, 1000, 1.0)  # 0..1000 inclusive\n",
    "size = 500\n",
    "\n",
    "# Python → Julia conversion handled automatically\n",
    "jl.parameter_sets = parameter_sets\n",
    "jl.time_points = time_points\n",
    "\n",
    "# 3) Run the sim in Julia, bind the result to a Julia var `df`\n",
    "jl.seval(f'df = simulate_telegraph_model(parameter_sets, time_points, {size})')\n",
    "\n",
    "# 4) Save NPZ from Julia\n",
    "jl.seval('''\n",
    "         npzwrite(\"telegraph_simulation_example.npz\", Matrix{Int64}(df))\n",
    "''')\n",
    "\n",
    "# 5) Read back in Python and sanity check\n",
    "npz = np.load(\"telegraph_simulation_example.npz\")\n",
    "import pandas as pd\n",
    "df = pd.DataFrame(npz)\n",
    "df.head()"
   ]
  },
  {
   "cell_type": "markdown",
   "id": "8d77200d",
   "metadata": {},
   "source": [
    "A drawback for the above method is that the columns are messed up (NPZ can only store numbers)\n",
    "## A different way to save the NPZ file"
   ]
  },
  {
   "cell_type": "code",
   "execution_count": 3,
   "id": "204beed8",
   "metadata": {},
   "outputs": [
    {
     "name": "stdout",
     "output_type": "stream",
     "text": [
      "(500, 1000) (1000,) (500,)\n"
     ]
    },
    {
     "data": {
      "application/vnd.microsoft.datawrangler.viewer.v0+json": {
       "columns": [
        {
         "name": "index",
         "rawType": "int64",
         "type": "integer"
        },
        {
         "name": "label",
         "rawType": "int64",
         "type": "integer"
        },
        {
         "name": "time_0.0",
         "rawType": "int64",
         "type": "integer"
        },
        {
         "name": "time_1.0",
         "rawType": "int64",
         "type": "integer"
        },
        {
         "name": "time_2.0",
         "rawType": "int64",
         "type": "integer"
        },
        {
         "name": "time_3.0",
         "rawType": "int64",
         "type": "integer"
        },
        {
         "name": "time_4.0",
         "rawType": "int64",
         "type": "integer"
        },
        {
         "name": "time_5.0",
         "rawType": "int64",
         "type": "integer"
        },
        {
         "name": "time_6.0",
         "rawType": "int64",
         "type": "integer"
        },
        {
         "name": "time_7.0",
         "rawType": "int64",
         "type": "integer"
        },
        {
         "name": "time_8.0",
         "rawType": "int64",
         "type": "integer"
        },
        {
         "name": "time_9.0",
         "rawType": "int64",
         "type": "integer"
        },
        {
         "name": "time_10.0",
         "rawType": "int64",
         "type": "integer"
        },
        {
         "name": "time_11.0",
         "rawType": "int64",
         "type": "integer"
        },
        {
         "name": "time_12.0",
         "rawType": "int64",
         "type": "integer"
        },
        {
         "name": "time_13.0",
         "rawType": "int64",
         "type": "integer"
        },
        {
         "name": "time_14.0",
         "rawType": "int64",
         "type": "integer"
        },
        {
         "name": "time_15.0",
         "rawType": "int64",
         "type": "integer"
        },
        {
         "name": "time_16.0",
         "rawType": "int64",
         "type": "integer"
        },
        {
         "name": "time_17.0",
         "rawType": "int64",
         "type": "integer"
        },
        {
         "name": "time_18.0",
         "rawType": "int64",
         "type": "integer"
        },
        {
         "name": "time_19.0",
         "rawType": "int64",
         "type": "integer"
        },
        {
         "name": "time_20.0",
         "rawType": "int64",
         "type": "integer"
        },
        {
         "name": "time_21.0",
         "rawType": "int64",
         "type": "integer"
        },
        {
         "name": "time_22.0",
         "rawType": "int64",
         "type": "integer"
        },
        {
         "name": "time_23.0",
         "rawType": "int64",
         "type": "integer"
        },
        {
         "name": "time_24.0",
         "rawType": "int64",
         "type": "integer"
        },
        {
         "name": "time_25.0",
         "rawType": "int64",
         "type": "integer"
        },
        {
         "name": "time_26.0",
         "rawType": "int64",
         "type": "integer"
        },
        {
         "name": "time_27.0",
         "rawType": "int64",
         "type": "integer"
        },
        {
         "name": "time_28.0",
         "rawType": "int64",
         "type": "integer"
        },
        {
         "name": "time_29.0",
         "rawType": "int64",
         "type": "integer"
        },
        {
         "name": "time_30.0",
         "rawType": "int64",
         "type": "integer"
        },
        {
         "name": "time_31.0",
         "rawType": "int64",
         "type": "integer"
        },
        {
         "name": "time_32.0",
         "rawType": "int64",
         "type": "integer"
        },
        {
         "name": "time_33.0",
         "rawType": "int64",
         "type": "integer"
        },
        {
         "name": "time_34.0",
         "rawType": "int64",
         "type": "integer"
        },
        {
         "name": "time_35.0",
         "rawType": "int64",
         "type": "integer"
        },
        {
         "name": "time_36.0",
         "rawType": "int64",
         "type": "integer"
        },
        {
         "name": "time_37.0",
         "rawType": "int64",
         "type": "integer"
        },
        {
         "name": "time_38.0",
         "rawType": "int64",
         "type": "integer"
        },
        {
         "name": "time_39.0",
         "rawType": "int64",
         "type": "integer"
        },
        {
         "name": "time_40.0",
         "rawType": "int64",
         "type": "integer"
        },
        {
         "name": "time_41.0",
         "rawType": "int64",
         "type": "integer"
        },
        {
         "name": "time_42.0",
         "rawType": "int64",
         "type": "integer"
        },
        {
         "name": "time_43.0",
         "rawType": "int64",
         "type": "integer"
        },
        {
         "name": "time_44.0",
         "rawType": "int64",
         "type": "integer"
        },
        {
         "name": "time_45.0",
         "rawType": "int64",
         "type": "integer"
        },
        {
         "name": "time_46.0",
         "rawType": "int64",
         "type": "integer"
        },
        {
         "name": "time_47.0",
         "rawType": "int64",
         "type": "integer"
        },
        {
         "name": "time_48.0",
         "rawType": "int64",
         "type": "integer"
        },
        {
         "name": "time_49.0",
         "rawType": "int64",
         "type": "integer"
        },
        {
         "name": "time_50.0",
         "rawType": "int64",
         "type": "integer"
        },
        {
         "name": "time_51.0",
         "rawType": "int64",
         "type": "integer"
        },
        {
         "name": "time_52.0",
         "rawType": "int64",
         "type": "integer"
        },
        {
         "name": "time_53.0",
         "rawType": "int64",
         "type": "integer"
        },
        {
         "name": "time_54.0",
         "rawType": "int64",
         "type": "integer"
        },
        {
         "name": "time_55.0",
         "rawType": "int64",
         "type": "integer"
        },
        {
         "name": "time_56.0",
         "rawType": "int64",
         "type": "integer"
        },
        {
         "name": "time_57.0",
         "rawType": "int64",
         "type": "integer"
        },
        {
         "name": "time_58.0",
         "rawType": "int64",
         "type": "integer"
        },
        {
         "name": "time_59.0",
         "rawType": "int64",
         "type": "integer"
        },
        {
         "name": "time_60.0",
         "rawType": "int64",
         "type": "integer"
        },
        {
         "name": "time_61.0",
         "rawType": "int64",
         "type": "integer"
        },
        {
         "name": "time_62.0",
         "rawType": "int64",
         "type": "integer"
        },
        {
         "name": "time_63.0",
         "rawType": "int64",
         "type": "integer"
        },
        {
         "name": "time_64.0",
         "rawType": "int64",
         "type": "integer"
        },
        {
         "name": "time_65.0",
         "rawType": "int64",
         "type": "integer"
        },
        {
         "name": "time_66.0",
         "rawType": "int64",
         "type": "integer"
        },
        {
         "name": "time_67.0",
         "rawType": "int64",
         "type": "integer"
        },
        {
         "name": "time_68.0",
         "rawType": "int64",
         "type": "integer"
        },
        {
         "name": "time_69.0",
         "rawType": "int64",
         "type": "integer"
        },
        {
         "name": "time_70.0",
         "rawType": "int64",
         "type": "integer"
        },
        {
         "name": "time_71.0",
         "rawType": "int64",
         "type": "integer"
        },
        {
         "name": "time_72.0",
         "rawType": "int64",
         "type": "integer"
        },
        {
         "name": "time_73.0",
         "rawType": "int64",
         "type": "integer"
        },
        {
         "name": "time_74.0",
         "rawType": "int64",
         "type": "integer"
        },
        {
         "name": "time_75.0",
         "rawType": "int64",
         "type": "integer"
        },
        {
         "name": "time_76.0",
         "rawType": "int64",
         "type": "integer"
        },
        {
         "name": "time_77.0",
         "rawType": "int64",
         "type": "integer"
        },
        {
         "name": "time_78.0",
         "rawType": "int64",
         "type": "integer"
        },
        {
         "name": "time_79.0",
         "rawType": "int64",
         "type": "integer"
        },
        {
         "name": "time_80.0",
         "rawType": "int64",
         "type": "integer"
        },
        {
         "name": "time_81.0",
         "rawType": "int64",
         "type": "integer"
        },
        {
         "name": "time_82.0",
         "rawType": "int64",
         "type": "integer"
        },
        {
         "name": "time_83.0",
         "rawType": "int64",
         "type": "integer"
        },
        {
         "name": "time_84.0",
         "rawType": "int64",
         "type": "integer"
        },
        {
         "name": "time_85.0",
         "rawType": "int64",
         "type": "integer"
        },
        {
         "name": "time_86.0",
         "rawType": "int64",
         "type": "integer"
        },
        {
         "name": "time_87.0",
         "rawType": "int64",
         "type": "integer"
        },
        {
         "name": "time_88.0",
         "rawType": "int64",
         "type": "integer"
        },
        {
         "name": "time_89.0",
         "rawType": "int64",
         "type": "integer"
        },
        {
         "name": "time_90.0",
         "rawType": "int64",
         "type": "integer"
        },
        {
         "name": "time_91.0",
         "rawType": "int64",
         "type": "integer"
        },
        {
         "name": "time_92.0",
         "rawType": "int64",
         "type": "integer"
        },
        {
         "name": "time_93.0",
         "rawType": "int64",
         "type": "integer"
        },
        {
         "name": "time_94.0",
         "rawType": "int64",
         "type": "integer"
        },
        {
         "name": "time_95.0",
         "rawType": "int64",
         "type": "integer"
        },
        {
         "name": "time_96.0",
         "rawType": "int64",
         "type": "integer"
        },
        {
         "name": "time_97.0",
         "rawType": "int64",
         "type": "integer"
        },
        {
         "name": "time_98.0",
         "rawType": "int64",
         "type": "integer"
        },
        {
         "name": "time_99.0",
         "rawType": "int64",
         "type": "integer"
        },
        {
         "name": "time_100.0",
         "rawType": "int64",
         "type": "integer"
        },
        {
         "name": "time_101.0",
         "rawType": "int64",
         "type": "integer"
        },
        {
         "name": "time_102.0",
         "rawType": "int64",
         "type": "integer"
        },
        {
         "name": "time_103.0",
         "rawType": "int64",
         "type": "integer"
        },
        {
         "name": "time_104.0",
         "rawType": "int64",
         "type": "integer"
        },
        {
         "name": "time_105.0",
         "rawType": "int64",
         "type": "integer"
        },
        {
         "name": "time_106.0",
         "rawType": "int64",
         "type": "integer"
        },
        {
         "name": "time_107.0",
         "rawType": "int64",
         "type": "integer"
        },
        {
         "name": "time_108.0",
         "rawType": "int64",
         "type": "integer"
        },
        {
         "name": "time_109.0",
         "rawType": "int64",
         "type": "integer"
        },
        {
         "name": "time_110.0",
         "rawType": "int64",
         "type": "integer"
        },
        {
         "name": "time_111.0",
         "rawType": "int64",
         "type": "integer"
        },
        {
         "name": "time_112.0",
         "rawType": "int64",
         "type": "integer"
        },
        {
         "name": "time_113.0",
         "rawType": "int64",
         "type": "integer"
        },
        {
         "name": "time_114.0",
         "rawType": "int64",
         "type": "integer"
        },
        {
         "name": "time_115.0",
         "rawType": "int64",
         "type": "integer"
        },
        {
         "name": "time_116.0",
         "rawType": "int64",
         "type": "integer"
        },
        {
         "name": "time_117.0",
         "rawType": "int64",
         "type": "integer"
        },
        {
         "name": "time_118.0",
         "rawType": "int64",
         "type": "integer"
        },
        {
         "name": "time_119.0",
         "rawType": "int64",
         "type": "integer"
        },
        {
         "name": "time_120.0",
         "rawType": "int64",
         "type": "integer"
        },
        {
         "name": "time_121.0",
         "rawType": "int64",
         "type": "integer"
        },
        {
         "name": "time_122.0",
         "rawType": "int64",
         "type": "integer"
        },
        {
         "name": "time_123.0",
         "rawType": "int64",
         "type": "integer"
        },
        {
         "name": "time_124.0",
         "rawType": "int64",
         "type": "integer"
        },
        {
         "name": "time_125.0",
         "rawType": "int64",
         "type": "integer"
        },
        {
         "name": "time_126.0",
         "rawType": "int64",
         "type": "integer"
        },
        {
         "name": "time_127.0",
         "rawType": "int64",
         "type": "integer"
        },
        {
         "name": "time_128.0",
         "rawType": "int64",
         "type": "integer"
        },
        {
         "name": "time_129.0",
         "rawType": "int64",
         "type": "integer"
        },
        {
         "name": "time_130.0",
         "rawType": "int64",
         "type": "integer"
        },
        {
         "name": "time_131.0",
         "rawType": "int64",
         "type": "integer"
        },
        {
         "name": "time_132.0",
         "rawType": "int64",
         "type": "integer"
        },
        {
         "name": "time_133.0",
         "rawType": "int64",
         "type": "integer"
        },
        {
         "name": "time_134.0",
         "rawType": "int64",
         "type": "integer"
        },
        {
         "name": "time_135.0",
         "rawType": "int64",
         "type": "integer"
        },
        {
         "name": "time_136.0",
         "rawType": "int64",
         "type": "integer"
        },
        {
         "name": "time_137.0",
         "rawType": "int64",
         "type": "integer"
        },
        {
         "name": "time_138.0",
         "rawType": "int64",
         "type": "integer"
        },
        {
         "name": "time_139.0",
         "rawType": "int64",
         "type": "integer"
        },
        {
         "name": "time_140.0",
         "rawType": "int64",
         "type": "integer"
        },
        {
         "name": "time_141.0",
         "rawType": "int64",
         "type": "integer"
        },
        {
         "name": "time_142.0",
         "rawType": "int64",
         "type": "integer"
        },
        {
         "name": "time_143.0",
         "rawType": "int64",
         "type": "integer"
        },
        {
         "name": "time_144.0",
         "rawType": "int64",
         "type": "integer"
        },
        {
         "name": "time_145.0",
         "rawType": "int64",
         "type": "integer"
        },
        {
         "name": "time_146.0",
         "rawType": "int64",
         "type": "integer"
        },
        {
         "name": "time_147.0",
         "rawType": "int64",
         "type": "integer"
        },
        {
         "name": "time_148.0",
         "rawType": "int64",
         "type": "integer"
        },
        {
         "name": "time_149.0",
         "rawType": "int64",
         "type": "integer"
        },
        {
         "name": "time_150.0",
         "rawType": "int64",
         "type": "integer"
        },
        {
         "name": "time_151.0",
         "rawType": "int64",
         "type": "integer"
        },
        {
         "name": "time_152.0",
         "rawType": "int64",
         "type": "integer"
        },
        {
         "name": "time_153.0",
         "rawType": "int64",
         "type": "integer"
        },
        {
         "name": "time_154.0",
         "rawType": "int64",
         "type": "integer"
        },
        {
         "name": "time_155.0",
         "rawType": "int64",
         "type": "integer"
        },
        {
         "name": "time_156.0",
         "rawType": "int64",
         "type": "integer"
        },
        {
         "name": "time_157.0",
         "rawType": "int64",
         "type": "integer"
        },
        {
         "name": "time_158.0",
         "rawType": "int64",
         "type": "integer"
        },
        {
         "name": "time_159.0",
         "rawType": "int64",
         "type": "integer"
        },
        {
         "name": "time_160.0",
         "rawType": "int64",
         "type": "integer"
        },
        {
         "name": "time_161.0",
         "rawType": "int64",
         "type": "integer"
        },
        {
         "name": "time_162.0",
         "rawType": "int64",
         "type": "integer"
        },
        {
         "name": "time_163.0",
         "rawType": "int64",
         "type": "integer"
        },
        {
         "name": "time_164.0",
         "rawType": "int64",
         "type": "integer"
        },
        {
         "name": "time_165.0",
         "rawType": "int64",
         "type": "integer"
        },
        {
         "name": "time_166.0",
         "rawType": "int64",
         "type": "integer"
        },
        {
         "name": "time_167.0",
         "rawType": "int64",
         "type": "integer"
        },
        {
         "name": "time_168.0",
         "rawType": "int64",
         "type": "integer"
        },
        {
         "name": "time_169.0",
         "rawType": "int64",
         "type": "integer"
        },
        {
         "name": "time_170.0",
         "rawType": "int64",
         "type": "integer"
        },
        {
         "name": "time_171.0",
         "rawType": "int64",
         "type": "integer"
        },
        {
         "name": "time_172.0",
         "rawType": "int64",
         "type": "integer"
        },
        {
         "name": "time_173.0",
         "rawType": "int64",
         "type": "integer"
        },
        {
         "name": "time_174.0",
         "rawType": "int64",
         "type": "integer"
        },
        {
         "name": "time_175.0",
         "rawType": "int64",
         "type": "integer"
        },
        {
         "name": "time_176.0",
         "rawType": "int64",
         "type": "integer"
        },
        {
         "name": "time_177.0",
         "rawType": "int64",
         "type": "integer"
        },
        {
         "name": "time_178.0",
         "rawType": "int64",
         "type": "integer"
        },
        {
         "name": "time_179.0",
         "rawType": "int64",
         "type": "integer"
        },
        {
         "name": "time_180.0",
         "rawType": "int64",
         "type": "integer"
        },
        {
         "name": "time_181.0",
         "rawType": "int64",
         "type": "integer"
        },
        {
         "name": "time_182.0",
         "rawType": "int64",
         "type": "integer"
        },
        {
         "name": "time_183.0",
         "rawType": "int64",
         "type": "integer"
        },
        {
         "name": "time_184.0",
         "rawType": "int64",
         "type": "integer"
        },
        {
         "name": "time_185.0",
         "rawType": "int64",
         "type": "integer"
        },
        {
         "name": "time_186.0",
         "rawType": "int64",
         "type": "integer"
        },
        {
         "name": "time_187.0",
         "rawType": "int64",
         "type": "integer"
        },
        {
         "name": "time_188.0",
         "rawType": "int64",
         "type": "integer"
        },
        {
         "name": "time_189.0",
         "rawType": "int64",
         "type": "integer"
        },
        {
         "name": "time_190.0",
         "rawType": "int64",
         "type": "integer"
        },
        {
         "name": "time_191.0",
         "rawType": "int64",
         "type": "integer"
        },
        {
         "name": "time_192.0",
         "rawType": "int64",
         "type": "integer"
        },
        {
         "name": "time_193.0",
         "rawType": "int64",
         "type": "integer"
        },
        {
         "name": "time_194.0",
         "rawType": "int64",
         "type": "integer"
        },
        {
         "name": "time_195.0",
         "rawType": "int64",
         "type": "integer"
        },
        {
         "name": "time_196.0",
         "rawType": "int64",
         "type": "integer"
        },
        {
         "name": "time_197.0",
         "rawType": "int64",
         "type": "integer"
        },
        {
         "name": "time_198.0",
         "rawType": "int64",
         "type": "integer"
        },
        {
         "name": "time_199.0",
         "rawType": "int64",
         "type": "integer"
        },
        {
         "name": "time_200.0",
         "rawType": "int64",
         "type": "integer"
        },
        {
         "name": "time_201.0",
         "rawType": "int64",
         "type": "integer"
        },
        {
         "name": "time_202.0",
         "rawType": "int64",
         "type": "integer"
        },
        {
         "name": "time_203.0",
         "rawType": "int64",
         "type": "integer"
        },
        {
         "name": "time_204.0",
         "rawType": "int64",
         "type": "integer"
        },
        {
         "name": "time_205.0",
         "rawType": "int64",
         "type": "integer"
        },
        {
         "name": "time_206.0",
         "rawType": "int64",
         "type": "integer"
        },
        {
         "name": "time_207.0",
         "rawType": "int64",
         "type": "integer"
        },
        {
         "name": "time_208.0",
         "rawType": "int64",
         "type": "integer"
        },
        {
         "name": "time_209.0",
         "rawType": "int64",
         "type": "integer"
        },
        {
         "name": "time_210.0",
         "rawType": "int64",
         "type": "integer"
        },
        {
         "name": "time_211.0",
         "rawType": "int64",
         "type": "integer"
        },
        {
         "name": "time_212.0",
         "rawType": "int64",
         "type": "integer"
        },
        {
         "name": "time_213.0",
         "rawType": "int64",
         "type": "integer"
        },
        {
         "name": "time_214.0",
         "rawType": "int64",
         "type": "integer"
        },
        {
         "name": "time_215.0",
         "rawType": "int64",
         "type": "integer"
        },
        {
         "name": "time_216.0",
         "rawType": "int64",
         "type": "integer"
        },
        {
         "name": "time_217.0",
         "rawType": "int64",
         "type": "integer"
        },
        {
         "name": "time_218.0",
         "rawType": "int64",
         "type": "integer"
        },
        {
         "name": "time_219.0",
         "rawType": "int64",
         "type": "integer"
        },
        {
         "name": "time_220.0",
         "rawType": "int64",
         "type": "integer"
        },
        {
         "name": "time_221.0",
         "rawType": "int64",
         "type": "integer"
        },
        {
         "name": "time_222.0",
         "rawType": "int64",
         "type": "integer"
        },
        {
         "name": "time_223.0",
         "rawType": "int64",
         "type": "integer"
        },
        {
         "name": "time_224.0",
         "rawType": "int64",
         "type": "integer"
        },
        {
         "name": "time_225.0",
         "rawType": "int64",
         "type": "integer"
        },
        {
         "name": "time_226.0",
         "rawType": "int64",
         "type": "integer"
        },
        {
         "name": "time_227.0",
         "rawType": "int64",
         "type": "integer"
        },
        {
         "name": "time_228.0",
         "rawType": "int64",
         "type": "integer"
        },
        {
         "name": "time_229.0",
         "rawType": "int64",
         "type": "integer"
        },
        {
         "name": "time_230.0",
         "rawType": "int64",
         "type": "integer"
        },
        {
         "name": "time_231.0",
         "rawType": "int64",
         "type": "integer"
        },
        {
         "name": "time_232.0",
         "rawType": "int64",
         "type": "integer"
        },
        {
         "name": "time_233.0",
         "rawType": "int64",
         "type": "integer"
        },
        {
         "name": "time_234.0",
         "rawType": "int64",
         "type": "integer"
        },
        {
         "name": "time_235.0",
         "rawType": "int64",
         "type": "integer"
        },
        {
         "name": "time_236.0",
         "rawType": "int64",
         "type": "integer"
        },
        {
         "name": "time_237.0",
         "rawType": "int64",
         "type": "integer"
        },
        {
         "name": "time_238.0",
         "rawType": "int64",
         "type": "integer"
        },
        {
         "name": "time_239.0",
         "rawType": "int64",
         "type": "integer"
        },
        {
         "name": "time_240.0",
         "rawType": "int64",
         "type": "integer"
        },
        {
         "name": "time_241.0",
         "rawType": "int64",
         "type": "integer"
        },
        {
         "name": "time_242.0",
         "rawType": "int64",
         "type": "integer"
        },
        {
         "name": "time_243.0",
         "rawType": "int64",
         "type": "integer"
        },
        {
         "name": "time_244.0",
         "rawType": "int64",
         "type": "integer"
        },
        {
         "name": "time_245.0",
         "rawType": "int64",
         "type": "integer"
        },
        {
         "name": "time_246.0",
         "rawType": "int64",
         "type": "integer"
        },
        {
         "name": "time_247.0",
         "rawType": "int64",
         "type": "integer"
        },
        {
         "name": "time_248.0",
         "rawType": "int64",
         "type": "integer"
        },
        {
         "name": "time_249.0",
         "rawType": "int64",
         "type": "integer"
        },
        {
         "name": "time_250.0",
         "rawType": "int64",
         "type": "integer"
        },
        {
         "name": "time_251.0",
         "rawType": "int64",
         "type": "integer"
        },
        {
         "name": "time_252.0",
         "rawType": "int64",
         "type": "integer"
        },
        {
         "name": "time_253.0",
         "rawType": "int64",
         "type": "integer"
        },
        {
         "name": "time_254.0",
         "rawType": "int64",
         "type": "integer"
        },
        {
         "name": "time_255.0",
         "rawType": "int64",
         "type": "integer"
        },
        {
         "name": "time_256.0",
         "rawType": "int64",
         "type": "integer"
        },
        {
         "name": "time_257.0",
         "rawType": "int64",
         "type": "integer"
        },
        {
         "name": "time_258.0",
         "rawType": "int64",
         "type": "integer"
        },
        {
         "name": "time_259.0",
         "rawType": "int64",
         "type": "integer"
        },
        {
         "name": "time_260.0",
         "rawType": "int64",
         "type": "integer"
        },
        {
         "name": "time_261.0",
         "rawType": "int64",
         "type": "integer"
        },
        {
         "name": "time_262.0",
         "rawType": "int64",
         "type": "integer"
        },
        {
         "name": "time_263.0",
         "rawType": "int64",
         "type": "integer"
        },
        {
         "name": "time_264.0",
         "rawType": "int64",
         "type": "integer"
        },
        {
         "name": "time_265.0",
         "rawType": "int64",
         "type": "integer"
        },
        {
         "name": "time_266.0",
         "rawType": "int64",
         "type": "integer"
        },
        {
         "name": "time_267.0",
         "rawType": "int64",
         "type": "integer"
        },
        {
         "name": "time_268.0",
         "rawType": "int64",
         "type": "integer"
        },
        {
         "name": "time_269.0",
         "rawType": "int64",
         "type": "integer"
        },
        {
         "name": "time_270.0",
         "rawType": "int64",
         "type": "integer"
        },
        {
         "name": "time_271.0",
         "rawType": "int64",
         "type": "integer"
        },
        {
         "name": "time_272.0",
         "rawType": "int64",
         "type": "integer"
        },
        {
         "name": "time_273.0",
         "rawType": "int64",
         "type": "integer"
        },
        {
         "name": "time_274.0",
         "rawType": "int64",
         "type": "integer"
        },
        {
         "name": "time_275.0",
         "rawType": "int64",
         "type": "integer"
        },
        {
         "name": "time_276.0",
         "rawType": "int64",
         "type": "integer"
        },
        {
         "name": "time_277.0",
         "rawType": "int64",
         "type": "integer"
        },
        {
         "name": "time_278.0",
         "rawType": "int64",
         "type": "integer"
        },
        {
         "name": "time_279.0",
         "rawType": "int64",
         "type": "integer"
        },
        {
         "name": "time_280.0",
         "rawType": "int64",
         "type": "integer"
        },
        {
         "name": "time_281.0",
         "rawType": "int64",
         "type": "integer"
        },
        {
         "name": "time_282.0",
         "rawType": "int64",
         "type": "integer"
        },
        {
         "name": "time_283.0",
         "rawType": "int64",
         "type": "integer"
        },
        {
         "name": "time_284.0",
         "rawType": "int64",
         "type": "integer"
        },
        {
         "name": "time_285.0",
         "rawType": "int64",
         "type": "integer"
        },
        {
         "name": "time_286.0",
         "rawType": "int64",
         "type": "integer"
        },
        {
         "name": "time_287.0",
         "rawType": "int64",
         "type": "integer"
        },
        {
         "name": "time_288.0",
         "rawType": "int64",
         "type": "integer"
        },
        {
         "name": "time_289.0",
         "rawType": "int64",
         "type": "integer"
        },
        {
         "name": "time_290.0",
         "rawType": "int64",
         "type": "integer"
        },
        {
         "name": "time_291.0",
         "rawType": "int64",
         "type": "integer"
        },
        {
         "name": "time_292.0",
         "rawType": "int64",
         "type": "integer"
        },
        {
         "name": "time_293.0",
         "rawType": "int64",
         "type": "integer"
        },
        {
         "name": "time_294.0",
         "rawType": "int64",
         "type": "integer"
        },
        {
         "name": "time_295.0",
         "rawType": "int64",
         "type": "integer"
        },
        {
         "name": "time_296.0",
         "rawType": "int64",
         "type": "integer"
        },
        {
         "name": "time_297.0",
         "rawType": "int64",
         "type": "integer"
        },
        {
         "name": "time_298.0",
         "rawType": "int64",
         "type": "integer"
        },
        {
         "name": "time_299.0",
         "rawType": "int64",
         "type": "integer"
        },
        {
         "name": "time_300.0",
         "rawType": "int64",
         "type": "integer"
        },
        {
         "name": "time_301.0",
         "rawType": "int64",
         "type": "integer"
        },
        {
         "name": "time_302.0",
         "rawType": "int64",
         "type": "integer"
        },
        {
         "name": "time_303.0",
         "rawType": "int64",
         "type": "integer"
        },
        {
         "name": "time_304.0",
         "rawType": "int64",
         "type": "integer"
        },
        {
         "name": "time_305.0",
         "rawType": "int64",
         "type": "integer"
        },
        {
         "name": "time_306.0",
         "rawType": "int64",
         "type": "integer"
        },
        {
         "name": "time_307.0",
         "rawType": "int64",
         "type": "integer"
        },
        {
         "name": "time_308.0",
         "rawType": "int64",
         "type": "integer"
        },
        {
         "name": "time_309.0",
         "rawType": "int64",
         "type": "integer"
        },
        {
         "name": "time_310.0",
         "rawType": "int64",
         "type": "integer"
        },
        {
         "name": "time_311.0",
         "rawType": "int64",
         "type": "integer"
        },
        {
         "name": "time_312.0",
         "rawType": "int64",
         "type": "integer"
        },
        {
         "name": "time_313.0",
         "rawType": "int64",
         "type": "integer"
        },
        {
         "name": "time_314.0",
         "rawType": "int64",
         "type": "integer"
        },
        {
         "name": "time_315.0",
         "rawType": "int64",
         "type": "integer"
        },
        {
         "name": "time_316.0",
         "rawType": "int64",
         "type": "integer"
        },
        {
         "name": "time_317.0",
         "rawType": "int64",
         "type": "integer"
        },
        {
         "name": "time_318.0",
         "rawType": "int64",
         "type": "integer"
        },
        {
         "name": "time_319.0",
         "rawType": "int64",
         "type": "integer"
        },
        {
         "name": "time_320.0",
         "rawType": "int64",
         "type": "integer"
        },
        {
         "name": "time_321.0",
         "rawType": "int64",
         "type": "integer"
        },
        {
         "name": "time_322.0",
         "rawType": "int64",
         "type": "integer"
        },
        {
         "name": "time_323.0",
         "rawType": "int64",
         "type": "integer"
        },
        {
         "name": "time_324.0",
         "rawType": "int64",
         "type": "integer"
        },
        {
         "name": "time_325.0",
         "rawType": "int64",
         "type": "integer"
        },
        {
         "name": "time_326.0",
         "rawType": "int64",
         "type": "integer"
        },
        {
         "name": "time_327.0",
         "rawType": "int64",
         "type": "integer"
        },
        {
         "name": "time_328.0",
         "rawType": "int64",
         "type": "integer"
        },
        {
         "name": "time_329.0",
         "rawType": "int64",
         "type": "integer"
        },
        {
         "name": "time_330.0",
         "rawType": "int64",
         "type": "integer"
        },
        {
         "name": "time_331.0",
         "rawType": "int64",
         "type": "integer"
        },
        {
         "name": "time_332.0",
         "rawType": "int64",
         "type": "integer"
        },
        {
         "name": "time_333.0",
         "rawType": "int64",
         "type": "integer"
        },
        {
         "name": "time_334.0",
         "rawType": "int64",
         "type": "integer"
        },
        {
         "name": "time_335.0",
         "rawType": "int64",
         "type": "integer"
        },
        {
         "name": "time_336.0",
         "rawType": "int64",
         "type": "integer"
        },
        {
         "name": "time_337.0",
         "rawType": "int64",
         "type": "integer"
        },
        {
         "name": "time_338.0",
         "rawType": "int64",
         "type": "integer"
        },
        {
         "name": "time_339.0",
         "rawType": "int64",
         "type": "integer"
        },
        {
         "name": "time_340.0",
         "rawType": "int64",
         "type": "integer"
        },
        {
         "name": "time_341.0",
         "rawType": "int64",
         "type": "integer"
        },
        {
         "name": "time_342.0",
         "rawType": "int64",
         "type": "integer"
        },
        {
         "name": "time_343.0",
         "rawType": "int64",
         "type": "integer"
        },
        {
         "name": "time_344.0",
         "rawType": "int64",
         "type": "integer"
        },
        {
         "name": "time_345.0",
         "rawType": "int64",
         "type": "integer"
        },
        {
         "name": "time_346.0",
         "rawType": "int64",
         "type": "integer"
        },
        {
         "name": "time_347.0",
         "rawType": "int64",
         "type": "integer"
        },
        {
         "name": "time_348.0",
         "rawType": "int64",
         "type": "integer"
        },
        {
         "name": "time_349.0",
         "rawType": "int64",
         "type": "integer"
        },
        {
         "name": "time_350.0",
         "rawType": "int64",
         "type": "integer"
        },
        {
         "name": "time_351.0",
         "rawType": "int64",
         "type": "integer"
        },
        {
         "name": "time_352.0",
         "rawType": "int64",
         "type": "integer"
        },
        {
         "name": "time_353.0",
         "rawType": "int64",
         "type": "integer"
        },
        {
         "name": "time_354.0",
         "rawType": "int64",
         "type": "integer"
        },
        {
         "name": "time_355.0",
         "rawType": "int64",
         "type": "integer"
        },
        {
         "name": "time_356.0",
         "rawType": "int64",
         "type": "integer"
        },
        {
         "name": "time_357.0",
         "rawType": "int64",
         "type": "integer"
        },
        {
         "name": "time_358.0",
         "rawType": "int64",
         "type": "integer"
        },
        {
         "name": "time_359.0",
         "rawType": "int64",
         "type": "integer"
        },
        {
         "name": "time_360.0",
         "rawType": "int64",
         "type": "integer"
        },
        {
         "name": "time_361.0",
         "rawType": "int64",
         "type": "integer"
        },
        {
         "name": "time_362.0",
         "rawType": "int64",
         "type": "integer"
        },
        {
         "name": "time_363.0",
         "rawType": "int64",
         "type": "integer"
        },
        {
         "name": "time_364.0",
         "rawType": "int64",
         "type": "integer"
        },
        {
         "name": "time_365.0",
         "rawType": "int64",
         "type": "integer"
        },
        {
         "name": "time_366.0",
         "rawType": "int64",
         "type": "integer"
        },
        {
         "name": "time_367.0",
         "rawType": "int64",
         "type": "integer"
        },
        {
         "name": "time_368.0",
         "rawType": "int64",
         "type": "integer"
        },
        {
         "name": "time_369.0",
         "rawType": "int64",
         "type": "integer"
        },
        {
         "name": "time_370.0",
         "rawType": "int64",
         "type": "integer"
        },
        {
         "name": "time_371.0",
         "rawType": "int64",
         "type": "integer"
        },
        {
         "name": "time_372.0",
         "rawType": "int64",
         "type": "integer"
        },
        {
         "name": "time_373.0",
         "rawType": "int64",
         "type": "integer"
        },
        {
         "name": "time_374.0",
         "rawType": "int64",
         "type": "integer"
        },
        {
         "name": "time_375.0",
         "rawType": "int64",
         "type": "integer"
        },
        {
         "name": "time_376.0",
         "rawType": "int64",
         "type": "integer"
        },
        {
         "name": "time_377.0",
         "rawType": "int64",
         "type": "integer"
        },
        {
         "name": "time_378.0",
         "rawType": "int64",
         "type": "integer"
        },
        {
         "name": "time_379.0",
         "rawType": "int64",
         "type": "integer"
        },
        {
         "name": "time_380.0",
         "rawType": "int64",
         "type": "integer"
        },
        {
         "name": "time_381.0",
         "rawType": "int64",
         "type": "integer"
        },
        {
         "name": "time_382.0",
         "rawType": "int64",
         "type": "integer"
        },
        {
         "name": "time_383.0",
         "rawType": "int64",
         "type": "integer"
        },
        {
         "name": "time_384.0",
         "rawType": "int64",
         "type": "integer"
        },
        {
         "name": "time_385.0",
         "rawType": "int64",
         "type": "integer"
        },
        {
         "name": "time_386.0",
         "rawType": "int64",
         "type": "integer"
        },
        {
         "name": "time_387.0",
         "rawType": "int64",
         "type": "integer"
        },
        {
         "name": "time_388.0",
         "rawType": "int64",
         "type": "integer"
        },
        {
         "name": "time_389.0",
         "rawType": "int64",
         "type": "integer"
        },
        {
         "name": "time_390.0",
         "rawType": "int64",
         "type": "integer"
        },
        {
         "name": "time_391.0",
         "rawType": "int64",
         "type": "integer"
        },
        {
         "name": "time_392.0",
         "rawType": "int64",
         "type": "integer"
        },
        {
         "name": "time_393.0",
         "rawType": "int64",
         "type": "integer"
        },
        {
         "name": "time_394.0",
         "rawType": "int64",
         "type": "integer"
        },
        {
         "name": "time_395.0",
         "rawType": "int64",
         "type": "integer"
        },
        {
         "name": "time_396.0",
         "rawType": "int64",
         "type": "integer"
        },
        {
         "name": "time_397.0",
         "rawType": "int64",
         "type": "integer"
        },
        {
         "name": "time_398.0",
         "rawType": "int64",
         "type": "integer"
        },
        {
         "name": "time_399.0",
         "rawType": "int64",
         "type": "integer"
        },
        {
         "name": "time_400.0",
         "rawType": "int64",
         "type": "integer"
        },
        {
         "name": "time_401.0",
         "rawType": "int64",
         "type": "integer"
        },
        {
         "name": "time_402.0",
         "rawType": "int64",
         "type": "integer"
        },
        {
         "name": "time_403.0",
         "rawType": "int64",
         "type": "integer"
        },
        {
         "name": "time_404.0",
         "rawType": "int64",
         "type": "integer"
        },
        {
         "name": "time_405.0",
         "rawType": "int64",
         "type": "integer"
        },
        {
         "name": "time_406.0",
         "rawType": "int64",
         "type": "integer"
        },
        {
         "name": "time_407.0",
         "rawType": "int64",
         "type": "integer"
        },
        {
         "name": "time_408.0",
         "rawType": "int64",
         "type": "integer"
        },
        {
         "name": "time_409.0",
         "rawType": "int64",
         "type": "integer"
        },
        {
         "name": "time_410.0",
         "rawType": "int64",
         "type": "integer"
        },
        {
         "name": "time_411.0",
         "rawType": "int64",
         "type": "integer"
        },
        {
         "name": "time_412.0",
         "rawType": "int64",
         "type": "integer"
        },
        {
         "name": "time_413.0",
         "rawType": "int64",
         "type": "integer"
        },
        {
         "name": "time_414.0",
         "rawType": "int64",
         "type": "integer"
        },
        {
         "name": "time_415.0",
         "rawType": "int64",
         "type": "integer"
        },
        {
         "name": "time_416.0",
         "rawType": "int64",
         "type": "integer"
        },
        {
         "name": "time_417.0",
         "rawType": "int64",
         "type": "integer"
        },
        {
         "name": "time_418.0",
         "rawType": "int64",
         "type": "integer"
        },
        {
         "name": "time_419.0",
         "rawType": "int64",
         "type": "integer"
        },
        {
         "name": "time_420.0",
         "rawType": "int64",
         "type": "integer"
        },
        {
         "name": "time_421.0",
         "rawType": "int64",
         "type": "integer"
        },
        {
         "name": "time_422.0",
         "rawType": "int64",
         "type": "integer"
        },
        {
         "name": "time_423.0",
         "rawType": "int64",
         "type": "integer"
        },
        {
         "name": "time_424.0",
         "rawType": "int64",
         "type": "integer"
        },
        {
         "name": "time_425.0",
         "rawType": "int64",
         "type": "integer"
        },
        {
         "name": "time_426.0",
         "rawType": "int64",
         "type": "integer"
        },
        {
         "name": "time_427.0",
         "rawType": "int64",
         "type": "integer"
        },
        {
         "name": "time_428.0",
         "rawType": "int64",
         "type": "integer"
        },
        {
         "name": "time_429.0",
         "rawType": "int64",
         "type": "integer"
        },
        {
         "name": "time_430.0",
         "rawType": "int64",
         "type": "integer"
        },
        {
         "name": "time_431.0",
         "rawType": "int64",
         "type": "integer"
        },
        {
         "name": "time_432.0",
         "rawType": "int64",
         "type": "integer"
        },
        {
         "name": "time_433.0",
         "rawType": "int64",
         "type": "integer"
        },
        {
         "name": "time_434.0",
         "rawType": "int64",
         "type": "integer"
        },
        {
         "name": "time_435.0",
         "rawType": "int64",
         "type": "integer"
        },
        {
         "name": "time_436.0",
         "rawType": "int64",
         "type": "integer"
        },
        {
         "name": "time_437.0",
         "rawType": "int64",
         "type": "integer"
        },
        {
         "name": "time_438.0",
         "rawType": "int64",
         "type": "integer"
        },
        {
         "name": "time_439.0",
         "rawType": "int64",
         "type": "integer"
        },
        {
         "name": "time_440.0",
         "rawType": "int64",
         "type": "integer"
        },
        {
         "name": "time_441.0",
         "rawType": "int64",
         "type": "integer"
        },
        {
         "name": "time_442.0",
         "rawType": "int64",
         "type": "integer"
        },
        {
         "name": "time_443.0",
         "rawType": "int64",
         "type": "integer"
        },
        {
         "name": "time_444.0",
         "rawType": "int64",
         "type": "integer"
        },
        {
         "name": "time_445.0",
         "rawType": "int64",
         "type": "integer"
        },
        {
         "name": "time_446.0",
         "rawType": "int64",
         "type": "integer"
        },
        {
         "name": "time_447.0",
         "rawType": "int64",
         "type": "integer"
        },
        {
         "name": "time_448.0",
         "rawType": "int64",
         "type": "integer"
        },
        {
         "name": "time_449.0",
         "rawType": "int64",
         "type": "integer"
        },
        {
         "name": "time_450.0",
         "rawType": "int64",
         "type": "integer"
        },
        {
         "name": "time_451.0",
         "rawType": "int64",
         "type": "integer"
        },
        {
         "name": "time_452.0",
         "rawType": "int64",
         "type": "integer"
        },
        {
         "name": "time_453.0",
         "rawType": "int64",
         "type": "integer"
        },
        {
         "name": "time_454.0",
         "rawType": "int64",
         "type": "integer"
        },
        {
         "name": "time_455.0",
         "rawType": "int64",
         "type": "integer"
        },
        {
         "name": "time_456.0",
         "rawType": "int64",
         "type": "integer"
        },
        {
         "name": "time_457.0",
         "rawType": "int64",
         "type": "integer"
        },
        {
         "name": "time_458.0",
         "rawType": "int64",
         "type": "integer"
        },
        {
         "name": "time_459.0",
         "rawType": "int64",
         "type": "integer"
        },
        {
         "name": "time_460.0",
         "rawType": "int64",
         "type": "integer"
        },
        {
         "name": "time_461.0",
         "rawType": "int64",
         "type": "integer"
        },
        {
         "name": "time_462.0",
         "rawType": "int64",
         "type": "integer"
        },
        {
         "name": "time_463.0",
         "rawType": "int64",
         "type": "integer"
        },
        {
         "name": "time_464.0",
         "rawType": "int64",
         "type": "integer"
        },
        {
         "name": "time_465.0",
         "rawType": "int64",
         "type": "integer"
        },
        {
         "name": "time_466.0",
         "rawType": "int64",
         "type": "integer"
        },
        {
         "name": "time_467.0",
         "rawType": "int64",
         "type": "integer"
        },
        {
         "name": "time_468.0",
         "rawType": "int64",
         "type": "integer"
        },
        {
         "name": "time_469.0",
         "rawType": "int64",
         "type": "integer"
        },
        {
         "name": "time_470.0",
         "rawType": "int64",
         "type": "integer"
        },
        {
         "name": "time_471.0",
         "rawType": "int64",
         "type": "integer"
        },
        {
         "name": "time_472.0",
         "rawType": "int64",
         "type": "integer"
        },
        {
         "name": "time_473.0",
         "rawType": "int64",
         "type": "integer"
        },
        {
         "name": "time_474.0",
         "rawType": "int64",
         "type": "integer"
        },
        {
         "name": "time_475.0",
         "rawType": "int64",
         "type": "integer"
        },
        {
         "name": "time_476.0",
         "rawType": "int64",
         "type": "integer"
        },
        {
         "name": "time_477.0",
         "rawType": "int64",
         "type": "integer"
        },
        {
         "name": "time_478.0",
         "rawType": "int64",
         "type": "integer"
        },
        {
         "name": "time_479.0",
         "rawType": "int64",
         "type": "integer"
        },
        {
         "name": "time_480.0",
         "rawType": "int64",
         "type": "integer"
        },
        {
         "name": "time_481.0",
         "rawType": "int64",
         "type": "integer"
        },
        {
         "name": "time_482.0",
         "rawType": "int64",
         "type": "integer"
        },
        {
         "name": "time_483.0",
         "rawType": "int64",
         "type": "integer"
        },
        {
         "name": "time_484.0",
         "rawType": "int64",
         "type": "integer"
        },
        {
         "name": "time_485.0",
         "rawType": "int64",
         "type": "integer"
        },
        {
         "name": "time_486.0",
         "rawType": "int64",
         "type": "integer"
        },
        {
         "name": "time_487.0",
         "rawType": "int64",
         "type": "integer"
        },
        {
         "name": "time_488.0",
         "rawType": "int64",
         "type": "integer"
        },
        {
         "name": "time_489.0",
         "rawType": "int64",
         "type": "integer"
        },
        {
         "name": "time_490.0",
         "rawType": "int64",
         "type": "integer"
        },
        {
         "name": "time_491.0",
         "rawType": "int64",
         "type": "integer"
        },
        {
         "name": "time_492.0",
         "rawType": "int64",
         "type": "integer"
        },
        {
         "name": "time_493.0",
         "rawType": "int64",
         "type": "integer"
        },
        {
         "name": "time_494.0",
         "rawType": "int64",
         "type": "integer"
        },
        {
         "name": "time_495.0",
         "rawType": "int64",
         "type": "integer"
        },
        {
         "name": "time_496.0",
         "rawType": "int64",
         "type": "integer"
        },
        {
         "name": "time_497.0",
         "rawType": "int64",
         "type": "integer"
        },
        {
         "name": "time_498.0",
         "rawType": "int64",
         "type": "integer"
        },
        {
         "name": "time_499.0",
         "rawType": "int64",
         "type": "integer"
        },
        {
         "name": "time_500.0",
         "rawType": "int64",
         "type": "integer"
        },
        {
         "name": "time_501.0",
         "rawType": "int64",
         "type": "integer"
        },
        {
         "name": "time_502.0",
         "rawType": "int64",
         "type": "integer"
        },
        {
         "name": "time_503.0",
         "rawType": "int64",
         "type": "integer"
        },
        {
         "name": "time_504.0",
         "rawType": "int64",
         "type": "integer"
        },
        {
         "name": "time_505.0",
         "rawType": "int64",
         "type": "integer"
        },
        {
         "name": "time_506.0",
         "rawType": "int64",
         "type": "integer"
        },
        {
         "name": "time_507.0",
         "rawType": "int64",
         "type": "integer"
        },
        {
         "name": "time_508.0",
         "rawType": "int64",
         "type": "integer"
        },
        {
         "name": "time_509.0",
         "rawType": "int64",
         "type": "integer"
        },
        {
         "name": "time_510.0",
         "rawType": "int64",
         "type": "integer"
        },
        {
         "name": "time_511.0",
         "rawType": "int64",
         "type": "integer"
        },
        {
         "name": "time_512.0",
         "rawType": "int64",
         "type": "integer"
        },
        {
         "name": "time_513.0",
         "rawType": "int64",
         "type": "integer"
        },
        {
         "name": "time_514.0",
         "rawType": "int64",
         "type": "integer"
        },
        {
         "name": "time_515.0",
         "rawType": "int64",
         "type": "integer"
        },
        {
         "name": "time_516.0",
         "rawType": "int64",
         "type": "integer"
        },
        {
         "name": "time_517.0",
         "rawType": "int64",
         "type": "integer"
        },
        {
         "name": "time_518.0",
         "rawType": "int64",
         "type": "integer"
        },
        {
         "name": "time_519.0",
         "rawType": "int64",
         "type": "integer"
        },
        {
         "name": "time_520.0",
         "rawType": "int64",
         "type": "integer"
        },
        {
         "name": "time_521.0",
         "rawType": "int64",
         "type": "integer"
        },
        {
         "name": "time_522.0",
         "rawType": "int64",
         "type": "integer"
        },
        {
         "name": "time_523.0",
         "rawType": "int64",
         "type": "integer"
        },
        {
         "name": "time_524.0",
         "rawType": "int64",
         "type": "integer"
        },
        {
         "name": "time_525.0",
         "rawType": "int64",
         "type": "integer"
        },
        {
         "name": "time_526.0",
         "rawType": "int64",
         "type": "integer"
        },
        {
         "name": "time_527.0",
         "rawType": "int64",
         "type": "integer"
        },
        {
         "name": "time_528.0",
         "rawType": "int64",
         "type": "integer"
        },
        {
         "name": "time_529.0",
         "rawType": "int64",
         "type": "integer"
        },
        {
         "name": "time_530.0",
         "rawType": "int64",
         "type": "integer"
        },
        {
         "name": "time_531.0",
         "rawType": "int64",
         "type": "integer"
        },
        {
         "name": "time_532.0",
         "rawType": "int64",
         "type": "integer"
        },
        {
         "name": "time_533.0",
         "rawType": "int64",
         "type": "integer"
        },
        {
         "name": "time_534.0",
         "rawType": "int64",
         "type": "integer"
        },
        {
         "name": "time_535.0",
         "rawType": "int64",
         "type": "integer"
        },
        {
         "name": "time_536.0",
         "rawType": "int64",
         "type": "integer"
        },
        {
         "name": "time_537.0",
         "rawType": "int64",
         "type": "integer"
        },
        {
         "name": "time_538.0",
         "rawType": "int64",
         "type": "integer"
        },
        {
         "name": "time_539.0",
         "rawType": "int64",
         "type": "integer"
        },
        {
         "name": "time_540.0",
         "rawType": "int64",
         "type": "integer"
        },
        {
         "name": "time_541.0",
         "rawType": "int64",
         "type": "integer"
        },
        {
         "name": "time_542.0",
         "rawType": "int64",
         "type": "integer"
        },
        {
         "name": "time_543.0",
         "rawType": "int64",
         "type": "integer"
        },
        {
         "name": "time_544.0",
         "rawType": "int64",
         "type": "integer"
        },
        {
         "name": "time_545.0",
         "rawType": "int64",
         "type": "integer"
        },
        {
         "name": "time_546.0",
         "rawType": "int64",
         "type": "integer"
        },
        {
         "name": "time_547.0",
         "rawType": "int64",
         "type": "integer"
        },
        {
         "name": "time_548.0",
         "rawType": "int64",
         "type": "integer"
        },
        {
         "name": "time_549.0",
         "rawType": "int64",
         "type": "integer"
        },
        {
         "name": "time_550.0",
         "rawType": "int64",
         "type": "integer"
        },
        {
         "name": "time_551.0",
         "rawType": "int64",
         "type": "integer"
        },
        {
         "name": "time_552.0",
         "rawType": "int64",
         "type": "integer"
        },
        {
         "name": "time_553.0",
         "rawType": "int64",
         "type": "integer"
        },
        {
         "name": "time_554.0",
         "rawType": "int64",
         "type": "integer"
        },
        {
         "name": "time_555.0",
         "rawType": "int64",
         "type": "integer"
        },
        {
         "name": "time_556.0",
         "rawType": "int64",
         "type": "integer"
        },
        {
         "name": "time_557.0",
         "rawType": "int64",
         "type": "integer"
        },
        {
         "name": "time_558.0",
         "rawType": "int64",
         "type": "integer"
        },
        {
         "name": "time_559.0",
         "rawType": "int64",
         "type": "integer"
        },
        {
         "name": "time_560.0",
         "rawType": "int64",
         "type": "integer"
        },
        {
         "name": "time_561.0",
         "rawType": "int64",
         "type": "integer"
        },
        {
         "name": "time_562.0",
         "rawType": "int64",
         "type": "integer"
        },
        {
         "name": "time_563.0",
         "rawType": "int64",
         "type": "integer"
        },
        {
         "name": "time_564.0",
         "rawType": "int64",
         "type": "integer"
        },
        {
         "name": "time_565.0",
         "rawType": "int64",
         "type": "integer"
        },
        {
         "name": "time_566.0",
         "rawType": "int64",
         "type": "integer"
        },
        {
         "name": "time_567.0",
         "rawType": "int64",
         "type": "integer"
        },
        {
         "name": "time_568.0",
         "rawType": "int64",
         "type": "integer"
        },
        {
         "name": "time_569.0",
         "rawType": "int64",
         "type": "integer"
        },
        {
         "name": "time_570.0",
         "rawType": "int64",
         "type": "integer"
        },
        {
         "name": "time_571.0",
         "rawType": "int64",
         "type": "integer"
        },
        {
         "name": "time_572.0",
         "rawType": "int64",
         "type": "integer"
        },
        {
         "name": "time_573.0",
         "rawType": "int64",
         "type": "integer"
        },
        {
         "name": "time_574.0",
         "rawType": "int64",
         "type": "integer"
        },
        {
         "name": "time_575.0",
         "rawType": "int64",
         "type": "integer"
        },
        {
         "name": "time_576.0",
         "rawType": "int64",
         "type": "integer"
        },
        {
         "name": "time_577.0",
         "rawType": "int64",
         "type": "integer"
        },
        {
         "name": "time_578.0",
         "rawType": "int64",
         "type": "integer"
        },
        {
         "name": "time_579.0",
         "rawType": "int64",
         "type": "integer"
        },
        {
         "name": "time_580.0",
         "rawType": "int64",
         "type": "integer"
        },
        {
         "name": "time_581.0",
         "rawType": "int64",
         "type": "integer"
        },
        {
         "name": "time_582.0",
         "rawType": "int64",
         "type": "integer"
        },
        {
         "name": "time_583.0",
         "rawType": "int64",
         "type": "integer"
        },
        {
         "name": "time_584.0",
         "rawType": "int64",
         "type": "integer"
        },
        {
         "name": "time_585.0",
         "rawType": "int64",
         "type": "integer"
        },
        {
         "name": "time_586.0",
         "rawType": "int64",
         "type": "integer"
        },
        {
         "name": "time_587.0",
         "rawType": "int64",
         "type": "integer"
        },
        {
         "name": "time_588.0",
         "rawType": "int64",
         "type": "integer"
        },
        {
         "name": "time_589.0",
         "rawType": "int64",
         "type": "integer"
        },
        {
         "name": "time_590.0",
         "rawType": "int64",
         "type": "integer"
        },
        {
         "name": "time_591.0",
         "rawType": "int64",
         "type": "integer"
        },
        {
         "name": "time_592.0",
         "rawType": "int64",
         "type": "integer"
        },
        {
         "name": "time_593.0",
         "rawType": "int64",
         "type": "integer"
        },
        {
         "name": "time_594.0",
         "rawType": "int64",
         "type": "integer"
        },
        {
         "name": "time_595.0",
         "rawType": "int64",
         "type": "integer"
        },
        {
         "name": "time_596.0",
         "rawType": "int64",
         "type": "integer"
        },
        {
         "name": "time_597.0",
         "rawType": "int64",
         "type": "integer"
        },
        {
         "name": "time_598.0",
         "rawType": "int64",
         "type": "integer"
        },
        {
         "name": "time_599.0",
         "rawType": "int64",
         "type": "integer"
        },
        {
         "name": "time_600.0",
         "rawType": "int64",
         "type": "integer"
        },
        {
         "name": "time_601.0",
         "rawType": "int64",
         "type": "integer"
        },
        {
         "name": "time_602.0",
         "rawType": "int64",
         "type": "integer"
        },
        {
         "name": "time_603.0",
         "rawType": "int64",
         "type": "integer"
        },
        {
         "name": "time_604.0",
         "rawType": "int64",
         "type": "integer"
        },
        {
         "name": "time_605.0",
         "rawType": "int64",
         "type": "integer"
        },
        {
         "name": "time_606.0",
         "rawType": "int64",
         "type": "integer"
        },
        {
         "name": "time_607.0",
         "rawType": "int64",
         "type": "integer"
        },
        {
         "name": "time_608.0",
         "rawType": "int64",
         "type": "integer"
        },
        {
         "name": "time_609.0",
         "rawType": "int64",
         "type": "integer"
        },
        {
         "name": "time_610.0",
         "rawType": "int64",
         "type": "integer"
        },
        {
         "name": "time_611.0",
         "rawType": "int64",
         "type": "integer"
        },
        {
         "name": "time_612.0",
         "rawType": "int64",
         "type": "integer"
        },
        {
         "name": "time_613.0",
         "rawType": "int64",
         "type": "integer"
        },
        {
         "name": "time_614.0",
         "rawType": "int64",
         "type": "integer"
        },
        {
         "name": "time_615.0",
         "rawType": "int64",
         "type": "integer"
        },
        {
         "name": "time_616.0",
         "rawType": "int64",
         "type": "integer"
        },
        {
         "name": "time_617.0",
         "rawType": "int64",
         "type": "integer"
        },
        {
         "name": "time_618.0",
         "rawType": "int64",
         "type": "integer"
        },
        {
         "name": "time_619.0",
         "rawType": "int64",
         "type": "integer"
        },
        {
         "name": "time_620.0",
         "rawType": "int64",
         "type": "integer"
        },
        {
         "name": "time_621.0",
         "rawType": "int64",
         "type": "integer"
        },
        {
         "name": "time_622.0",
         "rawType": "int64",
         "type": "integer"
        },
        {
         "name": "time_623.0",
         "rawType": "int64",
         "type": "integer"
        },
        {
         "name": "time_624.0",
         "rawType": "int64",
         "type": "integer"
        },
        {
         "name": "time_625.0",
         "rawType": "int64",
         "type": "integer"
        },
        {
         "name": "time_626.0",
         "rawType": "int64",
         "type": "integer"
        },
        {
         "name": "time_627.0",
         "rawType": "int64",
         "type": "integer"
        },
        {
         "name": "time_628.0",
         "rawType": "int64",
         "type": "integer"
        },
        {
         "name": "time_629.0",
         "rawType": "int64",
         "type": "integer"
        },
        {
         "name": "time_630.0",
         "rawType": "int64",
         "type": "integer"
        },
        {
         "name": "time_631.0",
         "rawType": "int64",
         "type": "integer"
        },
        {
         "name": "time_632.0",
         "rawType": "int64",
         "type": "integer"
        },
        {
         "name": "time_633.0",
         "rawType": "int64",
         "type": "integer"
        },
        {
         "name": "time_634.0",
         "rawType": "int64",
         "type": "integer"
        },
        {
         "name": "time_635.0",
         "rawType": "int64",
         "type": "integer"
        },
        {
         "name": "time_636.0",
         "rawType": "int64",
         "type": "integer"
        },
        {
         "name": "time_637.0",
         "rawType": "int64",
         "type": "integer"
        },
        {
         "name": "time_638.0",
         "rawType": "int64",
         "type": "integer"
        },
        {
         "name": "time_639.0",
         "rawType": "int64",
         "type": "integer"
        },
        {
         "name": "time_640.0",
         "rawType": "int64",
         "type": "integer"
        },
        {
         "name": "time_641.0",
         "rawType": "int64",
         "type": "integer"
        },
        {
         "name": "time_642.0",
         "rawType": "int64",
         "type": "integer"
        },
        {
         "name": "time_643.0",
         "rawType": "int64",
         "type": "integer"
        },
        {
         "name": "time_644.0",
         "rawType": "int64",
         "type": "integer"
        },
        {
         "name": "time_645.0",
         "rawType": "int64",
         "type": "integer"
        },
        {
         "name": "time_646.0",
         "rawType": "int64",
         "type": "integer"
        },
        {
         "name": "time_647.0",
         "rawType": "int64",
         "type": "integer"
        },
        {
         "name": "time_648.0",
         "rawType": "int64",
         "type": "integer"
        },
        {
         "name": "time_649.0",
         "rawType": "int64",
         "type": "integer"
        },
        {
         "name": "time_650.0",
         "rawType": "int64",
         "type": "integer"
        },
        {
         "name": "time_651.0",
         "rawType": "int64",
         "type": "integer"
        },
        {
         "name": "time_652.0",
         "rawType": "int64",
         "type": "integer"
        },
        {
         "name": "time_653.0",
         "rawType": "int64",
         "type": "integer"
        },
        {
         "name": "time_654.0",
         "rawType": "int64",
         "type": "integer"
        },
        {
         "name": "time_655.0",
         "rawType": "int64",
         "type": "integer"
        },
        {
         "name": "time_656.0",
         "rawType": "int64",
         "type": "integer"
        },
        {
         "name": "time_657.0",
         "rawType": "int64",
         "type": "integer"
        },
        {
         "name": "time_658.0",
         "rawType": "int64",
         "type": "integer"
        },
        {
         "name": "time_659.0",
         "rawType": "int64",
         "type": "integer"
        },
        {
         "name": "time_660.0",
         "rawType": "int64",
         "type": "integer"
        },
        {
         "name": "time_661.0",
         "rawType": "int64",
         "type": "integer"
        },
        {
         "name": "time_662.0",
         "rawType": "int64",
         "type": "integer"
        },
        {
         "name": "time_663.0",
         "rawType": "int64",
         "type": "integer"
        },
        {
         "name": "time_664.0",
         "rawType": "int64",
         "type": "integer"
        },
        {
         "name": "time_665.0",
         "rawType": "int64",
         "type": "integer"
        },
        {
         "name": "time_666.0",
         "rawType": "int64",
         "type": "integer"
        },
        {
         "name": "time_667.0",
         "rawType": "int64",
         "type": "integer"
        },
        {
         "name": "time_668.0",
         "rawType": "int64",
         "type": "integer"
        },
        {
         "name": "time_669.0",
         "rawType": "int64",
         "type": "integer"
        },
        {
         "name": "time_670.0",
         "rawType": "int64",
         "type": "integer"
        },
        {
         "name": "time_671.0",
         "rawType": "int64",
         "type": "integer"
        },
        {
         "name": "time_672.0",
         "rawType": "int64",
         "type": "integer"
        },
        {
         "name": "time_673.0",
         "rawType": "int64",
         "type": "integer"
        },
        {
         "name": "time_674.0",
         "rawType": "int64",
         "type": "integer"
        },
        {
         "name": "time_675.0",
         "rawType": "int64",
         "type": "integer"
        },
        {
         "name": "time_676.0",
         "rawType": "int64",
         "type": "integer"
        },
        {
         "name": "time_677.0",
         "rawType": "int64",
         "type": "integer"
        },
        {
         "name": "time_678.0",
         "rawType": "int64",
         "type": "integer"
        },
        {
         "name": "time_679.0",
         "rawType": "int64",
         "type": "integer"
        },
        {
         "name": "time_680.0",
         "rawType": "int64",
         "type": "integer"
        },
        {
         "name": "time_681.0",
         "rawType": "int64",
         "type": "integer"
        },
        {
         "name": "time_682.0",
         "rawType": "int64",
         "type": "integer"
        },
        {
         "name": "time_683.0",
         "rawType": "int64",
         "type": "integer"
        },
        {
         "name": "time_684.0",
         "rawType": "int64",
         "type": "integer"
        },
        {
         "name": "time_685.0",
         "rawType": "int64",
         "type": "integer"
        },
        {
         "name": "time_686.0",
         "rawType": "int64",
         "type": "integer"
        },
        {
         "name": "time_687.0",
         "rawType": "int64",
         "type": "integer"
        },
        {
         "name": "time_688.0",
         "rawType": "int64",
         "type": "integer"
        },
        {
         "name": "time_689.0",
         "rawType": "int64",
         "type": "integer"
        },
        {
         "name": "time_690.0",
         "rawType": "int64",
         "type": "integer"
        },
        {
         "name": "time_691.0",
         "rawType": "int64",
         "type": "integer"
        },
        {
         "name": "time_692.0",
         "rawType": "int64",
         "type": "integer"
        },
        {
         "name": "time_693.0",
         "rawType": "int64",
         "type": "integer"
        },
        {
         "name": "time_694.0",
         "rawType": "int64",
         "type": "integer"
        },
        {
         "name": "time_695.0",
         "rawType": "int64",
         "type": "integer"
        },
        {
         "name": "time_696.0",
         "rawType": "int64",
         "type": "integer"
        },
        {
         "name": "time_697.0",
         "rawType": "int64",
         "type": "integer"
        },
        {
         "name": "time_698.0",
         "rawType": "int64",
         "type": "integer"
        },
        {
         "name": "time_699.0",
         "rawType": "int64",
         "type": "integer"
        },
        {
         "name": "time_700.0",
         "rawType": "int64",
         "type": "integer"
        },
        {
         "name": "time_701.0",
         "rawType": "int64",
         "type": "integer"
        },
        {
         "name": "time_702.0",
         "rawType": "int64",
         "type": "integer"
        },
        {
         "name": "time_703.0",
         "rawType": "int64",
         "type": "integer"
        },
        {
         "name": "time_704.0",
         "rawType": "int64",
         "type": "integer"
        },
        {
         "name": "time_705.0",
         "rawType": "int64",
         "type": "integer"
        },
        {
         "name": "time_706.0",
         "rawType": "int64",
         "type": "integer"
        },
        {
         "name": "time_707.0",
         "rawType": "int64",
         "type": "integer"
        },
        {
         "name": "time_708.0",
         "rawType": "int64",
         "type": "integer"
        },
        {
         "name": "time_709.0",
         "rawType": "int64",
         "type": "integer"
        },
        {
         "name": "time_710.0",
         "rawType": "int64",
         "type": "integer"
        },
        {
         "name": "time_711.0",
         "rawType": "int64",
         "type": "integer"
        },
        {
         "name": "time_712.0",
         "rawType": "int64",
         "type": "integer"
        },
        {
         "name": "time_713.0",
         "rawType": "int64",
         "type": "integer"
        },
        {
         "name": "time_714.0",
         "rawType": "int64",
         "type": "integer"
        },
        {
         "name": "time_715.0",
         "rawType": "int64",
         "type": "integer"
        },
        {
         "name": "time_716.0",
         "rawType": "int64",
         "type": "integer"
        },
        {
         "name": "time_717.0",
         "rawType": "int64",
         "type": "integer"
        },
        {
         "name": "time_718.0",
         "rawType": "int64",
         "type": "integer"
        },
        {
         "name": "time_719.0",
         "rawType": "int64",
         "type": "integer"
        },
        {
         "name": "time_720.0",
         "rawType": "int64",
         "type": "integer"
        },
        {
         "name": "time_721.0",
         "rawType": "int64",
         "type": "integer"
        },
        {
         "name": "time_722.0",
         "rawType": "int64",
         "type": "integer"
        },
        {
         "name": "time_723.0",
         "rawType": "int64",
         "type": "integer"
        },
        {
         "name": "time_724.0",
         "rawType": "int64",
         "type": "integer"
        },
        {
         "name": "time_725.0",
         "rawType": "int64",
         "type": "integer"
        },
        {
         "name": "time_726.0",
         "rawType": "int64",
         "type": "integer"
        },
        {
         "name": "time_727.0",
         "rawType": "int64",
         "type": "integer"
        },
        {
         "name": "time_728.0",
         "rawType": "int64",
         "type": "integer"
        },
        {
         "name": "time_729.0",
         "rawType": "int64",
         "type": "integer"
        },
        {
         "name": "time_730.0",
         "rawType": "int64",
         "type": "integer"
        },
        {
         "name": "time_731.0",
         "rawType": "int64",
         "type": "integer"
        },
        {
         "name": "time_732.0",
         "rawType": "int64",
         "type": "integer"
        },
        {
         "name": "time_733.0",
         "rawType": "int64",
         "type": "integer"
        },
        {
         "name": "time_734.0",
         "rawType": "int64",
         "type": "integer"
        },
        {
         "name": "time_735.0",
         "rawType": "int64",
         "type": "integer"
        },
        {
         "name": "time_736.0",
         "rawType": "int64",
         "type": "integer"
        },
        {
         "name": "time_737.0",
         "rawType": "int64",
         "type": "integer"
        },
        {
         "name": "time_738.0",
         "rawType": "int64",
         "type": "integer"
        },
        {
         "name": "time_739.0",
         "rawType": "int64",
         "type": "integer"
        },
        {
         "name": "time_740.0",
         "rawType": "int64",
         "type": "integer"
        },
        {
         "name": "time_741.0",
         "rawType": "int64",
         "type": "integer"
        },
        {
         "name": "time_742.0",
         "rawType": "int64",
         "type": "integer"
        },
        {
         "name": "time_743.0",
         "rawType": "int64",
         "type": "integer"
        },
        {
         "name": "time_744.0",
         "rawType": "int64",
         "type": "integer"
        },
        {
         "name": "time_745.0",
         "rawType": "int64",
         "type": "integer"
        },
        {
         "name": "time_746.0",
         "rawType": "int64",
         "type": "integer"
        },
        {
         "name": "time_747.0",
         "rawType": "int64",
         "type": "integer"
        },
        {
         "name": "time_748.0",
         "rawType": "int64",
         "type": "integer"
        },
        {
         "name": "time_749.0",
         "rawType": "int64",
         "type": "integer"
        },
        {
         "name": "time_750.0",
         "rawType": "int64",
         "type": "integer"
        },
        {
         "name": "time_751.0",
         "rawType": "int64",
         "type": "integer"
        },
        {
         "name": "time_752.0",
         "rawType": "int64",
         "type": "integer"
        },
        {
         "name": "time_753.0",
         "rawType": "int64",
         "type": "integer"
        },
        {
         "name": "time_754.0",
         "rawType": "int64",
         "type": "integer"
        },
        {
         "name": "time_755.0",
         "rawType": "int64",
         "type": "integer"
        },
        {
         "name": "time_756.0",
         "rawType": "int64",
         "type": "integer"
        },
        {
         "name": "time_757.0",
         "rawType": "int64",
         "type": "integer"
        },
        {
         "name": "time_758.0",
         "rawType": "int64",
         "type": "integer"
        },
        {
         "name": "time_759.0",
         "rawType": "int64",
         "type": "integer"
        },
        {
         "name": "time_760.0",
         "rawType": "int64",
         "type": "integer"
        },
        {
         "name": "time_761.0",
         "rawType": "int64",
         "type": "integer"
        },
        {
         "name": "time_762.0",
         "rawType": "int64",
         "type": "integer"
        },
        {
         "name": "time_763.0",
         "rawType": "int64",
         "type": "integer"
        },
        {
         "name": "time_764.0",
         "rawType": "int64",
         "type": "integer"
        },
        {
         "name": "time_765.0",
         "rawType": "int64",
         "type": "integer"
        },
        {
         "name": "time_766.0",
         "rawType": "int64",
         "type": "integer"
        },
        {
         "name": "time_767.0",
         "rawType": "int64",
         "type": "integer"
        },
        {
         "name": "time_768.0",
         "rawType": "int64",
         "type": "integer"
        },
        {
         "name": "time_769.0",
         "rawType": "int64",
         "type": "integer"
        },
        {
         "name": "time_770.0",
         "rawType": "int64",
         "type": "integer"
        },
        {
         "name": "time_771.0",
         "rawType": "int64",
         "type": "integer"
        },
        {
         "name": "time_772.0",
         "rawType": "int64",
         "type": "integer"
        },
        {
         "name": "time_773.0",
         "rawType": "int64",
         "type": "integer"
        },
        {
         "name": "time_774.0",
         "rawType": "int64",
         "type": "integer"
        },
        {
         "name": "time_775.0",
         "rawType": "int64",
         "type": "integer"
        },
        {
         "name": "time_776.0",
         "rawType": "int64",
         "type": "integer"
        },
        {
         "name": "time_777.0",
         "rawType": "int64",
         "type": "integer"
        },
        {
         "name": "time_778.0",
         "rawType": "int64",
         "type": "integer"
        },
        {
         "name": "time_779.0",
         "rawType": "int64",
         "type": "integer"
        },
        {
         "name": "time_780.0",
         "rawType": "int64",
         "type": "integer"
        },
        {
         "name": "time_781.0",
         "rawType": "int64",
         "type": "integer"
        },
        {
         "name": "time_782.0",
         "rawType": "int64",
         "type": "integer"
        },
        {
         "name": "time_783.0",
         "rawType": "int64",
         "type": "integer"
        },
        {
         "name": "time_784.0",
         "rawType": "int64",
         "type": "integer"
        },
        {
         "name": "time_785.0",
         "rawType": "int64",
         "type": "integer"
        },
        {
         "name": "time_786.0",
         "rawType": "int64",
         "type": "integer"
        },
        {
         "name": "time_787.0",
         "rawType": "int64",
         "type": "integer"
        },
        {
         "name": "time_788.0",
         "rawType": "int64",
         "type": "integer"
        },
        {
         "name": "time_789.0",
         "rawType": "int64",
         "type": "integer"
        },
        {
         "name": "time_790.0",
         "rawType": "int64",
         "type": "integer"
        },
        {
         "name": "time_791.0",
         "rawType": "int64",
         "type": "integer"
        },
        {
         "name": "time_792.0",
         "rawType": "int64",
         "type": "integer"
        },
        {
         "name": "time_793.0",
         "rawType": "int64",
         "type": "integer"
        },
        {
         "name": "time_794.0",
         "rawType": "int64",
         "type": "integer"
        },
        {
         "name": "time_795.0",
         "rawType": "int64",
         "type": "integer"
        },
        {
         "name": "time_796.0",
         "rawType": "int64",
         "type": "integer"
        },
        {
         "name": "time_797.0",
         "rawType": "int64",
         "type": "integer"
        },
        {
         "name": "time_798.0",
         "rawType": "int64",
         "type": "integer"
        },
        {
         "name": "time_799.0",
         "rawType": "int64",
         "type": "integer"
        },
        {
         "name": "time_800.0",
         "rawType": "int64",
         "type": "integer"
        },
        {
         "name": "time_801.0",
         "rawType": "int64",
         "type": "integer"
        },
        {
         "name": "time_802.0",
         "rawType": "int64",
         "type": "integer"
        },
        {
         "name": "time_803.0",
         "rawType": "int64",
         "type": "integer"
        },
        {
         "name": "time_804.0",
         "rawType": "int64",
         "type": "integer"
        },
        {
         "name": "time_805.0",
         "rawType": "int64",
         "type": "integer"
        },
        {
         "name": "time_806.0",
         "rawType": "int64",
         "type": "integer"
        },
        {
         "name": "time_807.0",
         "rawType": "int64",
         "type": "integer"
        },
        {
         "name": "time_808.0",
         "rawType": "int64",
         "type": "integer"
        },
        {
         "name": "time_809.0",
         "rawType": "int64",
         "type": "integer"
        },
        {
         "name": "time_810.0",
         "rawType": "int64",
         "type": "integer"
        },
        {
         "name": "time_811.0",
         "rawType": "int64",
         "type": "integer"
        },
        {
         "name": "time_812.0",
         "rawType": "int64",
         "type": "integer"
        },
        {
         "name": "time_813.0",
         "rawType": "int64",
         "type": "integer"
        },
        {
         "name": "time_814.0",
         "rawType": "int64",
         "type": "integer"
        },
        {
         "name": "time_815.0",
         "rawType": "int64",
         "type": "integer"
        },
        {
         "name": "time_816.0",
         "rawType": "int64",
         "type": "integer"
        },
        {
         "name": "time_817.0",
         "rawType": "int64",
         "type": "integer"
        },
        {
         "name": "time_818.0",
         "rawType": "int64",
         "type": "integer"
        },
        {
         "name": "time_819.0",
         "rawType": "int64",
         "type": "integer"
        },
        {
         "name": "time_820.0",
         "rawType": "int64",
         "type": "integer"
        },
        {
         "name": "time_821.0",
         "rawType": "int64",
         "type": "integer"
        },
        {
         "name": "time_822.0",
         "rawType": "int64",
         "type": "integer"
        },
        {
         "name": "time_823.0",
         "rawType": "int64",
         "type": "integer"
        },
        {
         "name": "time_824.0",
         "rawType": "int64",
         "type": "integer"
        },
        {
         "name": "time_825.0",
         "rawType": "int64",
         "type": "integer"
        },
        {
         "name": "time_826.0",
         "rawType": "int64",
         "type": "integer"
        },
        {
         "name": "time_827.0",
         "rawType": "int64",
         "type": "integer"
        },
        {
         "name": "time_828.0",
         "rawType": "int64",
         "type": "integer"
        },
        {
         "name": "time_829.0",
         "rawType": "int64",
         "type": "integer"
        },
        {
         "name": "time_830.0",
         "rawType": "int64",
         "type": "integer"
        },
        {
         "name": "time_831.0",
         "rawType": "int64",
         "type": "integer"
        },
        {
         "name": "time_832.0",
         "rawType": "int64",
         "type": "integer"
        },
        {
         "name": "time_833.0",
         "rawType": "int64",
         "type": "integer"
        },
        {
         "name": "time_834.0",
         "rawType": "int64",
         "type": "integer"
        },
        {
         "name": "time_835.0",
         "rawType": "int64",
         "type": "integer"
        },
        {
         "name": "time_836.0",
         "rawType": "int64",
         "type": "integer"
        },
        {
         "name": "time_837.0",
         "rawType": "int64",
         "type": "integer"
        },
        {
         "name": "time_838.0",
         "rawType": "int64",
         "type": "integer"
        },
        {
         "name": "time_839.0",
         "rawType": "int64",
         "type": "integer"
        },
        {
         "name": "time_840.0",
         "rawType": "int64",
         "type": "integer"
        },
        {
         "name": "time_841.0",
         "rawType": "int64",
         "type": "integer"
        },
        {
         "name": "time_842.0",
         "rawType": "int64",
         "type": "integer"
        },
        {
         "name": "time_843.0",
         "rawType": "int64",
         "type": "integer"
        },
        {
         "name": "time_844.0",
         "rawType": "int64",
         "type": "integer"
        },
        {
         "name": "time_845.0",
         "rawType": "int64",
         "type": "integer"
        },
        {
         "name": "time_846.0",
         "rawType": "int64",
         "type": "integer"
        },
        {
         "name": "time_847.0",
         "rawType": "int64",
         "type": "integer"
        },
        {
         "name": "time_848.0",
         "rawType": "int64",
         "type": "integer"
        },
        {
         "name": "time_849.0",
         "rawType": "int64",
         "type": "integer"
        },
        {
         "name": "time_850.0",
         "rawType": "int64",
         "type": "integer"
        },
        {
         "name": "time_851.0",
         "rawType": "int64",
         "type": "integer"
        },
        {
         "name": "time_852.0",
         "rawType": "int64",
         "type": "integer"
        },
        {
         "name": "time_853.0",
         "rawType": "int64",
         "type": "integer"
        },
        {
         "name": "time_854.0",
         "rawType": "int64",
         "type": "integer"
        },
        {
         "name": "time_855.0",
         "rawType": "int64",
         "type": "integer"
        },
        {
         "name": "time_856.0",
         "rawType": "int64",
         "type": "integer"
        },
        {
         "name": "time_857.0",
         "rawType": "int64",
         "type": "integer"
        },
        {
         "name": "time_858.0",
         "rawType": "int64",
         "type": "integer"
        },
        {
         "name": "time_859.0",
         "rawType": "int64",
         "type": "integer"
        },
        {
         "name": "time_860.0",
         "rawType": "int64",
         "type": "integer"
        },
        {
         "name": "time_861.0",
         "rawType": "int64",
         "type": "integer"
        },
        {
         "name": "time_862.0",
         "rawType": "int64",
         "type": "integer"
        },
        {
         "name": "time_863.0",
         "rawType": "int64",
         "type": "integer"
        },
        {
         "name": "time_864.0",
         "rawType": "int64",
         "type": "integer"
        },
        {
         "name": "time_865.0",
         "rawType": "int64",
         "type": "integer"
        },
        {
         "name": "time_866.0",
         "rawType": "int64",
         "type": "integer"
        },
        {
         "name": "time_867.0",
         "rawType": "int64",
         "type": "integer"
        },
        {
         "name": "time_868.0",
         "rawType": "int64",
         "type": "integer"
        },
        {
         "name": "time_869.0",
         "rawType": "int64",
         "type": "integer"
        },
        {
         "name": "time_870.0",
         "rawType": "int64",
         "type": "integer"
        },
        {
         "name": "time_871.0",
         "rawType": "int64",
         "type": "integer"
        },
        {
         "name": "time_872.0",
         "rawType": "int64",
         "type": "integer"
        },
        {
         "name": "time_873.0",
         "rawType": "int64",
         "type": "integer"
        },
        {
         "name": "time_874.0",
         "rawType": "int64",
         "type": "integer"
        },
        {
         "name": "time_875.0",
         "rawType": "int64",
         "type": "integer"
        },
        {
         "name": "time_876.0",
         "rawType": "int64",
         "type": "integer"
        },
        {
         "name": "time_877.0",
         "rawType": "int64",
         "type": "integer"
        },
        {
         "name": "time_878.0",
         "rawType": "int64",
         "type": "integer"
        },
        {
         "name": "time_879.0",
         "rawType": "int64",
         "type": "integer"
        },
        {
         "name": "time_880.0",
         "rawType": "int64",
         "type": "integer"
        },
        {
         "name": "time_881.0",
         "rawType": "int64",
         "type": "integer"
        },
        {
         "name": "time_882.0",
         "rawType": "int64",
         "type": "integer"
        },
        {
         "name": "time_883.0",
         "rawType": "int64",
         "type": "integer"
        },
        {
         "name": "time_884.0",
         "rawType": "int64",
         "type": "integer"
        },
        {
         "name": "time_885.0",
         "rawType": "int64",
         "type": "integer"
        },
        {
         "name": "time_886.0",
         "rawType": "int64",
         "type": "integer"
        },
        {
         "name": "time_887.0",
         "rawType": "int64",
         "type": "integer"
        },
        {
         "name": "time_888.0",
         "rawType": "int64",
         "type": "integer"
        },
        {
         "name": "time_889.0",
         "rawType": "int64",
         "type": "integer"
        },
        {
         "name": "time_890.0",
         "rawType": "int64",
         "type": "integer"
        },
        {
         "name": "time_891.0",
         "rawType": "int64",
         "type": "integer"
        },
        {
         "name": "time_892.0",
         "rawType": "int64",
         "type": "integer"
        },
        {
         "name": "time_893.0",
         "rawType": "int64",
         "type": "integer"
        },
        {
         "name": "time_894.0",
         "rawType": "int64",
         "type": "integer"
        },
        {
         "name": "time_895.0",
         "rawType": "int64",
         "type": "integer"
        },
        {
         "name": "time_896.0",
         "rawType": "int64",
         "type": "integer"
        },
        {
         "name": "time_897.0",
         "rawType": "int64",
         "type": "integer"
        },
        {
         "name": "time_898.0",
         "rawType": "int64",
         "type": "integer"
        },
        {
         "name": "time_899.0",
         "rawType": "int64",
         "type": "integer"
        },
        {
         "name": "time_900.0",
         "rawType": "int64",
         "type": "integer"
        },
        {
         "name": "time_901.0",
         "rawType": "int64",
         "type": "integer"
        },
        {
         "name": "time_902.0",
         "rawType": "int64",
         "type": "integer"
        },
        {
         "name": "time_903.0",
         "rawType": "int64",
         "type": "integer"
        },
        {
         "name": "time_904.0",
         "rawType": "int64",
         "type": "integer"
        },
        {
         "name": "time_905.0",
         "rawType": "int64",
         "type": "integer"
        },
        {
         "name": "time_906.0",
         "rawType": "int64",
         "type": "integer"
        },
        {
         "name": "time_907.0",
         "rawType": "int64",
         "type": "integer"
        },
        {
         "name": "time_908.0",
         "rawType": "int64",
         "type": "integer"
        },
        {
         "name": "time_909.0",
         "rawType": "int64",
         "type": "integer"
        },
        {
         "name": "time_910.0",
         "rawType": "int64",
         "type": "integer"
        },
        {
         "name": "time_911.0",
         "rawType": "int64",
         "type": "integer"
        },
        {
         "name": "time_912.0",
         "rawType": "int64",
         "type": "integer"
        },
        {
         "name": "time_913.0",
         "rawType": "int64",
         "type": "integer"
        },
        {
         "name": "time_914.0",
         "rawType": "int64",
         "type": "integer"
        },
        {
         "name": "time_915.0",
         "rawType": "int64",
         "type": "integer"
        },
        {
         "name": "time_916.0",
         "rawType": "int64",
         "type": "integer"
        },
        {
         "name": "time_917.0",
         "rawType": "int64",
         "type": "integer"
        },
        {
         "name": "time_918.0",
         "rawType": "int64",
         "type": "integer"
        },
        {
         "name": "time_919.0",
         "rawType": "int64",
         "type": "integer"
        },
        {
         "name": "time_920.0",
         "rawType": "int64",
         "type": "integer"
        },
        {
         "name": "time_921.0",
         "rawType": "int64",
         "type": "integer"
        },
        {
         "name": "time_922.0",
         "rawType": "int64",
         "type": "integer"
        },
        {
         "name": "time_923.0",
         "rawType": "int64",
         "type": "integer"
        },
        {
         "name": "time_924.0",
         "rawType": "int64",
         "type": "integer"
        },
        {
         "name": "time_925.0",
         "rawType": "int64",
         "type": "integer"
        },
        {
         "name": "time_926.0",
         "rawType": "int64",
         "type": "integer"
        },
        {
         "name": "time_927.0",
         "rawType": "int64",
         "type": "integer"
        },
        {
         "name": "time_928.0",
         "rawType": "int64",
         "type": "integer"
        },
        {
         "name": "time_929.0",
         "rawType": "int64",
         "type": "integer"
        },
        {
         "name": "time_930.0",
         "rawType": "int64",
         "type": "integer"
        },
        {
         "name": "time_931.0",
         "rawType": "int64",
         "type": "integer"
        },
        {
         "name": "time_932.0",
         "rawType": "int64",
         "type": "integer"
        },
        {
         "name": "time_933.0",
         "rawType": "int64",
         "type": "integer"
        },
        {
         "name": "time_934.0",
         "rawType": "int64",
         "type": "integer"
        },
        {
         "name": "time_935.0",
         "rawType": "int64",
         "type": "integer"
        },
        {
         "name": "time_936.0",
         "rawType": "int64",
         "type": "integer"
        },
        {
         "name": "time_937.0",
         "rawType": "int64",
         "type": "integer"
        },
        {
         "name": "time_938.0",
         "rawType": "int64",
         "type": "integer"
        },
        {
         "name": "time_939.0",
         "rawType": "int64",
         "type": "integer"
        },
        {
         "name": "time_940.0",
         "rawType": "int64",
         "type": "integer"
        },
        {
         "name": "time_941.0",
         "rawType": "int64",
         "type": "integer"
        },
        {
         "name": "time_942.0",
         "rawType": "int64",
         "type": "integer"
        },
        {
         "name": "time_943.0",
         "rawType": "int64",
         "type": "integer"
        },
        {
         "name": "time_944.0",
         "rawType": "int64",
         "type": "integer"
        },
        {
         "name": "time_945.0",
         "rawType": "int64",
         "type": "integer"
        },
        {
         "name": "time_946.0",
         "rawType": "int64",
         "type": "integer"
        },
        {
         "name": "time_947.0",
         "rawType": "int64",
         "type": "integer"
        },
        {
         "name": "time_948.0",
         "rawType": "int64",
         "type": "integer"
        },
        {
         "name": "time_949.0",
         "rawType": "int64",
         "type": "integer"
        },
        {
         "name": "time_950.0",
         "rawType": "int64",
         "type": "integer"
        },
        {
         "name": "time_951.0",
         "rawType": "int64",
         "type": "integer"
        },
        {
         "name": "time_952.0",
         "rawType": "int64",
         "type": "integer"
        },
        {
         "name": "time_953.0",
         "rawType": "int64",
         "type": "integer"
        },
        {
         "name": "time_954.0",
         "rawType": "int64",
         "type": "integer"
        },
        {
         "name": "time_955.0",
         "rawType": "int64",
         "type": "integer"
        },
        {
         "name": "time_956.0",
         "rawType": "int64",
         "type": "integer"
        },
        {
         "name": "time_957.0",
         "rawType": "int64",
         "type": "integer"
        },
        {
         "name": "time_958.0",
         "rawType": "int64",
         "type": "integer"
        },
        {
         "name": "time_959.0",
         "rawType": "int64",
         "type": "integer"
        },
        {
         "name": "time_960.0",
         "rawType": "int64",
         "type": "integer"
        },
        {
         "name": "time_961.0",
         "rawType": "int64",
         "type": "integer"
        },
        {
         "name": "time_962.0",
         "rawType": "int64",
         "type": "integer"
        },
        {
         "name": "time_963.0",
         "rawType": "int64",
         "type": "integer"
        },
        {
         "name": "time_964.0",
         "rawType": "int64",
         "type": "integer"
        },
        {
         "name": "time_965.0",
         "rawType": "int64",
         "type": "integer"
        },
        {
         "name": "time_966.0",
         "rawType": "int64",
         "type": "integer"
        },
        {
         "name": "time_967.0",
         "rawType": "int64",
         "type": "integer"
        },
        {
         "name": "time_968.0",
         "rawType": "int64",
         "type": "integer"
        },
        {
         "name": "time_969.0",
         "rawType": "int64",
         "type": "integer"
        },
        {
         "name": "time_970.0",
         "rawType": "int64",
         "type": "integer"
        },
        {
         "name": "time_971.0",
         "rawType": "int64",
         "type": "integer"
        },
        {
         "name": "time_972.0",
         "rawType": "int64",
         "type": "integer"
        },
        {
         "name": "time_973.0",
         "rawType": "int64",
         "type": "integer"
        },
        {
         "name": "time_974.0",
         "rawType": "int64",
         "type": "integer"
        },
        {
         "name": "time_975.0",
         "rawType": "int64",
         "type": "integer"
        },
        {
         "name": "time_976.0",
         "rawType": "int64",
         "type": "integer"
        },
        {
         "name": "time_977.0",
         "rawType": "int64",
         "type": "integer"
        },
        {
         "name": "time_978.0",
         "rawType": "int64",
         "type": "integer"
        },
        {
         "name": "time_979.0",
         "rawType": "int64",
         "type": "integer"
        },
        {
         "name": "time_980.0",
         "rawType": "int64",
         "type": "integer"
        },
        {
         "name": "time_981.0",
         "rawType": "int64",
         "type": "integer"
        },
        {
         "name": "time_982.0",
         "rawType": "int64",
         "type": "integer"
        },
        {
         "name": "time_983.0",
         "rawType": "int64",
         "type": "integer"
        },
        {
         "name": "time_984.0",
         "rawType": "int64",
         "type": "integer"
        },
        {
         "name": "time_985.0",
         "rawType": "int64",
         "type": "integer"
        },
        {
         "name": "time_986.0",
         "rawType": "int64",
         "type": "integer"
        },
        {
         "name": "time_987.0",
         "rawType": "int64",
         "type": "integer"
        },
        {
         "name": "time_988.0",
         "rawType": "int64",
         "type": "integer"
        },
        {
         "name": "time_989.0",
         "rawType": "int64",
         "type": "integer"
        },
        {
         "name": "time_990.0",
         "rawType": "int64",
         "type": "integer"
        },
        {
         "name": "time_991.0",
         "rawType": "int64",
         "type": "integer"
        },
        {
         "name": "time_992.0",
         "rawType": "int64",
         "type": "integer"
        },
        {
         "name": "time_993.0",
         "rawType": "int64",
         "type": "integer"
        },
        {
         "name": "time_994.0",
         "rawType": "int64",
         "type": "integer"
        },
        {
         "name": "time_995.0",
         "rawType": "int64",
         "type": "integer"
        },
        {
         "name": "time_996.0",
         "rawType": "int64",
         "type": "integer"
        },
        {
         "name": "time_997.0",
         "rawType": "int64",
         "type": "integer"
        },
        {
         "name": "time_998.0",
         "rawType": "int64",
         "type": "integer"
        },
        {
         "name": "time_999.0",
         "rawType": "int64",
         "type": "integer"
        }
       ],
       "ref": "712b2565-4065-49c2-a802-5e8001c8caae",
       "rows": [
        [
         "0",
         "0",
         "0",
         "6",
         "11",
         "12",
         "13",
         "10",
         "13",
         "16",
         "18",
         "17",
         "14",
         "12",
         "17",
         "9",
         "5",
         "4",
         "6",
         "9",
         "9",
         "8",
         "7",
         "14",
         "10",
         "12",
         "14",
         "9",
         "10",
         "6",
         "9",
         "14",
         "12",
         "11",
         "10",
         "11",
         "8",
         "9",
         "10",
         "12",
         "10",
         "7",
         "10",
         "12",
         "12",
         "8",
         "6",
         "6",
         "8",
         "9",
         "9",
         "11",
         "12",
         "10",
         "12",
         "11",
         "12",
         "9",
         "10",
         "12",
         "13",
         "12",
         "12",
         "12",
         "7",
         "11",
         "16",
         "12",
         "7",
         "10",
         "7",
         "6",
         "6",
         "14",
         "11",
         "9",
         "11",
         "10",
         "10",
         "12",
         "10",
         "15",
         "10",
         "9",
         "12",
         "11",
         "12",
         "8",
         "9",
         "5",
         "5",
         "7",
         "9",
         "9",
         "9",
         "9",
         "11",
         "12",
         "11",
         "10",
         "12",
         "9",
         "7",
         "5",
         "5",
         "7",
         "6",
         "7",
         "9",
         "7",
         "4",
         "9",
         "9",
         "16",
         "10",
         "13",
         "10",
         "5",
         "8",
         "9",
         "9",
         "12",
         "8",
         "6",
         "3",
         "3",
         "3",
         "1",
         "1",
         "0",
         "0",
         "0",
         "0",
         "0",
         "2",
         "1",
         "1",
         "0",
         "0",
         "0",
         "0",
         "0",
         "0",
         "0",
         "0",
         "0",
         "3",
         "7",
         "12",
         "11",
         "13",
         "11",
         "8",
         "4",
         "9",
         "7",
         "5",
         "14",
         "12",
         "9",
         "12",
         "9",
         "10",
         "13",
         "8",
         "7",
         "11",
         "12",
         "13",
         "9",
         "14",
         "14",
         "12",
         "11",
         "13",
         "12",
         "11",
         "14",
         "12",
         "11",
         "15",
         "11",
         "11",
         "13",
         "11",
         "13",
         "12",
         "10",
         "10",
         "11",
         "10",
         "9",
         "8",
         "8",
         "8",
         "10",
         "8",
         "11",
         "13",
         "12",
         "13",
         "10",
         "9",
         "6",
         "4",
         "7",
         "6",
         "7",
         "5",
         "8",
         "5",
         "3",
         "1",
         "1",
         "1",
         "0",
         "0",
         "0",
         "0",
         "0",
         "0",
         "0",
         "3",
         "6",
         "8",
         "9",
         "7",
         "6",
         "10",
         "12",
         "8",
         "8",
         "12",
         "10",
         "6",
         "9",
         "8",
         "9",
         "12",
         "6",
         "8",
         "12",
         "12",
         "13",
         "9",
         "8",
         "7",
         "6",
         "8",
         "15",
         "12",
         "14",
         "9",
         "12",
         "11",
         "15",
         "13",
         "10",
         "13",
         "9",
         "10",
         "10",
         "7",
         "12",
         "15",
         "15",
         "12",
         "13",
         "17",
         "15",
         "15",
         "14",
         "11",
         "9",
         "16",
         "11",
         "9",
         "6",
         "3",
         "3",
         "1",
         "0",
         "0",
         "0",
         "0",
         "0",
         "0",
         "0",
         "0",
         "0",
         "4",
         "6",
         "5",
         "7",
         "8",
         "5",
         "14",
         "11",
         "7",
         "10",
         "7",
         "10",
         "12",
         "11",
         "15",
         "16",
         "9",
         "8",
         "5",
         "8",
         "10",
         "13",
         "8",
         "8",
         "9",
         "7",
         "10",
         "11",
         "8",
         "7",
         "7",
         "6",
         "8",
         "9",
         "7",
         "6",
         "12",
         "11",
         "8",
         "10",
         "9",
         "7",
         "7",
         "7",
         "5",
         "9",
         "6",
         "8",
         "8",
         "9",
         "11",
         "16",
         "13",
         "10",
         "10",
         "8",
         "9",
         "8",
         "14",
         "12",
         "9",
         "7",
         "4",
         "6",
         "4",
         "4",
         "6",
         "5",
         "6",
         "7",
         "10",
         "16",
         "12",
         "10",
         "8",
         "12",
         "15",
         "12",
         "15",
         "13",
         "15",
         "10",
         "10",
         "11",
         "17",
         "11",
         "13",
         "15",
         "13",
         "9",
         "7",
         "7",
         "12",
         "11",
         "13",
         "17",
         "12",
         "10",
         "12",
         "9",
         "9",
         "7",
         "12",
         "12",
         "13",
         "9",
         "11",
         "10",
         "6",
         "9",
         "9",
         "6",
         "4",
         "7",
         "10",
         "15",
         "9",
         "7",
         "11",
         "6",
         "7",
         "12",
         "10",
         "8",
         "6",
         "6",
         "5",
         "2",
         "2",
         "1",
         "1",
         "1",
         "0",
         "0",
         "0",
         "0",
         "4",
         "11",
         "11",
         "13",
         "12",
         "14",
         "15",
         "15",
         "12",
         "10",
         "10",
         "10",
         "8",
         "14",
         "12",
         "11",
         "8",
         "7",
         "8",
         "6",
         "3",
         "10",
         "6",
         "8",
         "9",
         "6",
         "5",
         "8",
         "8",
         "9",
         "8",
         "10",
         "10",
         "8",
         "11",
         "5",
         "7",
         "6",
         "8",
         "8",
         "9",
         "11",
         "15",
         "13",
         "17",
         "11",
         "8",
         "8",
         "8",
         "9",
         "6",
         "4",
         "7",
         "6",
         "7",
         "9",
         "11",
         "8",
         "8",
         "8",
         "9",
         "7",
         "9",
         "11",
         "10",
         "8",
         "11",
         "12",
         "9",
         "10",
         "10",
         "13",
         "11",
         "13",
         "10",
         "13",
         "12",
         "7",
         "4",
         "7",
         "6",
         "14",
         "15",
         "11",
         "9",
         "9",
         "10",
         "9",
         "10",
         "11",
         "12",
         "9",
         "9",
         "12",
         "12",
         "12",
         "10",
         "7",
         "10",
         "6",
         "3",
         "3",
         "2",
         "2",
         "2",
         "2",
         "0",
         "0",
         "4",
         "6",
         "6",
         "2",
         "7",
         "9",
         "10",
         "16",
         "18",
         "13",
         "11",
         "14",
         "12",
         "15",
         "7",
         "7",
         "5",
         "8",
         "13",
         "11",
         "14",
         "14",
         "13",
         "15",
         "12",
         "5",
         "2",
         "1",
         "1",
         "0",
         "0",
         "1",
         "7",
         "6",
         "5",
         "6",
         "12",
         "9",
         "9",
         "7",
         "9",
         "13",
         "11",
         "5",
         "6",
         "6",
         "9",
         "14",
         "11",
         "11",
         "12",
         "9",
         "6",
         "5",
         "11",
         "10",
         "7",
         "3",
         "1",
         "0",
         "0",
         "4",
         "10",
         "13",
         "8",
         "3",
         "5",
         "9",
         "10",
         "4",
         "3",
         "2",
         "0",
         "0",
         "0",
         "0",
         "0",
         "0",
         "0",
         "0",
         "0",
         "0",
         "0",
         "0",
         "0",
         "0",
         "0",
         "0",
         "0",
         "0",
         "1",
         "6",
         "8",
         "10",
         "10",
         "11",
         "12",
         "10",
         "11",
         "12",
         "9",
         "10",
         "10",
         "12",
         "9",
         "5",
         "4",
         "5",
         "4",
         "3",
         "1",
         "0",
         "0",
         "0",
         "0",
         "0",
         "0",
         "0",
         "0",
         "0",
         "0",
         "0",
         "0",
         "1",
         "2",
         "6",
         "8",
         "11",
         "5",
         "4",
         "5",
         "4",
         "3",
         "7",
         "6",
         "7",
         "9",
         "7",
         "10",
         "9",
         "9",
         "12",
         "12",
         "10",
         "9",
         "10",
         "15",
         "14",
         "16",
         "14",
         "17",
         "12",
         "8",
         "11",
         "9",
         "5",
         "1",
         "0",
         "0",
         "0",
         "0",
         "0",
         "0",
         "0",
         "0",
         "0",
         "2",
         "4",
         "6",
         "9",
         "11",
         "9",
         "11",
         "11",
         "13",
         "12",
         "6",
         "4",
         "8",
         "12",
         "15",
         "19",
         "10",
         "10",
         "10",
         "7",
         "8",
         "9",
         "10",
         "11",
         "8",
         "6",
         "4",
         "5",
         "6",
         "8",
         "6",
         "7",
         "4",
         "3",
         "9",
         "10",
         "8",
         "7",
         "9",
         "7",
         "6",
         "11",
         "13",
         "12",
         "9",
         "8",
         "8",
         "6",
         "9",
         "9",
         "6",
         "10",
         "16",
         "13",
         "13",
         "11",
         "8",
         "8",
         "7",
         "5",
         "6",
         "5",
         "4",
         "12",
         "12",
         "13",
         "9",
         "7",
         "7",
         "14",
         "13",
         "12",
         "11",
         "7",
         "8",
         "8",
         "13",
         "11",
         "11",
         "13",
         "10",
         "12",
         "10",
         "11",
         "12",
         "8",
         "11",
         "11",
         "9",
         "7",
         "6",
         "4",
         "1",
         "1",
         "1",
         "1",
         "0",
         "0",
         "0",
         "0",
         "0",
         "0",
         "0",
         "0",
         "0",
         "0",
         "0",
         "0",
         "4",
         "9",
         "7",
         "9",
         "5",
         "6",
         "5",
         "7",
         "11",
         "13",
         "11",
         "12",
         "10",
         "9",
         "13",
         "13",
         "12",
         "8",
         "7",
         "8",
         "8",
         "9",
         "11",
         "11",
         "10",
         "11",
         "9",
         "5",
         "9",
         "9",
         "7",
         "7",
         "10",
         "8",
         "10",
         "11",
         "9",
         "8",
         "6",
         "1",
         "3",
         "5",
         "7",
         "9",
         "10",
         "11",
         "12",
         "15",
         "15",
         "14",
         "13",
         "13",
         "7",
         "7",
         "12",
         "11",
         "14",
         "13",
         "13",
         "11",
         "10",
         "8",
         "9",
         "12",
         "7",
         "6",
         "8",
         "5",
         "6",
         "9",
         "11",
         "15",
         "13",
         "10",
         "8",
         "8",
         "6",
         "3",
         "6",
         "8",
         "6",
         "7",
         "8",
         "15",
         "13",
         "11",
         "15",
         "10",
         "12",
         "14",
         "10",
         "15",
         "13",
         "15",
         "14",
         "9",
         "7",
         "8",
         "7",
         "10",
         "5",
         "2",
         "5",
         "7",
         "10",
         "5",
         "9",
         "5",
         "3",
         "3",
         "7",
         "5",
         "9",
         "5",
         "5",
         "2",
         "2",
         "1",
         "0",
         "0",
         "0",
         "0",
         "0",
         "0",
         "0",
         "0",
         "0",
         "0",
         "0",
         "0",
         "0",
         "0",
         "0",
         "0",
         "0",
         "0",
         "0",
         "1",
         "4",
         "8",
         "7",
         "7",
         "5",
         "6",
         "7",
         "7",
         "8",
         "11",
         "11",
         "12",
         "6",
         "7",
         "6",
         "11",
         "12",
         "8",
         "4",
         "4",
         "7",
         "6",
         "6",
         "11",
         "10",
         "13",
         "7",
         "5",
         "4",
         "6",
         "10",
         "10",
         "8",
         "9",
         "12",
         "12",
         "10",
         "16",
         "13",
         "14",
         "16",
         "13",
         "15",
         "13",
         "14",
         "11",
         "5",
         "3",
         "3",
         "2",
         "2",
         "0",
         "0",
         "0",
         "0",
         "0"
        ],
        [
         "1",
         "0",
         "0",
         "2",
         "1",
         "1",
         "1",
         "0",
         "0",
         "0",
         "0",
         "0",
         "0",
         "0",
         "0",
         "0",
         "0",
         "0",
         "0",
         "0",
         "0",
         "0",
         "0",
         "0",
         "0",
         "0",
         "0",
         "3",
         "8",
         "8",
         "10",
         "11",
         "12",
         "14",
         "9",
         "16",
         "14",
         "6",
         "10",
         "10",
         "7",
         "10",
         "12",
         "12",
         "11",
         "9",
         "9",
         "6",
         "3",
         "2",
         "5",
         "8",
         "7",
         "7",
         "10",
         "4",
         "4",
         "9",
         "11",
         "7",
         "5",
         "4",
         "9",
         "11",
         "12",
         "8",
         "6",
         "7",
         "7",
         "6",
         "7",
         "10",
         "10",
         "10",
         "12",
         "13",
         "9",
         "14",
         "13",
         "15",
         "16",
         "11",
         "9",
         "7",
         "5",
         "6",
         "7",
         "9",
         "10",
         "9",
         "5",
         "5",
         "4",
         "3",
         "1",
         "1",
         "7",
         "8",
         "8",
         "7",
         "6",
         "4",
         "8",
         "9",
         "11",
         "12",
         "12",
         "11",
         "11",
         "12",
         "17",
         "16",
         "12",
         "16",
         "19",
         "16",
         "11",
         "10",
         "9",
         "9",
         "9",
         "7",
         "5",
         "8",
         "9",
         "19",
         "14",
         "8",
         "8",
         "9",
         "11",
         "15",
         "12",
         "12",
         "10",
         "9",
         "14",
         "12",
         "10",
         "8",
         "6",
         "8",
         "13",
         "13",
         "13",
         "12",
         "10",
         "11",
         "14",
         "11",
         "8",
         "8",
         "5",
         "3",
         "3",
         "1",
         "0",
         "0",
         "0",
         "0",
         "0",
         "0",
         "0",
         "0",
         "0",
         "0",
         "0",
         "0",
         "3",
         "4",
         "7",
         "7",
         "9",
         "10",
         "7",
         "11",
         "8",
         "14",
         "12",
         "10",
         "8",
         "7",
         "7",
         "6",
         "9",
         "13",
         "10",
         "9",
         "9",
         "9",
         "6",
         "4",
         "4",
         "6",
         "9",
         "13",
         "10",
         "6",
         "5",
         "3",
         "1",
         "1",
         "1",
         "0",
         "0",
         "0",
         "0",
         "7",
         "5",
         "4",
         "2",
         "1",
         "1",
         "1",
         "0",
         "0",
         "0",
         "0",
         "0",
         "3",
         "6",
         "7",
         "6",
         "7",
         "8",
         "9",
         "5",
         "3",
         "11",
         "10",
         "12",
         "10",
         "9",
         "9",
         "8",
         "11",
         "14",
         "15",
         "16",
         "10",
         "9",
         "9",
         "11",
         "12",
         "7",
         "10",
         "9",
         "11",
         "10",
         "9",
         "10",
         "10",
         "15",
         "17",
         "7",
         "8",
         "10",
         "8",
         "11",
         "10",
         "12",
         "15",
         "14",
         "17",
         "14",
         "11",
         "13",
         "15",
         "12",
         "8",
         "8",
         "13",
         "7",
         "10",
         "7",
         "6",
         "10",
         "9",
         "7",
         "8",
         "10",
         "6",
         "7",
         "9",
         "7",
         "9",
         "13",
         "11",
         "12",
         "7",
         "4",
         "1",
         "1",
         "1",
         "0",
         "0",
         "0",
         "0",
         "0",
         "0",
         "0",
         "0",
         "0",
         "0",
         "0",
         "0",
         "0",
         "0",
         "0",
         "0",
         "0",
         "0",
         "0",
         "0",
         "0",
         "0",
         "0",
         "0",
         "0",
         "0",
         "1",
         "6",
         "3",
         "5",
         "8",
         "12",
         "12",
         "10",
         "11",
         "13",
         "8",
         "9",
         "11",
         "10",
         "9",
         "10",
         "9",
         "8",
         "6",
         "5",
         "6",
         "7",
         "7",
         "6",
         "10",
         "11",
         "13",
         "9",
         "14",
         "7",
         "8",
         "9",
         "10",
         "7",
         "8",
         "8",
         "11",
         "7",
         "5",
         "2",
         "9",
         "11",
         "11",
         "12",
         "13",
         "15",
         "17",
         "16",
         "11",
         "10",
         "9",
         "9",
         "6",
         "7",
         "7",
         "11",
         "11",
         "11",
         "13",
         "11",
         "13",
         "11",
         "8",
         "11",
         "8",
         "10",
         "9",
         "7",
         "7",
         "13",
         "15",
         "13",
         "12",
         "11",
         "10",
         "12",
         "7",
         "9",
         "7",
         "8",
         "9",
         "7",
         "7",
         "6",
         "7",
         "16",
         "11",
         "10",
         "10",
         "12",
         "11",
         "10",
         "7",
         "7",
         "9",
         "13",
         "20",
         "17",
         "10",
         "11",
         "7",
         "4",
         "9",
         "11",
         "8",
         "10",
         "6",
         "3",
         "1",
         "1",
         "0",
         "0",
         "0",
         "0",
         "0",
         "0",
         "0",
         "0",
         "0",
         "0",
         "0",
         "0",
         "3",
         "8",
         "13",
         "15",
         "8",
         "8",
         "7",
         "7",
         "10",
         "13",
         "14",
         "13",
         "12",
         "12",
         "9",
         "10",
         "13",
         "13",
         "11",
         "7",
         "6",
         "5",
         "3",
         "2",
         "1",
         "0",
         "0",
         "0",
         "0",
         "0",
         "0",
         "0",
         "0",
         "0",
         "0",
         "0",
         "0",
         "0",
         "0",
         "5",
         "6",
         "8",
         "11",
         "12",
         "11",
         "11",
         "10",
         "10",
         "11",
         "12",
         "14",
         "14",
         "12",
         "10",
         "13",
         "12",
         "9",
         "10",
         "12",
         "12",
         "9",
         "11",
         "13",
         "12",
         "12",
         "9",
         "12",
         "14",
         "12",
         "11",
         "11",
         "15",
         "14",
         "12",
         "16",
         "19",
         "18",
         "17",
         "15",
         "16",
         "16",
         "13",
         "9",
         "9",
         "8",
         "7",
         "4",
         "3",
         "3",
         "2",
         "1",
         "1",
         "0",
         "0",
         "0",
         "0",
         "0",
         "0",
         "0",
         "0",
         "0",
         "0",
         "0",
         "0",
         "0",
         "0",
         "0",
         "0",
         "0",
         "0",
         "0",
         "0",
         "0",
         "0",
         "0",
         "0",
         "0",
         "0",
         "0",
         "0",
         "0",
         "0",
         "0",
         "0",
         "0",
         "0",
         "6",
         "7",
         "8",
         "9",
         "9",
         "9",
         "11",
         "12",
         "12",
         "17",
         "14",
         "14",
         "11",
         "11",
         "10",
         "6",
         "8",
         "13",
         "12",
         "17",
         "13",
         "9",
         "8",
         "8",
         "10",
         "6",
         "7",
         "9",
         "11",
         "10",
         "12",
         "12",
         "12",
         "9",
         "9",
         "13",
         "6",
         "8",
         "9",
         "7",
         "7",
         "8",
         "6",
         "7",
         "5",
         "8",
         "12",
         "12",
         "11",
         "11",
         "12",
         "14",
         "12",
         "10",
         "9",
         "10",
         "7",
         "9",
         "8",
         "5",
         "6",
         "14",
         "13",
         "13",
         "11",
         "12",
         "10",
         "9",
         "14",
         "12",
         "11",
         "14",
         "13",
         "11",
         "11",
         "8",
         "8",
         "10",
         "13",
         "12",
         "12",
         "10",
         "10",
         "12",
         "9",
         "9",
         "11",
         "14",
         "19",
         "21",
         "16",
         "16",
         "11",
         "10",
         "8",
         "9",
         "7",
         "8",
         "7",
         "11",
         "13",
         "13",
         "10",
         "14",
         "12",
         "10",
         "15",
         "14",
         "11",
         "12",
         "10",
         "13",
         "10",
         "8",
         "9",
         "3",
         "4",
         "4",
         "5",
         "12",
         "7",
         "6",
         "4",
         "7",
         "11",
         "10",
         "9",
         "7",
         "8",
         "6",
         "6",
         "12",
         "9",
         "7",
         "12",
         "8",
         "9",
         "9",
         "10",
         "12",
         "14",
         "10",
         "16",
         "17",
         "15",
         "12",
         "11",
         "11",
         "12",
         "9",
         "8",
         "9",
         "12",
         "11",
         "15",
         "9",
         "5",
         "5",
         "4",
         "4",
         "8",
         "11",
         "11",
         "12",
         "10",
         "6",
         "6",
         "6",
         "9",
         "11",
         "11",
         "10",
         "9",
         "10",
         "12",
         "8",
         "8",
         "9",
         "17",
         "15",
         "10",
         "10",
         "5",
         "5",
         "3",
         "6",
         "10",
         "12",
         "8",
         "11",
         "13",
         "10",
         "10",
         "8",
         "11",
         "12",
         "11",
         "11",
         "10",
         "9",
         "10",
         "11",
         "9",
         "10",
         "8",
         "4",
         "7",
         "7",
         "7",
         "11",
         "10",
         "10",
         "8",
         "9",
         "9",
         "8",
         "12",
         "10",
         "11",
         "10",
         "11",
         "14",
         "15",
         "9",
         "17",
         "8",
         "10",
         "7",
         "11",
         "12",
         "10",
         "8",
         "10",
         "12",
         "7",
         "8",
         "8",
         "6",
         "8",
         "11",
         "6",
         "8",
         "8",
         "9",
         "9",
         "9",
         "9",
         "8",
         "9",
         "10",
         "8",
         "12",
         "11",
         "8",
         "8",
         "11",
         "10",
         "12",
         "9",
         "8",
         "9",
         "8",
         "7",
         "13",
         "10",
         "10",
         "8",
         "6",
         "11",
         "9",
         "11",
         "12",
         "12",
         "11",
         "9",
         "13",
         "11",
         "11",
         "10",
         "10",
         "12",
         "14",
         "17",
         "17",
         "13",
         "16",
         "12",
         "8",
         "11",
         "10",
         "13",
         "11",
         "10",
         "8",
         "3",
         "7",
         "6",
         "2",
         "2",
         "1",
         "1",
         "1",
         "1",
         "3",
         "3",
         "12",
         "13",
         "10",
         "12",
         "12",
         "12",
         "9",
         "9",
         "8",
         "11",
         "11",
         "12",
         "12",
         "10",
         "10",
         "7",
         "8",
         "5",
         "9",
         "4",
         "6",
         "7",
         "5",
         "7",
         "6",
         "8",
         "11",
         "7",
         "7",
         "11",
         "7",
         "12",
         "11",
         "9",
         "8",
         "11",
         "14",
         "13",
         "11",
         "10",
         "12",
         "13",
         "11",
         "8",
         "6",
         "8",
         "10",
         "9",
         "11",
         "11",
         "8",
         "9",
         "3",
         "6",
         "10",
         "9",
         "6",
         "8",
         "8",
         "9",
         "14",
         "15",
         "8",
         "11",
         "7",
         "8",
         "13",
         "15",
         "11",
         "13",
         "18",
         "20",
         "14",
         "10",
         "9",
         "9",
         "12",
         "12",
         "9",
         "11",
         "8",
         "7",
         "10",
         "11",
         "17",
         "15",
         "11",
         "9",
         "11",
         "11",
         "12",
         "13",
         "11",
         "10",
         "7",
         "8",
         "10",
         "12",
         "10",
         "6",
         "10",
         "12",
         "11",
         "14",
         "15",
         "16",
         "16",
         "12",
         "9",
         "10",
         "9",
         "7",
         "6",
         "11",
         "10",
         "11",
         "9",
         "9",
         "8",
         "10",
         "10",
         "7",
         "8",
         "7",
         "11",
         "8",
         "9",
         "9",
         "11"
        ],
        [
         "2",
         "0",
         "0",
         "5",
         "8",
         "6",
         "10",
         "9",
         "10",
         "8",
         "5",
         "13",
         "15",
         "14",
         "22",
         "15",
         "11",
         "9",
         "10",
         "5",
         "10",
         "12",
         "11",
         "18",
         "16",
         "12",
         "14",
         "13",
         "15",
         "13",
         "11",
         "9",
         "9",
         "8",
         "10",
         "7",
         "10",
         "11",
         "14",
         "12",
         "9",
         "12",
         "15",
         "13",
         "13",
         "9",
         "9",
         "8",
         "8",
         "12",
         "10",
         "8",
         "10",
         "11",
         "7",
         "8",
         "7",
         "4",
         "4",
         "8",
         "9",
         "7",
         "4",
         "8",
         "9",
         "9",
         "6",
         "11",
         "8",
         "9",
         "11",
         "7",
         "6",
         "7",
         "10",
         "10",
         "9",
         "6",
         "13",
         "11",
         "17",
         "15",
         "9",
         "11",
         "11",
         "12",
         "9",
         "9",
         "8",
         "5",
         "5",
         "7",
         "7",
         "7",
         "10",
         "9",
         "11",
         "13",
         "10",
         "12",
         "7",
         "8",
         "9",
         "7",
         "10",
         "14",
         "14",
         "15",
         "14",
         "13",
         "10",
         "10",
         "10",
         "8",
         "12",
         "13",
         "9",
         "4",
         "4",
         "2",
         "2",
         "2",
         "1",
         "1",
         "1",
         "1",
         "1",
         "0",
         "1",
         "5",
         "11",
         "9",
         "9",
         "9",
         "9",
         "10",
         "11",
         "7",
         "6",
         "11",
         "12",
         "10",
         "10",
         "12",
         "10",
         "12",
         "12",
         "11",
         "10",
         "11",
         "11",
         "13",
         "12",
         "12",
         "9",
         "9",
         "10",
         "12",
         "9",
         "7",
         "7",
         "8",
         "9",
         "8",
         "10",
         "11",
         "10",
         "13",
         "15",
         "12",
         "9",
         "4",
         "7",
         "8",
         "10",
         "6",
         "6",
         "9",
         "8",
         "8",
         "8",
         "10",
         "12",
         "10",
         "7",
         "9",
         "11",
         "13",
         "10",
         "9",
         "14",
         "16",
         "12",
         "11",
         "15",
         "15",
         "14",
         "15",
         "13",
         "13",
         "11",
         "9",
         "10",
         "8",
         "6",
         "8",
         "7",
         "11",
         "12",
         "10",
         "7",
         "5",
         "3",
         "3",
         "2",
         "5",
         "3",
         "9",
         "9",
         "9",
         "11",
         "7",
         "9",
         "4",
         "5",
         "6",
         "8",
         "12",
         "6",
         "9",
         "3",
         "2",
         "1",
         "1",
         "6",
         "9",
         "6",
         "4",
         "8",
         "7",
         "9",
         "8",
         "7",
         "7",
         "8",
         "9",
         "12",
         "8",
         "11",
         "15",
         "13",
         "13",
         "9",
         "11",
         "9",
         "6",
         "4",
         "1",
         "1",
         "1",
         "0",
         "0",
         "0",
         "0",
         "0",
         "0",
         "0",
         "0",
         "0",
         "3",
         "5",
         "7",
         "8",
         "11",
         "13",
         "15",
         "16",
         "14",
         "15",
         "15",
         "10",
         "12",
         "10",
         "9",
         "9",
         "7",
         "7",
         "10",
         "11",
         "10",
         "10",
         "10",
         "8",
         "11",
         "9",
         "12",
         "10",
         "10",
         "12",
         "12",
         "6",
         "5",
         "6",
         "8",
         "8",
         "11",
         "11",
         "8",
         "6",
         "6",
         "10",
         "12",
         "11",
         "9",
         "8",
         "13",
         "8",
         "6",
         "3",
         "9",
         "11",
         "12",
         "8",
         "11",
         "16",
         "8",
         "14",
         "8",
         "5",
         "6",
         "6",
         "11",
         "8",
         "11",
         "8",
         "10",
         "15",
         "9",
         "3",
         "2",
         "1",
         "0",
         "0",
         "0",
         "0",
         "0",
         "0",
         "0",
         "0",
         "0",
         "0",
         "0",
         "0",
         "0",
         "0",
         "0",
         "0",
         "0",
         "3",
         "5",
         "7",
         "7",
         "10",
         "5",
         "2",
         "1",
         "1",
         "1",
         "1",
         "1",
         "1",
         "1",
         "1",
         "1",
         "0",
         "0",
         "0",
         "0",
         "0",
         "2",
         "5",
         "9",
         "7",
         "12",
         "9",
         "7",
         "3",
         "3",
         "3",
         "5",
         "10",
         "8",
         "10",
         "9",
         "6",
         "7",
         "11",
         "10",
         "11",
         "9",
         "7",
         "6",
         "9",
         "9",
         "8",
         "11",
         "12",
         "13",
         "12",
         "10",
         "6",
         "11",
         "9",
         "10",
         "8",
         "8",
         "8",
         "6",
         "7",
         "6",
         "9",
         "13",
         "16",
         "15",
         "14",
         "11",
         "12",
         "12",
         "12",
         "10",
         "10",
         "11",
         "9",
         "9",
         "11",
         "12",
         "11",
         "14",
         "15",
         "12",
         "9",
         "5",
         "5",
         "4",
         "2",
         "1",
         "0",
         "3",
         "3",
         "6",
         "7",
         "10",
         "10",
         "12",
         "10",
         "9",
         "10",
         "8",
         "14",
         "12",
         "13",
         "14",
         "12",
         "12",
         "8",
         "5",
         "5",
         "8",
         "9",
         "8",
         "6",
         "6",
         "3",
         "6",
         "8",
         "8",
         "6",
         "9",
         "12",
         "9",
         "6",
         "9",
         "12",
         "12",
         "10",
         "7",
         "9",
         "8",
         "7",
         "13",
         "8",
         "9",
         "13",
         "16",
         "15",
         "7",
         "6",
         "11",
         "9",
         "9",
         "10",
         "14",
         "12",
         "13",
         "10",
         "10",
         "7",
         "11",
         "10",
         "9",
         "8",
         "9",
         "7",
         "8",
         "7",
         "8",
         "10",
         "6",
         "1",
         "4",
         "8",
         "6",
         "4",
         "6",
         "6",
         "10",
         "9",
         "13",
         "16",
         "19",
         "16",
         "12",
         "14",
         "13",
         "11",
         "9",
         "11",
         "11",
         "12",
         "9",
         "11",
         "10",
         "7",
         "13",
         "9",
         "10",
         "9",
         "17",
         "15",
         "15",
         "9",
         "5",
         "8",
         "8",
         "14",
         "11",
         "11",
         "12",
         "10",
         "12",
         "13",
         "8",
         "8",
         "11",
         "8",
         "5",
         "2",
         "0",
         "0",
         "0",
         "0",
         "0",
         "0",
         "0",
         "7",
         "6",
         "5",
         "7",
         "4",
         "5",
         "7",
         "8",
         "7",
         "5",
         "4",
         "8",
         "8",
         "9",
         "8",
         "9",
         "8",
         "9",
         "8",
         "8",
         "12",
         "11",
         "9",
         "13",
         "14",
         "10",
         "11",
         "12",
         "12",
         "10",
         "12",
         "11",
         "7",
         "7",
         "9",
         "9",
         "8",
         "9",
         "9",
         "6",
         "7",
         "9",
         "10",
         "8",
         "7",
         "6",
         "4",
         "7",
         "9",
         "6",
         "10",
         "10",
         "8",
         "3",
         "4",
         "5",
         "6",
         "4",
         "9",
         "7",
         "9",
         "8",
         "7",
         "7",
         "10",
         "14",
         "6",
         "4",
         "9",
         "12",
         "9",
         "9",
         "9",
         "10",
         "8",
         "8",
         "5",
         "5",
         "7",
         "4",
         "3",
         "5",
         "11",
         "7",
         "9",
         "9",
         "10",
         "7",
         "7",
         "11",
         "11",
         "12",
         "12",
         "15",
         "15",
         "11",
         "9",
         "9",
         "12",
         "12",
         "16",
         "17",
         "13",
         "15",
         "13",
         "12",
         "9",
         "10",
         "9",
         "11",
         "11",
         "10",
         "9",
         "4",
         "8",
         "9",
         "12",
         "12",
         "13",
         "10",
         "7",
         "8",
         "6",
         "8",
         "6",
         "8",
         "8",
         "8",
         "7",
         "8",
         "11",
         "3",
         "6",
         "6",
         "10",
         "12",
         "10",
         "13",
         "10",
         "13",
         "10",
         "6",
         "3",
         "1",
         "1",
         "1",
         "1",
         "1",
         "1",
         "0",
         "1",
         "4",
         "7",
         "7",
         "4",
         "11",
         "11",
         "12",
         "8",
         "7",
         "9",
         "6",
         "7",
         "10",
         "12",
         "13",
         "14",
         "14",
         "8",
         "6",
         "8",
         "7",
         "6",
         "5",
         "3",
         "2",
         "2",
         "1",
         "0",
         "0",
         "0",
         "0",
         "0",
         "0",
         "0",
         "2",
         "5",
         "6",
         "9",
         "7",
         "7",
         "10",
         "12",
         "12",
         "11",
         "11",
         "8",
         "11",
         "16",
         "10",
         "12",
         "13",
         "12",
         "12",
         "12",
         "12",
         "11",
         "9",
         "8",
         "9",
         "9",
         "8",
         "10",
         "9",
         "7",
         "8",
         "7",
         "5",
         "3",
         "1",
         "1",
         "1",
         "1",
         "0",
         "0",
         "0",
         "6",
         "6",
         "8",
         "6",
         "7",
         "11",
         "11",
         "14",
         "15",
         "16",
         "17",
         "13",
         "12",
         "7",
         "5",
         "6",
         "7",
         "9",
         "8",
         "9",
         "10",
         "8",
         "9",
         "9",
         "7",
         "8",
         "10",
         "9",
         "10",
         "11",
         "10",
         "8",
         "6",
         "11",
         "14",
         "13",
         "12",
         "9",
         "12",
         "12",
         "8",
         "11",
         "8",
         "11",
         "12",
         "8",
         "5",
         "7",
         "7",
         "5",
         "5",
         "7",
         "10",
         "13",
         "14",
         "13",
         "10",
         "8",
         "7",
         "9",
         "11",
         "8",
         "11",
         "12",
         "9",
         "7",
         "9",
         "13",
         "14",
         "11",
         "8",
         "7",
         "5",
         "10",
         "11",
         "11",
         "14",
         "9",
         "9",
         "7",
         "7",
         "10",
         "12",
         "15",
         "13",
         "15",
         "18",
         "12",
         "8",
         "7",
         "4",
         "3",
         "2",
         "1",
         "0",
         "0",
         "0",
         "0",
         "0",
         "0",
         "0",
         "0",
         "0",
         "0",
         "0",
         "0",
         "0",
         "4",
         "3",
         "3",
         "3",
         "3",
         "4",
         "7",
         "9",
         "8",
         "7",
         "1",
         "1",
         "6",
         "9",
         "11",
         "14",
         "12",
         "10",
         "11",
         "13",
         "9",
         "8",
         "9",
         "12",
         "10",
         "10",
         "13",
         "10",
         "9",
         "11",
         "14",
         "7",
         "9",
         "9",
         "11",
         "12",
         "10",
         "7",
         "6",
         "8",
         "7",
         "4",
         "9",
         "6",
         "7",
         "7",
         "8",
         "10",
         "8",
         "13",
         "11",
         "12",
         "9",
         "8",
         "9",
         "11",
         "10",
         "11",
         "12",
         "10",
         "8",
         "9",
         "9",
         "12",
         "11",
         "10",
         "13",
         "11",
         "9",
         "9",
         "5",
         "5",
         "11",
         "12",
         "11",
         "7",
         "5",
         "6",
         "7",
         "10",
         "14",
         "17",
         "15",
         "9",
         "5",
         "4",
         "1",
         "0",
         "0",
         "0",
         "0",
         "0",
         "0",
         "0",
         "0"
        ],
        [
         "3",
         "0",
         "0",
         "5",
         "12",
         "9",
         "9",
         "10",
         "11",
         "11",
         "12",
         "11",
         "11",
         "13",
         "8",
         "13",
         "14",
         "13",
         "12",
         "17",
         "12",
         "15",
         "10",
         "7",
         "10",
         "15",
         "10",
         "11",
         "10",
         "9",
         "10",
         "11",
         "11",
         "9",
         "9",
         "10",
         "14",
         "16",
         "14",
         "16",
         "11",
         "13",
         "10",
         "9",
         "12",
         "13",
         "14",
         "10",
         "11",
         "15",
         "15",
         "15",
         "10",
         "14",
         "11",
         "14",
         "17",
         "10",
         "12",
         "5",
         "4",
         "8",
         "4",
         "3",
         "1",
         "0",
         "0",
         "0",
         "0",
         "0",
         "0",
         "0",
         "2",
         "5",
         "5",
         "8",
         "5",
         "7",
         "8",
         "6",
         "13",
         "15",
         "12",
         "11",
         "14",
         "11",
         "11",
         "7",
         "7",
         "7",
         "4",
         "6",
         "8",
         "6",
         "8",
         "5",
         "8",
         "10",
         "11",
         "10",
         "9",
         "9",
         "6",
         "8",
         "9",
         "8",
         "11",
         "8",
         "5",
         "9",
         "12",
         "11",
         "10",
         "10",
         "10",
         "8",
         "6",
         "11",
         "11",
         "11",
         "13",
         "8",
         "9",
         "6",
         "7",
         "10",
         "10",
         "14",
         "10",
         "7",
         "7",
         "9",
         "7",
         "6",
         "8",
         "8",
         "10",
         "14",
         "14",
         "11",
         "8",
         "6",
         "9",
         "7",
         "12",
         "12",
         "11",
         "9",
         "12",
         "10",
         "12",
         "13",
         "13",
         "16",
         "15",
         "18",
         "19",
         "11",
         "8",
         "12",
         "8",
         "9",
         "10",
         "12",
         "8",
         "11",
         "10",
         "12",
         "8",
         "4",
         "1",
         "1",
         "0",
         "0",
         "0",
         "0",
         "0",
         "0",
         "0",
         "0",
         "0",
         "3",
         "6",
         "4",
         "4",
         "6",
         "9",
         "10",
         "15",
         "10",
         "12",
         "8",
         "11",
         "7",
         "8",
         "8",
         "8",
         "5",
         "9",
         "8",
         "10",
         "11",
         "8",
         "7",
         "6",
         "6",
         "5",
         "11",
         "7",
         "8",
         "15",
         "12",
         "11",
         "13",
         "13",
         "9",
         "8",
         "7",
         "6",
         "7",
         "8",
         "7",
         "10",
         "8",
         "13",
         "12",
         "10",
         "8",
         "9",
         "10",
         "8",
         "9",
         "10",
         "10",
         "10",
         "4",
         "2",
         "4",
         "4",
         "4",
         "6",
         "3",
         "4",
         "10",
         "6",
         "6",
         "9",
         "9",
         "8",
         "8",
         "6",
         "5",
         "5",
         "7",
         "16",
         "13",
         "8",
         "8",
         "3",
         "2",
         "1",
         "1",
         "0",
         "0",
         "0",
         "0",
         "0",
         "0",
         "0",
         "0",
         "0",
         "0",
         "0",
         "0",
         "3",
         "5",
         "7",
         "6",
         "5",
         "1",
         "3",
         "7",
         "8",
         "7",
         "7",
         "14",
         "15",
         "18",
         "18",
         "17",
         "9",
         "11",
         "12",
         "11",
         "9",
         "6",
         "4",
         "2",
         "2",
         "0",
         "0",
         "0",
         "0",
         "0",
         "0",
         "0",
         "0",
         "3",
         "4",
         "4",
         "7",
         "10",
         "15",
         "15",
         "10",
         "7",
         "7",
         "6",
         "9",
         "11",
         "8",
         "13",
         "12",
         "8",
         "7",
         "14",
         "16",
         "12",
         "11",
         "12",
         "7",
         "9",
         "8",
         "5",
         "3",
         "1",
         "0",
         "0",
         "0",
         "0",
         "0",
         "0",
         "0",
         "0",
         "2",
         "9",
         "9",
         "12",
         "6",
         "3",
         "3",
         "6",
         "6",
         "4",
         "7",
         "9",
         "11",
         "12",
         "10",
         "18",
         "11",
         "9",
         "9",
         "10",
         "12",
         "11",
         "11",
         "10",
         "11",
         "8",
         "2",
         "5",
         "11",
         "11",
         "13",
         "11",
         "11",
         "6",
         "10",
         "8",
         "5",
         "9",
         "11",
         "11",
         "10",
         "13",
         "12",
         "9",
         "7",
         "8",
         "7",
         "6",
         "5",
         "5",
         "6",
         "8",
         "7",
         "8",
         "7",
         "8",
         "11",
         "5",
         "2",
         "5",
         "8",
         "6",
         "3",
         "3",
         "1",
         "5",
         "9",
         "11",
         "9",
         "8",
         "6",
         "5",
         "4",
         "6",
         "6",
         "5",
         "9",
         "12",
         "13",
         "16",
         "12",
         "13",
         "15",
         "10",
         "12",
         "9",
         "6",
         "6",
         "6",
         "8",
         "9",
         "12",
         "9",
         "8",
         "11",
         "13",
         "8",
         "10",
         "9",
         "9",
         "10",
         "10",
         "10",
         "12",
         "7",
         "7",
         "7",
         "8",
         "9",
         "14",
         "12",
         "16",
         "7",
         "2",
         "1",
         "3",
         "9",
         "19",
         "25",
         "20",
         "12",
         "13",
         "14",
         "9",
         "12",
         "8",
         "8",
         "8",
         "4",
         "8",
         "11",
         "11",
         "13",
         "15",
         "14",
         "12",
         "14",
         "12",
         "14",
         "14",
         "13",
         "12",
         "7",
         "9",
         "8",
         "8",
         "7",
         "6",
         "5",
         "7",
         "9",
         "6",
         "4",
         "5",
         "6",
         "9",
         "9",
         "5",
         "9",
         "6",
         "11",
         "12",
         "14",
         "13",
         "10",
         "11",
         "10",
         "8",
         "7",
         "6",
         "7",
         "8",
         "9",
         "8",
         "7",
         "9",
         "6",
         "6",
         "5",
         "1",
         "0",
         "0",
         "0",
         "0",
         "0",
         "0",
         "0",
         "0",
         "0",
         "0",
         "0",
         "0",
         "0",
         "0",
         "0",
         "0",
         "0",
         "0",
         "5",
         "11",
         "11",
         "5",
         "8",
         "12",
         "14",
         "11",
         "9",
         "4",
         "2",
         "6",
         "9",
         "12",
         "9",
         "14",
         "16",
         "14",
         "10",
         "9",
         "9",
         "13",
         "9",
         "8",
         "6",
         "5",
         "8",
         "7",
         "9",
         "12",
         "9",
         "6",
         "4",
         "4",
         "5",
         "6",
         "6",
         "9",
         "8",
         "11",
         "10",
         "10",
         "6",
         "7",
         "8",
         "9",
         "9",
         "10",
         "10",
         "14",
         "9",
         "13",
         "11",
         "15",
         "16",
         "14",
         "15",
         "14",
         "17",
         "13",
         "13",
         "10",
         "13",
         "11",
         "6",
         "4",
         "2",
         "2",
         "1",
         "1",
         "1",
         "1",
         "1",
         "1",
         "1",
         "1",
         "1",
         "0",
         "0",
         "0",
         "0",
         "5",
         "9",
         "3",
         "7",
         "11",
         "10",
         "10",
         "11",
         "9",
         "10",
         "9",
         "8",
         "8",
         "11",
         "12",
         "12",
         "11",
         "12",
         "12",
         "11",
         "12",
         "13",
         "8",
         "10",
         "8",
         "10",
         "15",
         "14",
         "11",
         "11",
         "9",
         "4",
         "5",
         "3",
         "6",
         "6",
         "6",
         "6",
         "8",
         "10",
         "9",
         "9",
         "11",
         "10",
         "9",
         "11",
         "9",
         "8",
         "8",
         "10",
         "9",
         "4",
         "5",
         "5",
         "12",
         "10",
         "10",
         "11",
         "11",
         "14",
         "12",
         "14",
         "19",
         "20",
         "19",
         "15",
         "15",
         "16",
         "15",
         "15",
         "11",
         "13",
         "15",
         "14",
         "17",
         "12",
         "13",
         "11",
         "13",
         "8",
         "13",
         "12",
         "12",
         "10",
         "9",
         "10",
         "11",
         "10",
         "14",
         "18",
         "12",
         "13",
         "10",
         "14",
         "14",
         "12",
         "13",
         "15",
         "6",
         "10",
         "7",
         "6",
         "5",
         "5",
         "11",
         "6",
         "3",
         "4",
         "12",
         "6",
         "9",
         "9",
         "5",
         "4",
         "4",
         "8",
         "8",
         "7",
         "12",
         "5",
         "12",
         "12",
         "9",
         "11",
         "12",
         "9",
         "10",
         "7",
         "11",
         "10",
         "9",
         "8",
         "10",
         "11",
         "12",
         "12",
         "13",
         "9",
         "6",
         "7",
         "13",
         "15",
         "7",
         "5",
         "6",
         "7",
         "9",
         "11",
         "17",
         "14",
         "16",
         "13",
         "12",
         "13",
         "9",
         "9",
         "11",
         "6",
         "7",
         "12",
         "9",
         "7",
         "13",
         "7",
         "10",
         "14",
         "11",
         "16",
         "14",
         "4",
         "5",
         "6",
         "9",
         "9",
         "8",
         "12",
         "13",
         "15",
         "12",
         "10",
         "8",
         "8",
         "10",
         "11",
         "13",
         "14",
         "12",
         "16",
         "14",
         "15",
         "12",
         "9",
         "10",
         "12",
         "11",
         "11",
         "10",
         "11",
         "17",
         "15",
         "10",
         "7",
         "5",
         "2",
         "2",
         "0",
         "0",
         "0",
         "0",
         "4",
         "4",
         "7",
         "7",
         "8",
         "7",
         "9",
         "8",
         "9",
         "11",
         "9",
         "14",
         "10",
         "9",
         "6",
         "6",
         "3",
         "8",
         "9",
         "7",
         "8",
         "12",
         "8",
         "7",
         "7",
         "9",
         "14",
         "12",
         "14",
         "14",
         "14",
         "18",
         "13",
         "8",
         "10",
         "8",
         "9",
         "11",
         "9",
         "7",
         "12",
         "10",
         "10",
         "10",
         "10",
         "12",
         "12",
         "12",
         "13",
         "12",
         "12",
         "16",
         "16",
         "18",
         "17",
         "8",
         "12",
         "11",
         "14",
         "16",
         "15",
         "15",
         "11",
         "11",
         "16",
         "14",
         "12",
         "10",
         "11",
         "9",
         "11",
         "7",
         "8",
         "14",
         "13",
         "8",
         "5",
         "10",
         "8",
         "9",
         "9",
         "11",
         "13",
         "14",
         "15",
         "7",
         "13",
         "8",
         "8",
         "9",
         "15",
         "13",
         "14",
         "11",
         "11",
         "12",
         "10",
         "7",
         "10",
         "13",
         "9",
         "9",
         "8",
         "8",
         "10",
         "10",
         "9",
         "6",
         "7",
         "8",
         "6",
         "8",
         "14",
         "13",
         "12",
         "9",
         "9",
         "10",
         "14",
         "12",
         "8",
         "7",
         "9",
         "8",
         "12",
         "14",
         "13",
         "10",
         "7",
         "5",
         "2",
         "1",
         "1",
         "1",
         "1",
         "0",
         "0",
         "0",
         "0",
         "9",
         "10",
         "9",
         "13",
         "16",
         "17",
         "13",
         "10",
         "10",
         "9",
         "6",
         "10",
         "15",
         "16",
         "15",
         "16",
         "11",
         "12",
         "17",
         "19",
         "16",
         "9",
         "14",
         "8",
         "5",
         "8",
         "6",
         "5",
         "7",
         "8",
         "10"
        ],
        [
         "4",
         "0",
         "0",
         "5",
         "9",
         "6",
         "6",
         "12",
         "11",
         "11",
         "14",
         "10",
         "8",
         "4",
         "9",
         "8",
         "5",
         "4",
         "8",
         "6",
         "7",
         "7",
         "7",
         "8",
         "5",
         "3",
         "3",
         "1",
         "0",
         "0",
         "0",
         "0",
         "0",
         "0",
         "0",
         "0",
         "0",
         "0",
         "0",
         "0",
         "0",
         "2",
         "6",
         "9",
         "6",
         "1",
         "0",
         "0",
         "4",
         "5",
         "5",
         "7",
         "12",
         "12",
         "12",
         "13",
         "16",
         "11",
         "13",
         "14",
         "14",
         "11",
         "7",
         "9",
         "6",
         "7",
         "7",
         "9",
         "7",
         "13",
         "12",
         "18",
         "17",
         "16",
         "13",
         "12",
         "12",
         "11",
         "12",
         "9",
         "9",
         "11",
         "9",
         "12",
         "11",
         "10",
         "10",
         "9",
         "11",
         "10",
         "14",
         "19",
         "13",
         "12",
         "8",
         "7",
         "10",
         "9",
         "13",
         "12",
         "17",
         "13",
         "13",
         "20",
         "18",
         "12",
         "12",
         "12",
         "12",
         "13",
         "9",
         "9",
         "8",
         "6",
         "6",
         "12",
         "10",
         "9",
         "10",
         "6",
         "6",
         "9",
         "8",
         "9",
         "9",
         "10",
         "11",
         "11",
         "14",
         "9",
         "8",
         "8",
         "11",
         "8",
         "6",
         "6",
         "6",
         "4",
         "8",
         "9",
         "12",
         "10",
         "10",
         "11",
         "13",
         "12",
         "11",
         "9",
         "11",
         "12",
         "11",
         "12",
         "8",
         "5",
         "8",
         "8",
         "9",
         "7",
         "6",
         "7",
         "5",
         "7",
         "5",
         "5",
         "5",
         "9",
         "11",
         "9",
         "10",
         "11",
         "6",
         "15",
         "11",
         "9",
         "14",
         "11",
         "10",
         "10",
         "8",
         "10",
         "13",
         "14",
         "12",
         "7",
         "11",
         "7",
         "6",
         "10",
         "10",
         "6",
         "8",
         "8",
         "7",
         "8",
         "9",
         "6",
         "6",
         "8",
         "5",
         "6",
         "8",
         "4",
         "9",
         "7",
         "9",
         "10",
         "10",
         "9",
         "10",
         "11",
         "8",
         "6",
         "8",
         "6",
         "6",
         "8",
         "4",
         "9",
         "7",
         "8",
         "4",
         "4",
         "2",
         "2",
         "1",
         "5",
         "10",
         "15",
         "10",
         "6",
         "6",
         "8",
         "7",
         "8",
         "12",
         "7",
         "10",
         "13",
         "8",
         "8",
         "9",
         "5",
         "8",
         "7",
         "7",
         "7",
         "10",
         "10",
         "14",
         "15",
         "11",
         "10",
         "12",
         "11",
         "13",
         "11",
         "12",
         "10",
         "11",
         "13",
         "13",
         "12",
         "14",
         "11",
         "14",
         "13",
         "8",
         "9",
         "8",
         "11",
         "14",
         "11",
         "9",
         "11",
         "10",
         "13",
         "14",
         "16",
         "17",
         "13",
         "11",
         "8",
         "6",
         "7",
         "4",
         "8",
         "12",
         "10",
         "8",
         "10",
         "8",
         "9",
         "11",
         "11",
         "10",
         "8",
         "15",
         "15",
         "13",
         "12",
         "6",
         "9",
         "7",
         "9",
         "6",
         "6",
         "6",
         "9",
         "7",
         "5",
         "8",
         "8",
         "8",
         "10",
         "10",
         "10",
         "9",
         "9",
         "9",
         "12",
         "11",
         "11",
         "10",
         "10",
         "8",
         "9",
         "9",
         "9",
         "10",
         "5",
         "5",
         "5",
         "11",
         "8",
         "7",
         "12",
         "9",
         "15",
         "15",
         "12",
         "11",
         "11",
         "12",
         "12",
         "6",
         "5",
         "7",
         "11",
         "15",
         "12",
         "11",
         "13",
         "9",
         "10",
         "8",
         "11",
         "8",
         "6",
         "10",
         "10",
         "7",
         "10",
         "8",
         "8",
         "7",
         "9",
         "11",
         "3",
         "8",
         "6",
         "3",
         "2",
         "10",
         "12",
         "9",
         "7",
         "10",
         "11",
         "9",
         "9",
         "7",
         "6",
         "8",
         "11",
         "13",
         "12",
         "9",
         "8",
         "9",
         "11",
         "7",
         "11",
         "15",
         "12",
         "16",
         "10",
         "9",
         "6",
         "11",
         "5",
         "7",
         "6",
         "6",
         "6",
         "5",
         "3",
         "6",
         "6",
         "6",
         "7",
         "6",
         "12",
         "9",
         "8",
         "10",
         "10",
         "7",
         "6",
         "8",
         "6",
         "13",
         "8",
         "6",
         "3",
         "2",
         "1",
         "0",
         "0",
         "0",
         "0",
         "0",
         "0",
         "0",
         "0",
         "0",
         "1",
         "6",
         "10",
         "10",
         "11",
         "11",
         "12",
         "8",
         "2",
         "1",
         "1",
         "1",
         "0",
         "0",
         "0",
         "0",
         "0",
         "0",
         "0",
         "0",
         "0",
         "0",
         "0",
         "0",
         "0",
         "0",
         "0",
         "0",
         "0",
         "0",
         "0",
         "0",
         "0",
         "0",
         "0",
         "0",
         "3",
         "4",
         "6",
         "5",
         "2",
         "2",
         "7",
         "5",
         "5",
         "11",
         "17",
         "14",
         "11",
         "12",
         "14",
         "9",
         "10",
         "15",
         "19",
         "14",
         "12",
         "12",
         "10",
         "11",
         "9",
         "13",
         "12",
         "15",
         "17",
         "10",
         "7",
         "3",
         "0",
         "0",
         "0",
         "3",
         "14",
         "12",
         "12",
         "14",
         "19",
         "16",
         "13",
         "13",
         "14",
         "12",
         "13",
         "12",
         "8",
         "11",
         "11",
         "16",
         "15",
         "15",
         "10",
         "9",
         "13",
         "8",
         "5",
         "6",
         "9",
         "7",
         "10",
         "11",
         "8",
         "3",
         "2",
         "5",
         "8",
         "9",
         "10",
         "10",
         "15",
         "11",
         "14",
         "11",
         "9",
         "7",
         "8",
         "9",
         "9",
         "8",
         "9",
         "6",
         "9",
         "8",
         "10",
         "10",
         "10",
         "11",
         "10",
         "9",
         "10",
         "12",
         "13",
         "11",
         "8",
         "10",
         "7",
         "9",
         "11",
         "9",
         "8",
         "10",
         "8",
         "11",
         "16",
         "11",
         "13",
         "11",
         "12",
         "11",
         "12",
         "11",
         "16",
         "16",
         "12",
         "13",
         "9",
         "6",
         "7",
         "7",
         "5",
         "10",
         "11",
         "10",
         "11",
         "18",
         "17",
         "17",
         "14",
         "12",
         "11",
         "10",
         "11",
         "9",
         "13",
         "9",
         "6",
         "5",
         "4",
         "3",
         "2",
         "1",
         "1",
         "0",
         "0",
         "0",
         "0",
         "0",
         "3",
         "9",
         "11",
         "7",
         "9",
         "5",
         "5",
         "10",
         "7",
         "4",
         "6",
         "6",
         "5",
         "5",
         "5",
         "7",
         "7",
         "8",
         "8",
         "8",
         "6",
         "7",
         "8",
         "8",
         "15",
         "16",
         "20",
         "15",
         "10",
         "8",
         "8",
         "10",
         "5",
         "6",
         "7",
         "7",
         "9",
         "11",
         "10",
         "8",
         "8",
         "11",
         "9",
         "9",
         "12",
         "11",
         "8",
         "10",
         "7",
         "8",
         "7",
         "10",
         "10",
         "10",
         "14",
         "15",
         "15",
         "12",
         "15",
         "12",
         "13",
         "13",
         "12",
         "8",
         "10",
         "13",
         "13",
         "11",
         "12",
         "12",
         "11",
         "12",
         "10",
         "13",
         "9",
         "9",
         "9",
         "11",
         "8",
         "10",
         "8",
         "14",
         "11",
         "8",
         "10",
         "9",
         "9",
         "10",
         "8",
         "6",
         "5",
         "7",
         "8",
         "10",
         "12",
         "8",
         "11",
         "10",
         "10",
         "13",
         "21",
         "14",
         "11",
         "12",
         "12",
         "9",
         "16",
         "18",
         "15",
         "11",
         "11",
         "10",
         "5",
         "8",
         "10",
         "6",
         "6",
         "6",
         "8",
         "12",
         "6",
         "9",
         "10",
         "9",
         "16",
         "17",
         "13",
         "8",
         "8",
         "12",
         "9",
         "11",
         "10",
         "8",
         "13",
         "16",
         "12",
         "10",
         "14",
         "15",
         "15",
         "13",
         "14",
         "14",
         "10",
         "11",
         "15",
         "12",
         "14",
         "18",
         "19",
         "17",
         "15",
         "8",
         "15",
         "11",
         "10",
         "11",
         "6",
         "6",
         "7",
         "8",
         "5",
         "6",
         "8",
         "10",
         "8",
         "15",
         "19",
         "11",
         "9",
         "8",
         "9",
         "8",
         "8",
         "9",
         "8",
         "7",
         "2",
         "11",
         "12",
         "12",
         "10",
         "12",
         "13",
         "7",
         "4",
         "8",
         "7",
         "13",
         "14",
         "13",
         "14",
         "9",
         "9",
         "13",
         "12",
         "14",
         "15",
         "13",
         "11",
         "9",
         "7",
         "9",
         "6",
         "6",
         "8",
         "10",
         "8",
         "4",
         "5",
         "4",
         "7",
         "11",
         "9",
         "11",
         "9",
         "8",
         "9",
         "11",
         "10",
         "12",
         "14",
         "14",
         "10",
         "12",
         "14",
         "15",
         "10",
         "12",
         "14",
         "9",
         "7",
         "9",
         "9",
         "15",
         "11",
         "11",
         "9",
         "10",
         "7",
         "6",
         "10",
         "10",
         "9",
         "11",
         "12",
         "13",
         "11",
         "13",
         "9",
         "10",
         "12",
         "12",
         "8",
         "4",
         "6",
         "10",
         "10",
         "6",
         "7",
         "8",
         "6",
         "7",
         "9",
         "9",
         "15",
         "10",
         "10",
         "7",
         "7",
         "7",
         "13",
         "15",
         "14",
         "14",
         "13",
         "12",
         "13",
         "12",
         "8",
         "9",
         "13",
         "15",
         "8",
         "7",
         "12",
         "10",
         "9",
         "10",
         "9",
         "13",
         "12",
         "12",
         "10",
         "16",
         "10",
         "10",
         "12",
         "4",
         "2",
         "2",
         "1",
         "0",
         "0",
         "0",
         "4",
         "5",
         "11",
         "11",
         "6",
         "5",
         "6",
         "13",
         "10",
         "9",
         "7",
         "8",
         "8",
         "14",
         "12",
         "9",
         "15",
         "16",
         "15",
         "11",
         "9",
         "10",
         "13",
         "7",
         "5",
         "7",
         "6",
         "8",
         "12",
         "8",
         "11",
         "8",
         "9",
         "3",
         "6",
         "7",
         "6",
         "6",
         "6",
         "5",
         "7",
         "10",
         "9",
         "8",
         "10",
         "5",
         "6",
         "6",
         "11",
         "11",
         "10",
         "10",
         "4",
         "1",
         "4",
         "6",
         "7",
         "10",
         "10",
         "13",
         "13",
         "11",
         "10",
         "4",
         "3",
         "7",
         "8",
         "9",
         "12",
         "12",
         "6",
         "9",
         "11",
         "16",
         "15"
        ]
       ],
       "shape": {
        "columns": 1001,
        "rows": 5
       }
      },
      "text/html": [
       "<div>\n",
       "<style scoped>\n",
       "    .dataframe tbody tr th:only-of-type {\n",
       "        vertical-align: middle;\n",
       "    }\n",
       "\n",
       "    .dataframe tbody tr th {\n",
       "        vertical-align: top;\n",
       "    }\n",
       "\n",
       "    .dataframe thead th {\n",
       "        text-align: right;\n",
       "    }\n",
       "</style>\n",
       "<table border=\"1\" class=\"dataframe\">\n",
       "  <thead>\n",
       "    <tr style=\"text-align: right;\">\n",
       "      <th></th>\n",
       "      <th>label</th>\n",
       "      <th>time_0.0</th>\n",
       "      <th>time_1.0</th>\n",
       "      <th>time_2.0</th>\n",
       "      <th>time_3.0</th>\n",
       "      <th>time_4.0</th>\n",
       "      <th>time_5.0</th>\n",
       "      <th>time_6.0</th>\n",
       "      <th>time_7.0</th>\n",
       "      <th>time_8.0</th>\n",
       "      <th>...</th>\n",
       "      <th>time_990.0</th>\n",
       "      <th>time_991.0</th>\n",
       "      <th>time_992.0</th>\n",
       "      <th>time_993.0</th>\n",
       "      <th>time_994.0</th>\n",
       "      <th>time_995.0</th>\n",
       "      <th>time_996.0</th>\n",
       "      <th>time_997.0</th>\n",
       "      <th>time_998.0</th>\n",
       "      <th>time_999.0</th>\n",
       "    </tr>\n",
       "  </thead>\n",
       "  <tbody>\n",
       "    <tr>\n",
       "      <th>0</th>\n",
       "      <td>0</td>\n",
       "      <td>0</td>\n",
       "      <td>6</td>\n",
       "      <td>11</td>\n",
       "      <td>12</td>\n",
       "      <td>13</td>\n",
       "      <td>10</td>\n",
       "      <td>13</td>\n",
       "      <td>16</td>\n",
       "      <td>18</td>\n",
       "      <td>...</td>\n",
       "      <td>5</td>\n",
       "      <td>3</td>\n",
       "      <td>3</td>\n",
       "      <td>2</td>\n",
       "      <td>2</td>\n",
       "      <td>0</td>\n",
       "      <td>0</td>\n",
       "      <td>0</td>\n",
       "      <td>0</td>\n",
       "      <td>0</td>\n",
       "    </tr>\n",
       "    <tr>\n",
       "      <th>1</th>\n",
       "      <td>0</td>\n",
       "      <td>0</td>\n",
       "      <td>2</td>\n",
       "      <td>1</td>\n",
       "      <td>1</td>\n",
       "      <td>1</td>\n",
       "      <td>0</td>\n",
       "      <td>0</td>\n",
       "      <td>0</td>\n",
       "      <td>0</td>\n",
       "      <td>...</td>\n",
       "      <td>10</td>\n",
       "      <td>10</td>\n",
       "      <td>7</td>\n",
       "      <td>8</td>\n",
       "      <td>7</td>\n",
       "      <td>11</td>\n",
       "      <td>8</td>\n",
       "      <td>9</td>\n",
       "      <td>9</td>\n",
       "      <td>11</td>\n",
       "    </tr>\n",
       "    <tr>\n",
       "      <th>2</th>\n",
       "      <td>0</td>\n",
       "      <td>0</td>\n",
       "      <td>5</td>\n",
       "      <td>8</td>\n",
       "      <td>6</td>\n",
       "      <td>10</td>\n",
       "      <td>9</td>\n",
       "      <td>10</td>\n",
       "      <td>8</td>\n",
       "      <td>5</td>\n",
       "      <td>...</td>\n",
       "      <td>4</td>\n",
       "      <td>1</td>\n",
       "      <td>0</td>\n",
       "      <td>0</td>\n",
       "      <td>0</td>\n",
       "      <td>0</td>\n",
       "      <td>0</td>\n",
       "      <td>0</td>\n",
       "      <td>0</td>\n",
       "      <td>0</td>\n",
       "    </tr>\n",
       "    <tr>\n",
       "      <th>3</th>\n",
       "      <td>0</td>\n",
       "      <td>0</td>\n",
       "      <td>5</td>\n",
       "      <td>12</td>\n",
       "      <td>9</td>\n",
       "      <td>9</td>\n",
       "      <td>10</td>\n",
       "      <td>11</td>\n",
       "      <td>11</td>\n",
       "      <td>12</td>\n",
       "      <td>...</td>\n",
       "      <td>9</td>\n",
       "      <td>14</td>\n",
       "      <td>8</td>\n",
       "      <td>5</td>\n",
       "      <td>8</td>\n",
       "      <td>6</td>\n",
       "      <td>5</td>\n",
       "      <td>7</td>\n",
       "      <td>8</td>\n",
       "      <td>10</td>\n",
       "    </tr>\n",
       "    <tr>\n",
       "      <th>4</th>\n",
       "      <td>0</td>\n",
       "      <td>0</td>\n",
       "      <td>5</td>\n",
       "      <td>9</td>\n",
       "      <td>6</td>\n",
       "      <td>6</td>\n",
       "      <td>12</td>\n",
       "      <td>11</td>\n",
       "      <td>11</td>\n",
       "      <td>14</td>\n",
       "      <td>...</td>\n",
       "      <td>7</td>\n",
       "      <td>8</td>\n",
       "      <td>9</td>\n",
       "      <td>12</td>\n",
       "      <td>12</td>\n",
       "      <td>6</td>\n",
       "      <td>9</td>\n",
       "      <td>11</td>\n",
       "      <td>16</td>\n",
       "      <td>15</td>\n",
       "    </tr>\n",
       "  </tbody>\n",
       "</table>\n",
       "<p>5 rows × 1001 columns</p>\n",
       "</div>"
      ],
      "text/plain": [
       "   label  time_0.0  time_1.0  time_2.0  time_3.0  time_4.0  time_5.0  \\\n",
       "0      0         0         6        11        12        13        10   \n",
       "1      0         0         2         1         1         1         0   \n",
       "2      0         0         5         8         6        10         9   \n",
       "3      0         0         5        12         9         9        10   \n",
       "4      0         0         5         9         6         6        12   \n",
       "\n",
       "   time_6.0  time_7.0  time_8.0  ...  time_990.0  time_991.0  time_992.0  \\\n",
       "0        13        16        18  ...           5           3           3   \n",
       "1         0         0         0  ...          10          10           7   \n",
       "2        10         8         5  ...           4           1           0   \n",
       "3        11        11        12  ...           9          14           8   \n",
       "4        11        11        14  ...           7           8           9   \n",
       "\n",
       "   time_993.0  time_994.0  time_995.0  time_996.0  time_997.0  time_998.0  \\\n",
       "0           2           2           0           0           0           0   \n",
       "1           8           7          11           8           9           9   \n",
       "2           0           0           0           0           0           0   \n",
       "3           5           8           6           5           7           8   \n",
       "4          12          12           6           9          11          16   \n",
       "\n",
       "   time_999.0  \n",
       "0           0  \n",
       "1          11  \n",
       "2           0  \n",
       "3          10  \n",
       "4          15  \n",
       "\n",
       "[5 rows x 1001 columns]"
      ]
     },
     "execution_count": 3,
     "metadata": {},
     "output_type": "execute_result"
    }
   ],
   "source": [
    "# 4) Save NPZ from Julia (avoid Matrix{Any} by splitting label vs counts)\n",
    "jl.seval('''\n",
    "labels = Int64.(df.label)\n",
    "M = Int64.(Matrix(df[:, Not(:label)]))\n",
    "t = Float64.(time_points)\n",
    "NPZ.npzwrite(\"telegraph_simulation_example.npz\",\n",
    "             Dict(\"label\"=>labels, \"t\"=>t, \"M\"=>M))\n",
    "''')\n",
    "# 5) Read back in Python and sanity check\n",
    "npz = np.load(\"telegraph_simulation_example.npz\")\n",
    "M = npz[\"M\"]         # shape (500, 101)\n",
    "t = npz[\"t\"]         # shape (101,); note we dont need this for dataframe conversion\n",
    "labels = npz[\"label\"]  # shape (500,)\n",
    "print(M.shape, t.shape, labels.shape)\n",
    "\n",
    "import pandas as pd\n",
    "df_M = pd.DataFrame(npz[\"M\"])\n",
    "df_labels = pd.DataFrame(npz[\"label\"])\n",
    "# combine them, with labels as the first column named 'label', and the rest as time points named 'time_{t}'\n",
    "df = pd.concat([df_labels, df_M], axis=1)\n",
    "df.columns = [\"label\"] + [f\"time_{ti}\" for ti in t]\n",
    "df.head()"
   ]
  },
  {
   "cell_type": "code",
   "execution_count": null,
   "id": "1e8811f8",
   "metadata": {},
   "outputs": [
    {
     "data": {
      "image/png": "[encoded data removed]",
      "text/plain": [
       "<Figure size 1000x600 with 1 Axes>"
      ]
     },
     "metadata": {},
     "output_type": "display_data"
    }
   ],
   "source": [
    "from visualisation.plots import plot_mRNA_trajectory\n",
    "plot_mRNA_trajectory(parameter_sets, time_points, df_M)"
   ]
  },
  {
   "cell_type": "code",
   "execution_count": null,
   "id": "e1e6e7fb",
   "metadata": {},
   "outputs": [],
   "source": []
  },
  {
   "cell_type": "code",
   "execution_count": null,
   "id": "33af5be2",
   "metadata": {},
   "outputs": [],
   "source": []
  },
  {
   "cell_type": "code",
   "execution_count": null,
   "id": "56b50b9d",
   "metadata": {},
   "outputs": [],
   "source": [
    "from juliacall import Main as jl\n",
    "import numpy as np\n",
    "\n",
    "# 1) Julia env + your module\n",
    "jl.seval('using Pkg; Pkg.activate(\".\"); Pkg.instantiate()')\n",
    "jl.seval('using DataFrames, NPZ')\n",
    "jl.include(\"JuliaTelegraphSimulation.jl\")\n",
    "jl.seval('using .JuliaTelegraphSimulation')\n",
    "\n",
    "# 2) Keep inputs in Python, but pass them as bound variables (no string interpolation!)\n",
    "parameter_sets = [{\"sigma_u\":0.02, \"sigma_b\":0.1, \"rho\":5.0, \"d\":0.5, \"label\":0}]\n",
    "time_points = np.arange(0, 101, 1.0)  # 0..100 inclusive\n",
    "size = 500\n",
    "\n",
    "# Python → Julia conversion handled automatically\n",
    "jl.parameter_sets = parameter_sets\n",
    "jl.time_points = time_points\n",
    "\n",
    "# 3) Run the sim in Julia, bind the result to a Julia var `df`\n",
    "jl.seval(f'df = simulate_telegraph_model(parameter_sets, time_points, {size})')\n",
    "\n",
    "# 4) Save NPZ from Julia\n",
    "jl.seval('''\n",
    "         npzwrite(\"telegraph_simulation_example.npz\", Matrix{Int64}(df))\n",
    "''')\n",
    "\n",
    "# 5) Read back in Python and sanity check\n",
    "npz = np.load(\"telegraph_simulation_example.npz\")\n",
    "import pandas as pd\n",
    "df = pd.DataFrame(npz)\n",
    "df.head()"
   ]
  },
  {
   "cell_type": "code",
   "execution_count": null,
   "id": "4895dd34",
   "metadata": {},
   "outputs": [],
   "source": []
  },
  {
   "cell_type": "code",
   "execution_count": null,
   "id": "c966c6c1",
   "metadata": {},
   "outputs": [],
   "source": []
  }
 ],
 "metadata": {
  "kernelspec": {
   "display_name": "stochastic_sim",
   "language": "python",
   "name": "python3"
  },
  "language_info": {
   "codemirror_mode": {
    "name": "ipython",
    "version": 3
   },
   "file_extension": ".py",
   "mimetype": "text/x-python",
   "name": "python",
   "nbconvert_exporter": "python",
   "pygments_lexer": "ipython3",
   "version": "3.11.11"
  }
 },
 "nbformat": 4,
 "nbformat_minor": 5
}
